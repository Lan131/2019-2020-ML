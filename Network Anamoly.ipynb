{
 "cells": [
  {
   "cell_type": "markdown",
   "metadata": {},
   "source": [
    "# Applying the Hypergeometric Distribution to Social Network Graphs\n",
    "#### Michael Lanier NGA DCD\n",
    "#### 6/17/2019"
   ]
  },
  {
   "cell_type": "markdown",
   "metadata": {},
   "source": [
    "## To Do List:"
   ]
  },
  {
   "cell_type": "raw",
   "metadata": {},
   "source": [
    "*1 Fix underflow error in example 5, either though mathematical limits or appoximations in the code\n",
    "*2 Claify the difference between the non central and normal hypergeometric\n",
    "*3 Add example and section on Bayesian sampling for iterative sampling schemes. "
   ]
  },
  {
   "cell_type": "markdown",
   "metadata": {},
   "source": [
    "The recent rise of supervised machine learning algorithms has led to wide spread use across industry and academia. Proponents of these techniques often market them as magical in their ability to gain insight from data. Unfortunately social networks data violates many of the core assumptions that most machine learning techniques relay on. Traditional regression techniques fail for the same reason."
   ]
  },
  {
   "cell_type": "markdown",
   "metadata": {},
   "source": [
    "The main issue with traditional regression and machine learning is that samples are not independent and identically distributed. A sampling technique that finds a paricular user in a network may be more likely to sample others in the network. Beyond that, members of a network who know each other are likely to know first and second removed members. Finally, in the cases of small networks sampling is from a finite population. This paper will primarly focus determining anamolous members of a social network."
   ]
  },
  {
   "cell_type": "markdown",
   "metadata": {},
   "source": [
    "Walford noted in *Geographic Data Analysis* that a network could be viewed as a collection of vertcies randomly connected by edges. Sampling edges would follow a hypergeometric distribution. Under this framework a vertex would correspond to a member and a edge would correspond to a connection. The probability that a member randomly has a specificed number of connections will be considered first. "
   ]
  },
  {
   "cell_type": "markdown",
   "metadata": {},
   "source": [
    "The probability that a particular vertex $a$ will randomly have the number of vertices  within graph $G$ will be noted as $P(a_G)$. The following formula will be useful for the following work. We will introduce the hypergeometric distribution for social networks assuming independent edge selection. "
   ]
  },
  {
   "cell_type": "markdown",
   "metadata": {},
   "source": [
    "**Definition 1** *Hypergeometric Distribution*"
   ]
  },
  {
   "cell_type": "markdown",
   "metadata": {},
   "source": [
    "Consider a $n$ vertex $j$ edge graph such that $k$ edges are connected to $a_i$. Assuming that the edges were randomly sampled independently with equal probability. "
   ]
  },
  {
   "cell_type": "markdown",
   "metadata": {},
   "source": [
    "$P(a_i)=\\frac{\\binom{n-1}{k}\\binom{N-n+1}{j-k}}{\\binom{N}{j}} \\\\s.t \\\\  N=\\frac{n(n-1)}{2}$"
   ]
  },
  {
   "cell_type": "markdown",
   "metadata": {},
   "source": [
    "The distribution of edges follows a hypergeometric distribution since we are sampling from possible edges without replacement. $N$ is the total number of possible paths. It is trival to show for a n vertices the total possible edges are $\\frac{n(n+1)}{2}$. The denominator is the total number of possible $n$ vertex $j$ edge graphs. The numerator is the total number of graphs in a given orientation. The first term is the number of ways $k$ edges could be selected for a vertex. For a given vertex there are $n-1$ possible edges from which to select $k$ edges. The second term is the number of ways to select the from the remaining $N-(n-1)$ the remaining $j-k$ edges. "
   ]
  },
  {
   "cell_type": "markdown",
   "metadata": {},
   "source": [
    "**Example 1**\n",
    "Consider the below graph $G1$. Find $P(a_3)$.\n",
    "![title](graph1.PNG)"
   ]
  },
  {
   "cell_type": "markdown",
   "metadata": {},
   "source": [
    "$P(a_3)=\\frac{\\binom{4}{2}\\binom{6}{4}}{\\binom{10}{6}} \\approx .42$\n",
    "\n",
    "$a_3$ does not appear to be very anomalous."
   ]
  },
  {
   "cell_type": "markdown",
   "metadata": {},
   "source": [
    "**Example 2**\n",
    "Consider the below graph $G2$. Find $P(a_4)$.\n",
    "![title](graph2.PNG)"
   ]
  },
  {
   "cell_type": "markdown",
   "metadata": {},
   "source": [
    "$P(a_4)=\\frac{\\binom{5}{5}\\binom{6}{1}}{\\binom{21}{6}} \\approx .0001$\n",
    "\n",
    "$a_4$ appears anomalous given this network.\n"
   ]
  },
  {
   "cell_type": "markdown",
   "metadata": {},
   "source": [
    "As noted before, the technique above assumes that edges are independent from each other. Let's remove that restriction and assume that the network is weighted. An individual in a social network that knows many people will be more likely to aquire new connections. For this we will use the Wallenius' non central hypergeometric distribution. Here $w$ is the odds of an edge being connected to the vertex in question."
   ]
  },
  {
   "cell_type": "markdown",
   "metadata": {},
   "source": [
    "**Definition 2** *Wallenius' non central hypergeometric distribution*"
   ]
  },
  {
   "cell_type": "markdown",
   "metadata": {},
   "source": [
    "$P(a_i)=\\binom{n-1}{k}\\binom{N-n+1}{j-k} \\int_{0}^{1} (1-t^{w/D})^{k}(1-t^{1/D})^{j-k}  dt  \\\\ s.t\\\\ D=w(j-k)+(N-n+1-(j-k))$ "
   ]
  },
  {
   "cell_type": "markdown",
   "metadata": {},
   "source": [
    "**Example 3**"
   ]
  },
  {
   "cell_type": "markdown",
   "metadata": {},
   "source": [
    "Consider the the graph from example one. Find $P(a_3)$, provided the odds of an edge being connected to $a_3$ are $\\frac{1}{10}$."
   ]
  },
  {
   "cell_type": "markdown",
   "metadata": {},
   "source": [
    "$P(a_3)=\\binom{4}{2}\\binom{6}{4} \\int_{0}^{1} (1-t^{.01/D})^{2}(1-t^{1/D})^{4}  dt  \\\\ s.t\\\\ D=.01(4)+(6-(4))=2.04 \\\\ P(a_3) \\approx .001$ "
   ]
  },
  {
   "cell_type": "markdown",
   "metadata": {},
   "source": [
    "Here we see with prior knowlege that $a_3$ is unlikely, the liklihood that $a_3$ is connected within the graph drops from .42 to .001. Of course, the downside is that we must specify a prior $w$ before using this technique. We may not wish to specify a prior on $w$. Since $w$ is the weight parameter, $w$ may be of interest because it shows the bias of a particular vertex is in the graph. In a randomly generated network verticies with high weight will naturally develop more edges. In a social network context such a person could be said to have high influence. The sampling method may also be biased towards this node. We will use numerical techniques to find the estimator $\\hat{w}$. We specially use Nesterov Adam, a stochastic adaptive learning optimization algorithm."
   ]
  },
  {
   "cell_type": "markdown",
   "metadata": {},
   "source": [
    "**Definition 3**"
   ]
  },
  {
   "cell_type": "markdown",
   "metadata": {},
   "source": [
    "$\\hat{w}= \\underset{w\\in R_{+}}{\\operatorname{argmax}}\\binom{n-1}{k}\\binom{N-n+1}{j-k} \\int_{0}^{1} (1-t^{w/D})^{k}(1-t^{1/D})^{j-k}  dt  \\\\ s.t\\\\ D=w(j-k)+(N-n+1-(j-k))$ "
   ]
  },
  {
   "cell_type": "markdown",
   "metadata": {},
   "source": [
    "**Example 4**\n",
    "We will estimate $\\hat{w}$ for $a3$ from $G1$. "
   ]
  },
  {
   "cell_type": "code",
   "execution_count": 1,
   "metadata": {
    "collapsed": false
   },
   "outputs": [
    {
     "name": "stderr",
     "output_type": "stream",
     "text": [
      "D:\\Anaconda\\lib\\site-packages\\requests\\__init__.py:83: RequestsDependencyWarning: Old version of cryptography ([1, 3]) may cause slowdown.\n",
      "  warnings.warn(warning, RequestsDependencyWarning)\n"
     ]
    }
   ],
   "source": [
    "import tensorflow as tf\n",
    "from scipy import integrate\n",
    "import numpy as np\n",
    "import matplotlib.pyplot as plt\n",
    "from scipy.stats import chi2\n",
    "\n",
    "#Tensorflow has no binomial coefficient so we will use n!= gamma(n+1) as a workaround\n",
    "def factorial(n):\n",
    "    sess=tf.Session()\n",
    "    n=n*1.0000\n",
    "    F=tf.round(tf.exp(tf.lgamma(n+1)))\n",
    "    F=sess.run(F)\n",
    "    return(F)\n",
    "\n",
    "def binomial_coeff(a,b,factorial=factorial):\n",
    "    c=factorial(a)/(factorial(a-b)*factorial(b))\n",
    "    return(c)"
   ]
  },
  {
   "cell_type": "code",
   "execution_count": 2,
   "metadata": {
    "collapsed": false,
    "scrolled": true
   },
   "outputs": [
    {
     "name": "stdout",
     "output_type": "stream",
     "text": [
      "\n",
      "WARNING: The TensorFlow contrib module will not be included in TensorFlow 2.0.\n",
      "For more information, please see:\n",
      "  * https://github.com/tensorflow/community/blob/master/rfcs/20180907-contrib-sunset.md\n",
      "  * https://github.com/tensorflow/addons\n",
      "If you depend on functionality not listed there, please file an issue.\n",
      "\n",
      "Step|w|L\n",
      "0 0.033979222 0.013481921\n",
      "1 0.04925965 0.025040977\n",
      "2 0.06272485 0.036510624\n",
      "3 0.07522758 0.047684543\n",
      "4 0.08714531 0.058470238\n",
      "5 0.098665714 0.06880199\n",
      "6 0.109889425 0.07862941\n",
      "7 0.1208722 0.08791631\n",
      "8 0.13164449 0.09663904\n",
      "9 0.14222157 0.104785524\n",
      "10 0.15260914 0.11235355\n",
      "11 0.16280676 0.11934904\n",
      "12 0.1728101 0.12578537\n",
      "13 0.18261229 0.13168108\n",
      "14 0.1922051 0.13705924\n",
      "15 0.20157956 0.14194621\n",
      "16 0.21072659 0.14637022\n",
      "17 0.21963738 0.15036133\n",
      "18 0.22830369 0.15394968\n",
      "19 0.23671812 0.15716556\n",
      "20 0.2448742 0.16003942\n",
      "21 0.25276655 0.16259967\n",
      "22 0.2603909 0.16487445\n",
      "23 0.26774415 0.16688982\n",
      "24 0.27482432 0.16867076\n",
      "25 0.28163058 0.17024085\n",
      "26 0.28816313 0.17162095\n",
      "27 0.29442322 0.17283158\n",
      "28 0.30041304 0.17389049\n",
      "29 0.30613562 0.17481469\n"
     ]
    }
   ],
   "source": [
    "\n",
    "w=tf.Variable(tf.random_uniform([], 0,1))\n",
    "x=tf.constant([0,1], dtype=tf.float32)\n",
    "N=10\n",
    "n=5\n",
    "j=6\n",
    "k=2\n",
    "D=w*(j-k)+(N-n+1-(j-k))\n",
    "\n",
    "def f(y,t):\n",
    "    return((1-t**(w/D))**k*(1-t**(1/D))**(j-k))\n",
    "\n",
    "sess=tf.Session()\n",
    "\n",
    "optimizer=tf.contrib.opt.NadamOptimizer(learning_rate=.01, beta1=.9, beta2=.999, epsilon=1e-08)\n",
    "L=binomial_coeff(n-1,k)*binomial_coeff(N-n+1,j-k)* tf.contrib.integrate.odeint(f,0.000,x, method=\"dopri5\")\n",
    "\n",
    "train=optimizer.minimize(-1*L[1])\n",
    "init= tf.global_variables_initializer()\n",
    "\n",
    "Results=np.zeros([1,2])\n",
    "Last_L=10000\n",
    "\n",
    "sess=tf.Session()\n",
    "sess.run(init)\n",
    "\n",
    "print(\"Step|w|L\")\n",
    "for step in range(101):\n",
    "    sess.run(train)\n",
    "    Results=np.concatenate((Results,np.array([[sess.run(w),sess.run(L[1])]])),axis=0)\n",
    "    print(step,sess.run(w),sess.run(L[1]))\n",
    "    #implement early stopping\n",
    "    if step!=100 and step>3 and np.abs(sess.run(L[1])-Last_L)<.001:\n",
    "        break\n",
    "    Last_L= sess.run(L[1]) \n",
    "    \n",
    "Results=np.delete(Results,0,axis=0)    \n"
   ]
  },
  {
   "cell_type": "code",
   "execution_count": 3,
   "metadata": {
    "collapsed": false
   },
   "outputs": [
    {
     "data": {
      "image/png": "[encoded data removed]",
      "text/plain": [
       "<matplotlib.figure.Figure at 0x1ae11ede438>"
      ]
     },
     "metadata": {},
     "output_type": "display_data"
    }
   ],
   "source": [
    "%matplotlib inline\n",
    "from matplotlib import pyplot\n",
    "plt.plot(Results)\n",
    "plt.title(\"P(x) and w over training iterations\")\n",
    "plt.show()"
   ]
  },
  {
   "cell_type": "code",
   "execution_count": 4,
   "metadata": {
    "collapsed": false
   },
   "outputs": [
    {
     "data": {
      "image/png": "[encoded data removed]",
      "text/plain": [
       "<matplotlib.figure.Figure at 0x1ae2ce25c50>"
      ]
     },
     "metadata": {},
     "output_type": "display_data"
    }
   ],
   "source": [
    "plt.scatter(x=Results[:,0],y=Results[:,1])\n",
    "plt.title(\"w vs P(x;w,n,k,N)\")\n",
    "plt.xlabel(\"w\")\n",
    "plt.ylabel(\"P(x)\")\n",
    "plt.show()"
   ]
  },
  {
   "cell_type": "markdown",
   "metadata": {},
   "source": [
    "$w$ can be used as an alternative measure of degree centrality. The draw here is that we can establish error bounds on this statistic to evaluate the strength of evidence of its centrality. This proves problematic because the distribution of $\\hat{w}$ is unknown. We will utilized likelihood ratios to estimate the evidence of centrality. The goal will be to form an interval summary from the likelihood. Such an interval includes all $\\hat{w}$ having data support above a specified cut-off $c$."
   ]
  },
  {
   "cell_type": "code",
   "execution_count": 5,
   "metadata": {
    "collapsed": false
   },
   "outputs": [
    {
     "name": "stdout",
     "output_type": "stream",
     "text": [
      "0.0 0.0\n",
      "0.05 0.1467124\n",
      "0.1 0.40033826\n",
      "0.15000000000000002 0.6320638\n",
      "0.2 0.80741525\n",
      "0.25 0.9251316\n",
      "0.30000000000000004 0.9943135\n",
      "0.35000000000000003 1.0259321\n",
      "0.4 1.0298958\n",
      "0.45 1.0142647\n",
      "0.5 0.9852704\n",
      "0.55 0.9475863\n",
      "0.6000000000000001 0.9046452\n",
      "0.65 0.85892785\n",
      "0.7000000000000001 0.8121966\n",
      "0.75 0.7656812\n",
      "0.8 0.7202218\n",
      "0.8500000000000001 0.67636466\n",
      "0.9 0.63446003\n",
      "0.9500000000000001 0.59470046\n",
      "1.0 0.5571771\n",
      "1.05 0.5219056\n",
      "1.1 0.48885024\n",
      "1.1500000000000001 0.4579425\n",
      "1.2000000000000002 0.4290917\n",
      "1.25 0.40219423\n",
      "1.3 0.37713745\n",
      "1.35 0.3538096\n",
      "1.4000000000000001 0.33209875\n",
      "1.4500000000000002 0.31189495\n",
      "1.5 0.29309344\n",
      "1.55 0.2755942\n",
      "1.6 0.2593033\n",
      "1.6500000000000001 0.24413171\n",
      "1.7000000000000002 0.22999755\n",
      "1.75 0.2168234\n",
      "1.8 0.20453799\n",
      "1.85 0.1930755\n",
      "1.9000000000000001 0.18237436\n",
      "1.9500000000000002 0.17237827\n"
     ]
    }
   ],
   "source": [
    "LR_space=np.zeros([1,2])\n",
    "w_space=np.linspace(0,5,num=101)\n",
    "x=tf.constant([0,1], dtype=tf.float32)\n",
    "D=w*(j-k)+(N-n+1-(j-k))\n",
    "N=10\n",
    "n=5\n",
    "j=6\n",
    "k=2\n",
    "\n",
    "def f(y,t):\n",
    "    return((1-t**(w/D))**k*(1-t**(1/D))**(j-k))\n",
    "\n",
    "sess=tf.Session()\n",
    "init= tf.global_variables_initializer()\n",
    "sess.run(init)\n",
    "for i in range(40):\n",
    "    w=tf.constant(w_space[i], dtype=tf.float32)\n",
    "    D=w*(j-k)+(N-n+1-(j-k))\n",
    "    LR=(binomial_coeff(n-1,k)*binomial_coeff(N-n+1,j-k)* tf.contrib.integrate.odeint(f,0.000,x, method=\"dopri5\"))/max(Results[:,1])\n",
    "    LR_space=np.concatenate((LR_space,np.array([[w_space[i],sess.run(LR[1])]])),axis=0)\n",
    "    print(w_space[i],sess.run(LR[1]))\n",
    "\n",
    "LR_space=np.delete(LR_space,0,axis=0) "
   ]
  },
  {
   "cell_type": "code",
   "execution_count": 6,
   "metadata": {
    "collapsed": false
   },
   "outputs": [
    {
     "data": {
      "image/png": "[encoded data removed]",
      "text/plain": [
       "<matplotlib.figure.Figure at 0x1ae2ced0518>"
      ]
     },
     "metadata": {},
     "output_type": "display_data"
    }
   ],
   "source": [
    "plt.scatter(x=LR_space[:,0],y=LR_space[:,1])\n",
    "plt.title(\"Likelihood Ratio for w given G1\")\n",
    "plt.xlabel(\"w\")\n",
    "plt.ylabel(\"LR\")\n",
    "plt.show()"
   ]
  },
  {
   "cell_type": "markdown",
   "metadata": {},
   "source": [
    "A frequentist confidence interval matches a Wilks' liklihood test when $LR=e^{\\chi_{\\alpha,t}^{2}/2}$. A 95% confidence interval would give a likelihood ratio cutoff of appoximatly .15. From our above example we have $w \\in [.63,1.95]$."
   ]
  },
  {
   "cell_type": "markdown",
   "metadata": {},
   "source": [
    "### Considerations for Large $N$,$n$ values"
   ]
  },
  {
   "cell_type": "markdown",
   "metadata": {},
   "source": [
    "For large $N$ and $n$ we have a computational problem. Modern computers cannot cacluate facrotial values of 50 or more. We will consider how to apply these techniques in the presence of large networks."
   ]
  },
  {
   "cell_type": "markdown",
   "metadata": {},
   "source": [
    "For the noncentral hyper geometric distirbution we don't need to be concerned with large $N$ and $n$. The argmax $\\hat{w}$ doesn't depend on $N$ or $n$ factorial terms. We see:\n",
    "$\\binom{n-1}{k}\\binom{N-n+1}{j-k} \\int_{0}^{1} (1-t^{w/D})^{k}(1-t^{1/D})^{j-k}  dt \\propto \\int_{0}^{1} (1-t^{w/D})^{k}(1-t^{1/D})^{j-k}  dt$"
   ]
  },
  {
   "cell_type": "markdown",
   "metadata": {},
   "source": [
    "So"
   ]
  },
  {
   "cell_type": "markdown",
   "metadata": {},
   "source": [
    "$\\hat{w}= \\underset{w\\in R_{+}}{\\operatorname{argmax}}\\binom{n-1}{k}\\binom{N-n+1}{j-k} \\int_{0}^{1} (1-t^{w/D})^{k}(1-t^{1/D})^{j-k}  dt = \\underset{w\\in R_{+}}{\\operatorname{argmax}} \\int_{0}^{1} (1-t^{w/D})^{k}(1-t^{1/D})^{j-k}  dt  \\\\ s.t\\\\ D=w(j-k)+(N-n+1-(j-k))$ "
   ]
  },
  {
   "cell_type": "markdown",
   "metadata": {},
   "source": [
    "**Example 5**\n",
    "We will estimate $\\hat{w}$ for a network with 1000 nodes, 121 which are connected to a given node $a$, with 6000 connections."
   ]
  },
  {
   "cell_type": "code",
   "execution_count": 7,
   "metadata": {
    "collapsed": false
   },
   "outputs": [
    {
     "name": "stdout",
     "output_type": "stream",
     "text": [
      "Step|w|L\n"
     ]
    },
    {
     "ename": "InvalidArgumentError",
     "evalue": "assertion failed: [underflow in dt] [0]\n\t [[node odeint_41/interpolate_loop/interpolate/integrate_loop/assertions/Assert/AssertGuard/Assert (defined at <ipython-input-7-5c7aff27c6ef>:26) ]]\n\nCaused by op 'odeint_41/interpolate_loop/interpolate/integrate_loop/assertions/Assert/AssertGuard/Assert', defined at:\n  File \"D:\\Anaconda\\lib\\runpy.py\", line 170, in _run_module_as_main\n    \"__main__\", mod_spec)\n  File \"D:\\Anaconda\\lib\\runpy.py\", line 85, in _run_code\n    exec(code, run_globals)\n  File \"D:\\Anaconda\\lib\\site-packages\\ipykernel\\__main__.py\", line 3, in <module>\n    app.launch_new_instance()\n  File \"D:\\Anaconda\\lib\\site-packages\\traitlets\\config\\application.py\", line 596, in launch_instance\n    app.start()\n  File \"D:\\Anaconda\\lib\\site-packages\\ipykernel\\kernelapp.py\", line 442, in start\n    ioloop.IOLoop.instance().start()\n  File \"D:\\Anaconda\\lib\\site-packages\\zmq\\eventloop\\ioloop.py\", line 162, in start\n    super(ZMQIOLoop, self).start()\n  File \"D:\\Anaconda\\lib\\site-packages\\tornado\\ioloop.py\", line 883, in start\n    handler_func(fd_obj, events)\n  File \"D:\\Anaconda\\lib\\site-packages\\tornado\\stack_context.py\", line 275, in null_wrapper\n    return fn(*args, **kwargs)\n  File \"D:\\Anaconda\\lib\\site-packages\\zmq\\eventloop\\zmqstream.py\", line 440, in _handle_events\n    self._handle_recv()\n  File \"D:\\Anaconda\\lib\\site-packages\\zmq\\eventloop\\zmqstream.py\", line 472, in _handle_recv\n    self._run_callback(callback, msg)\n  File \"D:\\Anaconda\\lib\\site-packages\\zmq\\eventloop\\zmqstream.py\", line 414, in _run_callback\n    callback(*args, **kwargs)\n  File \"D:\\Anaconda\\lib\\site-packages\\tornado\\stack_context.py\", line 275, in null_wrapper\n    return fn(*args, **kwargs)\n  File \"D:\\Anaconda\\lib\\site-packages\\ipykernel\\kernelbase.py\", line 276, in dispatcher\n    return self.dispatch_shell(stream, msg)\n  File \"D:\\Anaconda\\lib\\site-packages\\ipykernel\\kernelbase.py\", line 228, in dispatch_shell\n    handler(stream, idents, msg)\n  File \"D:\\Anaconda\\lib\\site-packages\\ipykernel\\kernelbase.py\", line 391, in execute_request\n    user_expressions, allow_stdin)\n  File \"D:\\Anaconda\\lib\\site-packages\\ipykernel\\ipkernel.py\", line 199, in do_execute\n    shell.run_cell(code, store_history=store_history, silent=silent)\n  File \"D:\\Anaconda\\lib\\site-packages\\IPython\\core\\interactiveshell.py\", line 2723, in run_cell\n    interactivity=interactivity, compiler=compiler, result=result)\n  File \"D:\\Anaconda\\lib\\site-packages\\IPython\\core\\interactiveshell.py\", line 2825, in run_ast_nodes\n    if self.run_code(code, result):\n  File \"D:\\Anaconda\\lib\\site-packages\\IPython\\core\\interactiveshell.py\", line 2885, in run_code\n    exec(code_obj, self.user_global_ns, self.user_ns)\n  File \"<ipython-input-7-5c7aff27c6ef>\", line 26, in <module>\n    L= tf.contrib.integrate.odeint(f,0.000,x, method=\"dopri5\")\n  File \"C:\\Users\\cv11515\\AppData\\Roaming\\Python\\Python35\\site-packages\\tensorflow\\contrib\\integrate\\python\\ops\\odes.py\", line 540, in odeint\n    **options)\n  File \"C:\\Users\\cv11515\\AppData\\Roaming\\Python\\Python35\\site-packages\\tensorflow\\contrib\\integrate\\python\\ops\\odes.py\", line 405, in _dopri5\n    name='interpolate_loop')\n  File \"C:\\Users\\cv11515\\AppData\\Roaming\\Python\\Python35\\site-packages\\tensorflow\\python\\ops\\control_flow_ops.py\", line 3556, in while_loop\n    return_same_structure)\n  File \"C:\\Users\\cv11515\\AppData\\Roaming\\Python\\Python35\\site-packages\\tensorflow\\python\\ops\\control_flow_ops.py\", line 3087, in BuildLoop\n    pred, body, original_loop_vars, loop_vars, shape_invariants)\n  File \"C:\\Users\\cv11515\\AppData\\Roaming\\Python\\Python35\\site-packages\\tensorflow\\python\\ops\\control_flow_ops.py\", line 3022, in _BuildLoop\n    body_result = body(*packed_vars_for_body)\n  File \"C:\\Users\\cv11515\\AppData\\Roaming\\Python\\Python35\\site-packages\\tensorflow\\contrib\\integrate\\python\\ops\\odes.py\", line 383, in interpolate\n    name='integrate_loop')\n  File \"C:\\Users\\cv11515\\AppData\\Roaming\\Python\\Python35\\site-packages\\tensorflow\\python\\ops\\control_flow_ops.py\", line 3556, in while_loop\n    return_same_structure)\n  File \"C:\\Users\\cv11515\\AppData\\Roaming\\Python\\Python35\\site-packages\\tensorflow\\python\\ops\\control_flow_ops.py\", line 3087, in BuildLoop\n    pred, body, original_loop_vars, loop_vars, shape_invariants)\n  File \"C:\\Users\\cv11515\\AppData\\Roaming\\Python\\Python35\\site-packages\\tensorflow\\python\\ops\\control_flow_ops.py\", line 3022, in _BuildLoop\n    body_result = body(*packed_vars_for_body)\n  File \"C:\\Users\\cv11515\\AppData\\Roaming\\Python\\Python35\\site-packages\\tensorflow\\contrib\\integrate\\python\\ops\\odes.py\", line 339, in adaptive_runge_kutta_step\n    ['underflow in dt', dt])\n  File \"C:\\Users\\cv11515\\AppData\\Roaming\\Python\\Python35\\site-packages\\tensorflow\\python\\util\\tf_should_use.py\", line 193, in wrapped\n    return _add_should_use_warning(fn(*args, **kwargs))\n  File \"C:\\Users\\cv11515\\AppData\\Roaming\\Python\\Python35\\site-packages\\tensorflow\\python\\ops\\control_flow_ops.py\", line 168, in Assert\n    guarded_assert = cond(condition, no_op, true_assert, name=\"AssertGuard\")\n  File \"C:\\Users\\cv11515\\AppData\\Roaming\\Python\\Python35\\site-packages\\tensorflow\\python\\util\\deprecation.py\", line 507, in new_func\n    return func(*args, **kwargs)\n  File \"C:\\Users\\cv11515\\AppData\\Roaming\\Python\\Python35\\site-packages\\tensorflow\\python\\ops\\control_flow_ops.py\", line 2108, in cond\n    orig_res_f, res_f = context_f.BuildCondBranch(false_fn)\n  File \"C:\\Users\\cv11515\\AppData\\Roaming\\Python\\Python35\\site-packages\\tensorflow\\python\\ops\\control_flow_ops.py\", line 1941, in BuildCondBranch\n    original_result = fn()\n  File \"C:\\Users\\cv11515\\AppData\\Roaming\\Python\\Python35\\site-packages\\tensorflow\\python\\ops\\control_flow_ops.py\", line 166, in true_assert\n    condition, data, summarize, name=\"Assert\")\n  File \"C:\\Users\\cv11515\\AppData\\Roaming\\Python\\Python35\\site-packages\\tensorflow\\python\\ops\\gen_logging_ops.py\", line 72, in _assert\n    name=name)\n  File \"C:\\Users\\cv11515\\AppData\\Roaming\\Python\\Python35\\site-packages\\tensorflow\\python\\framework\\op_def_library.py\", line 788, in _apply_op_helper\n    op_def=op_def)\n  File \"C:\\Users\\cv11515\\AppData\\Roaming\\Python\\Python35\\site-packages\\tensorflow\\python\\util\\deprecation.py\", line 507, in new_func\n    return func(*args, **kwargs)\n  File \"C:\\Users\\cv11515\\AppData\\Roaming\\Python\\Python35\\site-packages\\tensorflow\\python\\framework\\ops.py\", line 3300, in create_op\n    op_def=op_def)\n  File \"C:\\Users\\cv11515\\AppData\\Roaming\\Python\\Python35\\site-packages\\tensorflow\\python\\framework\\ops.py\", line 1801, in __init__\n    self._traceback = tf_stack.extract_stack()\n\nInvalidArgumentError (see above for traceback): assertion failed: [underflow in dt] [0]\n\t [[node odeint_41/interpolate_loop/interpolate/integrate_loop/assertions/Assert/AssertGuard/Assert (defined at <ipython-input-7-5c7aff27c6ef>:26) ]]\n",
     "output_type": "error",
     "traceback": [
      "\u001b[1;31m---------------------------------------------------------------------------\u001b[0m",
      "\u001b[1;31mInvalidArgumentError\u001b[0m                      Traceback (most recent call last)",
      "\u001b[1;32mC:\\Users\\cv11515\\AppData\\Roaming\\Python\\Python35\\site-packages\\tensorflow\\python\\client\\session.py\u001b[0m in \u001b[0;36m_do_call\u001b[1;34m(self, fn, *args)\u001b[0m\n\u001b[0;32m   1333\u001b[0m     \u001b[1;32mtry\u001b[0m\u001b[1;33m:\u001b[0m\u001b[1;33m\u001b[0m\u001b[0m\n\u001b[1;32m-> 1334\u001b[1;33m       \u001b[1;32mreturn\u001b[0m \u001b[0mfn\u001b[0m\u001b[1;33m(\u001b[0m\u001b[1;33m*\u001b[0m\u001b[0margs\u001b[0m\u001b[1;33m)\u001b[0m\u001b[1;33m\u001b[0m\u001b[0m\n\u001b[0m\u001b[0;32m   1335\u001b[0m     \u001b[1;32mexcept\u001b[0m \u001b[0merrors\u001b[0m\u001b[1;33m.\u001b[0m\u001b[0mOpError\u001b[0m \u001b[1;32mas\u001b[0m \u001b[0me\u001b[0m\u001b[1;33m:\u001b[0m\u001b[1;33m\u001b[0m\u001b[0m\n",
      "\u001b[1;32mC:\\Users\\cv11515\\AppData\\Roaming\\Python\\Python35\\site-packages\\tensorflow\\python\\client\\session.py\u001b[0m in \u001b[0;36m_run_fn\u001b[1;34m(feed_dict, fetch_list, target_list, options, run_metadata)\u001b[0m\n\u001b[0;32m   1318\u001b[0m       return self._call_tf_sessionrun(\n\u001b[1;32m-> 1319\u001b[1;33m           options, feed_dict, fetch_list, target_list, run_metadata)\n\u001b[0m\u001b[0;32m   1320\u001b[0m \u001b[1;33m\u001b[0m\u001b[0m\n",
      "\u001b[1;32mC:\\Users\\cv11515\\AppData\\Roaming\\Python\\Python35\\site-packages\\tensorflow\\python\\client\\session.py\u001b[0m in \u001b[0;36m_call_tf_sessionrun\u001b[1;34m(self, options, feed_dict, fetch_list, target_list, run_metadata)\u001b[0m\n\u001b[0;32m   1406\u001b[0m         \u001b[0mself\u001b[0m\u001b[1;33m.\u001b[0m\u001b[0m_session\u001b[0m\u001b[1;33m,\u001b[0m \u001b[0moptions\u001b[0m\u001b[1;33m,\u001b[0m \u001b[0mfeed_dict\u001b[0m\u001b[1;33m,\u001b[0m \u001b[0mfetch_list\u001b[0m\u001b[1;33m,\u001b[0m \u001b[0mtarget_list\u001b[0m\u001b[1;33m,\u001b[0m\u001b[1;33m\u001b[0m\u001b[0m\n\u001b[1;32m-> 1407\u001b[1;33m         run_metadata)\n\u001b[0m\u001b[0;32m   1408\u001b[0m \u001b[1;33m\u001b[0m\u001b[0m\n",
      "\u001b[1;31mInvalidArgumentError\u001b[0m: assertion failed: [underflow in dt] [0]\n\t [[{{node odeint_41/interpolate_loop/interpolate/integrate_loop/assertions/Assert/AssertGuard/Assert}}]]",
      "\nDuring handling of the above exception, another exception occurred:\n",
      "\u001b[1;31mInvalidArgumentError\u001b[0m                      Traceback (most recent call last)",
      "\u001b[1;32m<ipython-input-7-5c7aff27c6ef>\u001b[0m in \u001b[0;36m<module>\u001b[1;34m()\u001b[0m\n\u001b[0;32m     38\u001b[0m \u001b[1;32mfor\u001b[0m \u001b[0mstep\u001b[0m \u001b[1;32min\u001b[0m \u001b[0mrange\u001b[0m\u001b[1;33m(\u001b[0m\u001b[1;36m101\u001b[0m\u001b[1;33m)\u001b[0m\u001b[1;33m:\u001b[0m\u001b[1;33m\u001b[0m\u001b[0m\n\u001b[0;32m     39\u001b[0m     \u001b[0msess\u001b[0m\u001b[1;33m.\u001b[0m\u001b[0mrun\u001b[0m\u001b[1;33m(\u001b[0m\u001b[0mtrain\u001b[0m\u001b[1;33m)\u001b[0m\u001b[1;33m\u001b[0m\u001b[0m\n\u001b[1;32m---> 40\u001b[1;33m     \u001b[0mResults\u001b[0m\u001b[1;33m=\u001b[0m\u001b[0mnp\u001b[0m\u001b[1;33m.\u001b[0m\u001b[0mconcatenate\u001b[0m\u001b[1;33m(\u001b[0m\u001b[1;33m(\u001b[0m\u001b[0mResults\u001b[0m\u001b[1;33m,\u001b[0m\u001b[0mnp\u001b[0m\u001b[1;33m.\u001b[0m\u001b[0marray\u001b[0m\u001b[1;33m(\u001b[0m\u001b[1;33m[\u001b[0m\u001b[1;33m[\u001b[0m\u001b[0msess\u001b[0m\u001b[1;33m.\u001b[0m\u001b[0mrun\u001b[0m\u001b[1;33m(\u001b[0m\u001b[0mw\u001b[0m\u001b[1;33m)\u001b[0m\u001b[1;33m,\u001b[0m\u001b[0msess\u001b[0m\u001b[1;33m.\u001b[0m\u001b[0mrun\u001b[0m\u001b[1;33m(\u001b[0m\u001b[0mL\u001b[0m\u001b[1;33m[\u001b[0m\u001b[1;36m1\u001b[0m\u001b[1;33m]\u001b[0m\u001b[1;33m)\u001b[0m\u001b[1;33m]\u001b[0m\u001b[1;33m]\u001b[0m\u001b[1;33m)\u001b[0m\u001b[1;33m)\u001b[0m\u001b[1;33m,\u001b[0m\u001b[0maxis\u001b[0m\u001b[1;33m=\u001b[0m\u001b[1;36m0\u001b[0m\u001b[1;33m)\u001b[0m\u001b[1;33m\u001b[0m\u001b[0m\n\u001b[0m\u001b[0;32m     41\u001b[0m     \u001b[0mprint\u001b[0m\u001b[1;33m(\u001b[0m\u001b[0mstep\u001b[0m\u001b[1;33m,\u001b[0m\u001b[0msess\u001b[0m\u001b[1;33m.\u001b[0m\u001b[0mrun\u001b[0m\u001b[1;33m(\u001b[0m\u001b[0mw\u001b[0m\u001b[1;33m)\u001b[0m\u001b[1;33m,\u001b[0m\u001b[0msess\u001b[0m\u001b[1;33m.\u001b[0m\u001b[0mrun\u001b[0m\u001b[1;33m(\u001b[0m\u001b[0mL\u001b[0m\u001b[1;33m[\u001b[0m\u001b[1;36m1\u001b[0m\u001b[1;33m]\u001b[0m\u001b[1;33m)\u001b[0m\u001b[1;33m)\u001b[0m\u001b[1;33m\u001b[0m\u001b[0m\n\u001b[0;32m     42\u001b[0m     \u001b[1;31m#implement early stopping\u001b[0m\u001b[1;33m\u001b[0m\u001b[1;33m\u001b[0m\u001b[0m\n",
      "\u001b[1;32mC:\\Users\\cv11515\\AppData\\Roaming\\Python\\Python35\\site-packages\\tensorflow\\python\\client\\session.py\u001b[0m in \u001b[0;36mrun\u001b[1;34m(self, fetches, feed_dict, options, run_metadata)\u001b[0m\n\u001b[0;32m    927\u001b[0m     \u001b[1;32mtry\u001b[0m\u001b[1;33m:\u001b[0m\u001b[1;33m\u001b[0m\u001b[0m\n\u001b[0;32m    928\u001b[0m       result = self._run(None, fetches, feed_dict, options_ptr,\n\u001b[1;32m--> 929\u001b[1;33m                          run_metadata_ptr)\n\u001b[0m\u001b[0;32m    930\u001b[0m       \u001b[1;32mif\u001b[0m \u001b[0mrun_metadata\u001b[0m\u001b[1;33m:\u001b[0m\u001b[1;33m\u001b[0m\u001b[0m\n\u001b[0;32m    931\u001b[0m         \u001b[0mproto_data\u001b[0m \u001b[1;33m=\u001b[0m \u001b[0mtf_session\u001b[0m\u001b[1;33m.\u001b[0m\u001b[0mTF_GetBuffer\u001b[0m\u001b[1;33m(\u001b[0m\u001b[0mrun_metadata_ptr\u001b[0m\u001b[1;33m)\u001b[0m\u001b[1;33m\u001b[0m\u001b[0m\n",
      "\u001b[1;32mC:\\Users\\cv11515\\AppData\\Roaming\\Python\\Python35\\site-packages\\tensorflow\\python\\client\\session.py\u001b[0m in \u001b[0;36m_run\u001b[1;34m(self, handle, fetches, feed_dict, options, run_metadata)\u001b[0m\n\u001b[0;32m   1150\u001b[0m     \u001b[1;32mif\u001b[0m \u001b[0mfinal_fetches\u001b[0m \u001b[1;32mor\u001b[0m \u001b[0mfinal_targets\u001b[0m \u001b[1;32mor\u001b[0m \u001b[1;33m(\u001b[0m\u001b[0mhandle\u001b[0m \u001b[1;32mand\u001b[0m \u001b[0mfeed_dict_tensor\u001b[0m\u001b[1;33m)\u001b[0m\u001b[1;33m:\u001b[0m\u001b[1;33m\u001b[0m\u001b[0m\n\u001b[0;32m   1151\u001b[0m       results = self._do_run(handle, final_targets, final_fetches,\n\u001b[1;32m-> 1152\u001b[1;33m                              feed_dict_tensor, options, run_metadata)\n\u001b[0m\u001b[0;32m   1153\u001b[0m     \u001b[1;32melse\u001b[0m\u001b[1;33m:\u001b[0m\u001b[1;33m\u001b[0m\u001b[0m\n\u001b[0;32m   1154\u001b[0m       \u001b[0mresults\u001b[0m \u001b[1;33m=\u001b[0m \u001b[1;33m[\u001b[0m\u001b[1;33m]\u001b[0m\u001b[1;33m\u001b[0m\u001b[0m\n",
      "\u001b[1;32mC:\\Users\\cv11515\\AppData\\Roaming\\Python\\Python35\\site-packages\\tensorflow\\python\\client\\session.py\u001b[0m in \u001b[0;36m_do_run\u001b[1;34m(self, handle, target_list, fetch_list, feed_dict, options, run_metadata)\u001b[0m\n\u001b[0;32m   1326\u001b[0m     \u001b[1;32mif\u001b[0m \u001b[0mhandle\u001b[0m \u001b[1;32mis\u001b[0m \u001b[1;32mNone\u001b[0m\u001b[1;33m:\u001b[0m\u001b[1;33m\u001b[0m\u001b[0m\n\u001b[0;32m   1327\u001b[0m       return self._do_call(_run_fn, feeds, fetches, targets, options,\n\u001b[1;32m-> 1328\u001b[1;33m                            run_metadata)\n\u001b[0m\u001b[0;32m   1329\u001b[0m     \u001b[1;32melse\u001b[0m\u001b[1;33m:\u001b[0m\u001b[1;33m\u001b[0m\u001b[0m\n\u001b[0;32m   1330\u001b[0m       \u001b[1;32mreturn\u001b[0m \u001b[0mself\u001b[0m\u001b[1;33m.\u001b[0m\u001b[0m_do_call\u001b[0m\u001b[1;33m(\u001b[0m\u001b[0m_prun_fn\u001b[0m\u001b[1;33m,\u001b[0m \u001b[0mhandle\u001b[0m\u001b[1;33m,\u001b[0m \u001b[0mfeeds\u001b[0m\u001b[1;33m,\u001b[0m \u001b[0mfetches\u001b[0m\u001b[1;33m)\u001b[0m\u001b[1;33m\u001b[0m\u001b[0m\n",
      "\u001b[1;32mC:\\Users\\cv11515\\AppData\\Roaming\\Python\\Python35\\site-packages\\tensorflow\\python\\client\\session.py\u001b[0m in \u001b[0;36m_do_call\u001b[1;34m(self, fn, *args)\u001b[0m\n\u001b[0;32m   1346\u001b[0m           \u001b[1;32mpass\u001b[0m\u001b[1;33m\u001b[0m\u001b[0m\n\u001b[0;32m   1347\u001b[0m       \u001b[0mmessage\u001b[0m \u001b[1;33m=\u001b[0m \u001b[0merror_interpolation\u001b[0m\u001b[1;33m.\u001b[0m\u001b[0minterpolate\u001b[0m\u001b[1;33m(\u001b[0m\u001b[0mmessage\u001b[0m\u001b[1;33m,\u001b[0m \u001b[0mself\u001b[0m\u001b[1;33m.\u001b[0m\u001b[0m_graph\u001b[0m\u001b[1;33m)\u001b[0m\u001b[1;33m\u001b[0m\u001b[0m\n\u001b[1;32m-> 1348\u001b[1;33m       \u001b[1;32mraise\u001b[0m \u001b[0mtype\u001b[0m\u001b[1;33m(\u001b[0m\u001b[0me\u001b[0m\u001b[1;33m)\u001b[0m\u001b[1;33m(\u001b[0m\u001b[0mnode_def\u001b[0m\u001b[1;33m,\u001b[0m \u001b[0mop\u001b[0m\u001b[1;33m,\u001b[0m \u001b[0mmessage\u001b[0m\u001b[1;33m)\u001b[0m\u001b[1;33m\u001b[0m\u001b[0m\n\u001b[0m\u001b[0;32m   1349\u001b[0m \u001b[1;33m\u001b[0m\u001b[0m\n\u001b[0;32m   1350\u001b[0m   \u001b[1;32mdef\u001b[0m \u001b[0m_extend_graph\u001b[0m\u001b[1;33m(\u001b[0m\u001b[0mself\u001b[0m\u001b[1;33m)\u001b[0m\u001b[1;33m:\u001b[0m\u001b[1;33m\u001b[0m\u001b[0m\n",
      "\u001b[1;31mInvalidArgumentError\u001b[0m: assertion failed: [underflow in dt] [0]\n\t [[node odeint_41/interpolate_loop/interpolate/integrate_loop/assertions/Assert/AssertGuard/Assert (defined at <ipython-input-7-5c7aff27c6ef>:26) ]]\n\nCaused by op 'odeint_41/interpolate_loop/interpolate/integrate_loop/assertions/Assert/AssertGuard/Assert', defined at:\n  File \"D:\\Anaconda\\lib\\runpy.py\", line 170, in _run_module_as_main\n    \"__main__\", mod_spec)\n  File \"D:\\Anaconda\\lib\\runpy.py\", line 85, in _run_code\n    exec(code, run_globals)\n  File \"D:\\Anaconda\\lib\\site-packages\\ipykernel\\__main__.py\", line 3, in <module>\n    app.launch_new_instance()\n  File \"D:\\Anaconda\\lib\\site-packages\\traitlets\\config\\application.py\", line 596, in launch_instance\n    app.start()\n  File \"D:\\Anaconda\\lib\\site-packages\\ipykernel\\kernelapp.py\", line 442, in start\n    ioloop.IOLoop.instance().start()\n  File \"D:\\Anaconda\\lib\\site-packages\\zmq\\eventloop\\ioloop.py\", line 162, in start\n    super(ZMQIOLoop, self).start()\n  File \"D:\\Anaconda\\lib\\site-packages\\tornado\\ioloop.py\", line 883, in start\n    handler_func(fd_obj, events)\n  File \"D:\\Anaconda\\lib\\site-packages\\tornado\\stack_context.py\", line 275, in null_wrapper\n    return fn(*args, **kwargs)\n  File \"D:\\Anaconda\\lib\\site-packages\\zmq\\eventloop\\zmqstream.py\", line 440, in _handle_events\n    self._handle_recv()\n  File \"D:\\Anaconda\\lib\\site-packages\\zmq\\eventloop\\zmqstream.py\", line 472, in _handle_recv\n    self._run_callback(callback, msg)\n  File \"D:\\Anaconda\\lib\\site-packages\\zmq\\eventloop\\zmqstream.py\", line 414, in _run_callback\n    callback(*args, **kwargs)\n  File \"D:\\Anaconda\\lib\\site-packages\\tornado\\stack_context.py\", line 275, in null_wrapper\n    return fn(*args, **kwargs)\n  File \"D:\\Anaconda\\lib\\site-packages\\ipykernel\\kernelbase.py\", line 276, in dispatcher\n    return self.dispatch_shell(stream, msg)\n  File \"D:\\Anaconda\\lib\\site-packages\\ipykernel\\kernelbase.py\", line 228, in dispatch_shell\n    handler(stream, idents, msg)\n  File \"D:\\Anaconda\\lib\\site-packages\\ipykernel\\kernelbase.py\", line 391, in execute_request\n    user_expressions, allow_stdin)\n  File \"D:\\Anaconda\\lib\\site-packages\\ipykernel\\ipkernel.py\", line 199, in do_execute\n    shell.run_cell(code, store_history=store_history, silent=silent)\n  File \"D:\\Anaconda\\lib\\site-packages\\IPython\\core\\interactiveshell.py\", line 2723, in run_cell\n    interactivity=interactivity, compiler=compiler, result=result)\n  File \"D:\\Anaconda\\lib\\site-packages\\IPython\\core\\interactiveshell.py\", line 2825, in run_ast_nodes\n    if self.run_code(code, result):\n  File \"D:\\Anaconda\\lib\\site-packages\\IPython\\core\\interactiveshell.py\", line 2885, in run_code\n    exec(code_obj, self.user_global_ns, self.user_ns)\n  File \"<ipython-input-7-5c7aff27c6ef>\", line 26, in <module>\n    L= tf.contrib.integrate.odeint(f,0.000,x, method=\"dopri5\")\n  File \"C:\\Users\\cv11515\\AppData\\Roaming\\Python\\Python35\\site-packages\\tensorflow\\contrib\\integrate\\python\\ops\\odes.py\", line 540, in odeint\n    **options)\n  File \"C:\\Users\\cv11515\\AppData\\Roaming\\Python\\Python35\\site-packages\\tensorflow\\contrib\\integrate\\python\\ops\\odes.py\", line 405, in _dopri5\n    name='interpolate_loop')\n  File \"C:\\Users\\cv11515\\AppData\\Roaming\\Python\\Python35\\site-packages\\tensorflow\\python\\ops\\control_flow_ops.py\", line 3556, in while_loop\n    return_same_structure)\n  File \"C:\\Users\\cv11515\\AppData\\Roaming\\Python\\Python35\\site-packages\\tensorflow\\python\\ops\\control_flow_ops.py\", line 3087, in BuildLoop\n    pred, body, original_loop_vars, loop_vars, shape_invariants)\n  File \"C:\\Users\\cv11515\\AppData\\Roaming\\Python\\Python35\\site-packages\\tensorflow\\python\\ops\\control_flow_ops.py\", line 3022, in _BuildLoop\n    body_result = body(*packed_vars_for_body)\n  File \"C:\\Users\\cv11515\\AppData\\Roaming\\Python\\Python35\\site-packages\\tensorflow\\contrib\\integrate\\python\\ops\\odes.py\", line 383, in interpolate\n    name='integrate_loop')\n  File \"C:\\Users\\cv11515\\AppData\\Roaming\\Python\\Python35\\site-packages\\tensorflow\\python\\ops\\control_flow_ops.py\", line 3556, in while_loop\n    return_same_structure)\n  File \"C:\\Users\\cv11515\\AppData\\Roaming\\Python\\Python35\\site-packages\\tensorflow\\python\\ops\\control_flow_ops.py\", line 3087, in BuildLoop\n    pred, body, original_loop_vars, loop_vars, shape_invariants)\n  File \"C:\\Users\\cv11515\\AppData\\Roaming\\Python\\Python35\\site-packages\\tensorflow\\python\\ops\\control_flow_ops.py\", line 3022, in _BuildLoop\n    body_result = body(*packed_vars_for_body)\n  File \"C:\\Users\\cv11515\\AppData\\Roaming\\Python\\Python35\\site-packages\\tensorflow\\contrib\\integrate\\python\\ops\\odes.py\", line 339, in adaptive_runge_kutta_step\n    ['underflow in dt', dt])\n  File \"C:\\Users\\cv11515\\AppData\\Roaming\\Python\\Python35\\site-packages\\tensorflow\\python\\util\\tf_should_use.py\", line 193, in wrapped\n    return _add_should_use_warning(fn(*args, **kwargs))\n  File \"C:\\Users\\cv11515\\AppData\\Roaming\\Python\\Python35\\site-packages\\tensorflow\\python\\ops\\control_flow_ops.py\", line 168, in Assert\n    guarded_assert = cond(condition, no_op, true_assert, name=\"AssertGuard\")\n  File \"C:\\Users\\cv11515\\AppData\\Roaming\\Python\\Python35\\site-packages\\tensorflow\\python\\util\\deprecation.py\", line 507, in new_func\n    return func(*args, **kwargs)\n  File \"C:\\Users\\cv11515\\AppData\\Roaming\\Python\\Python35\\site-packages\\tensorflow\\python\\ops\\control_flow_ops.py\", line 2108, in cond\n    orig_res_f, res_f = context_f.BuildCondBranch(false_fn)\n  File \"C:\\Users\\cv11515\\AppData\\Roaming\\Python\\Python35\\site-packages\\tensorflow\\python\\ops\\control_flow_ops.py\", line 1941, in BuildCondBranch\n    original_result = fn()\n  File \"C:\\Users\\cv11515\\AppData\\Roaming\\Python\\Python35\\site-packages\\tensorflow\\python\\ops\\control_flow_ops.py\", line 166, in true_assert\n    condition, data, summarize, name=\"Assert\")\n  File \"C:\\Users\\cv11515\\AppData\\Roaming\\Python\\Python35\\site-packages\\tensorflow\\python\\ops\\gen_logging_ops.py\", line 72, in _assert\n    name=name)\n  File \"C:\\Users\\cv11515\\AppData\\Roaming\\Python\\Python35\\site-packages\\tensorflow\\python\\framework\\op_def_library.py\", line 788, in _apply_op_helper\n    op_def=op_def)\n  File \"C:\\Users\\cv11515\\AppData\\Roaming\\Python\\Python35\\site-packages\\tensorflow\\python\\util\\deprecation.py\", line 507, in new_func\n    return func(*args, **kwargs)\n  File \"C:\\Users\\cv11515\\AppData\\Roaming\\Python\\Python35\\site-packages\\tensorflow\\python\\framework\\ops.py\", line 3300, in create_op\n    op_def=op_def)\n  File \"C:\\Users\\cv11515\\AppData\\Roaming\\Python\\Python35\\site-packages\\tensorflow\\python\\framework\\ops.py\", line 1801, in __init__\n    self._traceback = tf_stack.extract_stack()\n\nInvalidArgumentError (see above for traceback): assertion failed: [underflow in dt] [0]\n\t [[node odeint_41/interpolate_loop/interpolate/integrate_loop/assertions/Assert/AssertGuard/Assert (defined at <ipython-input-7-5c7aff27c6ef>:26) ]]\n"
     ]
    }
   ],
   "source": [
    "w=tf.Variable(tf.random_uniform([], 0,1))\n",
    "x=tf.constant([0,1], dtype=tf.float32)\n",
    "N=1000/2*1001\n",
    "n=1000\n",
    "j=6000\n",
    "k=121\n",
    "D=w*(j-k)+(N-n+1-(j-k))\n",
    "\n",
    "def f1():\n",
    "    return tf.constant(.0000000000001)\n",
    "\n",
    "def f2():\n",
    "    return w/D\n",
    "\n",
    "def f3():\n",
    "    return w/D\n",
    "\n",
    "def f(y,t):\n",
    "    tf.cond(tf.less(w/D,.0000000000001),f1,f2)\n",
    "    tf.cond(tf.less(1/D,.0000000000001),f1,f3)    \n",
    "    return((1-t**(w/D))**k*(1-t**(1/D))**(j-k))\n",
    "\n",
    "sess=tf.Session()\n",
    "\n",
    "optimizer=tf.contrib.opt.NadamOptimizer(learning_rate=.01, beta1=.9, beta2=.999, epsilon=1e-08)\n",
    "L= tf.contrib.integrate.odeint(f,0.000,x, method=\"dopri5\")\n",
    "\n",
    "train=optimizer.minimize(-1*L[1])\n",
    "init= tf.global_variables_initializer()\n",
    "\n",
    "Results=np.zeros([1,2])\n",
    "Last_L=10000\n",
    "\n",
    "sess=tf.Session()\n",
    "sess.run(init)\n",
    "\n",
    "print(\"Step|w|L\")\n",
    "for step in range(101):\n",
    "    sess.run(train)\n",
    "    Results=np.concatenate((Results,np.array([[sess.run(w),sess.run(L[1])]])),axis=0)\n",
    "    print(step,sess.run(w),sess.run(L[1]))\n",
    "    #implement early stopping\n",
    "    #if step!=100 and step>3 and np.abs(sess.run(L[1])-Last_L)<.001:\n",
    "    #    break\n",
    "    Last_L= sess.run(L[1]) \n",
    "    \n",
    "Results=np.delete(Results,0,axis=0)    \n"
   ]
  },
  {
   "cell_type": "markdown",
   "metadata": {},
   "source": [
    "For large $N$,$n$ in a hypergeometric sampling scheme such as example 1, we can use the normal distribution. To develop this result we will first observe that the hypergeometric distribution converges in distribution to the binomial distribution.  "
   ]
  },
  {
   "cell_type": "markdown",
   "metadata": {},
   "source": [
    "The hypergeometric distribution models sampling without replacement, and the binomial distribution models sampling with replacement. When sampling from an extremly large set, it is unlikly to resample with replacement. Intuitively, this means for large $N$, $n$ sampling without replacement approximates sampling with replacement. We will prove this rigorously. First we will need an identity.  "
   ]
  },
  {
   "cell_type": "markdown",
   "metadata": {},
   "source": [
    "**Lemma 1**\n",
    "$\\binom{n}{k} \\approx \\frac{n^{k}}{k!}$"
   ]
  },
  {
   "cell_type": "markdown",
   "metadata": {},
   "source": [
    "**pf:** $\\binom{n}{k}=\\frac{n!}{n!(n-k)!}$ Using Sterling's approximation, "
   ]
  },
  {
   "cell_type": "markdown",
   "metadata": {},
   "source": [
    "$\\binom{n}{k}=\\frac{n!}{n!(n-k)!}\\approx \\frac{\\sqrt{2\\pi n}}{k!\\sqrt{(2\\pi)(n-k)(n-k/e)^{n-k}}}=(1-k/n)^{k-1/2}\\frac{e^{-k}}{k!(1-k/n)^{n}}n^{k}$"
   ]
  },
  {
   "cell_type": "markdown",
   "metadata": {},
   "source": [
    "$\\displaystyle{\\lim_{n \\to \\infty} (1-k/n)}^{k-1/2}=1$"
   ]
  },
  {
   "cell_type": "markdown",
   "metadata": {},
   "source": [
    "$\\displaystyle{\\lim_{n \\to \\infty}} \\frac{e^{-k}}{k!(1-k/n)^{n}}n^{k}=\\frac{e^{-k}}{k!e^{-k}}n^{k}=\\frac{n^{k}}{k!}$"
   ]
  },
  {
   "cell_type": "markdown",
   "metadata": {},
   "source": [
    "**Theorem 1**"
   ]
  },
  {
   "cell_type": "markdown",
   "metadata": {},
   "source": [
    "$P(a_i)=\\frac{\\binom{n-1}{k}\\binom{N-n+1}{j-k}}{\\binom{N}{j}} \\xrightarrow{\\text{d}} \\binom{j}{k}(\\frac{n-1}{N})^{k}(\\frac{N-n+1}{N})^{j-k} \\\\s.t \\\\  N=\\frac{n(n-1)}{2}$"
   ]
  },
  {
   "cell_type": "markdown",
   "metadata": {},
   "source": [
    "$\\frac{\\binom{n-1}{k}\\binom{N-n+1}{j-k}}{\\binom{N}{j}}=\\displaystyle{\\lim_{n \\to \\infty}\\frac{(n-1)^{k}}{k!}}\\frac{(N-n+1)^{j-k}}{(j-k)!}\\frac{j!}{N^{j}}=\\binom{j}{k}\\frac{(n-1)^{k}}{N^{k}}\\frac{(N-n+1)^{j-k}}{N^{j-k}}=  \\binom{j}{k}(\\frac{n-1}{N})^{k}(\\frac{N-n+1}{N})^{j-k}$"
   ]
  },
  {
   "cell_type": "markdown",
   "metadata": {},
   "source": [
    "The right side is a binomial distirbution with $p=\\frac{n-1}{N}$ and $q=\\frac{N-n+1}{N}$."
   ]
  },
  {
   "cell_type": "markdown",
   "metadata": {},
   "source": [
    "$P(a_i)\\approx b(k;j,\\frac{n-1}{N})=\\binom{j}{k}(\\frac{n-1}{N})^{k}(\\frac{N-n+1}{N})^{j-k}$, for large $N$,$n$."
   ]
  },
  {
   "cell_type": "markdown",
   "metadata": {
    "collapsed": true
   },
   "source": [
    "Assuming $0<p<1$,$0<q<1$ the De Moivre-Laplace Theorem gives us a normal approximation absent any factorials."
   ]
  },
  {
   "cell_type": "markdown",
   "metadata": {
    "collapsed": true
   },
   "source": [
    "$P(a_i)\\approx \\Phi(\\frac{k-(j-k)(n-1)/N}{\\sqrt{(j-k)(n-1)(N-n+1)N^{-2}}})-\\Phi(\\frac{(k-1)-(j-k)(n-1)/N}{\\sqrt{(j-k)(n-1)(N-n+1)N^{-2}}})$"
   ]
  },
  {
   "cell_type": "markdown",
   "metadata": {
    "collapsed": true
   },
   "source": [
    "**Example 6**"
   ]
  },
  {
   "cell_type": "markdown",
   "metadata": {
    "collapsed": true
   },
   "source": [
    "Determine the probability of a node a randomly being generated in a network with 1000 nodes, 121 which are connected to a given node $a$, with 6000 connections where the connections are independently generated."
   ]
  },
  {
   "cell_type": "code",
   "execution_count": null,
   "metadata": {
    "collapsed": false
   },
   "outputs": [],
   "source": [
    "from scipy.stats import norm\n",
    "N=1000/2*1001\n",
    "n=1000\n",
    "j=6000\n",
    "k=121\n",
    "\n",
    "\n",
    "Num1=k-(j-k)*(n-1)/N\n",
    "Den1=np.sqrt((j-k)*(n-1)*(N-n+1)*N**-2)\n",
    "Num2=k-1-(j-k)*(n-1)/N\n",
    "Den2=np.sqrt((j-k)*(n-1)*(N-n+1)*N**-2)\n",
    "norm.cdf(Num1/Den1)-norm.cdf(Num2/Den2)"
   ]
  },
  {
   "cell_type": "markdown",
   "metadata": {},
   "source": [
    "This is nearly impossible assuming totally random selection. We conclude that this node is highly anomolous. "
   ]
  },
  {
   "cell_type": "markdown",
   "metadata": {},
   "source": [
    "**Example 7**"
   ]
  },
  {
   "cell_type": "markdown",
   "metadata": {},
   "source": [
    "Let's see how close this approximation is to the exact values with low $N$,$n$ from our first example."
   ]
  },
  {
   "cell_type": "code",
   "execution_count": null,
   "metadata": {
    "collapsed": false
   },
   "outputs": [],
   "source": [
    "\n",
    "N=10\n",
    "n=5\n",
    "j=6\n",
    "k=2\n",
    "Num1=k-(j-k)*(n-1)/N\n",
    "Den1=np.sqrt((j-k)*(n-1)*(N-n+1)*N**-2)\n",
    "Num2=k-1-(j-k)*(n-1)/N\n",
    "Den2=np.sqrt((j-k)*(n-1)*(N-n+1)*N**-2)\n",
    "norm.cdf(Num1/Den1)-norm.cdf(Num2/Den2)"
   ]
  }
 ],
 "metadata": {
  "kernelspec": {
   "display_name": "Python 3",
   "language": "python",
   "name": "python3"
  },
  "language_info": {
   "codemirror_mode": {
    "name": "ipython",
    "version": 3
   },
   "file_extension": ".py",
   "mimetype": "text/x-python",
   "name": "python",
   "nbconvert_exporter": "python",
   "pygments_lexer": "ipython3",
   "version": "3.5.1"
  }
 },
 "nbformat": 4,
 "nbformat_minor": 0
}
