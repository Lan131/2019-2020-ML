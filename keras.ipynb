{
 "cells": [
  {
   "cell_type": "code",
   "execution_count": 68,
   "metadata": {},
   "outputs": [],
   "source": [
    "from sklearn.model_selection import train_test_split\n",
    "from sklearn.feature_extraction.text import CountVectorizer\n",
    "from keras.models import Sequential\n",
    "from keras import layers\n",
    "from keras import backend\n",
    "import pandas as pd\n",
    "import matplotlib.pyplot as plt\n",
    "from keras.preprocessing import sequence\n",
    "from keras.preprocessing.sequence import pad_sequences\n",
    "import numpy as np\n",
    "from keras.layers import Dense, Dropout, Embedding, LSTM, Bidirectional\n",
    "from keras.preprocessing.text import Tokenizer\n",
    "\n",
    "plt.style.use('ggplot')\n",
    "\n",
    "def plot_history(history):\n",
    "    acc = history.history['acc']\n",
    "    val_acc = history.history['val_acc']\n",
    "    loss = history.history['loss']\n",
    "    val_loss = history.history['val_loss']\n",
    "    x = range(1, len(acc) + 1)\n",
    "\n",
    "    plt.figure(figsize=(12, 5))\n",
    "    plt.subplot(1, 2, 1)\n",
    "    plt.plot(x, acc, 'b', label='Training acc')\n",
    "    plt.plot(x, val_acc, 'r', label='Validation acc')\n",
    "    plt.title('Training and validation accuracy')\n",
    "    plt.legend()\n",
    "    plt.subplot(1, 2, 2)\n",
    "    plt.plot(x, loss, 'b', label='Training loss')\n",
    "    plt.plot(x, val_loss, 'r', label='Validation loss')\n",
    "    plt.title('Training and validation loss')\n",
    "    plt.legend()\n",
    "\n"
   ]
  },
  {
   "cell_type": "code",
   "execution_count": 3,
   "metadata": {},
   "outputs": [
    {
     "data": {
      "text/html": [
       "<div>\n",
       "<style scoped>\n",
       "    .dataframe tbody tr th:only-of-type {\n",
       "        vertical-align: middle;\n",
       "    }\n",
       "\n",
       "    .dataframe tbody tr th {\n",
       "        vertical-align: top;\n",
       "    }\n",
       "\n",
       "    .dataframe thead th {\n",
       "        text-align: right;\n",
       "    }\n",
       "</style>\n",
       "<table border=\"1\" class=\"dataframe\">\n",
       "  <thead>\n",
       "    <tr style=\"text-align: right;\">\n",
       "      <th></th>\n",
       "      <th>question_text</th>\n",
       "      <th>target</th>\n",
       "    </tr>\n",
       "  </thead>\n",
       "  <tbody>\n",
       "    <tr>\n",
       "      <td>0</td>\n",
       "      <td>How did Quebec nationalists see their province...</td>\n",
       "      <td>0</td>\n",
       "    </tr>\n",
       "    <tr>\n",
       "      <td>1</td>\n",
       "      <td>Do you have an adopted dog, how would you enco...</td>\n",
       "      <td>0</td>\n",
       "    </tr>\n",
       "    <tr>\n",
       "      <td>2</td>\n",
       "      <td>Why does velocity affect time? Does velocity a...</td>\n",
       "      <td>0</td>\n",
       "    </tr>\n",
       "    <tr>\n",
       "      <td>3</td>\n",
       "      <td>How did Otto von Guericke used the Magdeburg h...</td>\n",
       "      <td>0</td>\n",
       "    </tr>\n",
       "    <tr>\n",
       "      <td>4</td>\n",
       "      <td>Can I convert montra helicon D to a mountain b...</td>\n",
       "      <td>0</td>\n",
       "    </tr>\n",
       "  </tbody>\n",
       "</table>\n",
       "</div>"
      ],
      "text/plain": [
       "                                       question_text  target\n",
       "0  How did Quebec nationalists see their province...       0\n",
       "1  Do you have an adopted dog, how would you enco...       0\n",
       "2  Why does velocity affect time? Does velocity a...       0\n",
       "3  How did Otto von Guericke used the Magdeburg h...       0\n",
       "4  Can I convert montra helicon D to a mountain b...       0"
      ]
     },
     "execution_count": 3,
     "metadata": {},
     "output_type": "execute_result"
    }
   ],
   "source": [
    "\n",
    "data=pd.read_csv(\"train.csv\")\n",
    "data=data[['question_text','target']]\n",
    "data.head()"
   ]
  },
  {
   "cell_type": "code",
   "execution_count": 4,
   "metadata": {},
   "outputs": [
    {
     "name": "stderr",
     "output_type": "stream",
     "text": [
      "WARNING: Logging before flag parsing goes to stderr.\n",
      "W1119 22:10:05.636610 140372708783936 deprecation_wrapper.py:119] From /usr/lib/python3/dist-packages/keras/backend/tensorflow_backend.py:74: The name tf.get_default_graph is deprecated. Please use tf.compat.v1.get_default_graph instead.\n",
      "\n",
      "W1119 22:10:05.652106 140372708783936 deprecation_wrapper.py:119] From /usr/lib/python3/dist-packages/keras/backend/tensorflow_backend.py:517: The name tf.placeholder is deprecated. Please use tf.compat.v1.placeholder instead.\n",
      "\n",
      "W1119 22:10:05.654879 140372708783936 deprecation_wrapper.py:119] From /usr/lib/python3/dist-packages/keras/backend/tensorflow_backend.py:4138: The name tf.random_uniform is deprecated. Please use tf.random.uniform instead.\n",
      "\n"
     ]
    }
   ],
   "source": [
    "sentences = data['question_text'].values\n",
    "y = data['target'].values\n",
    "\n",
    "vectorizer = CountVectorizer(min_df=0, lowercase=False)\n",
    "vectorizer.fit(sentences)\n",
    "\n",
    "sentences_train, sentences_test, y_train, y_test = train_test_split(\n",
    "sentences, y, test_size=0.01, random_state=1000)\n",
    "\n",
    "sentences_train, dummy_x, y_train, dummy_y = train_test_split(\n",
    "sentences_train, y_train, test_size=0.99, random_state=1000)\n",
    "\n",
    "X_train = vectorizer.transform(sentences_train)\n",
    "X_test  = vectorizer.transform(sentences_test)\n",
    "\n",
    "\n",
    "input_dim = X_train.shape[1]  # Number of features\n",
    "\n",
    "model = Sequential()\n",
    "model.add(layers.Dense(10, input_dim=input_dim, activation='relu'))\n",
    "model.add(layers.Dense(1, activation='sigmoid'))\n"
   ]
  },
  {
   "cell_type": "code",
   "execution_count": 13,
   "metadata": {},
   "outputs": [
    {
     "name": "stdout",
     "output_type": "stream",
     "text": [
      "_________________________________________________________________\n",
      "Layer (type)                 Output Shape              Param #   \n",
      "=================================================================\n",
      "dense_5 (Dense)              (None, 10)                2378680   \n",
      "_________________________________________________________________\n",
      "dense_6 (Dense)              (None, 1)                 11        \n",
      "=================================================================\n",
      "Total params: 2,378,691\n",
      "Trainable params: 2,378,691\n",
      "Non-trainable params: 0\n",
      "_________________________________________________________________\n"
     ]
    }
   ],
   "source": [
    "model.compile(loss='binary_crossentropy',  optimizer='adam',  metrics=['accuracy'])\n",
    "model.summary()"
   ]
  },
  {
   "cell_type": "code",
   "execution_count": 14,
   "metadata": {},
   "outputs": [
    {
     "name": "stdout",
     "output_type": "stream",
     "text": [
      "Train on 12930 samples, validate on 13062 samples\n",
      "Epoch 1/5\n",
      "12930/12930 [==============================] - 37s 3ms/step - loss: 0.4078 - acc: 0.9398 - val_loss: 0.2807 - val_acc: 0.9391\n",
      "Epoch 2/5\n",
      "12930/12930 [==============================] - 38s 3ms/step - loss: 0.2310 - acc: 0.9407 - val_loss: 0.2257 - val_acc: 0.9391\n",
      "Epoch 3/5\n",
      "12930/12930 [==============================] - 39s 3ms/step - loss: 0.1704 - acc: 0.9450 - val_loss: 0.1842 - val_acc: 0.9427\n",
      "Epoch 4/5\n",
      "12930/12930 [==============================] - 39s 3ms/step - loss: 0.1226 - acc: 0.9585 - val_loss: 0.1689 - val_acc: 0.9444\n",
      "Epoch 5/5\n",
      "12930/12930 [==============================] - 38s 3ms/step - loss: 0.0929 - acc: 0.9687 - val_loss: 0.1650 - val_acc: 0.9460\n"
     ]
    }
   ],
   "source": [
    "history = model.fit(X_train, y_train,epochs=5,verbose=True,validation_data=(X_test, y_test), batch_size=100)"
   ]
  },
  {
   "cell_type": "code",
   "execution_count": 15,
   "metadata": {},
   "outputs": [
    {
     "name": "stdout",
     "output_type": "stream",
     "text": [
      "Training Accuracy: 0.9766\n",
      "Testing Accuracy:  0.9460\n"
     ]
    }
   ],
   "source": [
    "loss, accuracy = model.evaluate(X_train, y_train, verbose=False)\n",
    "print(\"Training Accuracy: {:.4f}\".format(accuracy))\n",
    "loss, accuracy = model.evaluate(X_test, y_test, verbose=False)\n",
    "print(\"Testing Accuracy:  {:.4f}\".format(accuracy))"
   ]
  },
  {
   "cell_type": "code",
   "execution_count": 18,
   "metadata": {},
   "outputs": [
    {
     "data": {
      "image/png": "[encoded data removed]",
      "text/plain": [
       "<Figure size 864x360 with 2 Axes>"
      ]
     },
     "metadata": {},
     "output_type": "display_data"
    }
   ],
   "source": [
    "plot_history(history)"
   ]
  },
  {
   "cell_type": "code",
   "execution_count": 28,
   "metadata": {},
   "outputs": [
    {
     "name": "stdout",
     "output_type": "stream",
     "text": [
      "Why do people believe man is the major cause of climate change without any empirical evidence to support it?\n"
     ]
    }
   ],
   "source": [
    "\n",
    "tokenizer = Tokenizer(num_words=5000)\n",
    "tokenizer.fit_on_texts(sentences_train)\n",
    "\n",
    "X_train = tokenizer.texts_to_sequences(sentences_train)\n",
    "X_test = tokenizer.texts_to_sequences(sentences_test)\n",
    "\n",
    "vocab_size = len(tokenizer.word_index) + 1  # Adding 1 because of reserved 0 index\n",
    "\n",
    "print(sentences_train[2])\n",
    "\n",
    "maxlen = 100\n",
    "\n",
    "X_train = pad_sequences(X_train, padding='post', maxlen=maxlen)\n",
    "X_test = pad_sequences(X_test, padding='post', maxlen=maxlen)\n"
   ]
  },
  {
   "cell_type": "code",
   "execution_count": 29,
   "metadata": {},
   "outputs": [],
   "source": [
    "max_features = 20000\n",
    "# cut texts after this number of words\n",
    "# (among top max_features most common words)\n",
    "maxlen = 100\n",
    "batch_size = 1000\n",
    "\n",
    "model = Sequential()\n",
    "model.add(Embedding(max_features, 128, input_length=maxlen))\n",
    "model.add(Bidirectional(LSTM(64)))\n",
    "model.add(Dropout(0.5))\n",
    "model.add(Dense(1, activation='sigmoid'))\n",
    "\n",
    "# try using different optimizers and different optimizer configs\n",
    "model.compile('adam', 'binary_crossentropy', metrics=['accuracy'])"
   ]
  },
  {
   "cell_type": "code",
   "execution_count": 34,
   "metadata": {},
   "outputs": [
    {
     "name": "stdout",
     "output_type": "stream",
     "text": [
      "Train...\n",
      "Train on 12930 samples, validate on 13062 samples\n",
      "Epoch 1/3\n",
      "12930/12930 [==============================] - 15s 1ms/step - loss: 0.2016 - acc: 0.9407 - val_loss: 0.1959 - val_acc: 0.9391\n",
      "Epoch 2/3\n",
      "12930/12930 [==============================] - 15s 1ms/step - loss: 0.1741 - acc: 0.9408 - val_loss: 0.1725 - val_acc: 0.9391\n",
      "Epoch 3/3\n",
      "12930/12930 [==============================] - 17s 1ms/step - loss: 0.1368 - acc: 0.9459 - val_loss: 0.1561 - val_acc: 0.9455\n"
     ]
    }
   ],
   "source": [
    "\n",
    "print('Train...')\n",
    "history=model.fit(X_train, y_train,batch_size=batch_size,epochs=3,validation_data=[X_test, y_test])"
   ]
  },
  {
   "cell_type": "code",
   "execution_count": 35,
   "metadata": {},
   "outputs": [
    {
     "name": "stdout",
     "output_type": "stream",
     "text": [
      "Training Accuracy: 0.9555\n",
      "Testing Accuracy:  0.9455\n"
     ]
    }
   ],
   "source": [
    "loss, accuracy = model.evaluate(X_train, y_train, verbose=False)\n",
    "print(\"Training Accuracy: {:.4f}\".format(accuracy))\n",
    "loss, accuracy = model.evaluate(X_test, y_test, verbose=False)\n",
    "print(\"Testing Accuracy:  {:.4f}\".format(accuracy))\n"
   ]
  },
  {
   "cell_type": "code",
   "execution_count": 36,
   "metadata": {},
   "outputs": [
    {
     "data": {
      "image/png": "[encoded data removed]",
      "text/plain": [
       "<Figure size 864x360 with 2 Axes>"
      ]
     },
     "metadata": {},
     "output_type": "display_data"
    }
   ],
   "source": [
    "plot_history(history)"
   ]
  },
  {
   "cell_type": "raw",
   "metadata": {},
   "source": [
    "Vary data size\n",
    "\n"
   ]
  },
  {
   "cell_type": "code",
   "execution_count": 73,
   "metadata": {},
   "outputs": [],
   "source": [
    "\n",
    "data=pd.read_csv(\"train.csv\")\n",
    "data=data[['question_text','target']]\n",
    "\n",
    "sentences = data['question_text'].values\n",
    "y = data['target'].values\n",
    "\n",
    "\n",
    "sentences_train, sentences_test, y_train, y_test = train_test_split(\n",
    "sentences, y, test_size=0.01, random_state=1000) #fix test data\n",
    "loop_data=sentences_train\n",
    "loop_y=y_train\n",
    "\n"
   ]
  },
  {
   "cell_type": "code",
   "execution_count": 74,
   "metadata": {},
   "outputs": [],
   "source": [
    "\n",
    "\n",
    "\n",
    "\n",
    "max_features = 20000\n",
    "# cut texts after this number of words\n",
    "# (among top max_features most common words)\n",
    "maxlen = 100\n",
    "batch_size = 1000\n",
    "\n",
    "\n",
    "\n"
   ]
  },
  {
   "cell_type": "code",
   "execution_count": 77,
   "metadata": {},
   "outputs": [
    {
     "name": "stdout",
     "output_type": "stream",
     "text": [
      "Train on 5600 samples, validate on 13062 samples\n",
      "Epoch 1/3\n",
      "5600/5600 [==============================] - 10s 2ms/step - loss: 0.6305 - acc: 0.8775 - val_loss: 0.5204 - val_acc: 0.9391\n",
      "Epoch 2/3\n",
      "5600/5600 [==============================] - 8s 2ms/step - loss: 0.4195 - acc: 0.9418 - val_loss: 0.2521 - val_acc: 0.9391\n",
      "Epoch 3/3\n",
      "5600/5600 [==============================] - 8s 1ms/step - loss: 0.2350 - acc: 0.9418 - val_loss: 0.2582 - val_acc: 0.9391\n",
      "Train on 11200 samples, validate on 13062 samples\n",
      "Epoch 1/3\n",
      "11200/11200 [==============================] - 15s 1ms/step - loss: 0.5534 - acc: 0.9136 - val_loss: 0.2683 - val_acc: 0.9391\n",
      "Epoch 2/3\n",
      "11200/11200 [==============================] - 15s 1ms/step - loss: 0.2440 - acc: 0.9407 - val_loss: 0.2326 - val_acc: 0.9391\n",
      "Epoch 3/3\n",
      "11200/11200 [==============================] - 15s 1ms/step - loss: 0.2230 - acc: 0.9407 - val_loss: 0.2200 - val_acc: 0.9391\n",
      "Train on 16800 samples, validate on 13062 samples\n",
      "Epoch 1/3\n",
      "16800/16800 [==============================] - 21s 1ms/step - loss: 0.4555 - acc: 0.9013 - val_loss: 0.2670 - val_acc: 0.9391\n",
      "Epoch 2/3\n",
      "16800/16800 [==============================] - 20s 1ms/step - loss: 0.2299 - acc: 0.9408 - val_loss: 0.2197 - val_acc: 0.9391\n",
      "Epoch 3/3\n",
      "16800/16800 [==============================] - 20s 1ms/step - loss: 0.2103 - acc: 0.9408 - val_loss: 0.2050 - val_acc: 0.9391\n",
      "Train on 22400 samples, validate on 13062 samples\n",
      "Epoch 1/3\n",
      "22400/22400 [==============================] - 27s 1ms/step - loss: 0.4156 - acc: 0.8958 - val_loss: 0.2410 - val_acc: 0.9391\n",
      "Epoch 2/3\n",
      "22400/22400 [==============================] - 26s 1ms/step - loss: 0.2235 - acc: 0.9393 - val_loss: 0.2097 - val_acc: 0.9391\n",
      "Epoch 3/3\n",
      "22400/22400 [==============================] - 26s 1ms/step - loss: 0.1968 - acc: 0.9393 - val_loss: 0.1744 - val_acc: 0.9391\n",
      "Train on 28000 samples, validate on 13062 samples\n",
      "Epoch 1/3\n",
      "28000/28000 [==============================] - 32s 1ms/step - loss: 0.3364 - acc: 0.9344 - val_loss: 0.2228 - val_acc: 0.9391\n",
      "Epoch 2/3\n",
      "28000/28000 [==============================] - 32s 1ms/step - loss: 0.2200 - acc: 0.9392 - val_loss: 0.2001 - val_acc: 0.9391\n",
      "Epoch 3/3\n",
      "28000/28000 [==============================] - 31s 1ms/step - loss: 0.1684 - acc: 0.9407 - val_loss: 0.1508 - val_acc: 0.9443\n",
      "Train on 33600 samples, validate on 13062 samples\n",
      "Epoch 1/3\n",
      "33600/33600 [==============================] - 39s 1ms/step - loss: 0.3494 - acc: 0.9178 - val_loss: 0.2218 - val_acc: 0.9391\n",
      "Epoch 2/3\n",
      "33600/33600 [==============================] - 36s 1ms/step - loss: 0.2080 - acc: 0.9388 - val_loss: 0.1810 - val_acc: 0.9391\n",
      "Epoch 3/3\n",
      "33600/33600 [==============================] - 36s 1ms/step - loss: 0.1570 - acc: 0.9420 - val_loss: 0.1457 - val_acc: 0.9463\n",
      "Train on 39200 samples, validate on 13062 samples\n",
      "Epoch 1/3\n",
      "39200/39200 [==============================] - 42s 1ms/step - loss: 0.3217 - acc: 0.9291 - val_loss: 0.2108 - val_acc: 0.9391\n",
      "Epoch 2/3\n",
      "39200/39200 [==============================] - 41s 1ms/step - loss: 0.1881 - acc: 0.9389 - val_loss: 0.1506 - val_acc: 0.9443\n",
      "Epoch 3/3\n",
      "39200/39200 [==============================] - 41s 1ms/step - loss: 0.1388 - acc: 0.9466 - val_loss: 0.1425 - val_acc: 0.9471\n",
      "Train on 44800 samples, validate on 13062 samples\n",
      "Epoch 1/3\n",
      "44800/44800 [==============================] - 47s 1ms/step - loss: 0.3062 - acc: 0.9304 - val_loss: 0.2117 - val_acc: 0.9391\n",
      "Epoch 2/3\n",
      "44800/44800 [==============================] - 47s 1ms/step - loss: 0.1863 - acc: 0.9392 - val_loss: 0.1497 - val_acc: 0.9461\n",
      "Epoch 3/3\n",
      "44800/44800 [==============================] - 47s 1ms/step - loss: 0.1335 - acc: 0.9485 - val_loss: 0.1407 - val_acc: 0.9486\n",
      "Train on 50400 samples, validate on 13062 samples\n",
      "Epoch 1/3\n",
      "50400/50400 [==============================] - 53s 1ms/step - loss: 0.2988 - acc: 0.9266 - val_loss: 0.2062 - val_acc: 0.9391\n",
      "Epoch 2/3\n",
      "50400/50400 [==============================] - 52s 1ms/step - loss: 0.1741 - acc: 0.9403 - val_loss: 0.1440 - val_acc: 0.9469\n",
      "Epoch 3/3\n",
      "50400/50400 [==============================] - 52s 1ms/step - loss: 0.1286 - acc: 0.9509 - val_loss: 0.1388 - val_acc: 0.9497\n",
      "Train on 56000 samples, validate on 13062 samples\n",
      "Epoch 1/3\n",
      "56000/56000 [==============================] - 59s 1ms/step - loss: 0.2982 - acc: 0.9247 - val_loss: 0.2056 - val_acc: 0.9391\n",
      "Epoch 2/3\n",
      "56000/56000 [==============================] - 58s 1ms/step - loss: 0.1718 - acc: 0.9403 - val_loss: 0.1437 - val_acc: 0.9478\n",
      "Epoch 3/3\n",
      "56000/56000 [==============================] - 58s 1ms/step - loss: 0.1287 - acc: 0.9506 - val_loss: 0.1375 - val_acc: 0.9498\n",
      "Train on 61600 samples, validate on 13062 samples\n",
      "Epoch 1/3\n",
      "61600/61600 [==============================] - 64s 1ms/step - loss: 0.2872 - acc: 0.9313 - val_loss: 0.1902 - val_acc: 0.9391\n",
      "Epoch 2/3\n",
      "61600/61600 [==============================] - 63s 1ms/step - loss: 0.1549 - acc: 0.9432 - val_loss: 0.1382 - val_acc: 0.9483\n",
      "Epoch 3/3\n",
      "61600/61600 [==============================] - 63s 1ms/step - loss: 0.1202 - acc: 0.9524 - val_loss: 0.1404 - val_acc: 0.9493\n",
      "Train on 67200 samples, validate on 13062 samples\n",
      "Epoch 1/3\n",
      "67200/67200 [==============================] - 70s 1ms/step - loss: 0.2774 - acc: 0.9283 - val_loss: 0.1758 - val_acc: 0.9391\n",
      "Epoch 2/3\n",
      "67200/67200 [==============================] - 69s 1ms/step - loss: 0.1495 - acc: 0.9443 - val_loss: 0.1386 - val_acc: 0.9480\n",
      "Epoch 3/3\n",
      "67200/67200 [==============================] - 69s 1ms/step - loss: 0.1188 - acc: 0.9533 - val_loss: 0.1394 - val_acc: 0.9479\n",
      "Train on 72800 samples, validate on 13062 samples\n",
      "Epoch 1/3\n",
      "72800/72800 [==============================] - 75s 1ms/step - loss: 0.2686 - acc: 0.9273 - val_loss: 0.1659 - val_acc: 0.9391\n",
      "Epoch 2/3\n",
      "72800/72800 [==============================] - 76s 1ms/step - loss: 0.1426 - acc: 0.9465 - val_loss: 0.1361 - val_acc: 0.9488\n",
      "Epoch 3/3\n",
      "72800/72800 [==============================] - 74s 1ms/step - loss: 0.1172 - acc: 0.9535 - val_loss: 0.1389 - val_acc: 0.9495\n",
      "Train on 78400 samples, validate on 13062 samples\n",
      "Epoch 1/3\n",
      "78400/78400 [==============================] - 80s 1ms/step - loss: 0.2608 - acc: 0.9340 - val_loss: 0.1535 - val_acc: 0.9408\n",
      "Epoch 2/3\n",
      "78400/78400 [==============================] - 79s 1ms/step - loss: 0.1367 - acc: 0.9473 - val_loss: 0.1357 - val_acc: 0.9502\n",
      "Epoch 3/3\n",
      "78400/78400 [==============================] - 79s 1ms/step - loss: 0.1168 - acc: 0.9535 - val_loss: 0.1378 - val_acc: 0.9494\n",
      "Train on 84000 samples, validate on 13062 samples\n",
      "Epoch 1/3\n",
      "84000/84000 [==============================] - 90s 1ms/step - loss: 0.2539 - acc: 0.9316 - val_loss: 0.1491 - val_acc: 0.9441\n",
      "Epoch 2/3\n",
      "84000/84000 [==============================] - 88s 1ms/step - loss: 0.1335 - acc: 0.9483 - val_loss: 0.1348 - val_acc: 0.9495\n",
      "Epoch 3/3\n",
      "84000/84000 [==============================] - 88s 1ms/step - loss: 0.1158 - acc: 0.9536 - val_loss: 0.1376 - val_acc: 0.9494\n",
      "Train on 89600 samples, validate on 13062 samples\n",
      "Epoch 1/3\n",
      "89600/89600 [==============================] - 94s 1ms/step - loss: 0.2447 - acc: 0.9357 - val_loss: 0.1508 - val_acc: 0.9457\n",
      "Epoch 2/3\n",
      "89600/89600 [==============================] - 93s 1ms/step - loss: 0.1365 - acc: 0.9476 - val_loss: 0.1366 - val_acc: 0.9490\n",
      "Epoch 3/3\n",
      "89600/89600 [==============================] - 93s 1ms/step - loss: 0.1165 - acc: 0.9533 - val_loss: 0.1386 - val_acc: 0.9499\n",
      "Train on 95200 samples, validate on 13062 samples\n",
      "Epoch 1/3\n",
      "95200/95200 [==============================] - 98s 1ms/step - loss: 0.2368 - acc: 0.9374 - val_loss: 0.1430 - val_acc: 0.9479\n",
      "Epoch 2/3\n",
      "95200/95200 [==============================] - 96s 1ms/step - loss: 0.1303 - acc: 0.9491 - val_loss: 0.1389 - val_acc: 0.9497\n",
      "Epoch 3/3\n",
      "95200/95200 [==============================] - 95s 1ms/step - loss: 0.1167 - acc: 0.9536 - val_loss: 0.1373 - val_acc: 0.9505\n",
      "Train on 100800 samples, validate on 13062 samples\n",
      "Epoch 1/3\n",
      "100800/100800 [==============================] - 103s 1ms/step - loss: 0.2319 - acc: 0.9370 - val_loss: 0.1412 - val_acc: 0.9484\n",
      "Epoch 2/3\n",
      "100800/100800 [==============================] - 102s 1ms/step - loss: 0.1285 - acc: 0.9504 - val_loss: 0.1350 - val_acc: 0.9494\n",
      "Epoch 3/3\n"
     ]
    },
    {
     "name": "stdout",
     "output_type": "stream",
     "text": [
      "100800/100800 [==============================] - 101s 1ms/step - loss: 0.1162 - acc: 0.9534 - val_loss: 0.1364 - val_acc: 0.9487\n",
      "Train on 106400 samples, validate on 13062 samples\n",
      "Epoch 1/3\n",
      "106400/106400 [==============================] - 107s 1ms/step - loss: 0.2362 - acc: 0.9317 - val_loss: 0.1442 - val_acc: 0.9482\n",
      "Epoch 2/3\n",
      "106400/106400 [==============================] - 106s 1ms/step - loss: 0.1299 - acc: 0.9492 - val_loss: 0.1356 - val_acc: 0.9495\n",
      "Epoch 3/3\n",
      "106400/106400 [==============================] - 106s 998us/step - loss: 0.1169 - acc: 0.9538 - val_loss: 0.1369 - val_acc: 0.9492\n",
      "Train on 112000 samples, validate on 13062 samples\n",
      "Epoch 1/3\n",
      "112000/112000 [==============================] - 113s 1ms/step - loss: 0.2290 - acc: 0.9391 - val_loss: 0.1381 - val_acc: 0.9487\n",
      "Epoch 2/3\n",
      "112000/112000 [==============================] - 112s 999us/step - loss: 0.1293 - acc: 0.9502 - val_loss: 0.1343 - val_acc: 0.9508\n",
      "Epoch 3/3\n",
      "112000/112000 [==============================] - 112s 999us/step - loss: 0.1170 - acc: 0.9535 - val_loss: 0.1365 - val_acc: 0.9489\n",
      "Train on 117600 samples, validate on 13062 samples\n",
      "Epoch 1/3\n",
      "117600/117600 [==============================] - 119s 1ms/step - loss: 0.2191 - acc: 0.9384 - val_loss: 0.1380 - val_acc: 0.9491\n",
      "Epoch 2/3\n",
      "117600/117600 [==============================] - 117s 997us/step - loss: 0.1276 - acc: 0.9498 - val_loss: 0.1348 - val_acc: 0.9495\n",
      "Epoch 3/3\n",
      "117600/117600 [==============================] - 117s 997us/step - loss: 0.1173 - acc: 0.9535 - val_loss: 0.1368 - val_acc: 0.9493\n",
      "Train on 123200 samples, validate on 13062 samples\n",
      "Epoch 1/3\n",
      "123200/123200 [==============================] - 124s 1ms/step - loss: 0.2246 - acc: 0.9356 - val_loss: 0.1378 - val_acc: 0.9487\n",
      "Epoch 2/3\n",
      "123200/123200 [==============================] - 123s 996us/step - loss: 0.1284 - acc: 0.9498 - val_loss: 0.1334 - val_acc: 0.9502\n",
      "Epoch 3/3\n",
      "123200/123200 [==============================] - 122s 994us/step - loss: 0.1173 - acc: 0.9529 - val_loss: 0.1388 - val_acc: 0.9491\n",
      "Train on 128800 samples, validate on 13062 samples\n",
      "Epoch 1/3\n",
      "128800/128800 [==============================] - 129s 1ms/step - loss: 0.2177 - acc: 0.9398 - val_loss: 0.1376 - val_acc: 0.9476\n",
      "Epoch 2/3\n",
      "128800/128800 [==============================] - 129s 998us/step - loss: 0.1280 - acc: 0.9498 - val_loss: 0.1340 - val_acc: 0.9504\n",
      "Epoch 3/3\n",
      "128800/128800 [==============================] - 128s 993us/step - loss: 0.1176 - acc: 0.9534 - val_loss: 0.1347 - val_acc: 0.9505\n",
      "Train on 134400 samples, validate on 13062 samples\n",
      "Epoch 1/3\n",
      "134400/134400 [==============================] - 134s 995us/step - loss: 0.2168 - acc: 0.9399 - val_loss: 0.1426 - val_acc: 0.9469\n",
      "Epoch 2/3\n",
      "134400/134400 [==============================] - 134s 999us/step - loss: 0.1278 - acc: 0.9501 - val_loss: 0.1343 - val_acc: 0.9495\n",
      "Epoch 3/3\n",
      "134400/134400 [==============================] - 133s 992us/step - loss: 0.1173 - acc: 0.9533 - val_loss: 0.1372 - val_acc: 0.9476\n",
      "Train on 140000 samples, validate on 13062 samples\n",
      "Epoch 1/3\n",
      "140000/140000 [==============================] - 139s 995us/step - loss: 0.2062 - acc: 0.9404 - val_loss: 0.1354 - val_acc: 0.9484\n",
      "Epoch 2/3\n",
      "140000/140000 [==============================] - 24695s 176ms/step - loss: 0.1253 - acc: 0.9512 - val_loss: 0.1338 - val_acc: 0.9500\n",
      "Epoch 3/3\n",
      "140000/140000 [==============================] - 142s 1ms/step - loss: 0.1167 - acc: 0.9535 - val_loss: 0.1346 - val_acc: 0.9490\n",
      "Train on 145600 samples, validate on 13062 samples\n",
      "Epoch 1/3\n",
      "145600/145600 [==============================] - 149s 1ms/step - loss: 0.2047 - acc: 0.9406 - val_loss: 0.1341 - val_acc: 0.9496\n",
      "Epoch 2/3\n",
      "145600/145600 [==============================] - 148s 1ms/step - loss: 0.1252 - acc: 0.9516 - val_loss: 0.1319 - val_acc: 0.9498\n",
      "Epoch 3/3\n",
      "145600/145600 [==============================] - 148s 1ms/step - loss: 0.1172 - acc: 0.9537 - val_loss: 0.1339 - val_acc: 0.9491\n",
      "Train on 151200 samples, validate on 13062 samples\n",
      "Epoch 1/3\n",
      "151200/151200 [==============================] - 155s 1ms/step - loss: 0.2003 - acc: 0.9389 - val_loss: 0.1348 - val_acc: 0.9492\n",
      "Epoch 2/3\n",
      "151200/151200 [==============================] - 154s 1ms/step - loss: 0.1256 - acc: 0.9506 - val_loss: 0.1332 - val_acc: 0.9489\n",
      "Epoch 3/3\n",
      "151200/151200 [==============================] - 152s 1ms/step - loss: 0.1176 - acc: 0.9532 - val_loss: 0.1337 - val_acc: 0.9478\n",
      "Train on 156800 samples, validate on 13062 samples\n",
      "Epoch 1/3\n",
      "156800/156800 [==============================] - 155s 990us/step - loss: 0.2017 - acc: 0.9378 - val_loss: 0.1343 - val_acc: 0.9500\n",
      "Epoch 2/3\n",
      "156800/156800 [==============================] - 155s 988us/step - loss: 0.1248 - acc: 0.9512 - val_loss: 0.1339 - val_acc: 0.9505\n",
      "Epoch 3/3\n",
      "156800/156800 [==============================] - 155s 988us/step - loss: 0.1174 - acc: 0.9535 - val_loss: 0.1329 - val_acc: 0.9489\n",
      "Train on 162400 samples, validate on 13062 samples\n",
      "Epoch 1/3\n",
      "162400/162400 [==============================] - 161s 993us/step - loss: 0.2010 - acc: 0.9401 - val_loss: 0.1340 - val_acc: 0.9490\n",
      "Epoch 2/3\n",
      "162400/162400 [==============================] - 161s 991us/step - loss: 0.1247 - acc: 0.9509 - val_loss: 0.1323 - val_acc: 0.9502\n",
      "Epoch 3/3\n",
      "162400/162400 [==============================] - 162s 995us/step - loss: 0.1177 - acc: 0.9536 - val_loss: 0.1330 - val_acc: 0.9493\n",
      "Train on 168000 samples, validate on 13062 samples\n",
      "Epoch 1/3\n",
      "168000/168000 [==============================] - 167s 994us/step - loss: 0.1954 - acc: 0.9416 - val_loss: 0.1335 - val_acc: 0.9491\n",
      "Epoch 2/3\n",
      "168000/168000 [==============================] - 166s 988us/step - loss: 0.1245 - acc: 0.9510 - val_loss: 0.1313 - val_acc: 0.9505\n",
      "Epoch 3/3\n",
      "168000/168000 [==============================] - 166s 987us/step - loss: 0.1176 - acc: 0.9532 - val_loss: 0.1319 - val_acc: 0.9501\n"
     ]
    }
   ],
   "source": [
    "increment=1287460\n",
    "for i in range(30):\n",
    "    \n",
    "\n",
    "    sentences_train, dummy_x, y_train, dummy_y = train_test_split(\n",
    "    loop_data, loop_y, test_size=increment, random_state=1000)\n",
    "\n",
    "    tokenizer = Tokenizer(num_words=5000)\n",
    "    tokenizer.fit_on_texts(sentences_train)\n",
    "\n",
    "    X_train = tokenizer.texts_to_sequences(sentences_train)\n",
    "    X_test = tokenizer.texts_to_sequences(sentences_test)\n",
    "\n",
    "    vocab_size = len(tokenizer.word_index) + 1  # Adding 1 because of reserved 0 index\n",
    "\n",
    "    \n",
    "\n",
    "    X_train = pad_sequences(X_train, padding='post', maxlen=maxlen)\n",
    "    X_test = pad_sequences(X_test, padding='post', maxlen=maxlen)\n",
    "    model = Sequential()\n",
    "    model.add(Embedding(max_features, 128, input_length=maxlen))\n",
    "    model.add(Bidirectional(LSTM(64)))\n",
    "    model.add(Dropout(0.5))\n",
    "    model.add(Dense(1, activation='sigmoid'))\n",
    "    model.compile('adam', 'binary_crossentropy', metrics=['accuracy'])\n",
    "    \n",
    "    history=model.fit(X_train, y_train,batch_size=batch_size,epochs=3,validation_data=[X_test, y_test])\n",
    "    increment=increment-5600\n",
    "    backend.clear_session()\n",
    "    \n",
    "    "
   ]
  },
  {
   "cell_type": "code",
   "execution_count": 70,
   "metadata": {},
   "outputs": [],
   "source": [
    "backend.clear_session()"
   ]
  }
 ],
 "metadata": {
  "kernelspec": {
   "display_name": "Python 3",
   "language": "python",
   "name": "python3"
  },
  "language_info": {
   "codemirror_mode": {
    "name": "ipython",
    "version": 3
   },
   "file_extension": ".py",
   "mimetype": "text/x-python",
   "name": "python",
   "nbconvert_exporter": "python",
   "pygments_lexer": "ipython3",
   "version": "3.6.8"
  }
 },
 "nbformat": 4,
 "nbformat_minor": 2
}
