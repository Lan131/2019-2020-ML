{
 "cells": [
  {
   "cell_type": "code",
   "execution_count": 1,
   "metadata": {},
   "outputs": [],
   "source": [
    "\n"
   ]
  },
  {
   "cell_type": "code",
   "execution_count": 113,
   "metadata": {},
   "outputs": [],
   "source": [
    "import numpy as np\n",
    "class TransportationProblem(object):\n",
    "    def __init__(self, I,J):\n",
    "        # The grid is I by J\n",
    "        self.I = I\n",
    "        self.J = J\n",
    "        self.grid=np.ones((I,J))\n",
    "    def set_avoids(self,items):\n",
    "        #needs list of lists to avoid ex. ((1,4),(3,4),(4,2))\n",
    "        for item in items:\n",
    "            i=item[0]\n",
    "            j=item[1]\n",
    "            self.grid[i,j]=1000\n",
    "        return \n",
    "    def random_populate(self):\n",
    "        self.grid= np.random.rand(self.I,self.J)\n",
    "        return\n",
    "    def startState(self):\n",
    "        return (0,0)\n",
    "    def isEnd(self, state):\n",
    "        return state == (self.I-1,self.J-1)\n",
    "    def succAndCost(self, state):\n",
    "        # return a list of (action, newState, cost) triples, takes a list of current potion (x,y)\n",
    "        result = []\n",
    "        if state[1]+1<self.J and state[0]>=0 and state[1]>=0:\n",
    "            result.append(('right', (state[0],state[1]+1), self.grid[state[0],state[1]+1]))\n",
    "        if state[0]+1<self.I  and state[0]>=0 and state[1]>=0:\n",
    "            result.append(('down', (state[0]+1,state[1]), self.grid[state[0]+1,state[1]]))\n",
    "        return result\n",
    "def dynamicProgramming(problem):\n",
    "    # state -> futureCost\n",
    "    cache = {}\n",
    "    def futureCost(state):\n",
    "        # return best cost of reaching the end from state\n",
    "        if problem.isEnd(state):\n",
    "            return 0\n",
    "        if state in cache:\n",
    "            return cache[state][0]\n",
    "\n",
    "\n",
    "\n",
    "        result = min([(cost+futureCost(newState),action,newState, cost) for action, newState, cost in problem.succAndCost(state)])\n",
    "        #result = min([cost+futureCost(newState) for action, newState, cost in problem.succAndCost(state)])\n",
    "        cache[state] = result\n",
    "        return result[0]\n",
    "    # recover total cost\n",
    "    totalCost = futureCost(problem.startState())\n",
    "    # recover history\n",
    "    history = []\n",
    "    state = problem.startState()\n",
    "    while not problem.isEnd(state):\n",
    "        #print(cache)\n",
    "        _, action, newState, cost = cache[state]\n",
    "        history.append((action, newState, cost))\n",
    "        state = newState\n",
    "    \n",
    "    return (totalCost, history)\n",
    "def printSolution(solution):\n",
    "    totalCost, history = solution\n",
    "    print('Total cost: {}'.format(totalCost))\n",
    "    for step in history:\n",
    "        print(step)\n",
    "\n"
   ]
  },
  {
   "cell_type": "code",
   "execution_count": 102,
   "metadata": {},
   "outputs": [
    {
     "data": {
      "text/plain": [
       "1.0"
      ]
     },
     "execution_count": 102,
     "metadata": {},
     "output_type": "execute_result"
    }
   ],
   "source": [
    "cache={(7, 8): 1.0, (6, 8): 2.0, (5, 8): 3.0, (4, 8): 4.0, (3, 8): 5.0, (2, 8): 6.0, (1, 8): 7.0, (0, 8): 8.0, (8, 7): 1.0, (7, 7): 2.0, (6, 7): 3.0, (5, 7): 4.0, (4, 7): 5.0, (3, 7): 6.0, (2, 7): 7.0, (1, 7): 8.0, (0, 7): 9.0, (8, 6): 2.0, (7, 6): 1002.0, (6, 6): 4.0, (5, 6): 5.0, (4, 6): 6.0, (3, 6): 7.0, (2, 6): 8.0, (1, 6): 9.0, (0, 6): 10.0, (8, 5): 1002.0, (7, 5): 1003.0, (6, 5): 5.0, (5, 5): 6.0, (4, 5): 7.0, (3, 5): 8.0, (2, 5): 9.0, (1, 5): 10.0, (0, 5): 11.0, (8, 4): 1003.0, (7, 4): 1004.0, (6, 4): 6.0, (5, 4): 7.0, (4, 4): 8.0, (3, 4): 9.0, (2, 4): 10.0, (1, 4): 11.0, (0, 4): 12.0, (8, 3): 1004.0, (7, 3): 1005.0, (6, 3): 7.0, (5, 3): 8.0, (4, 3): 9.0, (3, 3): 1009.0, (2, 3): 11.0, (1, 3): 12.0, (0, 3): 13.0, (8, 2): 1005.0, (7, 2): 1006.0, (6, 2): 8.0, (5, 2): 9.0, (4, 2): 10.0, (3, 2): 1010.0, (2, 2): 12.0, (1, 2): 13.0, (0, 2): 14.0, (8, 1): 1006.0, (7, 1): 1007.0, (6, 1): 9.0, (5, 1): 10.0, (4, 1): 11.0, (3, 1): 12.0, (2, 1): 13.0, (1, 1): 14.0, (0, 1): 15.0, (8, 0): 1007.0, (7, 0): 1008.0, (6, 0): 10.0, (5, 0): 11.0, (4, 0): 12.0, (3, 0): 13.0, (2, 0): 14.0, (1, 0): 15.0, (0, 0): 16.0}\n",
    "cache[(7, 8)]"
   ]
  },
  {
   "cell_type": "code",
   "execution_count": 106,
   "metadata": {},
   "outputs": [
    {
     "data": {
      "text/plain": [
       "[('right', (4, 5), 1.0), ('down', (5, 4), 1.0)]"
      ]
     },
     "execution_count": 106,
     "metadata": {},
     "output_type": "execute_result"
    }
   ],
   "source": [
    "problem.succAndCost((4, 4))"
   ]
  },
  {
   "cell_type": "code",
   "execution_count": 114,
   "metadata": {},
   "outputs": [
    {
     "name": "stdout",
     "output_type": "stream",
     "text": [
      "[[   1.    1.    1.    1.    1.    1.    1.    1.    1.]\n",
      " [   1.    1.    1.    1. 1000.    1.    1.    1.    1.]\n",
      " [   1.    1.    1.    1.    1.    1.    1.    1.    1.]\n",
      " [   1.    1.    1.    1. 1000.    1.    1.    1.    1.]\n",
      " [   1.    1. 1000. 1000.    1.    1.    1.    1.    1.]\n",
      " [   1.    1.    1.    1.    1.    1.    1.    1.    1.]\n",
      " [   1.    1.    1.    1.    1.    1.    1.    1.    1.]\n",
      " [   1.    1.    1.    1.    1.    1.    1. 1000.    1.]\n",
      " [   1.    1.    1.    1.    1.    1. 1000.    1.    1.]]\n",
      "Total cost: 16.0\n",
      "('down', (1, 0), 1.0)\n",
      "('down', (2, 0), 1.0)\n",
      "('down', (3, 0), 1.0)\n",
      "('down', (4, 0), 1.0)\n",
      "('down', (5, 0), 1.0)\n",
      "('down', (6, 0), 1.0)\n",
      "('right', (6, 1), 1.0)\n",
      "('right', (6, 2), 1.0)\n",
      "('right', (6, 3), 1.0)\n",
      "('right', (6, 4), 1.0)\n",
      "('right', (6, 5), 1.0)\n",
      "('right', (6, 6), 1.0)\n",
      "('right', (6, 7), 1.0)\n",
      "('right', (6, 8), 1.0)\n",
      "('down', (7, 8), 1.0)\n",
      "('down', (8, 8), 1.0)\n"
     ]
    }
   ],
   "source": [
    "problem=TransportationProblem(9,9)\n",
    "problem.set_avoids(((1,4),(3,4),(4,2),(4,3),(7,7),(8,6),(7,7),(8,6)))\n",
    "print(problem.grid)\n",
    "#print(problem.succAndCost((7,7)))\n",
    "printSolution(dynamicProgramming(problem))\n"
   ]
  },
  {
   "cell_type": "code",
   "execution_count": 115,
   "metadata": {},
   "outputs": [
    {
     "name": "stdout",
     "output_type": "stream",
     "text": [
      "[[0.04628951 0.19425208]\n",
      " [0.04321919 0.20842675]\n",
      " [0.98781162 0.52723019]]\n",
      "Total cost: 0.778876128626858\n",
      "('down', (1, 0), 0.04321919469791091)\n",
      "('right', (1, 1), 0.20842674629486557)\n",
      "('down', (2, 1), 0.5272301876340815)\n"
     ]
    }
   ],
   "source": [
    "problem=TransportationProblem(3,2)\n",
    "problem.random_populate()\n",
    "print(problem.grid)\n",
    "printSolution(dynamicProgramming(problem))"
   ]
  }
 ],
 "metadata": {
  "kernelspec": {
   "display_name": "Python 3",
   "language": "python",
   "name": "python3"
  },
  "language_info": {
   "codemirror_mode": {
    "name": "ipython",
    "version": 3
   },
   "file_extension": ".py",
   "mimetype": "text/x-python",
   "name": "python",
   "nbconvert_exporter": "python",
   "pygments_lexer": "ipython3",
   "version": "3.7.6"
  }
 },
 "nbformat": 4,
 "nbformat_minor": 4
}
