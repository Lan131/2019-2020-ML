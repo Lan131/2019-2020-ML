{
 "cells": [
  {
   "cell_type": "code",
   "execution_count": 13,
   "metadata": {},
   "outputs": [],
   "source": [
    "import tensorflow as tf\n",
    "from tensorflow.python.client import device_lib\n",
    "import keras\n",
    "import sys\n"
   ]
  },
  {
   "cell_type": "code",
   "execution_count": 5,
   "metadata": {},
   "outputs": [
    {
     "data": {
      "text/plain": [
       "[PhysicalDevice(name='/physical_device:GPU:0', device_type='GPU')]"
      ]
     },
     "execution_count": 5,
     "metadata": {},
     "output_type": "execute_result"
    }
   ],
   "source": [
    "tf.config.list_physical_devices('GPU')"
   ]
  },
  {
   "cell_type": "code",
   "execution_count": 10,
   "metadata": {},
   "outputs": [
    {
     "name": "stdout",
     "output_type": "stream",
     "text": [
      "GPU\n"
     ]
    }
   ],
   "source": [
    "device_name = [x.name for x in device_lib.list_local_devices() if x.device_type == 'GPU']\n",
    "if device_name[0] == \"/device:GPU:0\":\n",
    "    device_name = \"/gpu:0\"\n",
    "    print('GPU')\n",
    "else:\n",
    "    print('CPU')\n",
    "    device_name = \"/cpu:0\"\n",
    "\n",
    " "
   ]
  },
  {
   "cell_type": "code",
   "execution_count": 62,
   "metadata": {},
   "outputs": [],
   "source": [
    "def test(device_name):\n",
    "    try:\n",
    "        tf.clear_all_variables()\n",
    "        tf.reset_default_graph()\n",
    "    except:\n",
    "        pass\n",
    "    with tf.device(device_name):\n",
    "        a = tf.random.uniform(shape=[50,1000000], name='a')\n",
    "        b = tf.random.uniform( shape=[1000000,50], name='b')\n",
    "        c = tf.matmul(a, b)\n",
    "        return(c)\n"
   ]
  },
  {
   "cell_type": "code",
   "execution_count": 63,
   "metadata": {},
   "outputs": [
    {
     "data": {
      "text/plain": [
       "<tf.Tensor: shape=(50, 50), dtype=float32, numpy=\n",
       "array([[249532.72, 249901.05, 249811.  , ..., 249377.42, 249808.89,\n",
       "        249897.97],\n",
       "       [250085.03, 250372.97, 250125.06, ..., 249979.98, 250234.16,\n",
       "        250421.78],\n",
       "       [249694.72, 249999.81, 250033.16, ..., 249591.06, 249827.22,\n",
       "        249946.47],\n",
       "       ...,\n",
       "       [249938.53, 250138.34, 250088.83, ..., 249741.03, 249912.77,\n",
       "        250105.64],\n",
       "       [250073.73, 250097.  , 250013.69, ..., 249745.03, 250053.62,\n",
       "        250237.98],\n",
       "       [249821.16, 250047.03, 249950.08, ..., 249617.72, 249838.53,\n",
       "        250021.11]], dtype=float32)>"
      ]
     },
     "execution_count": 63,
     "metadata": {},
     "output_type": "execute_result"
    }
   ],
   "source": [
    "test('/gpu:0')"
   ]
  },
  {
   "cell_type": "code",
   "execution_count": 69,
   "metadata": {},
   "outputs": [
    {
     "name": "stdout",
     "output_type": "stream",
     "text": [
      "312 µs ± 82.7 µs per loop (mean ± std. dev. of 7 runs, 30 loops each)\n"
     ]
    }
   ],
   "source": [
    "%timeit -n 30 test('/gpu:0')"
   ]
  },
  {
   "cell_type": "code",
   "execution_count": 70,
   "metadata": {},
   "outputs": [
    {
     "name": "stdout",
     "output_type": "stream",
     "text": [
      "559 ms ± 44.2 ms per loop (mean ± std. dev. of 7 runs, 30 loops each)\n"
     ]
    }
   ],
   "source": [
    "%timeit -n 30 test('/cpu:0')"
   ]
  },
  {
   "cell_type": "code",
   "execution_count": 76,
   "metadata": {},
   "outputs": [
    {
     "data": {
      "text/plain": [
       "1791.666666666667"
      ]
     },
     "execution_count": 76,
     "metadata": {},
     "output_type": "execute_result"
    }
   ],
   "source": [
    "559e-3/312e-6"
   ]
  }
 ],
 "metadata": {
  "kernelspec": {
   "display_name": "Python 3",
   "language": "python",
   "name": "python3"
  },
  "language_info": {
   "codemirror_mode": {
    "name": "ipython",
    "version": 3
   },
   "file_extension": ".py",
   "mimetype": "text/x-python",
   "name": "python",
   "nbconvert_exporter": "python",
   "pygments_lexer": "ipython3",
   "version": "3.7.4"
  }
 },
 "nbformat": 4,
 "nbformat_minor": 2
}
