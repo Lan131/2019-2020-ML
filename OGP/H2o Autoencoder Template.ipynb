{
 "cells": [
  {
   "cell_type": "code",
   "execution_count": 1,
   "metadata": {},
   "outputs": [],
   "source": [
    "#!pip install https://github.com/pandas-profiling/pandas-profiling/archive/master.zip --user"
   ]
  },
  {
   "cell_type": "code",
   "execution_count": 83,
   "metadata": {},
   "outputs": [],
   "source": [
    "#!pip install tensorflow_probability "
   ]
  },
  {
   "cell_type": "code",
   "execution_count": null,
   "metadata": {},
   "outputs": [],
   "source": [
    "#data from https://www.kaggle.com/mlg-ulb/creditcardfraud"
   ]
  },
  {
   "cell_type": "code",
   "execution_count": 88,
   "metadata": {},
   "outputs": [],
   "source": [
    "import pandas as pd\n",
    "import h2o\n",
    "import pandas_profiling\n",
    "from pandas_profiling import ProfileReport\n",
    "from h2o.estimators.deeplearning import H2OAutoEncoderEstimator, H2ODeepLearningEstimator\n",
    "import matplotlib.pyplot as plt\n",
    "import tensorflow_probability as tfp\n",
    "import tensorflow as tf"
   ]
  },
  {
   "cell_type": "code",
   "execution_count": 3,
   "metadata": {},
   "outputs": [],
   "source": [
    "df=pd.read_csv(\"creditcard.csv\")"
   ]
  },
  {
   "cell_type": "code",
   "execution_count": 4,
   "metadata": {},
   "outputs": [
    {
     "data": {
      "application/vnd.jupyter.widget-view+json": {
       "model_id": "e66b79ee938446ee877bd66ace942899",
       "version_major": 2,
       "version_minor": 0
      },
      "text/plain": [
       "HBox(children=(FloatProgress(value=0.0, description='variables', max=31.0, style=ProgressStyle(description_wid…"
      ]
     },
     "metadata": {},
     "output_type": "display_data"
    },
    {
     "name": "stdout",
     "output_type": "stream",
     "text": [
      "\n"
     ]
    },
    {
     "data": {
      "application/vnd.jupyter.widget-view+json": {
       "model_id": "08146ccfacef4594bd4b679f0618a240",
       "version_major": 2,
       "version_minor": 0
      },
      "text/plain": [
       "HBox(children=(FloatProgress(value=0.0, description='correlations', max=6.0, style=ProgressStyle(description_w…"
      ]
     },
     "metadata": {},
     "output_type": "display_data"
    },
    {
     "name": "stdout",
     "output_type": "stream",
     "text": [
      "\n"
     ]
    },
    {
     "data": {
      "application/vnd.jupyter.widget-view+json": {
       "model_id": "77729674418941859aab508715041fb7",
       "version_major": 2,
       "version_minor": 0
      },
      "text/plain": [
       "HBox(children=(FloatProgress(value=0.0, description='interactions [continuous]', max=900.0, style=ProgressStyl…"
      ]
     },
     "metadata": {},
     "output_type": "display_data"
    },
    {
     "name": "stdout",
     "output_type": "stream",
     "text": [
      "\n"
     ]
    },
    {
     "data": {
      "application/vnd.jupyter.widget-view+json": {
       "model_id": "c7f114cdd3be4bf881ec144abe437848",
       "version_major": 2,
       "version_minor": 0
      },
      "text/plain": [
       "HBox(children=(FloatProgress(value=0.0, description='table', max=1.0, style=ProgressStyle(description_width='i…"
      ]
     },
     "metadata": {},
     "output_type": "display_data"
    },
    {
     "name": "stdout",
     "output_type": "stream",
     "text": [
      "\n"
     ]
    },
    {
     "data": {
      "application/vnd.jupyter.widget-view+json": {
       "model_id": "3254f504538f4893807327551cc80a78",
       "version_major": 2,
       "version_minor": 0
      },
      "text/plain": [
       "HBox(children=(FloatProgress(value=0.0, description='missing', max=2.0, style=ProgressStyle(description_width=…"
      ]
     },
     "metadata": {},
     "output_type": "display_data"
    },
    {
     "name": "stdout",
     "output_type": "stream",
     "text": [
      "\n"
     ]
    },
    {
     "data": {
      "application/vnd.jupyter.widget-view+json": {
       "model_id": "809a6c94c1224bdeba3a34949b2bae13",
       "version_major": 2,
       "version_minor": 0
      },
      "text/plain": [
       "HBox(children=(FloatProgress(value=0.0, description='warnings', max=3.0, style=ProgressStyle(description_width…"
      ]
     },
     "metadata": {},
     "output_type": "display_data"
    },
    {
     "name": "stdout",
     "output_type": "stream",
     "text": [
      "\n"
     ]
    },
    {
     "data": {
      "application/vnd.jupyter.widget-view+json": {
       "model_id": "3a3a2e2c501941e2b2474f868764d143",
       "version_major": 2,
       "version_minor": 0
      },
      "text/plain": [
       "HBox(children=(FloatProgress(value=0.0, description='package', max=1.0, style=ProgressStyle(description_width=…"
      ]
     },
     "metadata": {},
     "output_type": "display_data"
    },
    {
     "name": "stdout",
     "output_type": "stream",
     "text": [
      "\n"
     ]
    },
    {
     "data": {
      "application/vnd.jupyter.widget-view+json": {
       "model_id": "79d4e62d751b47a495ad25a0a61659ea",
       "version_major": 2,
       "version_minor": 0
      },
      "text/plain": [
       "HBox(children=(FloatProgress(value=0.0, description='build report structure', max=1.0, style=ProgressStyle(des…"
      ]
     },
     "metadata": {},
     "output_type": "display_data"
    },
    {
     "name": "stdout",
     "output_type": "stream",
     "text": [
      "\n"
     ]
    }
   ],
   "source": [
    "profile = ProfileReport(df, title='Pandas Profiling Report', html={'style':{'full_width':True}},plot ={'histogram':{'bayesian_blocks_bins': False}})"
   ]
  },
  {
   "cell_type": "code",
   "execution_count": 8,
   "metadata": {},
   "outputs": [],
   "source": [
    "profile.to_file(output_file=\"credit_report.html\")"
   ]
  },
  {
   "cell_type": "code",
   "execution_count": 5,
   "metadata": {
    "scrolled": false
   },
   "outputs": [
    {
     "name": "stdout",
     "output_type": "stream",
     "text": [
      "Checking whether there is an H2O instance running at http://localhost:54321 ..... not found.\n",
      "Attempting to start a local H2O server...\n",
      "; Java HotSpot(TM) 64-Bit Server VM (build 25.241-b07, mixed mode)\n",
      "  Starting server from C:\\Users\\Michael Lanier\\AppData\\Local\\Continuum\\anaconda3\\lib\\site-packages\\h2o\\backend\\bin\\h2o.jar\n",
      "  Ice root: C:\\Users\\MICHAE~1\\AppData\\Local\\Temp\\tmprmjmxccq\n",
      "  JVM stdout: C:\\Users\\MICHAE~1\\AppData\\Local\\Temp\\tmprmjmxccq\\h2o_Michael_Lanier_started_from_python.out\n",
      "  JVM stderr: C:\\Users\\MICHAE~1\\AppData\\Local\\Temp\\tmprmjmxccq\\h2o_Michael_Lanier_started_from_python.err\n",
      "  Server is running at http://127.0.0.1:54385\n",
      "Connecting to H2O server at http://127.0.0.1:54385 ... successful.\n"
     ]
    },
    {
     "data": {
      "text/html": [
       "<div style=\"overflow:auto\"><table style=\"width:50%\"><tr><td>H2O cluster uptime:</td>\n",
       "<td>02 secs</td></tr>\n",
       "<tr><td>H2O cluster timezone:</td>\n",
       "<td>America/Chicago</td></tr>\n",
       "<tr><td>H2O data parsing timezone:</td>\n",
       "<td>UTC</td></tr>\n",
       "<tr><td>H2O cluster version:</td>\n",
       "<td>3.28.0.3</td></tr>\n",
       "<tr><td>H2O cluster version age:</td>\n",
       "<td>26 days </td></tr>\n",
       "<tr><td>H2O cluster name:</td>\n",
       "<td>H2O_from_python_Michael_Lanier_v4vij9</td></tr>\n",
       "<tr><td>H2O cluster total nodes:</td>\n",
       "<td>1</td></tr>\n",
       "<tr><td>H2O cluster free memory:</td>\n",
       "<td>19.17 Gb</td></tr>\n",
       "<tr><td>H2O cluster total cores:</td>\n",
       "<td>12</td></tr>\n",
       "<tr><td>H2O cluster allowed cores:</td>\n",
       "<td>12</td></tr>\n",
       "<tr><td>H2O cluster status:</td>\n",
       "<td>accepting new members, healthy</td></tr>\n",
       "<tr><td>H2O connection url:</td>\n",
       "<td>http://127.0.0.1:54385</td></tr>\n",
       "<tr><td>H2O connection proxy:</td>\n",
       "<td>{'http': None, 'https': None}</td></tr>\n",
       "<tr><td>H2O internal security:</td>\n",
       "<td>False</td></tr>\n",
       "<tr><td>H2O API Extensions:</td>\n",
       "<td>Amazon S3, Algos, AutoML, Core V3, TargetEncoder, Core V4</td></tr>\n",
       "<tr><td>Python version:</td>\n",
       "<td>3.7.4 final</td></tr></table></div>"
      ],
      "text/plain": [
       "--------------------------  ---------------------------------------------------------\n",
       "H2O cluster uptime:         02 secs\n",
       "H2O cluster timezone:       America/Chicago\n",
       "H2O data parsing timezone:  UTC\n",
       "H2O cluster version:        3.28.0.3\n",
       "H2O cluster version age:    26 days\n",
       "H2O cluster name:           H2O_from_python_Michael_Lanier_v4vij9\n",
       "H2O cluster total nodes:    1\n",
       "H2O cluster free memory:    19.17 Gb\n",
       "H2O cluster total cores:    12\n",
       "H2O cluster allowed cores:  12\n",
       "H2O cluster status:         accepting new members, healthy\n",
       "H2O connection url:         http://127.0.0.1:54385\n",
       "H2O connection proxy:       {'http': None, 'https': None}\n",
       "H2O internal security:      False\n",
       "H2O API Extensions:         Amazon S3, Algos, AutoML, Core V3, TargetEncoder, Core V4\n",
       "Python version:             3.7.4 final\n",
       "--------------------------  ---------------------------------------------------------"
      ]
     },
     "metadata": {},
     "output_type": "display_data"
    }
   ],
   "source": [
    "h2o.init(min_mem_size='20G')"
   ]
  },
  {
   "cell_type": "code",
   "execution_count": 57,
   "metadata": {},
   "outputs": [
    {
     "name": "stdout",
     "output_type": "stream",
     "text": [
      "Parse progress: |█████████████████████████████████████████████████████████| 100%\n"
     ]
    }
   ],
   "source": [
    "data=h2o.import_file(\"creditcard.csv\")"
   ]
  },
  {
   "cell_type": "code",
   "execution_count": 7,
   "metadata": {},
   "outputs": [
    {
     "data": {
      "text/html": [
       "<table>\n",
       "<thead>\n",
       "<tr><th style=\"text-align: right;\">  Time</th><th style=\"text-align: right;\">       V1</th><th style=\"text-align: right;\">        V2</th><th style=\"text-align: right;\">        V3</th><th style=\"text-align: right;\">       V4</th><th style=\"text-align: right;\">        V5</th><th style=\"text-align: right;\">        V6</th><th style=\"text-align: right;\">       V7</th><th style=\"text-align: right;\">        V8</th><th style=\"text-align: right;\">       V9</th><th style=\"text-align: right;\">       V10</th><th style=\"text-align: right;\">      V11</th><th style=\"text-align: right;\">       V12</th><th style=\"text-align: right;\">      V13</th><th style=\"text-align: right;\">       V14</th><th style=\"text-align: right;\">       V15</th><th style=\"text-align: right;\">      V16</th><th style=\"text-align: right;\">        V17</th><th style=\"text-align: right;\">       V18</th><th style=\"text-align: right;\">       V19</th><th style=\"text-align: right;\">       V20</th><th style=\"text-align: right;\">       V21</th><th style=\"text-align: right;\">       V22</th><th style=\"text-align: right;\">       V23</th><th style=\"text-align: right;\">       V24</th><th style=\"text-align: right;\">      V25</th><th style=\"text-align: right;\">       V26</th><th style=\"text-align: right;\">       V27</th><th style=\"text-align: right;\">        V28</th><th style=\"text-align: right;\">  Amount</th><th style=\"text-align: right;\">  Class</th></tr>\n",
       "</thead>\n",
       "<tbody>\n",
       "<tr><td style=\"text-align: right;\">     0</td><td style=\"text-align: right;\">-1.35981 </td><td style=\"text-align: right;\">-0.0727812</td><td style=\"text-align: right;\"> 2.53635  </td><td style=\"text-align: right;\"> 1.37816 </td><td style=\"text-align: right;\">-0.338321 </td><td style=\"text-align: right;\"> 0.462388 </td><td style=\"text-align: right;\"> 0.239599</td><td style=\"text-align: right;\"> 0.0986979</td><td style=\"text-align: right;\"> 0.363787</td><td style=\"text-align: right;\"> 0.0907942</td><td style=\"text-align: right;\">-0.5516  </td><td style=\"text-align: right;\">-0.617801 </td><td style=\"text-align: right;\">-0.99139 </td><td style=\"text-align: right;\">-0.311169 </td><td style=\"text-align: right;\"> 1.46818  </td><td style=\"text-align: right;\">-0.470401</td><td style=\"text-align: right;\"> 0.207971  </td><td style=\"text-align: right;\"> 0.0257906</td><td style=\"text-align: right;\"> 0.403993 </td><td style=\"text-align: right;\"> 0.251412 </td><td style=\"text-align: right;\">-0.0183068</td><td style=\"text-align: right;\"> 0.277838 </td><td style=\"text-align: right;\">-0.110474 </td><td style=\"text-align: right;\"> 0.0669281</td><td style=\"text-align: right;\"> 0.128539</td><td style=\"text-align: right;\">-0.189115 </td><td style=\"text-align: right;\"> 0.133558 </td><td style=\"text-align: right;\">-0.0210531 </td><td style=\"text-align: right;\">  149.62</td><td style=\"text-align: right;\">      0</td></tr>\n",
       "<tr><td style=\"text-align: right;\">     0</td><td style=\"text-align: right;\"> 1.19186 </td><td style=\"text-align: right;\"> 0.266151 </td><td style=\"text-align: right;\"> 0.16648  </td><td style=\"text-align: right;\"> 0.448154</td><td style=\"text-align: right;\"> 0.0600176</td><td style=\"text-align: right;\">-0.0823608</td><td style=\"text-align: right;\">-0.078803</td><td style=\"text-align: right;\"> 0.0851017</td><td style=\"text-align: right;\">-0.255425</td><td style=\"text-align: right;\">-0.166974 </td><td style=\"text-align: right;\"> 1.61273 </td><td style=\"text-align: right;\"> 1.06524  </td><td style=\"text-align: right;\"> 0.489095</td><td style=\"text-align: right;\">-0.143772 </td><td style=\"text-align: right;\"> 0.635558 </td><td style=\"text-align: right;\"> 0.463917</td><td style=\"text-align: right;\">-0.114805  </td><td style=\"text-align: right;\">-0.183361 </td><td style=\"text-align: right;\">-0.145783 </td><td style=\"text-align: right;\">-0.0690831</td><td style=\"text-align: right;\">-0.225775 </td><td style=\"text-align: right;\">-0.638672 </td><td style=\"text-align: right;\"> 0.101288 </td><td style=\"text-align: right;\">-0.339846 </td><td style=\"text-align: right;\"> 0.16717 </td><td style=\"text-align: right;\"> 0.125895 </td><td style=\"text-align: right;\">-0.0089831</td><td style=\"text-align: right;\"> 0.0147242 </td><td style=\"text-align: right;\">    2.69</td><td style=\"text-align: right;\">      0</td></tr>\n",
       "<tr><td style=\"text-align: right;\">     1</td><td style=\"text-align: right;\">-1.35835 </td><td style=\"text-align: right;\">-1.34016  </td><td style=\"text-align: right;\"> 1.77321  </td><td style=\"text-align: right;\"> 0.37978 </td><td style=\"text-align: right;\">-0.503198 </td><td style=\"text-align: right;\"> 1.8005   </td><td style=\"text-align: right;\"> 0.791461</td><td style=\"text-align: right;\"> 0.247676 </td><td style=\"text-align: right;\">-1.51465 </td><td style=\"text-align: right;\"> 0.207643 </td><td style=\"text-align: right;\"> 0.624501</td><td style=\"text-align: right;\"> 0.0660837</td><td style=\"text-align: right;\"> 0.717293</td><td style=\"text-align: right;\">-0.165946 </td><td style=\"text-align: right;\"> 2.34586  </td><td style=\"text-align: right;\">-2.89008 </td><td style=\"text-align: right;\"> 1.10997   </td><td style=\"text-align: right;\">-0.121359 </td><td style=\"text-align: right;\">-2.26186  </td><td style=\"text-align: right;\"> 0.52498  </td><td style=\"text-align: right;\"> 0.247998 </td><td style=\"text-align: right;\"> 0.771679 </td><td style=\"text-align: right;\"> 0.909412 </td><td style=\"text-align: right;\">-0.689281 </td><td style=\"text-align: right;\">-0.327642</td><td style=\"text-align: right;\">-0.139097 </td><td style=\"text-align: right;\">-0.0553528</td><td style=\"text-align: right;\">-0.0597518 </td><td style=\"text-align: right;\">  378.66</td><td style=\"text-align: right;\">      0</td></tr>\n",
       "<tr><td style=\"text-align: right;\">     1</td><td style=\"text-align: right;\">-0.966272</td><td style=\"text-align: right;\">-0.185226 </td><td style=\"text-align: right;\"> 1.79299  </td><td style=\"text-align: right;\">-0.863291</td><td style=\"text-align: right;\">-0.0103089</td><td style=\"text-align: right;\"> 1.2472   </td><td style=\"text-align: right;\"> 0.237609</td><td style=\"text-align: right;\"> 0.377436 </td><td style=\"text-align: right;\">-1.38702 </td><td style=\"text-align: right;\">-0.0549519</td><td style=\"text-align: right;\">-0.226487</td><td style=\"text-align: right;\"> 0.178228 </td><td style=\"text-align: right;\"> 0.507757</td><td style=\"text-align: right;\">-0.287924 </td><td style=\"text-align: right;\">-0.631418 </td><td style=\"text-align: right;\">-1.05965 </td><td style=\"text-align: right;\">-0.684093  </td><td style=\"text-align: right;\"> 1.96578  </td><td style=\"text-align: right;\">-1.23262  </td><td style=\"text-align: right;\">-0.208038 </td><td style=\"text-align: right;\">-0.1083   </td><td style=\"text-align: right;\"> 0.0052736</td><td style=\"text-align: right;\">-0.190321 </td><td style=\"text-align: right;\">-1.17558  </td><td style=\"text-align: right;\"> 0.647376</td><td style=\"text-align: right;\">-0.221929 </td><td style=\"text-align: right;\"> 0.0627228</td><td style=\"text-align: right;\"> 0.0614576 </td><td style=\"text-align: right;\">  123.5 </td><td style=\"text-align: right;\">      0</td></tr>\n",
       "<tr><td style=\"text-align: right;\">     2</td><td style=\"text-align: right;\">-1.15823 </td><td style=\"text-align: right;\"> 0.877737 </td><td style=\"text-align: right;\"> 1.54872  </td><td style=\"text-align: right;\"> 0.403034</td><td style=\"text-align: right;\">-0.407193 </td><td style=\"text-align: right;\"> 0.0959215</td><td style=\"text-align: right;\"> 0.592941</td><td style=\"text-align: right;\">-0.270533 </td><td style=\"text-align: right;\"> 0.817739</td><td style=\"text-align: right;\"> 0.753074 </td><td style=\"text-align: right;\">-0.822843</td><td style=\"text-align: right;\"> 0.538196 </td><td style=\"text-align: right;\"> 1.34585 </td><td style=\"text-align: right;\">-1.11967  </td><td style=\"text-align: right;\"> 0.175121 </td><td style=\"text-align: right;\">-0.451449</td><td style=\"text-align: right;\">-0.237033  </td><td style=\"text-align: right;\">-0.0381948</td><td style=\"text-align: right;\"> 0.803487 </td><td style=\"text-align: right;\"> 0.408542 </td><td style=\"text-align: right;\">-0.0094307</td><td style=\"text-align: right;\"> 0.798278 </td><td style=\"text-align: right;\">-0.137458 </td><td style=\"text-align: right;\"> 0.141267 </td><td style=\"text-align: right;\">-0.20601 </td><td style=\"text-align: right;\"> 0.502292 </td><td style=\"text-align: right;\"> 0.219422 </td><td style=\"text-align: right;\"> 0.215153  </td><td style=\"text-align: right;\">   69.99</td><td style=\"text-align: right;\">      0</td></tr>\n",
       "<tr><td style=\"text-align: right;\">     2</td><td style=\"text-align: right;\">-0.425966</td><td style=\"text-align: right;\"> 0.960523 </td><td style=\"text-align: right;\"> 1.14111  </td><td style=\"text-align: right;\">-0.168252</td><td style=\"text-align: right;\"> 0.420987 </td><td style=\"text-align: right;\">-0.0297276</td><td style=\"text-align: right;\"> 0.476201</td><td style=\"text-align: right;\"> 0.260314 </td><td style=\"text-align: right;\">-0.568671</td><td style=\"text-align: right;\">-0.371407 </td><td style=\"text-align: right;\"> 1.34126 </td><td style=\"text-align: right;\"> 0.359894 </td><td style=\"text-align: right;\">-0.358091</td><td style=\"text-align: right;\">-0.137134 </td><td style=\"text-align: right;\"> 0.517617 </td><td style=\"text-align: right;\"> 0.401726</td><td style=\"text-align: right;\">-0.0581328 </td><td style=\"text-align: right;\"> 0.0686531</td><td style=\"text-align: right;\">-0.0331938</td><td style=\"text-align: right;\"> 0.0849677</td><td style=\"text-align: right;\">-0.208254 </td><td style=\"text-align: right;\">-0.559825 </td><td style=\"text-align: right;\">-0.0263977</td><td style=\"text-align: right;\">-0.371427 </td><td style=\"text-align: right;\">-0.232794</td><td style=\"text-align: right;\"> 0.105915 </td><td style=\"text-align: right;\"> 0.253844 </td><td style=\"text-align: right;\"> 0.0810803 </td><td style=\"text-align: right;\">    3.67</td><td style=\"text-align: right;\">      0</td></tr>\n",
       "<tr><td style=\"text-align: right;\">     4</td><td style=\"text-align: right;\"> 1.22966 </td><td style=\"text-align: right;\"> 0.141004 </td><td style=\"text-align: right;\"> 0.0453708</td><td style=\"text-align: right;\"> 1.20261 </td><td style=\"text-align: right;\"> 0.191881 </td><td style=\"text-align: right;\"> 0.272708 </td><td style=\"text-align: right;\">-0.005159</td><td style=\"text-align: right;\"> 0.0812129</td><td style=\"text-align: right;\"> 0.46496 </td><td style=\"text-align: right;\">-0.0992543</td><td style=\"text-align: right;\">-1.41691 </td><td style=\"text-align: right;\">-0.153826 </td><td style=\"text-align: right;\">-0.751063</td><td style=\"text-align: right;\"> 0.167372 </td><td style=\"text-align: right;\"> 0.0501436</td><td style=\"text-align: right;\">-0.443587</td><td style=\"text-align: right;\"> 0.00282051</td><td style=\"text-align: right;\">-0.611987 </td><td style=\"text-align: right;\">-0.045575 </td><td style=\"text-align: right;\">-0.219633 </td><td style=\"text-align: right;\">-0.167716 </td><td style=\"text-align: right;\">-0.27071  </td><td style=\"text-align: right;\">-0.154104 </td><td style=\"text-align: right;\">-0.780055 </td><td style=\"text-align: right;\"> 0.750137</td><td style=\"text-align: right;\">-0.257237 </td><td style=\"text-align: right;\"> 0.0345074</td><td style=\"text-align: right;\"> 0.00516777</td><td style=\"text-align: right;\">    4.99</td><td style=\"text-align: right;\">      0</td></tr>\n",
       "<tr><td style=\"text-align: right;\">     7</td><td style=\"text-align: right;\">-0.644269</td><td style=\"text-align: right;\"> 1.41796  </td><td style=\"text-align: right;\"> 1.07438  </td><td style=\"text-align: right;\">-0.492199</td><td style=\"text-align: right;\"> 0.948934 </td><td style=\"text-align: right;\"> 0.428118 </td><td style=\"text-align: right;\"> 1.12063 </td><td style=\"text-align: right;\">-3.80786  </td><td style=\"text-align: right;\"> 0.615375</td><td style=\"text-align: right;\"> 1.24938  </td><td style=\"text-align: right;\">-0.619468</td><td style=\"text-align: right;\"> 0.291474 </td><td style=\"text-align: right;\"> 1.75796 </td><td style=\"text-align: right;\">-1.32387  </td><td style=\"text-align: right;\"> 0.686133 </td><td style=\"text-align: right;\">-0.076127</td><td style=\"text-align: right;\">-1.22213   </td><td style=\"text-align: right;\">-0.358222 </td><td style=\"text-align: right;\"> 0.324505 </td><td style=\"text-align: right;\">-0.156742 </td><td style=\"text-align: right;\"> 1.94347  </td><td style=\"text-align: right;\">-1.01545  </td><td style=\"text-align: right;\"> 0.0575035</td><td style=\"text-align: right;\">-0.649709 </td><td style=\"text-align: right;\">-0.415267</td><td style=\"text-align: right;\">-0.0516343</td><td style=\"text-align: right;\">-1.20692  </td><td style=\"text-align: right;\">-1.08534   </td><td style=\"text-align: right;\">   40.8 </td><td style=\"text-align: right;\">      0</td></tr>\n",
       "<tr><td style=\"text-align: right;\">     7</td><td style=\"text-align: right;\">-0.894286</td><td style=\"text-align: right;\"> 0.286157 </td><td style=\"text-align: right;\">-0.113192 </td><td style=\"text-align: right;\">-0.271526</td><td style=\"text-align: right;\"> 2.6696   </td><td style=\"text-align: right;\"> 3.72182  </td><td style=\"text-align: right;\"> 0.370145</td><td style=\"text-align: right;\"> 0.851084 </td><td style=\"text-align: right;\">-0.392048</td><td style=\"text-align: right;\">-0.41043  </td><td style=\"text-align: right;\">-0.705117</td><td style=\"text-align: right;\">-0.110452 </td><td style=\"text-align: right;\">-0.286254</td><td style=\"text-align: right;\"> 0.0743554</td><td style=\"text-align: right;\">-0.328783 </td><td style=\"text-align: right;\">-0.210077</td><td style=\"text-align: right;\">-0.499768  </td><td style=\"text-align: right;\"> 0.118765 </td><td style=\"text-align: right;\"> 0.570328 </td><td style=\"text-align: right;\"> 0.0527357</td><td style=\"text-align: right;\">-0.0734251</td><td style=\"text-align: right;\">-0.268092 </td><td style=\"text-align: right;\">-0.204233 </td><td style=\"text-align: right;\"> 1.01159  </td><td style=\"text-align: right;\"> 0.373205</td><td style=\"text-align: right;\">-0.384157 </td><td style=\"text-align: right;\"> 0.0117474</td><td style=\"text-align: right;\"> 0.142404  </td><td style=\"text-align: right;\">   93.2 </td><td style=\"text-align: right;\">      0</td></tr>\n",
       "<tr><td style=\"text-align: right;\">     9</td><td style=\"text-align: right;\">-0.338262</td><td style=\"text-align: right;\"> 1.11959  </td><td style=\"text-align: right;\"> 1.04437  </td><td style=\"text-align: right;\">-0.222187</td><td style=\"text-align: right;\"> 0.499361 </td><td style=\"text-align: right;\">-0.246761 </td><td style=\"text-align: right;\"> 0.651583</td><td style=\"text-align: right;\"> 0.0695386</td><td style=\"text-align: right;\">-0.736727</td><td style=\"text-align: right;\">-0.366846 </td><td style=\"text-align: right;\"> 1.01761 </td><td style=\"text-align: right;\"> 0.83639  </td><td style=\"text-align: right;\"> 1.00684 </td><td style=\"text-align: right;\">-0.443523 </td><td style=\"text-align: right;\"> 0.150219 </td><td style=\"text-align: right;\"> 0.739453</td><td style=\"text-align: right;\">-0.54098   </td><td style=\"text-align: right;\"> 0.476677 </td><td style=\"text-align: right;\"> 0.451773 </td><td style=\"text-align: right;\"> 0.203711 </td><td style=\"text-align: right;\">-0.246914 </td><td style=\"text-align: right;\">-0.633753 </td><td style=\"text-align: right;\">-0.120794 </td><td style=\"text-align: right;\">-0.38505  </td><td style=\"text-align: right;\">-0.069733</td><td style=\"text-align: right;\"> 0.0941988</td><td style=\"text-align: right;\"> 0.246219 </td><td style=\"text-align: right;\"> 0.0830756 </td><td style=\"text-align: right;\">    3.68</td><td style=\"text-align: right;\">      0</td></tr>\n",
       "</tbody>\n",
       "</table>"
      ]
     },
     "metadata": {},
     "output_type": "display_data"
    },
    {
     "data": {
      "text/plain": []
     },
     "execution_count": 7,
     "metadata": {},
     "output_type": "execute_result"
    }
   ],
   "source": [
    "data"
   ]
  },
  {
   "cell_type": "code",
   "execution_count": 59,
   "metadata": {},
   "outputs": [],
   "source": [
    "x=data.columns\n",
    "C=data['Class']\n",
    "x.remove('Class')\n"
   ]
  },
  {
   "cell_type": "code",
   "execution_count": null,
   "metadata": {},
   "outputs": [],
   "source": []
  },
  {
   "cell_type": "code",
   "execution_count": 63,
   "metadata": {},
   "outputs": [
    {
     "name": "stdout",
     "output_type": "stream",
     "text": [
      "deeplearning Model Build progress: |██████████████████████████████████████| 100%\n"
     ]
    }
   ],
   "source": [
    "fraud_dl =H2OAutoEncoderEstimator(hidden = [1000], epochs = 10, activation='Tanh')\n",
    "\n",
    "\n",
    "\n",
    "fraud_anon = fraud_dl.train(x=x,training_frame=data)\n"
   ]
  },
  {
   "cell_type": "code",
   "execution_count": 67,
   "metadata": {
    "scrolled": true
   },
   "outputs": [
    {
     "name": "stdout",
     "output_type": "stream",
     "text": [
      "Model Details\n",
      "=============\n",
      "H2OAutoEncoderEstimator :  Deep Learning\n",
      "Model Key:  DeepLearning_model_python_1583250069682_2\n",
      "\n",
      "\n",
      "Status of Neuron Layers: auto-encoder, gaussian distribution, Quadratic loss, 61,030 weights/biases, 734.8 KB, 1,699,936 training samples, mini-batch size 1\n"
     ]
    },
    {
     "data": {
      "text/html": [
       "<div>\n",
       "<style scoped>\n",
       "    .dataframe tbody tr th:only-of-type {\n",
       "        vertical-align: middle;\n",
       "    }\n",
       "\n",
       "    .dataframe tbody tr th {\n",
       "        vertical-align: top;\n",
       "    }\n",
       "\n",
       "    .dataframe thead th {\n",
       "        text-align: right;\n",
       "    }\n",
       "</style>\n",
       "<table border=\"1\" class=\"dataframe\">\n",
       "  <thead>\n",
       "    <tr style=\"text-align: right;\">\n",
       "      <th></th>\n",
       "      <th></th>\n",
       "      <th>layer</th>\n",
       "      <th>units</th>\n",
       "      <th>type</th>\n",
       "      <th>dropout</th>\n",
       "      <th>l1</th>\n",
       "      <th>l2</th>\n",
       "      <th>mean_rate</th>\n",
       "      <th>rate_rms</th>\n",
       "      <th>momentum</th>\n",
       "      <th>mean_weight</th>\n",
       "      <th>weight_rms</th>\n",
       "      <th>mean_bias</th>\n",
       "      <th>bias_rms</th>\n",
       "    </tr>\n",
       "  </thead>\n",
       "  <tbody>\n",
       "    <tr>\n",
       "      <th>0</th>\n",
       "      <td></td>\n",
       "      <td>1</td>\n",
       "      <td>30</td>\n",
       "      <td>Input</td>\n",
       "      <td>0</td>\n",
       "      <td></td>\n",
       "      <td></td>\n",
       "      <td></td>\n",
       "      <td></td>\n",
       "      <td></td>\n",
       "      <td></td>\n",
       "      <td></td>\n",
       "      <td></td>\n",
       "      <td></td>\n",
       "    </tr>\n",
       "    <tr>\n",
       "      <th>1</th>\n",
       "      <td></td>\n",
       "      <td>2</td>\n",
       "      <td>1000</td>\n",
       "      <td>Tanh</td>\n",
       "      <td>0</td>\n",
       "      <td>0</td>\n",
       "      <td>0</td>\n",
       "      <td>1.00422</td>\n",
       "      <td>1.09713e-154</td>\n",
       "      <td>0</td>\n",
       "      <td>-0.000762186</td>\n",
       "      <td>0.0459603</td>\n",
       "      <td>0</td>\n",
       "      <td>1.09713e-154</td>\n",
       "    </tr>\n",
       "    <tr>\n",
       "      <th>2</th>\n",
       "      <td></td>\n",
       "      <td>3</td>\n",
       "      <td>30</td>\n",
       "      <td>Tanh</td>\n",
       "      <td></td>\n",
       "      <td>0</td>\n",
       "      <td>0</td>\n",
       "      <td>1.00422</td>\n",
       "      <td>1.09713e-154</td>\n",
       "      <td>0</td>\n",
       "      <td>0.000120143</td>\n",
       "      <td>0.0456203</td>\n",
       "      <td>0</td>\n",
       "      <td>1.09713e-154</td>\n",
       "    </tr>\n",
       "  </tbody>\n",
       "</table>\n",
       "</div>"
      ],
      "text/plain": [
       "     layer  units   type dropout l1 l2 mean_rate      rate_rms momentum  \\\n",
       "0        1     30  Input       0                                          \n",
       "1        2   1000   Tanh       0  0  0   1.00422  1.09713e-154        0   \n",
       "2        3     30   Tanh          0  0   1.00422  1.09713e-154        0   \n",
       "\n",
       "   mean_weight weight_rms mean_bias      bias_rms  \n",
       "0                                                  \n",
       "1 -0.000762186  0.0459603         0  1.09713e-154  \n",
       "2  0.000120143  0.0456203         0  1.09713e-154  "
      ]
     },
     "metadata": {},
     "output_type": "display_data"
    },
    {
     "name": "stdout",
     "output_type": "stream",
     "text": [
      "\n",
      "\n",
      "ModelMetricsAutoEncoder: deeplearning\n",
      "** Reported on train data. **\n",
      "\n",
      "MSE: 0.004527924608079176\n",
      "RMSE: 0.06728985516464704\n",
      "\n",
      "Scoring History: \n"
     ]
    },
    {
     "data": {
      "text/html": [
       "<div>\n",
       "<style scoped>\n",
       "    .dataframe tbody tr th:only-of-type {\n",
       "        vertical-align: middle;\n",
       "    }\n",
       "\n",
       "    .dataframe tbody tr th {\n",
       "        vertical-align: top;\n",
       "    }\n",
       "\n",
       "    .dataframe thead th {\n",
       "        text-align: right;\n",
       "    }\n",
       "</style>\n",
       "<table border=\"1\" class=\"dataframe\">\n",
       "  <thead>\n",
       "    <tr style=\"text-align: right;\">\n",
       "      <th></th>\n",
       "      <th></th>\n",
       "      <th>timestamp</th>\n",
       "      <th>duration</th>\n",
       "      <th>training_speed</th>\n",
       "      <th>epochs</th>\n",
       "      <th>iterations</th>\n",
       "      <th>samples</th>\n",
       "      <th>training_rmse</th>\n",
       "      <th>training_mse</th>\n",
       "    </tr>\n",
       "  </thead>\n",
       "  <tbody>\n",
       "    <tr>\n",
       "      <th>0</th>\n",
       "      <td></td>\n",
       "      <td>2020-03-03 10:05:44</td>\n",
       "      <td>0.258 sec</td>\n",
       "      <td>0.00000 obs/sec</td>\n",
       "      <td>0.000000</td>\n",
       "      <td>0</td>\n",
       "      <td>0.0</td>\n",
       "      <td>0.067290</td>\n",
       "      <td>0.004528</td>\n",
       "    </tr>\n",
       "    <tr>\n",
       "      <th>1</th>\n",
       "      <td></td>\n",
       "      <td>2020-03-03 10:05:58</td>\n",
       "      <td>14.093 sec</td>\n",
       "      <td>7287 obs/sec</td>\n",
       "      <td>0.350764</td>\n",
       "      <td>1</td>\n",
       "      <td>99900.0</td>\n",
       "      <td>0.977780</td>\n",
       "      <td>0.956054</td>\n",
       "    </tr>\n",
       "    <tr>\n",
       "      <th>2</th>\n",
       "      <td></td>\n",
       "      <td>2020-03-03 10:06:12</td>\n",
       "      <td>28.448 sec</td>\n",
       "      <td>7166 obs/sec</td>\n",
       "      <td>0.701837</td>\n",
       "      <td>2</td>\n",
       "      <td>199888.0</td>\n",
       "      <td>0.989903</td>\n",
       "      <td>0.979907</td>\n",
       "    </tr>\n",
       "    <tr>\n",
       "      <th>3</th>\n",
       "      <td></td>\n",
       "      <td>2020-03-03 10:06:27</td>\n",
       "      <td>43.083 sec</td>\n",
       "      <td>7076 obs/sec</td>\n",
       "      <td>1.053247</td>\n",
       "      <td>3</td>\n",
       "      <td>299972.0</td>\n",
       "      <td>0.973364</td>\n",
       "      <td>0.947438</td>\n",
       "    </tr>\n",
       "    <tr>\n",
       "      <th>4</th>\n",
       "      <td></td>\n",
       "      <td>2020-03-03 10:06:41</td>\n",
       "      <td>57.880 sec</td>\n",
       "      <td>7008 obs/sec</td>\n",
       "      <td>1.403782</td>\n",
       "      <td>4</td>\n",
       "      <td>399807.0</td>\n",
       "      <td>0.982142</td>\n",
       "      <td>0.964603</td>\n",
       "    </tr>\n",
       "    <tr>\n",
       "      <th>5</th>\n",
       "      <td></td>\n",
       "      <td>2020-03-03 10:06:56</td>\n",
       "      <td>1 min 12.822 sec</td>\n",
       "      <td>6960 obs/sec</td>\n",
       "      <td>1.756147</td>\n",
       "      <td>5</td>\n",
       "      <td>500163.0</td>\n",
       "      <td>0.972336</td>\n",
       "      <td>0.945437</td>\n",
       "    </tr>\n",
       "    <tr>\n",
       "      <th>6</th>\n",
       "      <td></td>\n",
       "      <td>2020-03-03 10:07:11</td>\n",
       "      <td>1 min 27.781 sec</td>\n",
       "      <td>6920 obs/sec</td>\n",
       "      <td>2.106216</td>\n",
       "      <td>6</td>\n",
       "      <td>599865.0</td>\n",
       "      <td>0.961172</td>\n",
       "      <td>0.923851</td>\n",
       "    </tr>\n",
       "    <tr>\n",
       "      <th>7</th>\n",
       "      <td></td>\n",
       "      <td>2020-03-03 10:07:26</td>\n",
       "      <td>1 min 42.906 sec</td>\n",
       "      <td>6883 obs/sec</td>\n",
       "      <td>2.457190</td>\n",
       "      <td>7</td>\n",
       "      <td>699825.0</td>\n",
       "      <td>0.973291</td>\n",
       "      <td>0.947295</td>\n",
       "    </tr>\n",
       "    <tr>\n",
       "      <th>8</th>\n",
       "      <td></td>\n",
       "      <td>2020-03-03 10:07:43</td>\n",
       "      <td>1 min 59.357 sec</td>\n",
       "      <td>6780 obs/sec</td>\n",
       "      <td>2.808744</td>\n",
       "      <td>8</td>\n",
       "      <td>799950.0</td>\n",
       "      <td>0.951564</td>\n",
       "      <td>0.905474</td>\n",
       "    </tr>\n",
       "    <tr>\n",
       "      <th>9</th>\n",
       "      <td></td>\n",
       "      <td>2020-03-03 10:07:58</td>\n",
       "      <td>2 min 14.535 sec</td>\n",
       "      <td>6766 obs/sec</td>\n",
       "      <td>3.160365</td>\n",
       "      <td>9</td>\n",
       "      <td>900094.0</td>\n",
       "      <td>0.949129</td>\n",
       "      <td>0.900845</td>\n",
       "    </tr>\n",
       "    <tr>\n",
       "      <th>10</th>\n",
       "      <td></td>\n",
       "      <td>2020-03-03 10:08:13</td>\n",
       "      <td>2 min 29.329 sec</td>\n",
       "      <td>6773 obs/sec</td>\n",
       "      <td>3.512122</td>\n",
       "      <td>10</td>\n",
       "      <td>1000277.0</td>\n",
       "      <td>0.973695</td>\n",
       "      <td>0.948081</td>\n",
       "    </tr>\n",
       "    <tr>\n",
       "      <th>11</th>\n",
       "      <td></td>\n",
       "      <td>2020-03-03 10:08:28</td>\n",
       "      <td>2 min 44.178 sec</td>\n",
       "      <td>6777 obs/sec</td>\n",
       "      <td>3.863701</td>\n",
       "      <td>11</td>\n",
       "      <td>1100409.0</td>\n",
       "      <td>0.929887</td>\n",
       "      <td>0.864689</td>\n",
       "    </tr>\n",
       "    <tr>\n",
       "      <th>12</th>\n",
       "      <td></td>\n",
       "      <td>2020-03-03 10:08:43</td>\n",
       "      <td>2 min 59.150 sec</td>\n",
       "      <td>6773 obs/sec</td>\n",
       "      <td>4.214264</td>\n",
       "      <td>12</td>\n",
       "      <td>1200252.0</td>\n",
       "      <td>0.972175</td>\n",
       "      <td>0.945123</td>\n",
       "    </tr>\n",
       "    <tr>\n",
       "      <th>13</th>\n",
       "      <td></td>\n",
       "      <td>2020-03-03 10:08:58</td>\n",
       "      <td>3 min 13.964 sec</td>\n",
       "      <td>6776 obs/sec</td>\n",
       "      <td>4.565271</td>\n",
       "      <td>13</td>\n",
       "      <td>1300221.0</td>\n",
       "      <td>0.977716</td>\n",
       "      <td>0.955929</td>\n",
       "    </tr>\n",
       "    <tr>\n",
       "      <th>14</th>\n",
       "      <td></td>\n",
       "      <td>2020-03-03 10:09:13</td>\n",
       "      <td>3 min 29.035 sec</td>\n",
       "      <td>6770 obs/sec</td>\n",
       "      <td>4.916786</td>\n",
       "      <td>14</td>\n",
       "      <td>1400335.0</td>\n",
       "      <td>0.954356</td>\n",
       "      <td>0.910796</td>\n",
       "    </tr>\n",
       "    <tr>\n",
       "      <th>15</th>\n",
       "      <td></td>\n",
       "      <td>2020-03-03 10:09:28</td>\n",
       "      <td>3 min 44.105 sec</td>\n",
       "      <td>6765 obs/sec</td>\n",
       "      <td>5.267234</td>\n",
       "      <td>15</td>\n",
       "      <td>1500145.0</td>\n",
       "      <td>0.968476</td>\n",
       "      <td>0.937946</td>\n",
       "    </tr>\n",
       "    <tr>\n",
       "      <th>16</th>\n",
       "      <td></td>\n",
       "      <td>2020-03-03 10:09:43</td>\n",
       "      <td>3 min 59.333 sec</td>\n",
       "      <td>6754 obs/sec</td>\n",
       "      <td>5.617397</td>\n",
       "      <td>16</td>\n",
       "      <td>1599874.0</td>\n",
       "      <td>0.969463</td>\n",
       "      <td>0.939859</td>\n",
       "    </tr>\n",
       "    <tr>\n",
       "      <th>17</th>\n",
       "      <td></td>\n",
       "      <td>2020-03-03 10:09:58</td>\n",
       "      <td>4 min 14.417 sec</td>\n",
       "      <td>6751 obs/sec</td>\n",
       "      <td>5.968730</td>\n",
       "      <td>17</td>\n",
       "      <td>1699936.0</td>\n",
       "      <td>0.966717</td>\n",
       "      <td>0.934541</td>\n",
       "    </tr>\n",
       "    <tr>\n",
       "      <th>18</th>\n",
       "      <td></td>\n",
       "      <td>2020-03-03 10:09:58</td>\n",
       "      <td>4 min 14.562 sec</td>\n",
       "      <td>6751 obs/sec</td>\n",
       "      <td>5.968730</td>\n",
       "      <td>17</td>\n",
       "      <td>1699936.0</td>\n",
       "      <td>0.067290</td>\n",
       "      <td>0.004528</td>\n",
       "    </tr>\n",
       "  </tbody>\n",
       "</table>\n",
       "</div>"
      ],
      "text/plain": [
       "                timestamp           duration   training_speed    epochs  \\\n",
       "0     2020-03-03 10:05:44          0.258 sec  0.00000 obs/sec  0.000000   \n",
       "1     2020-03-03 10:05:58         14.093 sec     7287 obs/sec  0.350764   \n",
       "2     2020-03-03 10:06:12         28.448 sec     7166 obs/sec  0.701837   \n",
       "3     2020-03-03 10:06:27         43.083 sec     7076 obs/sec  1.053247   \n",
       "4     2020-03-03 10:06:41         57.880 sec     7008 obs/sec  1.403782   \n",
       "5     2020-03-03 10:06:56   1 min 12.822 sec     6960 obs/sec  1.756147   \n",
       "6     2020-03-03 10:07:11   1 min 27.781 sec     6920 obs/sec  2.106216   \n",
       "7     2020-03-03 10:07:26   1 min 42.906 sec     6883 obs/sec  2.457190   \n",
       "8     2020-03-03 10:07:43   1 min 59.357 sec     6780 obs/sec  2.808744   \n",
       "9     2020-03-03 10:07:58   2 min 14.535 sec     6766 obs/sec  3.160365   \n",
       "10    2020-03-03 10:08:13   2 min 29.329 sec     6773 obs/sec  3.512122   \n",
       "11    2020-03-03 10:08:28   2 min 44.178 sec     6777 obs/sec  3.863701   \n",
       "12    2020-03-03 10:08:43   2 min 59.150 sec     6773 obs/sec  4.214264   \n",
       "13    2020-03-03 10:08:58   3 min 13.964 sec     6776 obs/sec  4.565271   \n",
       "14    2020-03-03 10:09:13   3 min 29.035 sec     6770 obs/sec  4.916786   \n",
       "15    2020-03-03 10:09:28   3 min 44.105 sec     6765 obs/sec  5.267234   \n",
       "16    2020-03-03 10:09:43   3 min 59.333 sec     6754 obs/sec  5.617397   \n",
       "17    2020-03-03 10:09:58   4 min 14.417 sec     6751 obs/sec  5.968730   \n",
       "18    2020-03-03 10:09:58   4 min 14.562 sec     6751 obs/sec  5.968730   \n",
       "\n",
       "    iterations    samples  training_rmse  training_mse  \n",
       "0            0        0.0       0.067290      0.004528  \n",
       "1            1    99900.0       0.977780      0.956054  \n",
       "2            2   199888.0       0.989903      0.979907  \n",
       "3            3   299972.0       0.973364      0.947438  \n",
       "4            4   399807.0       0.982142      0.964603  \n",
       "5            5   500163.0       0.972336      0.945437  \n",
       "6            6   599865.0       0.961172      0.923851  \n",
       "7            7   699825.0       0.973291      0.947295  \n",
       "8            8   799950.0       0.951564      0.905474  \n",
       "9            9   900094.0       0.949129      0.900845  \n",
       "10          10  1000277.0       0.973695      0.948081  \n",
       "11          11  1100409.0       0.929887      0.864689  \n",
       "12          12  1200252.0       0.972175      0.945123  \n",
       "13          13  1300221.0       0.977716      0.955929  \n",
       "14          14  1400335.0       0.954356      0.910796  \n",
       "15          15  1500145.0       0.968476      0.937946  \n",
       "16          16  1599874.0       0.969463      0.939859  \n",
       "17          17  1699936.0       0.966717      0.934541  \n",
       "18          17  1699936.0       0.067290      0.004528  "
      ]
     },
     "metadata": {},
     "output_type": "display_data"
    },
    {
     "name": "stdout",
     "output_type": "stream",
     "text": [
      "\n",
      "Variable Importances: \n"
     ]
    },
    {
     "data": {
      "text/html": [
       "<div>\n",
       "<style scoped>\n",
       "    .dataframe tbody tr th:only-of-type {\n",
       "        vertical-align: middle;\n",
       "    }\n",
       "\n",
       "    .dataframe tbody tr th {\n",
       "        vertical-align: top;\n",
       "    }\n",
       "\n",
       "    .dataframe thead th {\n",
       "        text-align: right;\n",
       "    }\n",
       "</style>\n",
       "<table border=\"1\" class=\"dataframe\">\n",
       "  <thead>\n",
       "    <tr style=\"text-align: right;\">\n",
       "      <th></th>\n",
       "      <th>variable</th>\n",
       "      <th>relative_importance</th>\n",
       "      <th>scaled_importance</th>\n",
       "      <th>percentage</th>\n",
       "    </tr>\n",
       "  </thead>\n",
       "  <tbody>\n",
       "    <tr>\n",
       "      <th>0</th>\n",
       "      <td>V6</td>\n",
       "      <td>1.000000</td>\n",
       "      <td>1.000000</td>\n",
       "      <td>0.034408</td>\n",
       "    </tr>\n",
       "    <tr>\n",
       "      <th>1</th>\n",
       "      <td>V13</td>\n",
       "      <td>0.997742</td>\n",
       "      <td>0.997742</td>\n",
       "      <td>0.034331</td>\n",
       "    </tr>\n",
       "    <tr>\n",
       "      <th>2</th>\n",
       "      <td>V27</td>\n",
       "      <td>0.993157</td>\n",
       "      <td>0.993157</td>\n",
       "      <td>0.034173</td>\n",
       "    </tr>\n",
       "    <tr>\n",
       "      <th>3</th>\n",
       "      <td>V14</td>\n",
       "      <td>0.992173</td>\n",
       "      <td>0.992173</td>\n",
       "      <td>0.034139</td>\n",
       "    </tr>\n",
       "    <tr>\n",
       "      <th>4</th>\n",
       "      <td>V3</td>\n",
       "      <td>0.989579</td>\n",
       "      <td>0.989579</td>\n",
       "      <td>0.034050</td>\n",
       "    </tr>\n",
       "    <tr>\n",
       "      <th>5</th>\n",
       "      <td>V9</td>\n",
       "      <td>0.989454</td>\n",
       "      <td>0.989454</td>\n",
       "      <td>0.034046</td>\n",
       "    </tr>\n",
       "    <tr>\n",
       "      <th>6</th>\n",
       "      <td>V10</td>\n",
       "      <td>0.988023</td>\n",
       "      <td>0.988023</td>\n",
       "      <td>0.033996</td>\n",
       "    </tr>\n",
       "    <tr>\n",
       "      <th>7</th>\n",
       "      <td>V21</td>\n",
       "      <td>0.980691</td>\n",
       "      <td>0.980691</td>\n",
       "      <td>0.033744</td>\n",
       "    </tr>\n",
       "    <tr>\n",
       "      <th>8</th>\n",
       "      <td>V2</td>\n",
       "      <td>0.980650</td>\n",
       "      <td>0.980650</td>\n",
       "      <td>0.033743</td>\n",
       "    </tr>\n",
       "    <tr>\n",
       "      <th>9</th>\n",
       "      <td>V26</td>\n",
       "      <td>0.976468</td>\n",
       "      <td>0.976468</td>\n",
       "      <td>0.033599</td>\n",
       "    </tr>\n",
       "    <tr>\n",
       "      <th>10</th>\n",
       "      <td>V15</td>\n",
       "      <td>0.976222</td>\n",
       "      <td>0.976222</td>\n",
       "      <td>0.033590</td>\n",
       "    </tr>\n",
       "    <tr>\n",
       "      <th>11</th>\n",
       "      <td>V4</td>\n",
       "      <td>0.970755</td>\n",
       "      <td>0.970755</td>\n",
       "      <td>0.033402</td>\n",
       "    </tr>\n",
       "    <tr>\n",
       "      <th>12</th>\n",
       "      <td>V8</td>\n",
       "      <td>0.970564</td>\n",
       "      <td>0.970564</td>\n",
       "      <td>0.033396</td>\n",
       "    </tr>\n",
       "    <tr>\n",
       "      <th>13</th>\n",
       "      <td>V23</td>\n",
       "      <td>0.970495</td>\n",
       "      <td>0.970495</td>\n",
       "      <td>0.033393</td>\n",
       "    </tr>\n",
       "    <tr>\n",
       "      <th>14</th>\n",
       "      <td>V28</td>\n",
       "      <td>0.965997</td>\n",
       "      <td>0.965997</td>\n",
       "      <td>0.033238</td>\n",
       "    </tr>\n",
       "    <tr>\n",
       "      <th>15</th>\n",
       "      <td>V22</td>\n",
       "      <td>0.965918</td>\n",
       "      <td>0.965918</td>\n",
       "      <td>0.033236</td>\n",
       "    </tr>\n",
       "    <tr>\n",
       "      <th>16</th>\n",
       "      <td>V12</td>\n",
       "      <td>0.963339</td>\n",
       "      <td>0.963339</td>\n",
       "      <td>0.033147</td>\n",
       "    </tr>\n",
       "    <tr>\n",
       "      <th>17</th>\n",
       "      <td>V7</td>\n",
       "      <td>0.963327</td>\n",
       "      <td>0.963327</td>\n",
       "      <td>0.033147</td>\n",
       "    </tr>\n",
       "    <tr>\n",
       "      <th>18</th>\n",
       "      <td>V17</td>\n",
       "      <td>0.963250</td>\n",
       "      <td>0.963250</td>\n",
       "      <td>0.033144</td>\n",
       "    </tr>\n",
       "    <tr>\n",
       "      <th>19</th>\n",
       "      <td>V24</td>\n",
       "      <td>0.961314</td>\n",
       "      <td>0.961314</td>\n",
       "      <td>0.033077</td>\n",
       "    </tr>\n",
       "  </tbody>\n",
       "</table>\n",
       "</div>"
      ],
      "text/plain": [
       "   variable  relative_importance  scaled_importance  percentage\n",
       "0        V6             1.000000           1.000000    0.034408\n",
       "1       V13             0.997742           0.997742    0.034331\n",
       "2       V27             0.993157           0.993157    0.034173\n",
       "3       V14             0.992173           0.992173    0.034139\n",
       "4        V3             0.989579           0.989579    0.034050\n",
       "5        V9             0.989454           0.989454    0.034046\n",
       "6       V10             0.988023           0.988023    0.033996\n",
       "7       V21             0.980691           0.980691    0.033744\n",
       "8        V2             0.980650           0.980650    0.033743\n",
       "9       V26             0.976468           0.976468    0.033599\n",
       "10      V15             0.976222           0.976222    0.033590\n",
       "11       V4             0.970755           0.970755    0.033402\n",
       "12       V8             0.970564           0.970564    0.033396\n",
       "13      V23             0.970495           0.970495    0.033393\n",
       "14      V28             0.965997           0.965997    0.033238\n",
       "15      V22             0.965918           0.965918    0.033236\n",
       "16      V12             0.963339           0.963339    0.033147\n",
       "17       V7             0.963327           0.963327    0.033147\n",
       "18      V17             0.963250           0.963250    0.033144\n",
       "19      V24             0.961314           0.961314    0.033077"
      ]
     },
     "metadata": {},
     "output_type": "display_data"
    },
    {
     "name": "stdout",
     "output_type": "stream",
     "text": [
      "\n",
      "See the whole table with table.as_data_frame()\n"
     ]
    },
    {
     "data": {
      "text/plain": []
     },
     "execution_count": 67,
     "metadata": {},
     "output_type": "execute_result"
    }
   ],
   "source": [
    "fraud_dl"
   ]
  },
  {
   "cell_type": "code",
   "execution_count": 70,
   "metadata": {},
   "outputs": [
    {
     "data": {
      "text/html": [
       "<div>\n",
       "<style scoped>\n",
       "    .dataframe tbody tr th:only-of-type {\n",
       "        vertical-align: middle;\n",
       "    }\n",
       "\n",
       "    .dataframe tbody tr th {\n",
       "        vertical-align: top;\n",
       "    }\n",
       "\n",
       "    .dataframe thead th {\n",
       "        text-align: right;\n",
       "    }\n",
       "</style>\n",
       "<table border=\"1\" class=\"dataframe\">\n",
       "  <thead>\n",
       "    <tr style=\"text-align: right;\">\n",
       "      <th></th>\n",
       "      <th></th>\n",
       "      <th>timestamp</th>\n",
       "      <th>duration</th>\n",
       "      <th>training_speed</th>\n",
       "      <th>epochs</th>\n",
       "      <th>iterations</th>\n",
       "      <th>samples</th>\n",
       "      <th>training_rmse</th>\n",
       "      <th>training_mse</th>\n",
       "    </tr>\n",
       "  </thead>\n",
       "  <tbody>\n",
       "    <tr>\n",
       "      <th>0</th>\n",
       "      <td></td>\n",
       "      <td>2020-03-03 10:05:44</td>\n",
       "      <td>0.258 sec</td>\n",
       "      <td>0.00000 obs/sec</td>\n",
       "      <td>0.000000</td>\n",
       "      <td>0</td>\n",
       "      <td>0.0</td>\n",
       "      <td>0.067290</td>\n",
       "      <td>0.004528</td>\n",
       "    </tr>\n",
       "    <tr>\n",
       "      <th>1</th>\n",
       "      <td></td>\n",
       "      <td>2020-03-03 10:05:58</td>\n",
       "      <td>14.093 sec</td>\n",
       "      <td>7287 obs/sec</td>\n",
       "      <td>0.350764</td>\n",
       "      <td>1</td>\n",
       "      <td>99900.0</td>\n",
       "      <td>0.977780</td>\n",
       "      <td>0.956054</td>\n",
       "    </tr>\n",
       "    <tr>\n",
       "      <th>2</th>\n",
       "      <td></td>\n",
       "      <td>2020-03-03 10:06:12</td>\n",
       "      <td>28.448 sec</td>\n",
       "      <td>7166 obs/sec</td>\n",
       "      <td>0.701837</td>\n",
       "      <td>2</td>\n",
       "      <td>199888.0</td>\n",
       "      <td>0.989903</td>\n",
       "      <td>0.979907</td>\n",
       "    </tr>\n",
       "    <tr>\n",
       "      <th>3</th>\n",
       "      <td></td>\n",
       "      <td>2020-03-03 10:06:27</td>\n",
       "      <td>43.083 sec</td>\n",
       "      <td>7076 obs/sec</td>\n",
       "      <td>1.053247</td>\n",
       "      <td>3</td>\n",
       "      <td>299972.0</td>\n",
       "      <td>0.973364</td>\n",
       "      <td>0.947438</td>\n",
       "    </tr>\n",
       "    <tr>\n",
       "      <th>4</th>\n",
       "      <td></td>\n",
       "      <td>2020-03-03 10:06:41</td>\n",
       "      <td>57.880 sec</td>\n",
       "      <td>7008 obs/sec</td>\n",
       "      <td>1.403782</td>\n",
       "      <td>4</td>\n",
       "      <td>399807.0</td>\n",
       "      <td>0.982142</td>\n",
       "      <td>0.964603</td>\n",
       "    </tr>\n",
       "    <tr>\n",
       "      <th>5</th>\n",
       "      <td></td>\n",
       "      <td>2020-03-03 10:06:56</td>\n",
       "      <td>1 min 12.822 sec</td>\n",
       "      <td>6960 obs/sec</td>\n",
       "      <td>1.756147</td>\n",
       "      <td>5</td>\n",
       "      <td>500163.0</td>\n",
       "      <td>0.972336</td>\n",
       "      <td>0.945437</td>\n",
       "    </tr>\n",
       "    <tr>\n",
       "      <th>6</th>\n",
       "      <td></td>\n",
       "      <td>2020-03-03 10:07:11</td>\n",
       "      <td>1 min 27.781 sec</td>\n",
       "      <td>6920 obs/sec</td>\n",
       "      <td>2.106216</td>\n",
       "      <td>6</td>\n",
       "      <td>599865.0</td>\n",
       "      <td>0.961172</td>\n",
       "      <td>0.923851</td>\n",
       "    </tr>\n",
       "    <tr>\n",
       "      <th>7</th>\n",
       "      <td></td>\n",
       "      <td>2020-03-03 10:07:26</td>\n",
       "      <td>1 min 42.906 sec</td>\n",
       "      <td>6883 obs/sec</td>\n",
       "      <td>2.457190</td>\n",
       "      <td>7</td>\n",
       "      <td>699825.0</td>\n",
       "      <td>0.973291</td>\n",
       "      <td>0.947295</td>\n",
       "    </tr>\n",
       "    <tr>\n",
       "      <th>8</th>\n",
       "      <td></td>\n",
       "      <td>2020-03-03 10:07:43</td>\n",
       "      <td>1 min 59.357 sec</td>\n",
       "      <td>6780 obs/sec</td>\n",
       "      <td>2.808744</td>\n",
       "      <td>8</td>\n",
       "      <td>799950.0</td>\n",
       "      <td>0.951564</td>\n",
       "      <td>0.905474</td>\n",
       "    </tr>\n",
       "    <tr>\n",
       "      <th>9</th>\n",
       "      <td></td>\n",
       "      <td>2020-03-03 10:07:58</td>\n",
       "      <td>2 min 14.535 sec</td>\n",
       "      <td>6766 obs/sec</td>\n",
       "      <td>3.160365</td>\n",
       "      <td>9</td>\n",
       "      <td>900094.0</td>\n",
       "      <td>0.949129</td>\n",
       "      <td>0.900845</td>\n",
       "    </tr>\n",
       "    <tr>\n",
       "      <th>10</th>\n",
       "      <td></td>\n",
       "      <td>2020-03-03 10:08:13</td>\n",
       "      <td>2 min 29.329 sec</td>\n",
       "      <td>6773 obs/sec</td>\n",
       "      <td>3.512122</td>\n",
       "      <td>10</td>\n",
       "      <td>1000277.0</td>\n",
       "      <td>0.973695</td>\n",
       "      <td>0.948081</td>\n",
       "    </tr>\n",
       "    <tr>\n",
       "      <th>11</th>\n",
       "      <td></td>\n",
       "      <td>2020-03-03 10:08:28</td>\n",
       "      <td>2 min 44.178 sec</td>\n",
       "      <td>6777 obs/sec</td>\n",
       "      <td>3.863701</td>\n",
       "      <td>11</td>\n",
       "      <td>1100409.0</td>\n",
       "      <td>0.929887</td>\n",
       "      <td>0.864689</td>\n",
       "    </tr>\n",
       "    <tr>\n",
       "      <th>12</th>\n",
       "      <td></td>\n",
       "      <td>2020-03-03 10:08:43</td>\n",
       "      <td>2 min 59.150 sec</td>\n",
       "      <td>6773 obs/sec</td>\n",
       "      <td>4.214264</td>\n",
       "      <td>12</td>\n",
       "      <td>1200252.0</td>\n",
       "      <td>0.972175</td>\n",
       "      <td>0.945123</td>\n",
       "    </tr>\n",
       "    <tr>\n",
       "      <th>13</th>\n",
       "      <td></td>\n",
       "      <td>2020-03-03 10:08:58</td>\n",
       "      <td>3 min 13.964 sec</td>\n",
       "      <td>6776 obs/sec</td>\n",
       "      <td>4.565271</td>\n",
       "      <td>13</td>\n",
       "      <td>1300221.0</td>\n",
       "      <td>0.977716</td>\n",
       "      <td>0.955929</td>\n",
       "    </tr>\n",
       "    <tr>\n",
       "      <th>14</th>\n",
       "      <td></td>\n",
       "      <td>2020-03-03 10:09:13</td>\n",
       "      <td>3 min 29.035 sec</td>\n",
       "      <td>6770 obs/sec</td>\n",
       "      <td>4.916786</td>\n",
       "      <td>14</td>\n",
       "      <td>1400335.0</td>\n",
       "      <td>0.954356</td>\n",
       "      <td>0.910796</td>\n",
       "    </tr>\n",
       "    <tr>\n",
       "      <th>15</th>\n",
       "      <td></td>\n",
       "      <td>2020-03-03 10:09:28</td>\n",
       "      <td>3 min 44.105 sec</td>\n",
       "      <td>6765 obs/sec</td>\n",
       "      <td>5.267234</td>\n",
       "      <td>15</td>\n",
       "      <td>1500145.0</td>\n",
       "      <td>0.968476</td>\n",
       "      <td>0.937946</td>\n",
       "    </tr>\n",
       "    <tr>\n",
       "      <th>16</th>\n",
       "      <td></td>\n",
       "      <td>2020-03-03 10:09:43</td>\n",
       "      <td>3 min 59.333 sec</td>\n",
       "      <td>6754 obs/sec</td>\n",
       "      <td>5.617397</td>\n",
       "      <td>16</td>\n",
       "      <td>1599874.0</td>\n",
       "      <td>0.969463</td>\n",
       "      <td>0.939859</td>\n",
       "    </tr>\n",
       "    <tr>\n",
       "      <th>17</th>\n",
       "      <td></td>\n",
       "      <td>2020-03-03 10:09:58</td>\n",
       "      <td>4 min 14.417 sec</td>\n",
       "      <td>6751 obs/sec</td>\n",
       "      <td>5.968730</td>\n",
       "      <td>17</td>\n",
       "      <td>1699936.0</td>\n",
       "      <td>0.966717</td>\n",
       "      <td>0.934541</td>\n",
       "    </tr>\n",
       "    <tr>\n",
       "      <th>18</th>\n",
       "      <td></td>\n",
       "      <td>2020-03-03 10:09:58</td>\n",
       "      <td>4 min 14.562 sec</td>\n",
       "      <td>6751 obs/sec</td>\n",
       "      <td>5.968730</td>\n",
       "      <td>17</td>\n",
       "      <td>1699936.0</td>\n",
       "      <td>0.067290</td>\n",
       "      <td>0.004528</td>\n",
       "    </tr>\n",
       "  </tbody>\n",
       "</table>\n",
       "</div>"
      ],
      "text/plain": [
       "                timestamp           duration   training_speed    epochs  \\\n",
       "0     2020-03-03 10:05:44          0.258 sec  0.00000 obs/sec  0.000000   \n",
       "1     2020-03-03 10:05:58         14.093 sec     7287 obs/sec  0.350764   \n",
       "2     2020-03-03 10:06:12         28.448 sec     7166 obs/sec  0.701837   \n",
       "3     2020-03-03 10:06:27         43.083 sec     7076 obs/sec  1.053247   \n",
       "4     2020-03-03 10:06:41         57.880 sec     7008 obs/sec  1.403782   \n",
       "5     2020-03-03 10:06:56   1 min 12.822 sec     6960 obs/sec  1.756147   \n",
       "6     2020-03-03 10:07:11   1 min 27.781 sec     6920 obs/sec  2.106216   \n",
       "7     2020-03-03 10:07:26   1 min 42.906 sec     6883 obs/sec  2.457190   \n",
       "8     2020-03-03 10:07:43   1 min 59.357 sec     6780 obs/sec  2.808744   \n",
       "9     2020-03-03 10:07:58   2 min 14.535 sec     6766 obs/sec  3.160365   \n",
       "10    2020-03-03 10:08:13   2 min 29.329 sec     6773 obs/sec  3.512122   \n",
       "11    2020-03-03 10:08:28   2 min 44.178 sec     6777 obs/sec  3.863701   \n",
       "12    2020-03-03 10:08:43   2 min 59.150 sec     6773 obs/sec  4.214264   \n",
       "13    2020-03-03 10:08:58   3 min 13.964 sec     6776 obs/sec  4.565271   \n",
       "14    2020-03-03 10:09:13   3 min 29.035 sec     6770 obs/sec  4.916786   \n",
       "15    2020-03-03 10:09:28   3 min 44.105 sec     6765 obs/sec  5.267234   \n",
       "16    2020-03-03 10:09:43   3 min 59.333 sec     6754 obs/sec  5.617397   \n",
       "17    2020-03-03 10:09:58   4 min 14.417 sec     6751 obs/sec  5.968730   \n",
       "18    2020-03-03 10:09:58   4 min 14.562 sec     6751 obs/sec  5.968730   \n",
       "\n",
       "    iterations    samples  training_rmse  training_mse  \n",
       "0            0        0.0       0.067290      0.004528  \n",
       "1            1    99900.0       0.977780      0.956054  \n",
       "2            2   199888.0       0.989903      0.979907  \n",
       "3            3   299972.0       0.973364      0.947438  \n",
       "4            4   399807.0       0.982142      0.964603  \n",
       "5            5   500163.0       0.972336      0.945437  \n",
       "6            6   599865.0       0.961172      0.923851  \n",
       "7            7   699825.0       0.973291      0.947295  \n",
       "8            8   799950.0       0.951564      0.905474  \n",
       "9            9   900094.0       0.949129      0.900845  \n",
       "10          10  1000277.0       0.973695      0.948081  \n",
       "11          11  1100409.0       0.929887      0.864689  \n",
       "12          12  1200252.0       0.972175      0.945123  \n",
       "13          13  1300221.0       0.977716      0.955929  \n",
       "14          14  1400335.0       0.954356      0.910796  \n",
       "15          15  1500145.0       0.968476      0.937946  \n",
       "16          16  1599874.0       0.969463      0.939859  \n",
       "17          17  1699936.0       0.966717      0.934541  \n",
       "18          17  1699936.0       0.067290      0.004528  "
      ]
     },
     "execution_count": 70,
     "metadata": {},
     "output_type": "execute_result"
    }
   ],
   "source": [
    "sh = fraud_dl.score_history()\n",
    "sh"
   ]
  },
  {
   "cell_type": "code",
   "execution_count": 73,
   "metadata": {},
   "outputs": [
    {
     "data": {
      "text/plain": [
       "<matplotlib.axes._subplots.AxesSubplot at 0x24e771ea508>"
      ]
     },
     "execution_count": 73,
     "metadata": {},
     "output_type": "execute_result"
    },
    {
     "data": {
      "image/png": "[encoded data removed]",
      "text/plain": [
       "<Figure size 432x288 with 1 Axes>"
      ]
     },
     "metadata": {
      "needs_background": "light"
     },
     "output_type": "display_data"
    }
   ],
   "source": [
    "%matplotlib inline \n",
    "# plot training logloss and auc\n",
    "sh.plot(x='epochs', y = ['training_rmse'])"
   ]
  },
  {
   "cell_type": "code",
   "execution_count": 77,
   "metadata": {},
   "outputs": [],
   "source": [
    "err=(fraud_dl.anomaly(data)).cbind(C)"
   ]
  },
  {
   "cell_type": "code",
   "execution_count": 78,
   "metadata": {},
   "outputs": [
    {
     "data": {
      "text/html": [
       "<table>\n",
       "<thead>\n",
       "<tr><th style=\"text-align: right;\">  Reconstruction.MSE</th><th style=\"text-align: right;\">  Class</th></tr>\n",
       "</thead>\n",
       "<tbody>\n",
       "<tr><td style=\"text-align: right;\">           0.0113886</td><td style=\"text-align: right;\">      0</td></tr>\n",
       "<tr><td style=\"text-align: right;\">           0.0114272</td><td style=\"text-align: right;\">      0</td></tr>\n",
       "<tr><td style=\"text-align: right;\">           0.0136378</td><td style=\"text-align: right;\">      0</td></tr>\n",
       "<tr><td style=\"text-align: right;\">           0.0156381</td><td style=\"text-align: right;\">      0</td></tr>\n",
       "<tr><td style=\"text-align: right;\">           0.0127106</td><td style=\"text-align: right;\">      0</td></tr>\n",
       "<tr><td style=\"text-align: right;\">           0.0112056</td><td style=\"text-align: right;\">      0</td></tr>\n",
       "<tr><td style=\"text-align: right;\">           0.0122937</td><td style=\"text-align: right;\">      0</td></tr>\n",
       "<tr><td style=\"text-align: right;\">           0.0132856</td><td style=\"text-align: right;\">      0</td></tr>\n",
       "<tr><td style=\"text-align: right;\">           0.0130217</td><td style=\"text-align: right;\">      0</td></tr>\n",
       "<tr><td style=\"text-align: right;\">           0.0123225</td><td style=\"text-align: right;\">      0</td></tr>\n",
       "</tbody>\n",
       "</table>"
      ]
     },
     "metadata": {},
     "output_type": "display_data"
    },
    {
     "data": {
      "text/plain": []
     },
     "execution_count": 78,
     "metadata": {},
     "output_type": "execute_result"
    }
   ],
   "source": [
    "err"
   ]
  },
  {
   "cell_type": "code",
   "execution_count": 85,
   "metadata": {},
   "outputs": [],
   "source": [
    "err=err.as_data_frame()"
   ]
  },
  {
   "cell_type": "code",
   "execution_count": 89,
   "metadata": {},
   "outputs": [],
   "source": [
    "err=tf.cast(err.values, tf.float32)"
   ]
  },
  {
   "cell_type": "code",
   "execution_count": 90,
   "metadata": {},
   "outputs": [
    {
     "data": {
      "text/plain": [
       "<tf.Tensor: shape=(284807, 2), dtype=float32, numpy=\n",
       "array([[0.0113886 , 0.        ],\n",
       "       [0.01142721, 0.        ],\n",
       "       [0.01363784, 0.        ],\n",
       "       ...,\n",
       "       [0.00925165, 0.        ],\n",
       "       [0.01198011, 0.        ],\n",
       "       [0.00853192, 0.        ]], dtype=float32)>"
      ]
     },
     "execution_count": 90,
     "metadata": {},
     "output_type": "execute_result"
    }
   ],
   "source": [
    "err"
   ]
  },
  {
   "cell_type": "code",
   "execution_count": 91,
   "metadata": {},
   "outputs": [
    {
     "data": {
      "text/plain": [
       "<tf.Tensor: shape=(2, 2), dtype=float32, numpy=\n",
       "array([[1.        , 0.27698478],\n",
       "       [0.27698478, 0.9999914 ]], dtype=float32)>"
      ]
     },
     "execution_count": 91,
     "metadata": {},
     "output_type": "execute_result"
    }
   ],
   "source": [
    "#find correlation between reconstruction error and fraud flag\n",
    "\n",
    "tfp.stats.correlation(\n",
    "    err, y=None, sample_axis=0, event_axis=-1, keepdims=False, name=None\n",
    ")"
   ]
  },
  {
   "cell_type": "code",
   "execution_count": 116,
   "metadata": {},
   "outputs": [
    {
     "data": {
      "text/plain": [
       "[<tf.Tensor: shape=(2,), dtype=float32, numpy=array([-309.36588 ,    9.777487], dtype=float32)>,\n",
       " <tf.Tensor: shape=(284807,), dtype=float32, numpy=\n",
       " array([-3.5232444, -3.535189 , -4.219081 , ..., -2.8621435, -3.7062378,\n",
       "        -2.6394863], dtype=float32)>,\n",
       " <tf.Tensor: shape=(), dtype=bool, numpy=False>,\n",
       " <tf.Tensor: shape=(), dtype=int32, numpy=1>]"
      ]
     },
     "execution_count": 116,
     "metadata": {},
     "output_type": "execute_result"
    }
   ],
   "source": [
    "#fit a glm to access if reconstruction error is a predictor of fraud\n",
    "\n",
    "tfp.glm.fit(\n",
    "    model_matrix=err, response=err[:,1], model=tfp.glm.Bernoulli(), model_coefficients_start=None,\n",
    "    predicted_linear_response_start=None, l2_regularizer=None, dispersion=None,\n",
    "    offset=None, convergence_criteria_fn=None, learning_rate=None,\n",
    "    fast_unsafe_numerics=True, maximum_iterations=1,\n",
    "    l2_regularization_penalty_factor=None, name=None\n",
    ")"
   ]
  },
  {
   "cell_type": "code",
   "execution_count": 118,
   "metadata": {},
   "outputs": [
    {
     "data": {
      "text/plain": [
       "<tf.Tensor: shape=(), dtype=float32, numpy=0.9999433>"
      ]
     },
     "execution_count": 118,
     "metadata": {},
     "output_type": "execute_result"
    }
   ],
   "source": [
    "def logit2prob(logit):\n",
    "  odds = tf.exp(logit)\n",
    "  prob = odds / (1.000 + odds)\n",
    "  return(prob)\n",
    "logit2prob(9.777487)"
   ]
  },
  {
   "cell_type": "code",
   "execution_count": 122,
   "metadata": {},
   "outputs": [
    {
     "name": "stderr",
     "output_type": "stream",
     "text": [
      "C:\\Users\\Michael Lanier\\AppData\\Local\\Continuum\\anaconda3\\lib\\site-packages\\ipykernel_launcher.py:1: DeprecationWarning: Deprecated, use ``h2o.cluster().shutdown()``.\n",
      "  \"\"\"Entry point for launching an IPython kernel.\n"
     ]
    },
    {
     "name": "stdout",
     "output_type": "stream",
     "text": [
      "H2O session _sid_8c3c closed.\n"
     ]
    }
   ],
   "source": [
    "h2o.shutdown()"
   ]
  }
 ],
 "metadata": {
  "kernelspec": {
   "display_name": "Python 3",
   "language": "python",
   "name": "python3"
  },
  "language_info": {
   "codemirror_mode": {
    "name": "ipython",
    "version": 3
   },
   "file_extension": ".py",
   "mimetype": "text/x-python",
   "name": "python",
   "nbconvert_exporter": "python",
   "pygments_lexer": "ipython3",
   "version": "3.7.4"
  }
 },
 "nbformat": 4,
 "nbformat_minor": 2
}
