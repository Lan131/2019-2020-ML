{
 "cells": [
  {
   "cell_type": "code",
   "execution_count": 1,
   "metadata": {},
   "outputs": [],
   "source": [
    "#!pip install https://github.com/pandas-profiling/pandas-profiling/archive/master.zip --user"
   ]
  },
  {
   "cell_type": "code",
   "execution_count": 2,
   "metadata": {},
   "outputs": [],
   "source": [
    "#!pip install tensorflow_probability "
   ]
  },
  {
   "cell_type": "code",
   "execution_count": 3,
   "metadata": {},
   "outputs": [],
   "source": [
    "#tf nightly only version of tf 2.0 with tensorboard support\n",
    "#!pip install tf-nightly --user"
   ]
  },
  {
   "cell_type": "code",
   "execution_count": 4,
   "metadata": {},
   "outputs": [],
   "source": [
    "#data from https://www.kaggle.com/mlg-ulb/creditcardfraud"
   ]
  },
  {
   "cell_type": "code",
   "execution_count": 5,
   "metadata": {},
   "outputs": [],
   "source": [
    "#open tensorboard\n",
    "#!python -m tensorboard.main --logdir=/path/to/logs\n"
   ]
  },
  {
   "cell_type": "code",
   "execution_count": 6,
   "metadata": {},
   "outputs": [],
   "source": [
    "import pandas as pd\n",
    "import h2o\n",
    "import pandas_profiling\n",
    "from pandas_profiling import ProfileReport\n",
    "from h2o.estimators.deeplearning import H2OAutoEncoderEstimator, H2ODeepLearningEstimator\n",
    "import matplotlib.pyplot as plt\n",
    "import tensorflow_probability as tfp\n",
    "import tensorflow as tf\n",
    "import numpy as np\n",
    "from tensorflow import keras\n",
    "from tensorflow.keras.layers import Input, Dense\n",
    "from tensorflow.keras.models import Model\n",
    "from tensorflow.keras.models import Model, load_model\n",
    "from tensorflow.keras.layers import Input, Dense\n",
    "from tensorflow.keras.callbacks import ModelCheckpoint\n",
    "from tensorflow.keras import regularizers\n",
    "from tensorflow.keras.callbacks import TensorBoard\n",
    "import os\n",
    "import matplotlib.pyplot as plt\n",
    "SEED=42\n"
   ]
  },
  {
   "cell_type": "code",
   "execution_count": 7,
   "metadata": {},
   "outputs": [],
   "source": [
    "plt.style.use('ggplot')\n",
    "\n",
    "def plot_history(history):\n",
    "    mean_absolute_error = history['mean_absolute_error']\n",
    "   \n",
    "    loss = history['loss']\n",
    "    \n",
    "    x = range(1, len(mean_absolute_error) + 1)\n",
    "\n",
    "    plt.figure(figsize=(12, 5))\n",
    "    plt.subplot(1, 2, 1)\n",
    "    plt.plot(x, loss, 'b', label='Training loss')\n",
    "    plt.plot(x, mean_absolute_error, 'r', label='Training error')\n",
    "    plt.title('Loss and accuracy')\n",
    "    plt.legend()\n",
    "    \n",
    "    "
   ]
  },
  {
   "cell_type": "code",
   "execution_count": 8,
   "metadata": {},
   "outputs": [],
   "source": [
    "df=pd.read_csv(\"creditcard.csv\")"
   ]
  },
  {
   "cell_type": "code",
   "execution_count": 9,
   "metadata": {},
   "outputs": [],
   "source": [
    "#profile = ProfileReport(df, title='Pandas Profiling Report', html={'style':{'full_width':True}},plot ={'histogram':{'bayesian_blocks_bins': False}})"
   ]
  },
  {
   "cell_type": "code",
   "execution_count": 10,
   "metadata": {},
   "outputs": [],
   "source": [
    "#profile.to_file(output_file=\"credit_report.html\")"
   ]
  },
  {
   "cell_type": "code",
   "execution_count": 11,
   "metadata": {
    "scrolled": false
   },
   "outputs": [
    {
     "name": "stdout",
     "output_type": "stream",
     "text": [
      "Checking whether there is an H2O instance running at http://localhost:54321 ..... not found.\n",
      "Attempting to start a local H2O server...\n",
      "; Java HotSpot(TM) 64-Bit Server VM (build 25.241-b07, mixed mode)\n",
      "  Starting server from C:\\Users\\Michael Lanier\\AppData\\Local\\Continuum\\anaconda3\\lib\\site-packages\\h2o\\backend\\bin\\h2o.jar\n",
      "  Ice root: C:\\Users\\MICHAE~1\\AppData\\Local\\Temp\\tmp0f_1vfjw\n",
      "  JVM stdout: C:\\Users\\MICHAE~1\\AppData\\Local\\Temp\\tmp0f_1vfjw\\h2o_Michael_Lanier_started_from_python.out\n",
      "  JVM stderr: C:\\Users\\MICHAE~1\\AppData\\Local\\Temp\\tmp0f_1vfjw\\h2o_Michael_Lanier_started_from_python.err\n",
      "  Server is running at http://127.0.0.1:54321\n",
      "Connecting to H2O server at http://127.0.0.1:54321 ... successful.\n"
     ]
    },
    {
     "data": {
      "text/html": [
       "<div style=\"overflow:auto\"><table style=\"width:50%\"><tr><td>H2O cluster uptime:</td>\n",
       "<td>02 secs</td></tr>\n",
       "<tr><td>H2O cluster timezone:</td>\n",
       "<td>America/Chicago</td></tr>\n",
       "<tr><td>H2O data parsing timezone:</td>\n",
       "<td>UTC</td></tr>\n",
       "<tr><td>H2O cluster version:</td>\n",
       "<td>3.28.0.3</td></tr>\n",
       "<tr><td>H2O cluster version age:</td>\n",
       "<td>27 days </td></tr>\n",
       "<tr><td>H2O cluster name:</td>\n",
       "<td>H2O_from_python_Michael_Lanier_3tlytz</td></tr>\n",
       "<tr><td>H2O cluster total nodes:</td>\n",
       "<td>1</td></tr>\n",
       "<tr><td>H2O cluster free memory:</td>\n",
       "<td>19.17 Gb</td></tr>\n",
       "<tr><td>H2O cluster total cores:</td>\n",
       "<td>12</td></tr>\n",
       "<tr><td>H2O cluster allowed cores:</td>\n",
       "<td>12</td></tr>\n",
       "<tr><td>H2O cluster status:</td>\n",
       "<td>accepting new members, healthy</td></tr>\n",
       "<tr><td>H2O connection url:</td>\n",
       "<td>http://127.0.0.1:54321</td></tr>\n",
       "<tr><td>H2O connection proxy:</td>\n",
       "<td>{'http': None, 'https': None}</td></tr>\n",
       "<tr><td>H2O internal security:</td>\n",
       "<td>False</td></tr>\n",
       "<tr><td>H2O API Extensions:</td>\n",
       "<td>Amazon S3, Algos, AutoML, Core V3, TargetEncoder, Core V4</td></tr>\n",
       "<tr><td>Python version:</td>\n",
       "<td>3.7.4 final</td></tr></table></div>"
      ],
      "text/plain": [
       "--------------------------  ---------------------------------------------------------\n",
       "H2O cluster uptime:         02 secs\n",
       "H2O cluster timezone:       America/Chicago\n",
       "H2O data parsing timezone:  UTC\n",
       "H2O cluster version:        3.28.0.3\n",
       "H2O cluster version age:    27 days\n",
       "H2O cluster name:           H2O_from_python_Michael_Lanier_3tlytz\n",
       "H2O cluster total nodes:    1\n",
       "H2O cluster free memory:    19.17 Gb\n",
       "H2O cluster total cores:    12\n",
       "H2O cluster allowed cores:  12\n",
       "H2O cluster status:         accepting new members, healthy\n",
       "H2O connection url:         http://127.0.0.1:54321\n",
       "H2O connection proxy:       {'http': None, 'https': None}\n",
       "H2O internal security:      False\n",
       "H2O API Extensions:         Amazon S3, Algos, AutoML, Core V3, TargetEncoder, Core V4\n",
       "Python version:             3.7.4 final\n",
       "--------------------------  ---------------------------------------------------------"
      ]
     },
     "metadata": {},
     "output_type": "display_data"
    }
   ],
   "source": [
    "\n",
    "h2o.init(min_mem_size='20G')"
   ]
  },
  {
   "cell_type": "code",
   "execution_count": 12,
   "metadata": {},
   "outputs": [
    {
     "name": "stdout",
     "output_type": "stream",
     "text": [
      "Parse progress: |█████████████████████████████████████████████████████████| 100%\n"
     ]
    }
   ],
   "source": [
    "data=h2o.import_file(\"creditcard.csv\")"
   ]
  },
  {
   "cell_type": "code",
   "execution_count": 13,
   "metadata": {},
   "outputs": [
    {
     "data": {
      "text/html": [
       "<table>\n",
       "<thead>\n",
       "<tr><th style=\"text-align: right;\">  Time</th><th style=\"text-align: right;\">       V1</th><th style=\"text-align: right;\">        V2</th><th style=\"text-align: right;\">        V3</th><th style=\"text-align: right;\">       V4</th><th style=\"text-align: right;\">        V5</th><th style=\"text-align: right;\">        V6</th><th style=\"text-align: right;\">       V7</th><th style=\"text-align: right;\">        V8</th><th style=\"text-align: right;\">       V9</th><th style=\"text-align: right;\">       V10</th><th style=\"text-align: right;\">      V11</th><th style=\"text-align: right;\">       V12</th><th style=\"text-align: right;\">      V13</th><th style=\"text-align: right;\">       V14</th><th style=\"text-align: right;\">       V15</th><th style=\"text-align: right;\">      V16</th><th style=\"text-align: right;\">        V17</th><th style=\"text-align: right;\">       V18</th><th style=\"text-align: right;\">       V19</th><th style=\"text-align: right;\">       V20</th><th style=\"text-align: right;\">       V21</th><th style=\"text-align: right;\">       V22</th><th style=\"text-align: right;\">       V23</th><th style=\"text-align: right;\">       V24</th><th style=\"text-align: right;\">      V25</th><th style=\"text-align: right;\">       V26</th><th style=\"text-align: right;\">       V27</th><th style=\"text-align: right;\">        V28</th><th style=\"text-align: right;\">  Amount</th><th style=\"text-align: right;\">  Class</th></tr>\n",
       "</thead>\n",
       "<tbody>\n",
       "<tr><td style=\"text-align: right;\">     0</td><td style=\"text-align: right;\">-1.35981 </td><td style=\"text-align: right;\">-0.0727812</td><td style=\"text-align: right;\"> 2.53635  </td><td style=\"text-align: right;\"> 1.37816 </td><td style=\"text-align: right;\">-0.338321 </td><td style=\"text-align: right;\"> 0.462388 </td><td style=\"text-align: right;\"> 0.239599</td><td style=\"text-align: right;\"> 0.0986979</td><td style=\"text-align: right;\"> 0.363787</td><td style=\"text-align: right;\"> 0.0907942</td><td style=\"text-align: right;\">-0.5516  </td><td style=\"text-align: right;\">-0.617801 </td><td style=\"text-align: right;\">-0.99139 </td><td style=\"text-align: right;\">-0.311169 </td><td style=\"text-align: right;\"> 1.46818  </td><td style=\"text-align: right;\">-0.470401</td><td style=\"text-align: right;\"> 0.207971  </td><td style=\"text-align: right;\"> 0.0257906</td><td style=\"text-align: right;\"> 0.403993 </td><td style=\"text-align: right;\"> 0.251412 </td><td style=\"text-align: right;\">-0.0183068</td><td style=\"text-align: right;\"> 0.277838 </td><td style=\"text-align: right;\">-0.110474 </td><td style=\"text-align: right;\"> 0.0669281</td><td style=\"text-align: right;\"> 0.128539</td><td style=\"text-align: right;\">-0.189115 </td><td style=\"text-align: right;\"> 0.133558 </td><td style=\"text-align: right;\">-0.0210531 </td><td style=\"text-align: right;\">  149.62</td><td style=\"text-align: right;\">      0</td></tr>\n",
       "<tr><td style=\"text-align: right;\">     0</td><td style=\"text-align: right;\"> 1.19186 </td><td style=\"text-align: right;\"> 0.266151 </td><td style=\"text-align: right;\"> 0.16648  </td><td style=\"text-align: right;\"> 0.448154</td><td style=\"text-align: right;\"> 0.0600176</td><td style=\"text-align: right;\">-0.0823608</td><td style=\"text-align: right;\">-0.078803</td><td style=\"text-align: right;\"> 0.0851017</td><td style=\"text-align: right;\">-0.255425</td><td style=\"text-align: right;\">-0.166974 </td><td style=\"text-align: right;\"> 1.61273 </td><td style=\"text-align: right;\"> 1.06524  </td><td style=\"text-align: right;\"> 0.489095</td><td style=\"text-align: right;\">-0.143772 </td><td style=\"text-align: right;\"> 0.635558 </td><td style=\"text-align: right;\"> 0.463917</td><td style=\"text-align: right;\">-0.114805  </td><td style=\"text-align: right;\">-0.183361 </td><td style=\"text-align: right;\">-0.145783 </td><td style=\"text-align: right;\">-0.0690831</td><td style=\"text-align: right;\">-0.225775 </td><td style=\"text-align: right;\">-0.638672 </td><td style=\"text-align: right;\"> 0.101288 </td><td style=\"text-align: right;\">-0.339846 </td><td style=\"text-align: right;\"> 0.16717 </td><td style=\"text-align: right;\"> 0.125895 </td><td style=\"text-align: right;\">-0.0089831</td><td style=\"text-align: right;\"> 0.0147242 </td><td style=\"text-align: right;\">    2.69</td><td style=\"text-align: right;\">      0</td></tr>\n",
       "<tr><td style=\"text-align: right;\">     1</td><td style=\"text-align: right;\">-1.35835 </td><td style=\"text-align: right;\">-1.34016  </td><td style=\"text-align: right;\"> 1.77321  </td><td style=\"text-align: right;\"> 0.37978 </td><td style=\"text-align: right;\">-0.503198 </td><td style=\"text-align: right;\"> 1.8005   </td><td style=\"text-align: right;\"> 0.791461</td><td style=\"text-align: right;\"> 0.247676 </td><td style=\"text-align: right;\">-1.51465 </td><td style=\"text-align: right;\"> 0.207643 </td><td style=\"text-align: right;\"> 0.624501</td><td style=\"text-align: right;\"> 0.0660837</td><td style=\"text-align: right;\"> 0.717293</td><td style=\"text-align: right;\">-0.165946 </td><td style=\"text-align: right;\"> 2.34586  </td><td style=\"text-align: right;\">-2.89008 </td><td style=\"text-align: right;\"> 1.10997   </td><td style=\"text-align: right;\">-0.121359 </td><td style=\"text-align: right;\">-2.26186  </td><td style=\"text-align: right;\"> 0.52498  </td><td style=\"text-align: right;\"> 0.247998 </td><td style=\"text-align: right;\"> 0.771679 </td><td style=\"text-align: right;\"> 0.909412 </td><td style=\"text-align: right;\">-0.689281 </td><td style=\"text-align: right;\">-0.327642</td><td style=\"text-align: right;\">-0.139097 </td><td style=\"text-align: right;\">-0.0553528</td><td style=\"text-align: right;\">-0.0597518 </td><td style=\"text-align: right;\">  378.66</td><td style=\"text-align: right;\">      0</td></tr>\n",
       "<tr><td style=\"text-align: right;\">     1</td><td style=\"text-align: right;\">-0.966272</td><td style=\"text-align: right;\">-0.185226 </td><td style=\"text-align: right;\"> 1.79299  </td><td style=\"text-align: right;\">-0.863291</td><td style=\"text-align: right;\">-0.0103089</td><td style=\"text-align: right;\"> 1.2472   </td><td style=\"text-align: right;\"> 0.237609</td><td style=\"text-align: right;\"> 0.377436 </td><td style=\"text-align: right;\">-1.38702 </td><td style=\"text-align: right;\">-0.0549519</td><td style=\"text-align: right;\">-0.226487</td><td style=\"text-align: right;\"> 0.178228 </td><td style=\"text-align: right;\"> 0.507757</td><td style=\"text-align: right;\">-0.287924 </td><td style=\"text-align: right;\">-0.631418 </td><td style=\"text-align: right;\">-1.05965 </td><td style=\"text-align: right;\">-0.684093  </td><td style=\"text-align: right;\"> 1.96578  </td><td style=\"text-align: right;\">-1.23262  </td><td style=\"text-align: right;\">-0.208038 </td><td style=\"text-align: right;\">-0.1083   </td><td style=\"text-align: right;\"> 0.0052736</td><td style=\"text-align: right;\">-0.190321 </td><td style=\"text-align: right;\">-1.17558  </td><td style=\"text-align: right;\"> 0.647376</td><td style=\"text-align: right;\">-0.221929 </td><td style=\"text-align: right;\"> 0.0627228</td><td style=\"text-align: right;\"> 0.0614576 </td><td style=\"text-align: right;\">  123.5 </td><td style=\"text-align: right;\">      0</td></tr>\n",
       "<tr><td style=\"text-align: right;\">     2</td><td style=\"text-align: right;\">-1.15823 </td><td style=\"text-align: right;\"> 0.877737 </td><td style=\"text-align: right;\"> 1.54872  </td><td style=\"text-align: right;\"> 0.403034</td><td style=\"text-align: right;\">-0.407193 </td><td style=\"text-align: right;\"> 0.0959215</td><td style=\"text-align: right;\"> 0.592941</td><td style=\"text-align: right;\">-0.270533 </td><td style=\"text-align: right;\"> 0.817739</td><td style=\"text-align: right;\"> 0.753074 </td><td style=\"text-align: right;\">-0.822843</td><td style=\"text-align: right;\"> 0.538196 </td><td style=\"text-align: right;\"> 1.34585 </td><td style=\"text-align: right;\">-1.11967  </td><td style=\"text-align: right;\"> 0.175121 </td><td style=\"text-align: right;\">-0.451449</td><td style=\"text-align: right;\">-0.237033  </td><td style=\"text-align: right;\">-0.0381948</td><td style=\"text-align: right;\"> 0.803487 </td><td style=\"text-align: right;\"> 0.408542 </td><td style=\"text-align: right;\">-0.0094307</td><td style=\"text-align: right;\"> 0.798278 </td><td style=\"text-align: right;\">-0.137458 </td><td style=\"text-align: right;\"> 0.141267 </td><td style=\"text-align: right;\">-0.20601 </td><td style=\"text-align: right;\"> 0.502292 </td><td style=\"text-align: right;\"> 0.219422 </td><td style=\"text-align: right;\"> 0.215153  </td><td style=\"text-align: right;\">   69.99</td><td style=\"text-align: right;\">      0</td></tr>\n",
       "<tr><td style=\"text-align: right;\">     2</td><td style=\"text-align: right;\">-0.425966</td><td style=\"text-align: right;\"> 0.960523 </td><td style=\"text-align: right;\"> 1.14111  </td><td style=\"text-align: right;\">-0.168252</td><td style=\"text-align: right;\"> 0.420987 </td><td style=\"text-align: right;\">-0.0297276</td><td style=\"text-align: right;\"> 0.476201</td><td style=\"text-align: right;\"> 0.260314 </td><td style=\"text-align: right;\">-0.568671</td><td style=\"text-align: right;\">-0.371407 </td><td style=\"text-align: right;\"> 1.34126 </td><td style=\"text-align: right;\"> 0.359894 </td><td style=\"text-align: right;\">-0.358091</td><td style=\"text-align: right;\">-0.137134 </td><td style=\"text-align: right;\"> 0.517617 </td><td style=\"text-align: right;\"> 0.401726</td><td style=\"text-align: right;\">-0.0581328 </td><td style=\"text-align: right;\"> 0.0686531</td><td style=\"text-align: right;\">-0.0331938</td><td style=\"text-align: right;\"> 0.0849677</td><td style=\"text-align: right;\">-0.208254 </td><td style=\"text-align: right;\">-0.559825 </td><td style=\"text-align: right;\">-0.0263977</td><td style=\"text-align: right;\">-0.371427 </td><td style=\"text-align: right;\">-0.232794</td><td style=\"text-align: right;\"> 0.105915 </td><td style=\"text-align: right;\"> 0.253844 </td><td style=\"text-align: right;\"> 0.0810803 </td><td style=\"text-align: right;\">    3.67</td><td style=\"text-align: right;\">      0</td></tr>\n",
       "<tr><td style=\"text-align: right;\">     4</td><td style=\"text-align: right;\"> 1.22966 </td><td style=\"text-align: right;\"> 0.141004 </td><td style=\"text-align: right;\"> 0.0453708</td><td style=\"text-align: right;\"> 1.20261 </td><td style=\"text-align: right;\"> 0.191881 </td><td style=\"text-align: right;\"> 0.272708 </td><td style=\"text-align: right;\">-0.005159</td><td style=\"text-align: right;\"> 0.0812129</td><td style=\"text-align: right;\"> 0.46496 </td><td style=\"text-align: right;\">-0.0992543</td><td style=\"text-align: right;\">-1.41691 </td><td style=\"text-align: right;\">-0.153826 </td><td style=\"text-align: right;\">-0.751063</td><td style=\"text-align: right;\"> 0.167372 </td><td style=\"text-align: right;\"> 0.0501436</td><td style=\"text-align: right;\">-0.443587</td><td style=\"text-align: right;\"> 0.00282051</td><td style=\"text-align: right;\">-0.611987 </td><td style=\"text-align: right;\">-0.045575 </td><td style=\"text-align: right;\">-0.219633 </td><td style=\"text-align: right;\">-0.167716 </td><td style=\"text-align: right;\">-0.27071  </td><td style=\"text-align: right;\">-0.154104 </td><td style=\"text-align: right;\">-0.780055 </td><td style=\"text-align: right;\"> 0.750137</td><td style=\"text-align: right;\">-0.257237 </td><td style=\"text-align: right;\"> 0.0345074</td><td style=\"text-align: right;\"> 0.00516777</td><td style=\"text-align: right;\">    4.99</td><td style=\"text-align: right;\">      0</td></tr>\n",
       "<tr><td style=\"text-align: right;\">     7</td><td style=\"text-align: right;\">-0.644269</td><td style=\"text-align: right;\"> 1.41796  </td><td style=\"text-align: right;\"> 1.07438  </td><td style=\"text-align: right;\">-0.492199</td><td style=\"text-align: right;\"> 0.948934 </td><td style=\"text-align: right;\"> 0.428118 </td><td style=\"text-align: right;\"> 1.12063 </td><td style=\"text-align: right;\">-3.80786  </td><td style=\"text-align: right;\"> 0.615375</td><td style=\"text-align: right;\"> 1.24938  </td><td style=\"text-align: right;\">-0.619468</td><td style=\"text-align: right;\"> 0.291474 </td><td style=\"text-align: right;\"> 1.75796 </td><td style=\"text-align: right;\">-1.32387  </td><td style=\"text-align: right;\"> 0.686133 </td><td style=\"text-align: right;\">-0.076127</td><td style=\"text-align: right;\">-1.22213   </td><td style=\"text-align: right;\">-0.358222 </td><td style=\"text-align: right;\"> 0.324505 </td><td style=\"text-align: right;\">-0.156742 </td><td style=\"text-align: right;\"> 1.94347  </td><td style=\"text-align: right;\">-1.01545  </td><td style=\"text-align: right;\"> 0.0575035</td><td style=\"text-align: right;\">-0.649709 </td><td style=\"text-align: right;\">-0.415267</td><td style=\"text-align: right;\">-0.0516343</td><td style=\"text-align: right;\">-1.20692  </td><td style=\"text-align: right;\">-1.08534   </td><td style=\"text-align: right;\">   40.8 </td><td style=\"text-align: right;\">      0</td></tr>\n",
       "<tr><td style=\"text-align: right;\">     7</td><td style=\"text-align: right;\">-0.894286</td><td style=\"text-align: right;\"> 0.286157 </td><td style=\"text-align: right;\">-0.113192 </td><td style=\"text-align: right;\">-0.271526</td><td style=\"text-align: right;\"> 2.6696   </td><td style=\"text-align: right;\"> 3.72182  </td><td style=\"text-align: right;\"> 0.370145</td><td style=\"text-align: right;\"> 0.851084 </td><td style=\"text-align: right;\">-0.392048</td><td style=\"text-align: right;\">-0.41043  </td><td style=\"text-align: right;\">-0.705117</td><td style=\"text-align: right;\">-0.110452 </td><td style=\"text-align: right;\">-0.286254</td><td style=\"text-align: right;\"> 0.0743554</td><td style=\"text-align: right;\">-0.328783 </td><td style=\"text-align: right;\">-0.210077</td><td style=\"text-align: right;\">-0.499768  </td><td style=\"text-align: right;\"> 0.118765 </td><td style=\"text-align: right;\"> 0.570328 </td><td style=\"text-align: right;\"> 0.0527357</td><td style=\"text-align: right;\">-0.0734251</td><td style=\"text-align: right;\">-0.268092 </td><td style=\"text-align: right;\">-0.204233 </td><td style=\"text-align: right;\"> 1.01159  </td><td style=\"text-align: right;\"> 0.373205</td><td style=\"text-align: right;\">-0.384157 </td><td style=\"text-align: right;\"> 0.0117474</td><td style=\"text-align: right;\"> 0.142404  </td><td style=\"text-align: right;\">   93.2 </td><td style=\"text-align: right;\">      0</td></tr>\n",
       "<tr><td style=\"text-align: right;\">     9</td><td style=\"text-align: right;\">-0.338262</td><td style=\"text-align: right;\"> 1.11959  </td><td style=\"text-align: right;\"> 1.04437  </td><td style=\"text-align: right;\">-0.222187</td><td style=\"text-align: right;\"> 0.499361 </td><td style=\"text-align: right;\">-0.246761 </td><td style=\"text-align: right;\"> 0.651583</td><td style=\"text-align: right;\"> 0.0695386</td><td style=\"text-align: right;\">-0.736727</td><td style=\"text-align: right;\">-0.366846 </td><td style=\"text-align: right;\"> 1.01761 </td><td style=\"text-align: right;\"> 0.83639  </td><td style=\"text-align: right;\"> 1.00684 </td><td style=\"text-align: right;\">-0.443523 </td><td style=\"text-align: right;\"> 0.150219 </td><td style=\"text-align: right;\"> 0.739453</td><td style=\"text-align: right;\">-0.54098   </td><td style=\"text-align: right;\"> 0.476677 </td><td style=\"text-align: right;\"> 0.451773 </td><td style=\"text-align: right;\"> 0.203711 </td><td style=\"text-align: right;\">-0.246914 </td><td style=\"text-align: right;\">-0.633753 </td><td style=\"text-align: right;\">-0.120794 </td><td style=\"text-align: right;\">-0.38505  </td><td style=\"text-align: right;\">-0.069733</td><td style=\"text-align: right;\"> 0.0941988</td><td style=\"text-align: right;\"> 0.246219 </td><td style=\"text-align: right;\"> 0.0830756 </td><td style=\"text-align: right;\">    3.68</td><td style=\"text-align: right;\">      0</td></tr>\n",
       "</tbody>\n",
       "</table>"
      ]
     },
     "metadata": {},
     "output_type": "display_data"
    },
    {
     "data": {
      "text/plain": []
     },
     "execution_count": 13,
     "metadata": {},
     "output_type": "execute_result"
    }
   ],
   "source": [
    "data"
   ]
  },
  {
   "cell_type": "code",
   "execution_count": 14,
   "metadata": {},
   "outputs": [],
   "source": [
    "x=data.columns\n",
    "C=data['Class']\n",
    "x.remove('Class')\n"
   ]
  },
  {
   "cell_type": "code",
   "execution_count": null,
   "metadata": {},
   "outputs": [],
   "source": []
  },
  {
   "cell_type": "code",
   "execution_count": 15,
   "metadata": {},
   "outputs": [
    {
     "name": "stdout",
     "output_type": "stream",
     "text": [
      "deeplearning Model Build progress: |██████████████████████████████████████| 100%\n"
     ]
    }
   ],
   "source": [
    "fraud_dl =H2OAutoEncoderEstimator(hidden = [10,10], epochs = 10, activation='Tanh',seed=SEED)\n",
    "fraud_anon = fraud_dl.train(x=x,training_frame=data)\n"
   ]
  },
  {
   "cell_type": "code",
   "execution_count": 16,
   "metadata": {
    "scrolled": true
   },
   "outputs": [
    {
     "name": "stdout",
     "output_type": "stream",
     "text": [
      "Model Details\n",
      "=============\n",
      "H2OAutoEncoderEstimator :  Deep Learning\n",
      "Model Key:  DeepLearning_model_python_1583294950982_1\n",
      "\n",
      "\n",
      "Status of Neuron Layers: auto-encoder, gaussian distribution, Quadratic loss, 750 weights/biases, 17.5 KB, 2,900,834 training samples, mini-batch size 1\n"
     ]
    },
    {
     "data": {
      "text/html": [
       "<div>\n",
       "<style scoped>\n",
       "    .dataframe tbody tr th:only-of-type {\n",
       "        vertical-align: middle;\n",
       "    }\n",
       "\n",
       "    .dataframe tbody tr th {\n",
       "        vertical-align: top;\n",
       "    }\n",
       "\n",
       "    .dataframe thead th {\n",
       "        text-align: right;\n",
       "    }\n",
       "</style>\n",
       "<table border=\"1\" class=\"dataframe\">\n",
       "  <thead>\n",
       "    <tr style=\"text-align: right;\">\n",
       "      <th></th>\n",
       "      <th></th>\n",
       "      <th>layer</th>\n",
       "      <th>units</th>\n",
       "      <th>type</th>\n",
       "      <th>dropout</th>\n",
       "      <th>l1</th>\n",
       "      <th>l2</th>\n",
       "      <th>mean_rate</th>\n",
       "      <th>rate_rms</th>\n",
       "      <th>momentum</th>\n",
       "      <th>mean_weight</th>\n",
       "      <th>weight_rms</th>\n",
       "      <th>mean_bias</th>\n",
       "      <th>bias_rms</th>\n",
       "    </tr>\n",
       "  </thead>\n",
       "  <tbody>\n",
       "    <tr>\n",
       "      <th>0</th>\n",
       "      <td></td>\n",
       "      <td>1</td>\n",
       "      <td>30</td>\n",
       "      <td>Input</td>\n",
       "      <td>0</td>\n",
       "      <td></td>\n",
       "      <td></td>\n",
       "      <td></td>\n",
       "      <td></td>\n",
       "      <td></td>\n",
       "      <td></td>\n",
       "      <td></td>\n",
       "      <td></td>\n",
       "      <td></td>\n",
       "    </tr>\n",
       "    <tr>\n",
       "      <th>1</th>\n",
       "      <td></td>\n",
       "      <td>2</td>\n",
       "      <td>10</td>\n",
       "      <td>Tanh</td>\n",
       "      <td>0</td>\n",
       "      <td>0</td>\n",
       "      <td>0</td>\n",
       "      <td>0.876834</td>\n",
       "      <td>0.145978</td>\n",
       "      <td>0</td>\n",
       "      <td>-0.00445448</td>\n",
       "      <td>0.781143</td>\n",
       "      <td>-0.0221117</td>\n",
       "      <td>0.18471</td>\n",
       "    </tr>\n",
       "    <tr>\n",
       "      <th>2</th>\n",
       "      <td></td>\n",
       "      <td>3</td>\n",
       "      <td>10</td>\n",
       "      <td>Tanh</td>\n",
       "      <td>0</td>\n",
       "      <td>0</td>\n",
       "      <td>0</td>\n",
       "      <td>0.125431</td>\n",
       "      <td>0.0421103</td>\n",
       "      <td>0</td>\n",
       "      <td>0.0312271</td>\n",
       "      <td>0.204813</td>\n",
       "      <td>-0.0170112</td>\n",
       "      <td>0.0482499</td>\n",
       "    </tr>\n",
       "    <tr>\n",
       "      <th>3</th>\n",
       "      <td></td>\n",
       "      <td>4</td>\n",
       "      <td>30</td>\n",
       "      <td>Tanh</td>\n",
       "      <td></td>\n",
       "      <td>0</td>\n",
       "      <td>0</td>\n",
       "      <td>0.062722</td>\n",
       "      <td>0.0326231</td>\n",
       "      <td>0</td>\n",
       "      <td>0.00303805</td>\n",
       "      <td>0.0945551</td>\n",
       "      <td>-0.00527475</td>\n",
       "      <td>0.0521868</td>\n",
       "    </tr>\n",
       "  </tbody>\n",
       "</table>\n",
       "</div>"
      ],
      "text/plain": [
       "     layer  units   type dropout l1 l2 mean_rate   rate_rms momentum  \\\n",
       "0        1     30  Input       0                                       \n",
       "1        2     10   Tanh       0  0  0  0.876834   0.145978        0   \n",
       "2        3     10   Tanh       0  0  0  0.125431  0.0421103        0   \n",
       "3        4     30   Tanh          0  0  0.062722  0.0326231        0   \n",
       "\n",
       "  mean_weight weight_rms   mean_bias   bias_rms  \n",
       "0                                                \n",
       "1 -0.00445448   0.781143  -0.0221117    0.18471  \n",
       "2   0.0312271   0.204813  -0.0170112  0.0482499  \n",
       "3  0.00303805  0.0945551 -0.00527475  0.0521868  "
      ]
     },
     "metadata": {},
     "output_type": "display_data"
    },
    {
     "name": "stdout",
     "output_type": "stream",
     "text": [
      "\n",
      "\n",
      "ModelMetricsAutoEncoder: deeplearning\n",
      "** Reported on train data. **\n",
      "\n",
      "MSE: 0.00039096426497056073\n",
      "RMSE: 0.01977281631357963\n",
      "\n",
      "Scoring History: \n"
     ]
    },
    {
     "data": {
      "text/html": [
       "<div>\n",
       "<style scoped>\n",
       "    .dataframe tbody tr th:only-of-type {\n",
       "        vertical-align: middle;\n",
       "    }\n",
       "\n",
       "    .dataframe tbody tr th {\n",
       "        vertical-align: top;\n",
       "    }\n",
       "\n",
       "    .dataframe thead th {\n",
       "        text-align: right;\n",
       "    }\n",
       "</style>\n",
       "<table border=\"1\" class=\"dataframe\">\n",
       "  <thead>\n",
       "    <tr style=\"text-align: right;\">\n",
       "      <th></th>\n",
       "      <th></th>\n",
       "      <th>timestamp</th>\n",
       "      <th>duration</th>\n",
       "      <th>training_speed</th>\n",
       "      <th>epochs</th>\n",
       "      <th>iterations</th>\n",
       "      <th>samples</th>\n",
       "      <th>training_rmse</th>\n",
       "      <th>training_mse</th>\n",
       "    </tr>\n",
       "  </thead>\n",
       "  <tbody>\n",
       "    <tr>\n",
       "      <th>0</th>\n",
       "      <td></td>\n",
       "      <td>2020-03-03 22:09:16</td>\n",
       "      <td>1.091 sec</td>\n",
       "      <td>0.00000 obs/sec</td>\n",
       "      <td>0.000000</td>\n",
       "      <td>0</td>\n",
       "      <td>0.0</td>\n",
       "      <td>0.090335</td>\n",
       "      <td>0.008160</td>\n",
       "    </tr>\n",
       "    <tr>\n",
       "      <th>1</th>\n",
       "      <td></td>\n",
       "      <td>2020-03-03 22:09:22</td>\n",
       "      <td>6.324 sec</td>\n",
       "      <td>191820 obs/sec</td>\n",
       "      <td>3.513032</td>\n",
       "      <td>10</td>\n",
       "      <td>1000536.0</td>\n",
       "      <td>0.024011</td>\n",
       "      <td>0.000577</td>\n",
       "    </tr>\n",
       "    <tr>\n",
       "      <th>2</th>\n",
       "      <td></td>\n",
       "      <td>2020-03-03 22:09:27</td>\n",
       "      <td>12.462 sec</td>\n",
       "      <td>181747 obs/sec</td>\n",
       "      <td>6.670514</td>\n",
       "      <td>19</td>\n",
       "      <td>1899809.0</td>\n",
       "      <td>0.023558</td>\n",
       "      <td>0.000555</td>\n",
       "    </tr>\n",
       "    <tr>\n",
       "      <th>3</th>\n",
       "      <td></td>\n",
       "      <td>2020-03-03 22:09:33</td>\n",
       "      <td>17.742 sec</td>\n",
       "      <td>184507 obs/sec</td>\n",
       "      <td>10.185262</td>\n",
       "      <td>29</td>\n",
       "      <td>2900834.0</td>\n",
       "      <td>0.019773</td>\n",
       "      <td>0.000391</td>\n",
       "    </tr>\n",
       "  </tbody>\n",
       "</table>\n",
       "</div>"
      ],
      "text/plain": [
       "               timestamp    duration   training_speed     epochs  iterations  \\\n",
       "0    2020-03-03 22:09:16   1.091 sec  0.00000 obs/sec   0.000000           0   \n",
       "1    2020-03-03 22:09:22   6.324 sec   191820 obs/sec   3.513032          10   \n",
       "2    2020-03-03 22:09:27  12.462 sec   181747 obs/sec   6.670514          19   \n",
       "3    2020-03-03 22:09:33  17.742 sec   184507 obs/sec  10.185262          29   \n",
       "\n",
       "     samples  training_rmse  training_mse  \n",
       "0        0.0       0.090335      0.008160  \n",
       "1  1000536.0       0.024011      0.000577  \n",
       "2  1899809.0       0.023558      0.000555  \n",
       "3  2900834.0       0.019773      0.000391  "
      ]
     },
     "metadata": {},
     "output_type": "display_data"
    },
    {
     "name": "stdout",
     "output_type": "stream",
     "text": [
      "\n",
      "Variable Importances: \n"
     ]
    },
    {
     "data": {
      "text/html": [
       "<div>\n",
       "<style scoped>\n",
       "    .dataframe tbody tr th:only-of-type {\n",
       "        vertical-align: middle;\n",
       "    }\n",
       "\n",
       "    .dataframe tbody tr th {\n",
       "        vertical-align: top;\n",
       "    }\n",
       "\n",
       "    .dataframe thead th {\n",
       "        text-align: right;\n",
       "    }\n",
       "</style>\n",
       "<table border=\"1\" class=\"dataframe\">\n",
       "  <thead>\n",
       "    <tr style=\"text-align: right;\">\n",
       "      <th></th>\n",
       "      <th>variable</th>\n",
       "      <th>relative_importance</th>\n",
       "      <th>scaled_importance</th>\n",
       "      <th>percentage</th>\n",
       "    </tr>\n",
       "  </thead>\n",
       "  <tbody>\n",
       "    <tr>\n",
       "      <th>0</th>\n",
       "      <td>V9</td>\n",
       "      <td>1.000000</td>\n",
       "      <td>1.000000</td>\n",
       "      <td>0.110457</td>\n",
       "    </tr>\n",
       "    <tr>\n",
       "      <th>1</th>\n",
       "      <td>V18</td>\n",
       "      <td>0.861280</td>\n",
       "      <td>0.861280</td>\n",
       "      <td>0.095134</td>\n",
       "    </tr>\n",
       "    <tr>\n",
       "      <th>2</th>\n",
       "      <td>V19</td>\n",
       "      <td>0.840541</td>\n",
       "      <td>0.840541</td>\n",
       "      <td>0.092843</td>\n",
       "    </tr>\n",
       "    <tr>\n",
       "      <th>3</th>\n",
       "      <td>V11</td>\n",
       "      <td>0.819380</td>\n",
       "      <td>0.819380</td>\n",
       "      <td>0.090506</td>\n",
       "    </tr>\n",
       "    <tr>\n",
       "      <th>4</th>\n",
       "      <td>V15</td>\n",
       "      <td>0.736666</td>\n",
       "      <td>0.736666</td>\n",
       "      <td>0.081370</td>\n",
       "    </tr>\n",
       "    <tr>\n",
       "      <th>5</th>\n",
       "      <td>V26</td>\n",
       "      <td>0.732399</td>\n",
       "      <td>0.732399</td>\n",
       "      <td>0.080898</td>\n",
       "    </tr>\n",
       "    <tr>\n",
       "      <th>6</th>\n",
       "      <td>V24</td>\n",
       "      <td>0.697082</td>\n",
       "      <td>0.697082</td>\n",
       "      <td>0.076997</td>\n",
       "    </tr>\n",
       "    <tr>\n",
       "      <th>7</th>\n",
       "      <td>V13</td>\n",
       "      <td>0.673406</td>\n",
       "      <td>0.673406</td>\n",
       "      <td>0.074382</td>\n",
       "    </tr>\n",
       "    <tr>\n",
       "      <th>8</th>\n",
       "      <td>V4</td>\n",
       "      <td>0.649554</td>\n",
       "      <td>0.649554</td>\n",
       "      <td>0.071748</td>\n",
       "    </tr>\n",
       "    <tr>\n",
       "      <th>9</th>\n",
       "      <td>Time</td>\n",
       "      <td>0.564765</td>\n",
       "      <td>0.564765</td>\n",
       "      <td>0.062382</td>\n",
       "    </tr>\n",
       "    <tr>\n",
       "      <th>10</th>\n",
       "      <td>V12</td>\n",
       "      <td>0.326680</td>\n",
       "      <td>0.326680</td>\n",
       "      <td>0.036084</td>\n",
       "    </tr>\n",
       "    <tr>\n",
       "      <th>11</th>\n",
       "      <td>V14</td>\n",
       "      <td>0.133143</td>\n",
       "      <td>0.133143</td>\n",
       "      <td>0.014706</td>\n",
       "    </tr>\n",
       "    <tr>\n",
       "      <th>12</th>\n",
       "      <td>V5</td>\n",
       "      <td>0.121940</td>\n",
       "      <td>0.121940</td>\n",
       "      <td>0.013469</td>\n",
       "    </tr>\n",
       "    <tr>\n",
       "      <th>13</th>\n",
       "      <td>V10</td>\n",
       "      <td>0.117312</td>\n",
       "      <td>0.117312</td>\n",
       "      <td>0.012958</td>\n",
       "    </tr>\n",
       "    <tr>\n",
       "      <th>14</th>\n",
       "      <td>V7</td>\n",
       "      <td>0.098422</td>\n",
       "      <td>0.098422</td>\n",
       "      <td>0.010871</td>\n",
       "    </tr>\n",
       "    <tr>\n",
       "      <th>15</th>\n",
       "      <td>V3</td>\n",
       "      <td>0.097963</td>\n",
       "      <td>0.097963</td>\n",
       "      <td>0.010821</td>\n",
       "    </tr>\n",
       "    <tr>\n",
       "      <th>16</th>\n",
       "      <td>V17</td>\n",
       "      <td>0.077767</td>\n",
       "      <td>0.077767</td>\n",
       "      <td>0.008590</td>\n",
       "    </tr>\n",
       "    <tr>\n",
       "      <th>17</th>\n",
       "      <td>V22</td>\n",
       "      <td>0.059537</td>\n",
       "      <td>0.059537</td>\n",
       "      <td>0.006576</td>\n",
       "    </tr>\n",
       "    <tr>\n",
       "      <th>18</th>\n",
       "      <td>V1</td>\n",
       "      <td>0.052949</td>\n",
       "      <td>0.052949</td>\n",
       "      <td>0.005849</td>\n",
       "    </tr>\n",
       "    <tr>\n",
       "      <th>19</th>\n",
       "      <td>V25</td>\n",
       "      <td>0.050158</td>\n",
       "      <td>0.050158</td>\n",
       "      <td>0.005540</td>\n",
       "    </tr>\n",
       "  </tbody>\n",
       "</table>\n",
       "</div>"
      ],
      "text/plain": [
       "   variable  relative_importance  scaled_importance  percentage\n",
       "0        V9             1.000000           1.000000    0.110457\n",
       "1       V18             0.861280           0.861280    0.095134\n",
       "2       V19             0.840541           0.840541    0.092843\n",
       "3       V11             0.819380           0.819380    0.090506\n",
       "4       V15             0.736666           0.736666    0.081370\n",
       "5       V26             0.732399           0.732399    0.080898\n",
       "6       V24             0.697082           0.697082    0.076997\n",
       "7       V13             0.673406           0.673406    0.074382\n",
       "8        V4             0.649554           0.649554    0.071748\n",
       "9      Time             0.564765           0.564765    0.062382\n",
       "10      V12             0.326680           0.326680    0.036084\n",
       "11      V14             0.133143           0.133143    0.014706\n",
       "12       V5             0.121940           0.121940    0.013469\n",
       "13      V10             0.117312           0.117312    0.012958\n",
       "14       V7             0.098422           0.098422    0.010871\n",
       "15       V3             0.097963           0.097963    0.010821\n",
       "16      V17             0.077767           0.077767    0.008590\n",
       "17      V22             0.059537           0.059537    0.006576\n",
       "18       V1             0.052949           0.052949    0.005849\n",
       "19      V25             0.050158           0.050158    0.005540"
      ]
     },
     "metadata": {},
     "output_type": "display_data"
    },
    {
     "name": "stdout",
     "output_type": "stream",
     "text": [
      "\n",
      "See the whole table with table.as_data_frame()\n"
     ]
    },
    {
     "data": {
      "text/plain": []
     },
     "execution_count": 16,
     "metadata": {},
     "output_type": "execute_result"
    }
   ],
   "source": [
    "fraud_dl"
   ]
  },
  {
   "cell_type": "code",
   "execution_count": 17,
   "metadata": {},
   "outputs": [],
   "source": [
    "sh = fraud_dl.score_history()\n"
   ]
  },
  {
   "cell_type": "code",
   "execution_count": 18,
   "metadata": {},
   "outputs": [
    {
     "data": {
      "text/plain": [
       "<matplotlib.axes._subplots.AxesSubplot at 0x1dd151de5c8>"
      ]
     },
     "execution_count": 18,
     "metadata": {},
     "output_type": "execute_result"
    },
    {
     "data": {
      "image/png": "[encoded data removed]",
      "text/plain": [
       "<Figure size 432x288 with 1 Axes>"
      ]
     },
     "metadata": {
      "needs_background": "light"
     },
     "output_type": "display_data"
    }
   ],
   "source": [
    "%matplotlib inline \n",
    "# plot training logloss and auc\n",
    "sh.plot(x='epochs', y = ['training_rmse'])"
   ]
  },
  {
   "cell_type": "code",
   "execution_count": 19,
   "metadata": {},
   "outputs": [],
   "source": [
    "err=(fraud_dl.anomaly(data)).cbind(C)"
   ]
  },
  {
   "cell_type": "code",
   "execution_count": 20,
   "metadata": {},
   "outputs": [
    {
     "data": {
      "text/html": [
       "<table>\n",
       "<thead>\n",
       "<tr><th style=\"text-align: right;\">  Reconstruction.MSE</th><th style=\"text-align: right;\">  Class</th></tr>\n",
       "</thead>\n",
       "<tbody>\n",
       "<tr><td style=\"text-align: right;\">         0.000122688</td><td style=\"text-align: right;\">      0</td></tr>\n",
       "<tr><td style=\"text-align: right;\">         0.000101776</td><td style=\"text-align: right;\">      0</td></tr>\n",
       "<tr><td style=\"text-align: right;\">         0.000598604</td><td style=\"text-align: right;\">      0</td></tr>\n",
       "<tr><td style=\"text-align: right;\">         0.00011135 </td><td style=\"text-align: right;\">      0</td></tr>\n",
       "<tr><td style=\"text-align: right;\">         0.000262742</td><td style=\"text-align: right;\">      0</td></tr>\n",
       "<tr><td style=\"text-align: right;\">         4.23423e-05</td><td style=\"text-align: right;\">      0</td></tr>\n",
       "<tr><td style=\"text-align: right;\">         6.60165e-05</td><td style=\"text-align: right;\">      0</td></tr>\n",
       "<tr><td style=\"text-align: right;\">         0.000398629</td><td style=\"text-align: right;\">      0</td></tr>\n",
       "<tr><td style=\"text-align: right;\">         9.75006e-05</td><td style=\"text-align: right;\">      0</td></tr>\n",
       "<tr><td style=\"text-align: right;\">         8.28065e-05</td><td style=\"text-align: right;\">      0</td></tr>\n",
       "</tbody>\n",
       "</table>"
      ]
     },
     "metadata": {},
     "output_type": "display_data"
    },
    {
     "data": {
      "text/plain": []
     },
     "execution_count": 20,
     "metadata": {},
     "output_type": "execute_result"
    }
   ],
   "source": [
    "err"
   ]
  },
  {
   "cell_type": "code",
   "execution_count": 21,
   "metadata": {},
   "outputs": [],
   "source": [
    "err=err.as_data_frame()"
   ]
  },
  {
   "cell_type": "code",
   "execution_count": 22,
   "metadata": {},
   "outputs": [],
   "source": [
    "err=tf.cast(err.values, tf.float32)"
   ]
  },
  {
   "cell_type": "code",
   "execution_count": 23,
   "metadata": {},
   "outputs": [
    {
     "data": {
      "text/plain": [
       "0.00038484595"
      ]
     },
     "execution_count": 23,
     "metadata": {},
     "output_type": "execute_result"
    }
   ],
   "source": [
    "np.average(err[:,0])"
   ]
  },
  {
   "cell_type": "code",
   "execution_count": 24,
   "metadata": {},
   "outputs": [
    {
     "data": {
      "text/plain": [
       "<tf.Tensor: shape=(2, 2), dtype=float32, numpy=\n",
       "array([[1.        , 0.45944107],\n",
       "       [0.45944107, 0.9999914 ]], dtype=float32)>"
      ]
     },
     "execution_count": 24,
     "metadata": {},
     "output_type": "execute_result"
    }
   ],
   "source": [
    "#find correlation between reconstruction error and fraud flag\n",
    "\n",
    "tfp.stats.correlation(\n",
    "    err, y=None, sample_axis=0, event_axis=-1, keepdims=False, name=None\n",
    ")"
   ]
  },
  {
   "cell_type": "code",
   "execution_count": 25,
   "metadata": {},
   "outputs": [
    {
     "data": {
      "text/plain": [
       "[<tf.Tensor: shape=(2,), dtype=float32, numpy=array([-517.10144 ,    9.424312], dtype=float32)>,\n",
       " <tf.Tensor: shape=(284807,), dtype=float32, numpy=\n",
       " array([-0.06344198, -0.05262848, -0.30953917, ..., -0.23271678,\n",
       "        -0.5250792 , -0.20824815], dtype=float32)>,\n",
       " <tf.Tensor: shape=(), dtype=bool, numpy=False>,\n",
       " <tf.Tensor: shape=(), dtype=int32, numpy=1>]"
      ]
     },
     "execution_count": 25,
     "metadata": {},
     "output_type": "execute_result"
    }
   ],
   "source": [
    "#fit a glm to access if reconstruction error is a predictor of fraud\n",
    "\n",
    "tfp.glm.fit(\n",
    "    model_matrix=err, response=err[:,1], model=tfp.glm.Bernoulli(), model_coefficients_start=None,\n",
    "    predicted_linear_response_start=None, l2_regularizer=None, dispersion=None,\n",
    "    offset=None, convergence_criteria_fn=None, learning_rate=None,\n",
    "    fast_unsafe_numerics=True, maximum_iterations=1,\n",
    "    l2_regularization_penalty_factor=None, name=None\n",
    ")"
   ]
  },
  {
   "cell_type": "code",
   "execution_count": 26,
   "metadata": {},
   "outputs": [
    {
     "data": {
      "text/plain": [
       "<tf.Tensor: shape=(), dtype=float32, numpy=0.9999218>"
      ]
     },
     "execution_count": 26,
     "metadata": {},
     "output_type": "execute_result"
    }
   ],
   "source": [
    "def logit2prob(logit):\n",
    "  odds = tf.exp(logit)\n",
    "  prob = odds / (1.000 + odds)\n",
    "  return(prob)\n",
    "logit2prob(9.456)"
   ]
  },
  {
   "cell_type": "code",
   "execution_count": 27,
   "metadata": {},
   "outputs": [],
   "source": [
    "data=data.scale(center=True,scale=True)\n",
    "data=np.array(data[:,x].as_data_frame())\n",
    "data=tf.keras.utils.normalize(\n",
    "    data, axis=-1, order=2\n",
    ")"
   ]
  },
  {
   "cell_type": "code",
   "execution_count": 28,
   "metadata": {},
   "outputs": [
    {
     "data": {
      "text/plain": [
       "(284807, 30)"
      ]
     },
     "execution_count": 28,
     "metadata": {},
     "output_type": "execute_result"
    }
   ],
   "source": [
    "data.shape"
   ]
  },
  {
   "cell_type": "code",
   "execution_count": 29,
   "metadata": {},
   "outputs": [
    {
     "name": "stderr",
     "output_type": "stream",
     "text": [
      "C:\\Users\\Michael Lanier\\AppData\\Local\\Continuum\\anaconda3\\lib\\site-packages\\ipykernel_launcher.py:1: DeprecationWarning: Deprecated, use ``h2o.cluster().shutdown()``.\n",
      "  \"\"\"Entry point for launching an IPython kernel.\n"
     ]
    },
    {
     "name": "stdout",
     "output_type": "stream",
     "text": [
      "H2O session _sid_9506 closed.\n"
     ]
    }
   ],
   "source": [
    "h2o.shutdown()"
   ]
  },
  {
   "cell_type": "code",
   "execution_count": 37,
   "metadata": {},
   "outputs": [],
   "source": [
    "nb_epoch = 10\n",
    "batch_size = 128\n",
    "input_dim = data.shape[1] #num of columns, 30\n",
    "encoding_dim = 10\n",
    "hidden_dim = 10 \n",
    "\n",
    "\n",
    "input_layer = Input(shape=(input_dim, ))\n",
    "encoder = Dense(encoding_dim, activation=\"tanh\",kernel_initializer=keras.initializers.RandomNormal(mean=0.0, stddev=0.05, seed=None))(input_layer)\n",
    "encoder = Dense(encoding_dim, activation=\"tanh\",kernel_initializer=keras.initializers.RandomNormal(mean=0.0, stddev=0.05, seed=None))(encoder)\n",
    "\n",
    "decoder = Dense(input_dim, activation='tanh',kernel_initializer=keras.initializers.RandomNormal(mean=0.0, stddev=0.05, seed=None))(encoder)\n",
    "autoencoder = Model(inputs=input_layer, outputs=decoder)"
   ]
  },
  {
   "cell_type": "code",
   "execution_count": 31,
   "metadata": {},
   "outputs": [],
   "source": [
    "#logdir=\"C:\\\\Users\\\\Michael Lanier\\\\notebook\\\\logs\"\n",
    "#!mkdir 'C:\\\\Users\\\\Michael Lanier\\\\notebook\\\\logs\\\\train'\n",
    "#!tensorboard --logdir \"C:\\Users\\Michael Lanier\\notebook\\logs\""
   ]
  },
  {
   "cell_type": "code",
   "execution_count": 38,
   "metadata": {},
   "outputs": [],
   "source": [
    "keras.backend.clear_session()"
   ]
  },
  {
   "cell_type": "code",
   "execution_count": 39,
   "metadata": {},
   "outputs": [
    {
     "name": "stdout",
     "output_type": "stream",
     "text": [
      "Train on 284807 samples\n",
      "Epoch 1/10\n",
      "283008/284807 [============================>.] - ETA: 8:20 - loss: 0.0333 - mean_absolute_error: 0.139 - ETA: 33s - loss: 0.0332 - mean_absolute_error: 0.139 - ETA: 19s - loss: 0.0330 - mean_absolute_error: 0.13 - ETA: 15s - loss: 0.0328 - mean_absolute_error: 0.13 - ETA: 12s - loss: 0.0324 - mean_absolute_error: 0.13 - ETA: 11s - loss: 0.0318 - mean_absolute_error: 0.13 - ETA: 10s - loss: 0.0311 - mean_absolute_error: 0.13 - ETA: 9s - loss: 0.0304 - mean_absolute_error: 0.1323 - ETA: 9s - loss: 0.0297 - mean_absolute_error: 0.130 - ETA: 8s - loss: 0.0291 - mean_absolute_error: 0.129 - ETA: 8s - loss: 0.0284 - mean_absolute_error: 0.127 - ETA: 8s - loss: 0.0279 - mean_absolute_error: 0.126 - ETA: 7s - loss: 0.0273 - mean_absolute_error: 0.124 - ETA: 7s - loss: 0.0268 - mean_absolute_error: 0.123 - ETA: 7s - loss: 0.0262 - mean_absolute_error: 0.121 - ETA: 6s - loss: 0.0257 - mean_absolute_error: 0.120 - ETA: 6s - loss: 0.0253 - mean_absolute_error: 0.119 - ETA: 6s - loss: 0.0249 - mean_absolute_error: 0.118 - ETA: 6s - loss: 0.0245 - mean_absolute_error: 0.117 - ETA: 6s - loss: 0.0242 - mean_absolute_error: 0.115 - ETA: 6s - loss: 0.0238 - mean_absolute_error: 0.114 - ETA: 5s - loss: 0.0235 - mean_absolute_error: 0.114 - ETA: 5s - loss: 0.0232 - mean_absolute_error: 0.113 - ETA: 5s - loss: 0.0229 - mean_absolute_error: 0.112 - ETA: 5s - loss: 0.0226 - mean_absolute_error: 0.111 - ETA: 5s - loss: 0.0224 - mean_absolute_error: 0.110 - ETA: 5s - loss: 0.0221 - mean_absolute_error: 0.109 - ETA: 5s - loss: 0.0219 - mean_absolute_error: 0.109 - ETA: 5s - loss: 0.0216 - mean_absolute_error: 0.108 - ETA: 5s - loss: 0.0214 - mean_absolute_error: 0.107 - ETA: 4s - loss: 0.0212 - mean_absolute_error: 0.107 - ETA: 4s - loss: 0.0210 - mean_absolute_error: 0.106 - ETA: 4s - loss: 0.0208 - mean_absolute_error: 0.105 - ETA: 4s - loss: 0.0206 - mean_absolute_error: 0.105 - ETA: 4s - loss: 0.0205 - mean_absolute_error: 0.104 - ETA: 4s - loss: 0.0203 - mean_absolute_error: 0.104 - ETA: 4s - loss: 0.0201 - mean_absolute_error: 0.103 - ETA: 4s - loss: 0.0199 - mean_absolute_error: 0.103 - ETA: 4s - loss: 0.0198 - mean_absolute_error: 0.102 - ETA: 4s - loss: 0.0196 - mean_absolute_error: 0.102 - ETA: 4s - loss: 0.0195 - mean_absolute_error: 0.101 - ETA: 4s - loss: 0.0193 - mean_absolute_error: 0.101 - ETA: 4s - loss: 0.0192 - mean_absolute_error: 0.100 - ETA: 3s - loss: 0.0191 - mean_absolute_error: 0.100 - ETA: 3s - loss: 0.0190 - mean_absolute_error: 0.099 - ETA: 3s - loss: 0.0189 - mean_absolute_error: 0.099 - ETA: 3s - loss: 0.0188 - mean_absolute_error: 0.099 - ETA: 3s - loss: 0.0187 - mean_absolute_error: 0.098 - ETA: 3s - loss: 0.0186 - mean_absolute_error: 0.098 - ETA: 3s - loss: 0.0185 - mean_absolute_error: 0.098 - ETA: 3s - loss: 0.0184 - mean_absolute_error: 0.097 - ETA: 3s - loss: 0.0183 - mean_absolute_error: 0.097 - ETA: 3s - loss: 0.0182 - mean_absolute_error: 0.097 - ETA: 3s - loss: 0.0181 - mean_absolute_error: 0.096 - ETA: 3s - loss: 0.0181 - mean_absolute_error: 0.096 - ETA: 3s - loss: 0.0180 - mean_absolute_error: 0.096 - ETA: 3s - loss: 0.0179 - mean_absolute_error: 0.096 - ETA: 3s - loss: 0.0179 - mean_absolute_error: 0.095 - ETA: 3s - loss: 0.0178 - mean_absolute_error: 0.095 - ETA: 2s - loss: 0.0177 - mean_absolute_error: 0.095 - ETA: 2s - loss: 0.0177 - mean_absolute_error: 0.095 - ETA: 2s - loss: 0.0176 - mean_absolute_error: 0.094 - ETA: 2s - loss: 0.0175 - mean_absolute_error: 0.094 - ETA: 2s - loss: 0.0175 - mean_absolute_error: 0.094 - ETA: 2s - loss: 0.0174 - mean_absolute_error: 0.094 - ETA: 2s - loss: 0.0174 - mean_absolute_error: 0.094 - ETA: 2s - loss: 0.0173 - mean_absolute_error: 0.093 - ETA: 2s - loss: 0.0173 - mean_absolute_error: 0.093 - ETA: 2s - loss: 0.0172 - mean_absolute_error: 0.093 - ETA: 2s - loss: 0.0172 - mean_absolute_error: 0.093 - ETA: 2s - loss: 0.0171 - mean_absolute_error: 0.093 - ETA: 2s - loss: 0.0171 - mean_absolute_error: 0.093 - ETA: 2s - loss: 0.0170 - mean_absolute_error: 0.092 - ETA: 2s - loss: 0.0170 - mean_absolute_error: 0.092 - ETA: 2s - loss: 0.0170 - mean_absolute_error: 0.092 - ETA: 2s - loss: 0.0169 - mean_absolute_error: 0.092 - ETA: 2s - loss: 0.0169 - mean_absolute_error: 0.092 - ETA: 1s - loss: 0.0169 - mean_absolute_error: 0.092 - ETA: 1s - loss: 0.0168 - mean_absolute_error: 0.092 - ETA: 1s - loss: 0.0168 - mean_absolute_error: 0.091 - ETA: 1s - loss: 0.0167 - mean_absolute_error: 0.091 - ETA: 1s - loss: 0.0167 - mean_absolute_error: 0.091 - ETA: 1s - loss: 0.0167 - mean_absolute_error: 0.091 - ETA: 1s - loss: 0.0166 - mean_absolute_error: 0.091 - ETA: 1s - loss: 0.0166 - mean_absolute_error: 0.091 - ETA: 1s - loss: 0.0166 - mean_absolute_error: 0.091 - ETA: 1s - loss: 0.0166 - mean_absolute_error: 0.091 - ETA: 1s - loss: 0.0165 - mean_absolute_error: 0.090 - ETA: 1s - loss: 0.0165 - mean_absolute_error: 0.090 - ETA: 1s - loss: 0.0165 - mean_absolute_error: 0.090 - ETA: 1s - loss: 0.0164 - mean_absolute_error: 0.090 - ETA: 1s - loss: 0.0164 - mean_absolute_error: 0.090 - ETA: 1s - loss: 0.0164 - mean_absolute_error: 0.090 - ETA: 1s - loss: 0.0163 - mean_absolute_error: 0.090 - ETA: 1s - loss: 0.0163 - mean_absolute_error: 0.090 - ETA: 1s - loss: 0.0163 - mean_absolute_error: 0.090 - ETA: 0s - loss: 0.0163 - mean_absolute_error: 0.090 - ETA: 0s - loss: 0.0162 - mean_absolute_error: 0.089 - ETA: 0s - loss: 0.0162 - mean_absolute_error: 0.089 - ETA: 0s - loss: 0.0162 - mean_absolute_error: 0.089 - ETA: 0s - loss: 0.0162 - mean_absolute_error: 0.089 - ETA: 0s - loss: 0.0162 - mean_absolute_error: 0.089 - ETA: 0s - loss: 0.0161 - mean_absolute_error: 0.089 - ETA: 0s - loss: 0.0161 - mean_absolute_error: 0.089 - ETA: 0s - loss: 0.0161 - mean_absolute_error: 0.089 - ETA: 0s - loss: 0.0161 - mean_absolute_error: 0.089 - ETA: 0s - loss: 0.0160 - mean_absolute_error: 0.089 - ETA: 0s - loss: 0.0160 - mean_absolute_error: 0.089 - ETA: 0s - loss: 0.0160 - mean_absolute_error: 0.089 - ETA: 0s - loss: 0.0160 - mean_absolute_error: 0.088 - ETA: 0s - loss: 0.0160 - mean_absolute_error: 0.088 - ETA: 0s - loss: 0.0159 - mean_absolute_error: 0.088 - ETA: 0s - loss: 0.0159 - mean_absolute_error: 0.088 - ETA: 0s - loss: 0.0159 - mean_absolute_error: 0.088 - ETA: 0s - loss: 0.0159 - mean_absolute_error: 0.0885\n",
      "Epoch 00001: saving model to autoencoder_fraud.h5\n",
      "284807/284807 [==============================] - 6s 22us/sample - loss: 0.0159 - mean_absolute_error: 0.0885\n",
      "Epoch 2/10\n"
     ]
    },
    {
     "name": "stdout",
     "output_type": "stream",
     "text": [
      "283904/284807 [============================>.] - ETA: 8s - loss: 0.0137 - mean_absolute_error: 0.078 - ETA: 6s - loss: 0.0135 - mean_absolute_error: 0.079 - ETA: 6s - loss: 0.0136 - mean_absolute_error: 0.080 - ETA: 6s - loss: 0.0136 - mean_absolute_error: 0.080 - ETA: 6s - loss: 0.0136 - mean_absolute_error: 0.080 - ETA: 6s - loss: 0.0136 - mean_absolute_error: 0.080 - ETA: 6s - loss: 0.0136 - mean_absolute_error: 0.080 - ETA: 6s - loss: 0.0136 - mean_absolute_error: 0.080 - ETA: 6s - loss: 0.0137 - mean_absolute_error: 0.080 - ETA: 6s - loss: 0.0137 - mean_absolute_error: 0.080 - ETA: 5s - loss: 0.0137 - mean_absolute_error: 0.080 - ETA: 5s - loss: 0.0137 - mean_absolute_error: 0.080 - ETA: 5s - loss: 0.0137 - mean_absolute_error: 0.080 - ETA: 5s - loss: 0.0138 - mean_absolute_error: 0.080 - ETA: 5s - loss: 0.0138 - mean_absolute_error: 0.080 - ETA: 5s - loss: 0.0138 - mean_absolute_error: 0.080 - ETA: 5s - loss: 0.0138 - mean_absolute_error: 0.080 - ETA: 5s - loss: 0.0138 - mean_absolute_error: 0.080 - ETA: 5s - loss: 0.0138 - mean_absolute_error: 0.080 - ETA: 5s - loss: 0.0138 - mean_absolute_error: 0.080 - ETA: 5s - loss: 0.0138 - mean_absolute_error: 0.080 - ETA: 5s - loss: 0.0138 - mean_absolute_error: 0.080 - ETA: 5s - loss: 0.0138 - mean_absolute_error: 0.080 - ETA: 4s - loss: 0.0138 - mean_absolute_error: 0.080 - ETA: 4s - loss: 0.0138 - mean_absolute_error: 0.080 - ETA: 4s - loss: 0.0139 - mean_absolute_error: 0.080 - ETA: 4s - loss: 0.0139 - mean_absolute_error: 0.080 - ETA: 4s - loss: 0.0139 - mean_absolute_error: 0.080 - ETA: 4s - loss: 0.0138 - mean_absolute_error: 0.080 - ETA: 4s - loss: 0.0139 - mean_absolute_error: 0.080 - ETA: 4s - loss: 0.0139 - mean_absolute_error: 0.080 - ETA: 4s - loss: 0.0139 - mean_absolute_error: 0.080 - ETA: 4s - loss: 0.0139 - mean_absolute_error: 0.080 - ETA: 4s - loss: 0.0139 - mean_absolute_error: 0.080 - ETA: 4s - loss: 0.0139 - mean_absolute_error: 0.080 - ETA: 4s - loss: 0.0138 - mean_absolute_error: 0.080 - ETA: 4s - loss: 0.0138 - mean_absolute_error: 0.080 - ETA: 4s - loss: 0.0138 - mean_absolute_error: 0.080 - ETA: 4s - loss: 0.0138 - mean_absolute_error: 0.080 - ETA: 4s - loss: 0.0138 - mean_absolute_error: 0.080 - ETA: 4s - loss: 0.0138 - mean_absolute_error: 0.080 - ETA: 4s - loss: 0.0138 - mean_absolute_error: 0.080 - ETA: 4s - loss: 0.0138 - mean_absolute_error: 0.080 - ETA: 3s - loss: 0.0138 - mean_absolute_error: 0.080 - ETA: 3s - loss: 0.0138 - mean_absolute_error: 0.080 - ETA: 3s - loss: 0.0138 - mean_absolute_error: 0.080 - ETA: 3s - loss: 0.0138 - mean_absolute_error: 0.080 - ETA: 3s - loss: 0.0138 - mean_absolute_error: 0.080 - ETA: 3s - loss: 0.0138 - mean_absolute_error: 0.080 - ETA: 3s - loss: 0.0138 - mean_absolute_error: 0.080 - ETA: 3s - loss: 0.0138 - mean_absolute_error: 0.080 - ETA: 3s - loss: 0.0138 - mean_absolute_error: 0.080 - ETA: 3s - loss: 0.0138 - mean_absolute_error: 0.080 - ETA: 3s - loss: 0.0138 - mean_absolute_error: 0.080 - ETA: 3s - loss: 0.0138 - mean_absolute_error: 0.080 - ETA: 3s - loss: 0.0138 - mean_absolute_error: 0.080 - ETA: 3s - loss: 0.0138 - mean_absolute_error: 0.080 - ETA: 3s - loss: 0.0138 - mean_absolute_error: 0.080 - ETA: 3s - loss: 0.0138 - mean_absolute_error: 0.080 - ETA: 3s - loss: 0.0138 - mean_absolute_error: 0.080 - ETA: 3s - loss: 0.0138 - mean_absolute_error: 0.080 - ETA: 3s - loss: 0.0138 - mean_absolute_error: 0.080 - ETA: 3s - loss: 0.0138 - mean_absolute_error: 0.080 - ETA: 2s - loss: 0.0138 - mean_absolute_error: 0.080 - ETA: 2s - loss: 0.0138 - mean_absolute_error: 0.080 - ETA: 2s - loss: 0.0138 - mean_absolute_error: 0.080 - ETA: 2s - loss: 0.0138 - mean_absolute_error: 0.080 - ETA: 2s - loss: 0.0138 - mean_absolute_error: 0.080 - ETA: 2s - loss: 0.0138 - mean_absolute_error: 0.080 - ETA: 2s - loss: 0.0138 - mean_absolute_error: 0.080 - ETA: 2s - loss: 0.0138 - mean_absolute_error: 0.080 - ETA: 2s - loss: 0.0138 - mean_absolute_error: 0.080 - ETA: 2s - loss: 0.0138 - mean_absolute_error: 0.080 - ETA: 2s - loss: 0.0138 - mean_absolute_error: 0.080 - ETA: 2s - loss: 0.0138 - mean_absolute_error: 0.080 - ETA: 2s - loss: 0.0138 - mean_absolute_error: 0.080 - ETA: 2s - loss: 0.0138 - mean_absolute_error: 0.080 - ETA: 2s - loss: 0.0138 - mean_absolute_error: 0.080 - ETA: 2s - loss: 0.0138 - mean_absolute_error: 0.080 - ETA: 2s - loss: 0.0138 - mean_absolute_error: 0.080 - ETA: 2s - loss: 0.0138 - mean_absolute_error: 0.080 - ETA: 2s - loss: 0.0138 - mean_absolute_error: 0.080 - ETA: 2s - loss: 0.0138 - mean_absolute_error: 0.080 - ETA: 2s - loss: 0.0138 - mean_absolute_error: 0.080 - ETA: 2s - loss: 0.0138 - mean_absolute_error: 0.080 - ETA: 1s - loss: 0.0138 - mean_absolute_error: 0.080 - ETA: 1s - loss: 0.0138 - mean_absolute_error: 0.080 - ETA: 1s - loss: 0.0138 - mean_absolute_error: 0.080 - ETA: 1s - loss: 0.0138 - mean_absolute_error: 0.080 - ETA: 1s - loss: 0.0138 - mean_absolute_error: 0.080 - ETA: 1s - loss: 0.0138 - mean_absolute_error: 0.080 - ETA: 1s - loss: 0.0138 - mean_absolute_error: 0.080 - ETA: 1s - loss: 0.0138 - mean_absolute_error: 0.080 - ETA: 1s - loss: 0.0138 - mean_absolute_error: 0.080 - ETA: 1s - loss: 0.0138 - mean_absolute_error: 0.080 - ETA: 1s - loss: 0.0138 - mean_absolute_error: 0.080 - ETA: 1s - loss: 0.0138 - mean_absolute_error: 0.080 - ETA: 1s - loss: 0.0138 - mean_absolute_error: 0.080 - ETA: 1s - loss: 0.0138 - mean_absolute_error: 0.080 - ETA: 1s - loss: 0.0138 - mean_absolute_error: 0.080 - ETA: 1s - loss: 0.0138 - mean_absolute_error: 0.080 - ETA: 1s - loss: 0.0138 - mean_absolute_error: 0.080 - ETA: 1s - loss: 0.0138 - mean_absolute_error: 0.080 - ETA: 1s - loss: 0.0138 - mean_absolute_error: 0.080 - ETA: 1s - loss: 0.0138 - mean_absolute_error: 0.080 - ETA: 1s - loss: 0.0138 - mean_absolute_error: 0.080 - ETA: 0s - loss: 0.0138 - mean_absolute_error: 0.080 - ETA: 0s - loss: 0.0138 - mean_absolute_error: 0.080 - ETA: 0s - loss: 0.0138 - mean_absolute_error: 0.080 - ETA: 0s - loss: 0.0138 - mean_absolute_error: 0.080 - ETA: 0s - loss: 0.0138 - mean_absolute_error: 0.080 - ETA: 0s - loss: 0.0138 - mean_absolute_error: 0.080 - ETA: 0s - loss: 0.0138 - mean_absolute_error: 0.080 - ETA: 0s - loss: 0.0138 - mean_absolute_error: 0.080 - ETA: 0s - loss: 0.0138 - mean_absolute_error: 0.080 - ETA: 0s - loss: 0.0138 - mean_absolute_error: 0.080 - ETA: 0s - loss: 0.0138 - mean_absolute_error: 0.080 - ETA: 0s - loss: 0.0138 - mean_absolute_error: 0.080 - ETA: 0s - loss: 0.0138 - mean_absolute_error: 0.080 - ETA: 0s - loss: 0.0138 - mean_absolute_error: 0.080 - ETA: 0s - loss: 0.0138 - mean_absolute_error: 0.080 - ETA: 0s - loss: 0.0138 - mean_absolute_error: 0.080 - ETA: 0s - loss: 0.0138 - mean_absolute_error: 0.080 - ETA: 0s - loss: 0.0138 - mean_absolute_error: 0.0805\n",
      "Epoch 00002: saving model to autoencoder_fraud.h5\n",
      "284807/284807 [==============================] - 6s 22us/sample - loss: 0.0138 - mean_absolute_error: 0.0805\n",
      "Epoch 3/10\n"
     ]
    },
    {
     "name": "stdout",
     "output_type": "stream",
     "text": [
      "284288/284807 [============================>.] - ETA: 11s - loss: 0.0123 - mean_absolute_error: 0.07 - ETA: 6s - loss: 0.0139 - mean_absolute_error: 0.0809 - ETA: 6s - loss: 0.0140 - mean_absolute_error: 0.081 - ETA: 6s - loss: 0.0139 - mean_absolute_error: 0.080 - ETA: 6s - loss: 0.0139 - mean_absolute_error: 0.080 - ETA: 6s - loss: 0.0139 - mean_absolute_error: 0.080 - ETA: 6s - loss: 0.0139 - mean_absolute_error: 0.080 - ETA: 6s - loss: 0.0139 - mean_absolute_error: 0.080 - ETA: 6s - loss: 0.0139 - mean_absolute_error: 0.080 - ETA: 6s - loss: 0.0139 - mean_absolute_error: 0.080 - ETA: 6s - loss: 0.0139 - mean_absolute_error: 0.080 - ETA: 6s - loss: 0.0139 - mean_absolute_error: 0.080 - ETA: 6s - loss: 0.0139 - mean_absolute_error: 0.080 - ETA: 6s - loss: 0.0139 - mean_absolute_error: 0.080 - ETA: 5s - loss: 0.0139 - mean_absolute_error: 0.080 - ETA: 5s - loss: 0.0139 - mean_absolute_error: 0.080 - ETA: 5s - loss: 0.0139 - mean_absolute_error: 0.080 - ETA: 5s - loss: 0.0139 - mean_absolute_error: 0.080 - ETA: 5s - loss: 0.0139 - mean_absolute_error: 0.080 - ETA: 5s - loss: 0.0139 - mean_absolute_error: 0.080 - ETA: 5s - loss: 0.0139 - mean_absolute_error: 0.080 - ETA: 5s - loss: 0.0139 - mean_absolute_error: 0.080 - ETA: 5s - loss: 0.0139 - mean_absolute_error: 0.080 - ETA: 5s - loss: 0.0139 - mean_absolute_error: 0.080 - ETA: 5s - loss: 0.0139 - mean_absolute_error: 0.080 - ETA: 5s - loss: 0.0139 - mean_absolute_error: 0.080 - ETA: 5s - loss: 0.0139 - mean_absolute_error: 0.080 - ETA: 5s - loss: 0.0139 - mean_absolute_error: 0.080 - ETA: 5s - loss: 0.0139 - mean_absolute_error: 0.080 - ETA: 5s - loss: 0.0139 - mean_absolute_error: 0.080 - ETA: 5s - loss: 0.0139 - mean_absolute_error: 0.080 - ETA: 4s - loss: 0.0139 - mean_absolute_error: 0.080 - ETA: 4s - loss: 0.0139 - mean_absolute_error: 0.080 - ETA: 4s - loss: 0.0139 - mean_absolute_error: 0.080 - ETA: 4s - loss: 0.0138 - mean_absolute_error: 0.080 - ETA: 4s - loss: 0.0138 - mean_absolute_error: 0.080 - ETA: 4s - loss: 0.0138 - mean_absolute_error: 0.080 - ETA: 4s - loss: 0.0138 - mean_absolute_error: 0.080 - ETA: 4s - loss: 0.0138 - mean_absolute_error: 0.080 - ETA: 4s - loss: 0.0138 - mean_absolute_error: 0.080 - ETA: 4s - loss: 0.0138 - mean_absolute_error: 0.080 - ETA: 4s - loss: 0.0138 - mean_absolute_error: 0.080 - ETA: 4s - loss: 0.0138 - mean_absolute_error: 0.080 - ETA: 4s - loss: 0.0138 - mean_absolute_error: 0.080 - ETA: 4s - loss: 0.0138 - mean_absolute_error: 0.080 - ETA: 4s - loss: 0.0138 - mean_absolute_error: 0.080 - ETA: 3s - loss: 0.0138 - mean_absolute_error: 0.080 - ETA: 3s - loss: 0.0138 - mean_absolute_error: 0.080 - ETA: 3s - loss: 0.0138 - mean_absolute_error: 0.080 - ETA: 3s - loss: 0.0138 - mean_absolute_error: 0.080 - ETA: 3s - loss: 0.0138 - mean_absolute_error: 0.080 - ETA: 3s - loss: 0.0138 - mean_absolute_error: 0.080 - ETA: 3s - loss: 0.0138 - mean_absolute_error: 0.080 - ETA: 3s - loss: 0.0138 - mean_absolute_error: 0.080 - ETA: 3s - loss: 0.0138 - mean_absolute_error: 0.080 - ETA: 3s - loss: 0.0138 - mean_absolute_error: 0.080 - ETA: 3s - loss: 0.0138 - mean_absolute_error: 0.080 - ETA: 3s - loss: 0.0138 - mean_absolute_error: 0.080 - ETA: 3s - loss: 0.0138 - mean_absolute_error: 0.080 - ETA: 3s - loss: 0.0138 - mean_absolute_error: 0.080 - ETA: 3s - loss: 0.0138 - mean_absolute_error: 0.080 - ETA: 3s - loss: 0.0138 - mean_absolute_error: 0.080 - ETA: 2s - loss: 0.0138 - mean_absolute_error: 0.080 - ETA: 2s - loss: 0.0138 - mean_absolute_error: 0.080 - ETA: 2s - loss: 0.0138 - mean_absolute_error: 0.080 - ETA: 2s - loss: 0.0138 - mean_absolute_error: 0.080 - ETA: 2s - loss: 0.0138 - mean_absolute_error: 0.080 - ETA: 2s - loss: 0.0138 - mean_absolute_error: 0.080 - ETA: 2s - loss: 0.0138 - mean_absolute_error: 0.080 - ETA: 2s - loss: 0.0138 - mean_absolute_error: 0.080 - ETA: 2s - loss: 0.0138 - mean_absolute_error: 0.080 - ETA: 2s - loss: 0.0138 - mean_absolute_error: 0.080 - ETA: 2s - loss: 0.0138 - mean_absolute_error: 0.080 - ETA: 2s - loss: 0.0138 - mean_absolute_error: 0.080 - ETA: 2s - loss: 0.0138 - mean_absolute_error: 0.080 - ETA: 2s - loss: 0.0138 - mean_absolute_error: 0.080 - ETA: 2s - loss: 0.0138 - mean_absolute_error: 0.080 - ETA: 2s - loss: 0.0138 - mean_absolute_error: 0.080 - ETA: 2s - loss: 0.0138 - mean_absolute_error: 0.080 - ETA: 2s - loss: 0.0138 - mean_absolute_error: 0.080 - ETA: 1s - loss: 0.0138 - mean_absolute_error: 0.080 - ETA: 1s - loss: 0.0138 - mean_absolute_error: 0.080 - ETA: 1s - loss: 0.0138 - mean_absolute_error: 0.080 - ETA: 1s - loss: 0.0138 - mean_absolute_error: 0.080 - ETA: 1s - loss: 0.0138 - mean_absolute_error: 0.080 - ETA: 1s - loss: 0.0138 - mean_absolute_error: 0.080 - ETA: 1s - loss: 0.0138 - mean_absolute_error: 0.080 - ETA: 1s - loss: 0.0138 - mean_absolute_error: 0.080 - ETA: 1s - loss: 0.0138 - mean_absolute_error: 0.080 - ETA: 1s - loss: 0.0138 - mean_absolute_error: 0.080 - ETA: 1s - loss: 0.0138 - mean_absolute_error: 0.080 - ETA: 1s - loss: 0.0138 - mean_absolute_error: 0.080 - ETA: 1s - loss: 0.0138 - mean_absolute_error: 0.080 - ETA: 1s - loss: 0.0138 - mean_absolute_error: 0.080 - ETA: 1s - loss: 0.0138 - mean_absolute_error: 0.080 - ETA: 1s - loss: 0.0138 - mean_absolute_error: 0.080 - ETA: 1s - loss: 0.0138 - mean_absolute_error: 0.080 - ETA: 1s - loss: 0.0138 - mean_absolute_error: 0.080 - ETA: 1s - loss: 0.0138 - mean_absolute_error: 0.080 - ETA: 0s - loss: 0.0138 - mean_absolute_error: 0.080 - ETA: 0s - loss: 0.0138 - mean_absolute_error: 0.080 - ETA: 0s - loss: 0.0138 - mean_absolute_error: 0.080 - ETA: 0s - loss: 0.0138 - mean_absolute_error: 0.080 - ETA: 0s - loss: 0.0138 - mean_absolute_error: 0.080 - ETA: 0s - loss: 0.0138 - mean_absolute_error: 0.080 - ETA: 0s - loss: 0.0138 - mean_absolute_error: 0.080 - ETA: 0s - loss: 0.0138 - mean_absolute_error: 0.080 - ETA: 0s - loss: 0.0138 - mean_absolute_error: 0.080 - ETA: 0s - loss: 0.0138 - mean_absolute_error: 0.080 - ETA: 0s - loss: 0.0138 - mean_absolute_error: 0.080 - ETA: 0s - loss: 0.0138 - mean_absolute_error: 0.080 - ETA: 0s - loss: 0.0138 - mean_absolute_error: 0.080 - ETA: 0s - loss: 0.0138 - mean_absolute_error: 0.080 - ETA: 0s - loss: 0.0138 - mean_absolute_error: 0.080 - ETA: 0s - loss: 0.0138 - mean_absolute_error: 0.080 - ETA: 0s - loss: 0.0138 - mean_absolute_error: 0.080 - ETA: 0s - loss: 0.0138 - mean_absolute_error: 0.080 - ETA: 0s - loss: 0.0138 - mean_absolute_error: 0.080 - ETA: 0s - loss: 0.0138 - mean_absolute_error: 0.0804\n",
      "Epoch 00003: saving model to autoencoder_fraud.h5\n",
      "284807/284807 [==============================] - 6s 21us/sample - loss: 0.0138 - mean_absolute_error: 0.0804\n",
      "Epoch 4/10\n"
     ]
    },
    {
     "name": "stdout",
     "output_type": "stream",
     "text": [
      "283008/284807 [============================>.] - ETA: 8s - loss: 0.0129 - mean_absolute_error: 0.077 - ETA: 6s - loss: 0.0137 - mean_absolute_error: 0.079 - ETA: 5s - loss: 0.0139 - mean_absolute_error: 0.080 - ETA: 5s - loss: 0.0139 - mean_absolute_error: 0.080 - ETA: 5s - loss: 0.0139 - mean_absolute_error: 0.080 - ETA: 5s - loss: 0.0139 - mean_absolute_error: 0.080 - ETA: 5s - loss: 0.0139 - mean_absolute_error: 0.080 - ETA: 5s - loss: 0.0139 - mean_absolute_error: 0.080 - ETA: 5s - loss: 0.0139 - mean_absolute_error: 0.080 - ETA: 5s - loss: 0.0139 - mean_absolute_error: 0.080 - ETA: 5s - loss: 0.0139 - mean_absolute_error: 0.080 - ETA: 5s - loss: 0.0138 - mean_absolute_error: 0.080 - ETA: 5s - loss: 0.0138 - mean_absolute_error: 0.080 - ETA: 5s - loss: 0.0138 - mean_absolute_error: 0.080 - ETA: 5s - loss: 0.0138 - mean_absolute_error: 0.080 - ETA: 5s - loss: 0.0138 - mean_absolute_error: 0.080 - ETA: 5s - loss: 0.0138 - mean_absolute_error: 0.080 - ETA: 4s - loss: 0.0138 - mean_absolute_error: 0.080 - ETA: 4s - loss: 0.0138 - mean_absolute_error: 0.080 - ETA: 4s - loss: 0.0138 - mean_absolute_error: 0.080 - ETA: 4s - loss: 0.0138 - mean_absolute_error: 0.080 - ETA: 4s - loss: 0.0138 - mean_absolute_error: 0.080 - ETA: 4s - loss: 0.0138 - mean_absolute_error: 0.080 - ETA: 4s - loss: 0.0138 - mean_absolute_error: 0.080 - ETA: 4s - loss: 0.0138 - mean_absolute_error: 0.080 - ETA: 4s - loss: 0.0138 - mean_absolute_error: 0.080 - ETA: 4s - loss: 0.0138 - mean_absolute_error: 0.080 - ETA: 4s - loss: 0.0138 - mean_absolute_error: 0.080 - ETA: 4s - loss: 0.0138 - mean_absolute_error: 0.080 - ETA: 4s - loss: 0.0138 - mean_absolute_error: 0.080 - ETA: 4s - loss: 0.0138 - mean_absolute_error: 0.080 - ETA: 4s - loss: 0.0138 - mean_absolute_error: 0.080 - ETA: 4s - loss: 0.0138 - mean_absolute_error: 0.080 - ETA: 4s - loss: 0.0138 - mean_absolute_error: 0.080 - ETA: 4s - loss: 0.0138 - mean_absolute_error: 0.080 - ETA: 4s - loss: 0.0138 - mean_absolute_error: 0.080 - ETA: 4s - loss: 0.0138 - mean_absolute_error: 0.080 - ETA: 4s - loss: 0.0138 - mean_absolute_error: 0.080 - ETA: 3s - loss: 0.0138 - mean_absolute_error: 0.080 - ETA: 3s - loss: 0.0138 - mean_absolute_error: 0.080 - ETA: 3s - loss: 0.0138 - mean_absolute_error: 0.080 - ETA: 3s - loss: 0.0138 - mean_absolute_error: 0.080 - ETA: 3s - loss: 0.0138 - mean_absolute_error: 0.080 - ETA: 3s - loss: 0.0138 - mean_absolute_error: 0.080 - ETA: 3s - loss: 0.0138 - mean_absolute_error: 0.080 - ETA: 3s - loss: 0.0138 - mean_absolute_error: 0.080 - ETA: 3s - loss: 0.0138 - mean_absolute_error: 0.080 - ETA: 3s - loss: 0.0138 - mean_absolute_error: 0.080 - ETA: 3s - loss: 0.0138 - mean_absolute_error: 0.080 - ETA: 3s - loss: 0.0138 - mean_absolute_error: 0.080 - ETA: 3s - loss: 0.0138 - mean_absolute_error: 0.080 - ETA: 3s - loss: 0.0138 - mean_absolute_error: 0.080 - ETA: 3s - loss: 0.0138 - mean_absolute_error: 0.080 - ETA: 3s - loss: 0.0138 - mean_absolute_error: 0.080 - ETA: 3s - loss: 0.0138 - mean_absolute_error: 0.080 - ETA: 3s - loss: 0.0138 - mean_absolute_error: 0.080 - ETA: 3s - loss: 0.0138 - mean_absolute_error: 0.080 - ETA: 2s - loss: 0.0138 - mean_absolute_error: 0.080 - ETA: 2s - loss: 0.0138 - mean_absolute_error: 0.080 - ETA: 2s - loss: 0.0138 - mean_absolute_error: 0.080 - ETA: 2s - loss: 0.0138 - mean_absolute_error: 0.080 - ETA: 2s - loss: 0.0138 - mean_absolute_error: 0.080 - ETA: 2s - loss: 0.0138 - mean_absolute_error: 0.080 - ETA: 2s - loss: 0.0138 - mean_absolute_error: 0.080 - ETA: 2s - loss: 0.0138 - mean_absolute_error: 0.080 - ETA: 2s - loss: 0.0138 - mean_absolute_error: 0.080 - ETA: 2s - loss: 0.0138 - mean_absolute_error: 0.080 - ETA: 2s - loss: 0.0138 - mean_absolute_error: 0.080 - ETA: 2s - loss: 0.0138 - mean_absolute_error: 0.080 - ETA: 2s - loss: 0.0138 - mean_absolute_error: 0.080 - ETA: 2s - loss: 0.0138 - mean_absolute_error: 0.080 - ETA: 2s - loss: 0.0138 - mean_absolute_error: 0.080 - ETA: 2s - loss: 0.0138 - mean_absolute_error: 0.080 - ETA: 2s - loss: 0.0138 - mean_absolute_error: 0.080 - ETA: 2s - loss: 0.0138 - mean_absolute_error: 0.080 - ETA: 2s - loss: 0.0138 - mean_absolute_error: 0.080 - ETA: 2s - loss: 0.0138 - mean_absolute_error: 0.080 - ETA: 2s - loss: 0.0138 - mean_absolute_error: 0.080 - ETA: 2s - loss: 0.0138 - mean_absolute_error: 0.080 - ETA: 2s - loss: 0.0138 - mean_absolute_error: 0.080 - ETA: 1s - loss: 0.0138 - mean_absolute_error: 0.080 - ETA: 1s - loss: 0.0138 - mean_absolute_error: 0.080 - ETA: 1s - loss: 0.0138 - mean_absolute_error: 0.080 - ETA: 1s - loss: 0.0138 - mean_absolute_error: 0.080 - ETA: 1s - loss: 0.0138 - mean_absolute_error: 0.080 - ETA: 1s - loss: 0.0138 - mean_absolute_error: 0.080 - ETA: 1s - loss: 0.0138 - mean_absolute_error: 0.080 - ETA: 1s - loss: 0.0138 - mean_absolute_error: 0.080 - ETA: 1s - loss: 0.0138 - mean_absolute_error: 0.080 - ETA: 1s - loss: 0.0138 - mean_absolute_error: 0.080 - ETA: 1s - loss: 0.0138 - mean_absolute_error: 0.080 - ETA: 1s - loss: 0.0138 - mean_absolute_error: 0.080 - ETA: 1s - loss: 0.0138 - mean_absolute_error: 0.080 - ETA: 1s - loss: 0.0138 - mean_absolute_error: 0.080 - ETA: 1s - loss: 0.0138 - mean_absolute_error: 0.080 - ETA: 1s - loss: 0.0138 - mean_absolute_error: 0.080 - ETA: 1s - loss: 0.0138 - mean_absolute_error: 0.080 - ETA: 1s - loss: 0.0138 - mean_absolute_error: 0.080 - ETA: 0s - loss: 0.0138 - mean_absolute_error: 0.080 - ETA: 0s - loss: 0.0138 - mean_absolute_error: 0.080 - ETA: 0s - loss: 0.0138 - mean_absolute_error: 0.080 - ETA: 0s - loss: 0.0138 - mean_absolute_error: 0.080 - ETA: 0s - loss: 0.0138 - mean_absolute_error: 0.080 - ETA: 0s - loss: 0.0138 - mean_absolute_error: 0.080 - ETA: 0s - loss: 0.0138 - mean_absolute_error: 0.080 - ETA: 0s - loss: 0.0138 - mean_absolute_error: 0.080 - ETA: 0s - loss: 0.0138 - mean_absolute_error: 0.080 - ETA: 0s - loss: 0.0138 - mean_absolute_error: 0.080 - ETA: 0s - loss: 0.0138 - mean_absolute_error: 0.080 - ETA: 0s - loss: 0.0138 - mean_absolute_error: 0.080 - ETA: 0s - loss: 0.0138 - mean_absolute_error: 0.080 - ETA: 0s - loss: 0.0138 - mean_absolute_error: 0.080 - ETA: 0s - loss: 0.0138 - mean_absolute_error: 0.080 - ETA: 0s - loss: 0.0138 - mean_absolute_error: 0.080 - ETA: 0s - loss: 0.0138 - mean_absolute_error: 0.0802\n",
      "Epoch 00004: saving model to autoencoder_fraud.h5\n",
      "284807/284807 [==============================] - 6s 21us/sample - loss: 0.0138 - mean_absolute_error: 0.0802\n",
      "Epoch 5/10\n"
     ]
    },
    {
     "name": "stdout",
     "output_type": "stream",
     "text": [
      "284032/284807 [============================>.] - ETA: 8s - loss: 0.0132 - mean_absolute_error: 0.079 - ETA: 5s - loss: 0.0139 - mean_absolute_error: 0.080 - ETA: 5s - loss: 0.0137 - mean_absolute_error: 0.080 - ETA: 4s - loss: 0.0137 - mean_absolute_error: 0.079 - ETA: 4s - loss: 0.0137 - mean_absolute_error: 0.079 - ETA: 4s - loss: 0.0137 - mean_absolute_error: 0.079 - ETA: 4s - loss: 0.0137 - mean_absolute_error: 0.079 - ETA: 4s - loss: 0.0137 - mean_absolute_error: 0.079 - ETA: 4s - loss: 0.0137 - mean_absolute_error: 0.079 - ETA: 4s - loss: 0.0137 - mean_absolute_error: 0.079 - ETA: 4s - loss: 0.0137 - mean_absolute_error: 0.079 - ETA: 4s - loss: 0.0137 - mean_absolute_error: 0.079 - ETA: 4s - loss: 0.0137 - mean_absolute_error: 0.079 - ETA: 4s - loss: 0.0137 - mean_absolute_error: 0.079 - ETA: 4s - loss: 0.0138 - mean_absolute_error: 0.079 - ETA: 4s - loss: 0.0137 - mean_absolute_error: 0.079 - ETA: 4s - loss: 0.0137 - mean_absolute_error: 0.079 - ETA: 4s - loss: 0.0137 - mean_absolute_error: 0.079 - ETA: 4s - loss: 0.0137 - mean_absolute_error: 0.079 - ETA: 4s - loss: 0.0137 - mean_absolute_error: 0.079 - ETA: 4s - loss: 0.0138 - mean_absolute_error: 0.080 - ETA: 4s - loss: 0.0138 - mean_absolute_error: 0.080 - ETA: 4s - loss: 0.0138 - mean_absolute_error: 0.080 - ETA: 4s - loss: 0.0138 - mean_absolute_error: 0.080 - ETA: 4s - loss: 0.0138 - mean_absolute_error: 0.080 - ETA: 3s - loss: 0.0138 - mean_absolute_error: 0.080 - ETA: 3s - loss: 0.0138 - mean_absolute_error: 0.080 - ETA: 3s - loss: 0.0138 - mean_absolute_error: 0.080 - ETA: 3s - loss: 0.0138 - mean_absolute_error: 0.080 - ETA: 3s - loss: 0.0138 - mean_absolute_error: 0.080 - ETA: 3s - loss: 0.0138 - mean_absolute_error: 0.080 - ETA: 3s - loss: 0.0138 - mean_absolute_error: 0.080 - ETA: 3s - loss: 0.0138 - mean_absolute_error: 0.080 - ETA: 3s - loss: 0.0138 - mean_absolute_error: 0.080 - ETA: 3s - loss: 0.0138 - mean_absolute_error: 0.080 - ETA: 3s - loss: 0.0138 - mean_absolute_error: 0.080 - ETA: 3s - loss: 0.0138 - mean_absolute_error: 0.080 - ETA: 3s - loss: 0.0138 - mean_absolute_error: 0.080 - ETA: 3s - loss: 0.0138 - mean_absolute_error: 0.080 - ETA: 3s - loss: 0.0138 - mean_absolute_error: 0.080 - ETA: 3s - loss: 0.0138 - mean_absolute_error: 0.080 - ETA: 3s - loss: 0.0138 - mean_absolute_error: 0.080 - ETA: 2s - loss: 0.0138 - mean_absolute_error: 0.080 - ETA: 2s - loss: 0.0138 - mean_absolute_error: 0.080 - ETA: 2s - loss: 0.0138 - mean_absolute_error: 0.080 - ETA: 2s - loss: 0.0138 - mean_absolute_error: 0.080 - ETA: 2s - loss: 0.0138 - mean_absolute_error: 0.080 - ETA: 2s - loss: 0.0138 - mean_absolute_error: 0.080 - ETA: 2s - loss: 0.0138 - mean_absolute_error: 0.080 - ETA: 2s - loss: 0.0138 - mean_absolute_error: 0.080 - ETA: 2s - loss: 0.0138 - mean_absolute_error: 0.080 - ETA: 2s - loss: 0.0138 - mean_absolute_error: 0.080 - ETA: 2s - loss: 0.0138 - mean_absolute_error: 0.080 - ETA: 2s - loss: 0.0138 - mean_absolute_error: 0.080 - ETA: 2s - loss: 0.0138 - mean_absolute_error: 0.080 - ETA: 2s - loss: 0.0138 - mean_absolute_error: 0.080 - ETA: 2s - loss: 0.0138 - mean_absolute_error: 0.080 - ETA: 2s - loss: 0.0138 - mean_absolute_error: 0.080 - ETA: 2s - loss: 0.0138 - mean_absolute_error: 0.080 - ETA: 2s - loss: 0.0138 - mean_absolute_error: 0.080 - ETA: 2s - loss: 0.0138 - mean_absolute_error: 0.080 - ETA: 2s - loss: 0.0138 - mean_absolute_error: 0.080 - ETA: 2s - loss: 0.0138 - mean_absolute_error: 0.080 - ETA: 2s - loss: 0.0138 - mean_absolute_error: 0.080 - ETA: 2s - loss: 0.0138 - mean_absolute_error: 0.080 - ETA: 1s - loss: 0.0138 - mean_absolute_error: 0.080 - ETA: 1s - loss: 0.0138 - mean_absolute_error: 0.080 - ETA: 1s - loss: 0.0138 - mean_absolute_error: 0.080 - ETA: 1s - loss: 0.0138 - mean_absolute_error: 0.080 - ETA: 1s - loss: 0.0138 - mean_absolute_error: 0.080 - ETA: 1s - loss: 0.0138 - mean_absolute_error: 0.080 - ETA: 1s - loss: 0.0138 - mean_absolute_error: 0.080 - ETA: 1s - loss: 0.0138 - mean_absolute_error: 0.080 - ETA: 1s - loss: 0.0138 - mean_absolute_error: 0.080 - ETA: 1s - loss: 0.0138 - mean_absolute_error: 0.080 - ETA: 1s - loss: 0.0138 - mean_absolute_error: 0.080 - ETA: 1s - loss: 0.0138 - mean_absolute_error: 0.080 - ETA: 1s - loss: 0.0138 - mean_absolute_error: 0.080 - ETA: 1s - loss: 0.0138 - mean_absolute_error: 0.080 - ETA: 1s - loss: 0.0138 - mean_absolute_error: 0.080 - ETA: 1s - loss: 0.0138 - mean_absolute_error: 0.080 - ETA: 1s - loss: 0.0138 - mean_absolute_error: 0.080 - ETA: 1s - loss: 0.0138 - mean_absolute_error: 0.080 - ETA: 1s - loss: 0.0138 - mean_absolute_error: 0.080 - ETA: 1s - loss: 0.0138 - mean_absolute_error: 0.080 - ETA: 1s - loss: 0.0138 - mean_absolute_error: 0.080 - ETA: 1s - loss: 0.0138 - mean_absolute_error: 0.080 - ETA: 0s - loss: 0.0138 - mean_absolute_error: 0.080 - ETA: 0s - loss: 0.0138 - mean_absolute_error: 0.080 - ETA: 0s - loss: 0.0138 - mean_absolute_error: 0.080 - ETA: 0s - loss: 0.0138 - mean_absolute_error: 0.080 - ETA: 0s - loss: 0.0138 - mean_absolute_error: 0.080 - ETA: 0s - loss: 0.0138 - mean_absolute_error: 0.080 - ETA: 0s - loss: 0.0138 - mean_absolute_error: 0.080 - ETA: 0s - loss: 0.0138 - mean_absolute_error: 0.080 - ETA: 0s - loss: 0.0138 - mean_absolute_error: 0.080 - ETA: 0s - loss: 0.0138 - mean_absolute_error: 0.080 - ETA: 0s - loss: 0.0138 - mean_absolute_error: 0.080 - ETA: 0s - loss: 0.0138 - mean_absolute_error: 0.080 - ETA: 0s - loss: 0.0138 - mean_absolute_error: 0.080 - ETA: 0s - loss: 0.0138 - mean_absolute_error: 0.080 - ETA: 0s - loss: 0.0138 - mean_absolute_error: 0.080 - ETA: 0s - loss: 0.0138 - mean_absolute_error: 0.080 - ETA: 0s - loss: 0.0138 - mean_absolute_error: 0.080 - ETA: 0s - loss: 0.0138 - mean_absolute_error: 0.0801\n",
      "Epoch 00005: saving model to autoencoder_fraud.h5\n",
      "284807/284807 [==============================] - 5s 19us/sample - loss: 0.0138 - mean_absolute_error: 0.0801\n",
      "Epoch 6/10\n"
     ]
    },
    {
     "name": "stdout",
     "output_type": "stream",
     "text": [
      "282880/284807 [============================>.] - ETA: 8s - loss: 0.0144 - mean_absolute_error: 0.081 - ETA: 5s - loss: 0.0138 - mean_absolute_error: 0.080 - ETA: 5s - loss: 0.0139 - mean_absolute_error: 0.080 - ETA: 4s - loss: 0.0138 - mean_absolute_error: 0.080 - ETA: 4s - loss: 0.0137 - mean_absolute_error: 0.079 - ETA: 4s - loss: 0.0137 - mean_absolute_error: 0.079 - ETA: 4s - loss: 0.0137 - mean_absolute_error: 0.080 - ETA: 4s - loss: 0.0138 - mean_absolute_error: 0.080 - ETA: 4s - loss: 0.0138 - mean_absolute_error: 0.080 - ETA: 4s - loss: 0.0138 - mean_absolute_error: 0.080 - ETA: 4s - loss: 0.0138 - mean_absolute_error: 0.080 - ETA: 4s - loss: 0.0138 - mean_absolute_error: 0.080 - ETA: 4s - loss: 0.0138 - mean_absolute_error: 0.080 - ETA: 4s - loss: 0.0138 - mean_absolute_error: 0.080 - ETA: 4s - loss: 0.0138 - mean_absolute_error: 0.080 - ETA: 4s - loss: 0.0138 - mean_absolute_error: 0.080 - ETA: 4s - loss: 0.0138 - mean_absolute_error: 0.080 - ETA: 4s - loss: 0.0138 - mean_absolute_error: 0.080 - ETA: 3s - loss: 0.0138 - mean_absolute_error: 0.080 - ETA: 3s - loss: 0.0138 - mean_absolute_error: 0.080 - ETA: 3s - loss: 0.0138 - mean_absolute_error: 0.080 - ETA: 3s - loss: 0.0138 - mean_absolute_error: 0.080 - ETA: 3s - loss: 0.0138 - mean_absolute_error: 0.080 - ETA: 3s - loss: 0.0138 - mean_absolute_error: 0.080 - ETA: 3s - loss: 0.0138 - mean_absolute_error: 0.080 - ETA: 3s - loss: 0.0138 - mean_absolute_error: 0.080 - ETA: 3s - loss: 0.0138 - mean_absolute_error: 0.080 - ETA: 3s - loss: 0.0137 - mean_absolute_error: 0.080 - ETA: 3s - loss: 0.0137 - mean_absolute_error: 0.080 - ETA: 3s - loss: 0.0138 - mean_absolute_error: 0.080 - ETA: 3s - loss: 0.0138 - mean_absolute_error: 0.080 - ETA: 3s - loss: 0.0138 - mean_absolute_error: 0.080 - ETA: 3s - loss: 0.0138 - mean_absolute_error: 0.080 - ETA: 3s - loss: 0.0138 - mean_absolute_error: 0.080 - ETA: 3s - loss: 0.0138 - mean_absolute_error: 0.080 - ETA: 3s - loss: 0.0138 - mean_absolute_error: 0.080 - ETA: 3s - loss: 0.0138 - mean_absolute_error: 0.080 - ETA: 3s - loss: 0.0138 - mean_absolute_error: 0.080 - ETA: 3s - loss: 0.0138 - mean_absolute_error: 0.080 - ETA: 3s - loss: 0.0138 - mean_absolute_error: 0.080 - ETA: 3s - loss: 0.0138 - mean_absolute_error: 0.080 - ETA: 2s - loss: 0.0138 - mean_absolute_error: 0.080 - ETA: 2s - loss: 0.0138 - mean_absolute_error: 0.080 - ETA: 2s - loss: 0.0138 - mean_absolute_error: 0.080 - ETA: 2s - loss: 0.0138 - mean_absolute_error: 0.080 - ETA: 2s - loss: 0.0138 - mean_absolute_error: 0.080 - ETA: 2s - loss: 0.0138 - mean_absolute_error: 0.080 - ETA: 2s - loss: 0.0138 - mean_absolute_error: 0.080 - ETA: 2s - loss: 0.0138 - mean_absolute_error: 0.080 - ETA: 2s - loss: 0.0138 - mean_absolute_error: 0.080 - ETA: 2s - loss: 0.0138 - mean_absolute_error: 0.080 - ETA: 2s - loss: 0.0138 - mean_absolute_error: 0.080 - ETA: 2s - loss: 0.0138 - mean_absolute_error: 0.080 - ETA: 2s - loss: 0.0138 - mean_absolute_error: 0.080 - ETA: 2s - loss: 0.0138 - mean_absolute_error: 0.080 - ETA: 2s - loss: 0.0138 - mean_absolute_error: 0.080 - ETA: 2s - loss: 0.0138 - mean_absolute_error: 0.080 - ETA: 2s - loss: 0.0138 - mean_absolute_error: 0.080 - ETA: 2s - loss: 0.0138 - mean_absolute_error: 0.080 - ETA: 2s - loss: 0.0138 - mean_absolute_error: 0.080 - ETA: 2s - loss: 0.0138 - mean_absolute_error: 0.080 - ETA: 2s - loss: 0.0138 - mean_absolute_error: 0.080 - ETA: 1s - loss: 0.0138 - mean_absolute_error: 0.080 - ETA: 1s - loss: 0.0138 - mean_absolute_error: 0.080 - ETA: 1s - loss: 0.0138 - mean_absolute_error: 0.080 - ETA: 1s - loss: 0.0138 - mean_absolute_error: 0.080 - ETA: 1s - loss: 0.0138 - mean_absolute_error: 0.080 - ETA: 1s - loss: 0.0138 - mean_absolute_error: 0.080 - ETA: 1s - loss: 0.0138 - mean_absolute_error: 0.080 - ETA: 1s - loss: 0.0138 - mean_absolute_error: 0.080 - ETA: 1s - loss: 0.0138 - mean_absolute_error: 0.080 - ETA: 1s - loss: 0.0138 - mean_absolute_error: 0.080 - ETA: 1s - loss: 0.0138 - mean_absolute_error: 0.080 - ETA: 1s - loss: 0.0138 - mean_absolute_error: 0.080 - ETA: 1s - loss: 0.0138 - mean_absolute_error: 0.080 - ETA: 1s - loss: 0.0138 - mean_absolute_error: 0.080 - ETA: 1s - loss: 0.0138 - mean_absolute_error: 0.080 - ETA: 1s - loss: 0.0138 - mean_absolute_error: 0.080 - ETA: 1s - loss: 0.0138 - mean_absolute_error: 0.080 - ETA: 1s - loss: 0.0138 - mean_absolute_error: 0.080 - ETA: 0s - loss: 0.0138 - mean_absolute_error: 0.080 - ETA: 0s - loss: 0.0138 - mean_absolute_error: 0.080 - ETA: 0s - loss: 0.0138 - mean_absolute_error: 0.080 - ETA: 0s - loss: 0.0138 - mean_absolute_error: 0.080 - ETA: 0s - loss: 0.0138 - mean_absolute_error: 0.080 - ETA: 0s - loss: 0.0138 - mean_absolute_error: 0.080 - ETA: 0s - loss: 0.0138 - mean_absolute_error: 0.080 - ETA: 0s - loss: 0.0138 - mean_absolute_error: 0.080 - ETA: 0s - loss: 0.0138 - mean_absolute_error: 0.080 - ETA: 0s - loss: 0.0138 - mean_absolute_error: 0.080 - ETA: 0s - loss: 0.0138 - mean_absolute_error: 0.080 - ETA: 0s - loss: 0.0138 - mean_absolute_error: 0.080 - ETA: 0s - loss: 0.0138 - mean_absolute_error: 0.080 - ETA: 0s - loss: 0.0138 - mean_absolute_error: 0.080 - ETA: 0s - loss: 0.0138 - mean_absolute_error: 0.080 - ETA: 0s - loss: 0.0138 - mean_absolute_error: 0.080 - ETA: 0s - loss: 0.0138 - mean_absolute_error: 0.080 - ETA: 0s - loss: 0.0138 - mean_absolute_error: 0.080 - ETA: 0s - loss: 0.0138 - mean_absolute_error: 0.0801\n",
      "Epoch 00006: saving model to autoencoder_fraud.h5\n",
      "284807/284807 [==============================] - 5s 18us/sample - loss: 0.0138 - mean_absolute_error: 0.0801\n",
      "Epoch 7/10\n"
     ]
    },
    {
     "name": "stdout",
     "output_type": "stream",
     "text": [
      "284800/284807 [============================>.] - ETA: 6s - loss: 0.0137 - mean_absolute_error: 0.080 - ETA: 5s - loss: 0.0138 - mean_absolute_error: 0.080 - ETA: 5s - loss: 0.0139 - mean_absolute_error: 0.080 - ETA: 4s - loss: 0.0138 - mean_absolute_error: 0.080 - ETA: 4s - loss: 0.0138 - mean_absolute_error: 0.080 - ETA: 5s - loss: 0.0138 - mean_absolute_error: 0.080 - ETA: 5s - loss: 0.0138 - mean_absolute_error: 0.080 - ETA: 5s - loss: 0.0138 - mean_absolute_error: 0.080 - ETA: 4s - loss: 0.0138 - mean_absolute_error: 0.080 - ETA: 4s - loss: 0.0138 - mean_absolute_error: 0.080 - ETA: 4s - loss: 0.0138 - mean_absolute_error: 0.080 - ETA: 4s - loss: 0.0138 - mean_absolute_error: 0.080 - ETA: 4s - loss: 0.0138 - mean_absolute_error: 0.080 - ETA: 4s - loss: 0.0138 - mean_absolute_error: 0.080 - ETA: 4s - loss: 0.0138 - mean_absolute_error: 0.080 - ETA: 5s - loss: 0.0138 - mean_absolute_error: 0.080 - ETA: 5s - loss: 0.0138 - mean_absolute_error: 0.080 - ETA: 5s - loss: 0.0138 - mean_absolute_error: 0.080 - ETA: 4s - loss: 0.0138 - mean_absolute_error: 0.080 - ETA: 4s - loss: 0.0138 - mean_absolute_error: 0.080 - ETA: 4s - loss: 0.0138 - mean_absolute_error: 0.080 - ETA: 4s - loss: 0.0138 - mean_absolute_error: 0.080 - ETA: 4s - loss: 0.0138 - mean_absolute_error: 0.080 - ETA: 4s - loss: 0.0138 - mean_absolute_error: 0.080 - ETA: 4s - loss: 0.0138 - mean_absolute_error: 0.080 - ETA: 4s - loss: 0.0138 - mean_absolute_error: 0.080 - ETA: 4s - loss: 0.0138 - mean_absolute_error: 0.080 - ETA: 4s - loss: 0.0138 - mean_absolute_error: 0.080 - ETA: 4s - loss: 0.0138 - mean_absolute_error: 0.080 - ETA: 4s - loss: 0.0138 - mean_absolute_error: 0.080 - ETA: 4s - loss: 0.0138 - mean_absolute_error: 0.080 - ETA: 4s - loss: 0.0138 - mean_absolute_error: 0.080 - ETA: 4s - loss: 0.0138 - mean_absolute_error: 0.080 - ETA: 4s - loss: 0.0138 - mean_absolute_error: 0.080 - ETA: 4s - loss: 0.0138 - mean_absolute_error: 0.080 - ETA: 4s - loss: 0.0138 - mean_absolute_error: 0.080 - ETA: 3s - loss: 0.0138 - mean_absolute_error: 0.080 - ETA: 3s - loss: 0.0138 - mean_absolute_error: 0.080 - ETA: 3s - loss: 0.0138 - mean_absolute_error: 0.080 - ETA: 3s - loss: 0.0138 - mean_absolute_error: 0.080 - ETA: 3s - loss: 0.0138 - mean_absolute_error: 0.080 - ETA: 3s - loss: 0.0138 - mean_absolute_error: 0.080 - ETA: 3s - loss: 0.0138 - mean_absolute_error: 0.080 - ETA: 3s - loss: 0.0138 - mean_absolute_error: 0.080 - ETA: 3s - loss: 0.0138 - mean_absolute_error: 0.080 - ETA: 3s - loss: 0.0138 - mean_absolute_error: 0.080 - ETA: 3s - loss: 0.0138 - mean_absolute_error: 0.080 - ETA: 3s - loss: 0.0138 - mean_absolute_error: 0.080 - ETA: 3s - loss: 0.0138 - mean_absolute_error: 0.080 - ETA: 3s - loss: 0.0138 - mean_absolute_error: 0.080 - ETA: 3s - loss: 0.0138 - mean_absolute_error: 0.080 - ETA: 3s - loss: 0.0138 - mean_absolute_error: 0.080 - ETA: 3s - loss: 0.0138 - mean_absolute_error: 0.080 - ETA: 2s - loss: 0.0138 - mean_absolute_error: 0.080 - ETA: 2s - loss: 0.0138 - mean_absolute_error: 0.080 - ETA: 2s - loss: 0.0138 - mean_absolute_error: 0.080 - ETA: 2s - loss: 0.0138 - mean_absolute_error: 0.080 - ETA: 2s - loss: 0.0138 - mean_absolute_error: 0.080 - ETA: 2s - loss: 0.0138 - mean_absolute_error: 0.080 - ETA: 2s - loss: 0.0138 - mean_absolute_error: 0.080 - ETA: 2s - loss: 0.0138 - mean_absolute_error: 0.080 - ETA: 2s - loss: 0.0138 - mean_absolute_error: 0.080 - ETA: 2s - loss: 0.0138 - mean_absolute_error: 0.080 - ETA: 2s - loss: 0.0138 - mean_absolute_error: 0.080 - ETA: 2s - loss: 0.0138 - mean_absolute_error: 0.080 - ETA: 2s - loss: 0.0138 - mean_absolute_error: 0.080 - ETA: 2s - loss: 0.0138 - mean_absolute_error: 0.080 - ETA: 2s - loss: 0.0138 - mean_absolute_error: 0.080 - ETA: 2s - loss: 0.0138 - mean_absolute_error: 0.080 - ETA: 2s - loss: 0.0138 - mean_absolute_error: 0.080 - ETA: 2s - loss: 0.0138 - mean_absolute_error: 0.080 - ETA: 1s - loss: 0.0138 - mean_absolute_error: 0.080 - ETA: 1s - loss: 0.0138 - mean_absolute_error: 0.080 - ETA: 1s - loss: 0.0138 - mean_absolute_error: 0.080 - ETA: 1s - loss: 0.0138 - mean_absolute_error: 0.080 - ETA: 1s - loss: 0.0138 - mean_absolute_error: 0.080 - ETA: 1s - loss: 0.0138 - mean_absolute_error: 0.080 - ETA: 1s - loss: 0.0138 - mean_absolute_error: 0.080 - ETA: 1s - loss: 0.0138 - mean_absolute_error: 0.080 - ETA: 1s - loss: 0.0138 - mean_absolute_error: 0.080 - ETA: 1s - loss: 0.0138 - mean_absolute_error: 0.080 - ETA: 1s - loss: 0.0138 - mean_absolute_error: 0.080 - ETA: 1s - loss: 0.0138 - mean_absolute_error: 0.080 - ETA: 1s - loss: 0.0138 - mean_absolute_error: 0.080 - ETA: 1s - loss: 0.0138 - mean_absolute_error: 0.080 - ETA: 1s - loss: 0.0138 - mean_absolute_error: 0.080 - ETA: 1s - loss: 0.0138 - mean_absolute_error: 0.080 - ETA: 1s - loss: 0.0138 - mean_absolute_error: 0.080 - ETA: 1s - loss: 0.0138 - mean_absolute_error: 0.080 - ETA: 1s - loss: 0.0138 - mean_absolute_error: 0.080 - ETA: 1s - loss: 0.0138 - mean_absolute_error: 0.080 - ETA: 0s - loss: 0.0138 - mean_absolute_error: 0.080 - ETA: 0s - loss: 0.0138 - mean_absolute_error: 0.080 - ETA: 0s - loss: 0.0138 - mean_absolute_error: 0.080 - ETA: 0s - loss: 0.0138 - mean_absolute_error: 0.080 - ETA: 0s - loss: 0.0138 - mean_absolute_error: 0.080 - ETA: 0s - loss: 0.0138 - mean_absolute_error: 0.080 - ETA: 0s - loss: 0.0138 - mean_absolute_error: 0.080 - ETA: 0s - loss: 0.0138 - mean_absolute_error: 0.080 - ETA: 0s - loss: 0.0138 - mean_absolute_error: 0.080 - ETA: 0s - loss: 0.0138 - mean_absolute_error: 0.080 - ETA: 0s - loss: 0.0138 - mean_absolute_error: 0.080 - ETA: 0s - loss: 0.0138 - mean_absolute_error: 0.080 - ETA: 0s - loss: 0.0138 - mean_absolute_error: 0.080 - ETA: 0s - loss: 0.0138 - mean_absolute_error: 0.080 - ETA: 0s - loss: 0.0138 - mean_absolute_error: 0.080 - ETA: 0s - loss: 0.0138 - mean_absolute_error: 0.080 - ETA: 0s - loss: 0.0138 - mean_absolute_error: 0.080 - ETA: 0s - loss: 0.0138 - mean_absolute_error: 0.0801\n",
      "Epoch 00007: saving model to autoencoder_fraud.h5\n",
      "284807/284807 [==============================] - 6s 20us/sample - loss: 0.0138 - mean_absolute_error: 0.0801\n",
      "Epoch 8/10\n"
     ]
    },
    {
     "name": "stdout",
     "output_type": "stream",
     "text": [
      "283264/284807 [============================>.] - ETA: 8s - loss: 0.0132 - mean_absolute_error: 0.078 - ETA: 5s - loss: 0.0138 - mean_absolute_error: 0.080 - ETA: 4s - loss: 0.0137 - mean_absolute_error: 0.079 - ETA: 4s - loss: 0.0138 - mean_absolute_error: 0.080 - ETA: 4s - loss: 0.0139 - mean_absolute_error: 0.080 - ETA: 4s - loss: 0.0138 - mean_absolute_error: 0.080 - ETA: 4s - loss: 0.0138 - mean_absolute_error: 0.080 - ETA: 4s - loss: 0.0138 - mean_absolute_error: 0.080 - ETA: 4s - loss: 0.0138 - mean_absolute_error: 0.080 - ETA: 4s - loss: 0.0138 - mean_absolute_error: 0.080 - ETA: 4s - loss: 0.0138 - mean_absolute_error: 0.080 - ETA: 4s - loss: 0.0138 - mean_absolute_error: 0.080 - ETA: 4s - loss: 0.0138 - mean_absolute_error: 0.080 - ETA: 4s - loss: 0.0138 - mean_absolute_error: 0.080 - ETA: 4s - loss: 0.0138 - mean_absolute_error: 0.080 - ETA: 4s - loss: 0.0138 - mean_absolute_error: 0.080 - ETA: 4s - loss: 0.0138 - mean_absolute_error: 0.080 - ETA: 4s - loss: 0.0138 - mean_absolute_error: 0.080 - ETA: 4s - loss: 0.0138 - mean_absolute_error: 0.080 - ETA: 4s - loss: 0.0138 - mean_absolute_error: 0.080 - ETA: 4s - loss: 0.0138 - mean_absolute_error: 0.080 - ETA: 4s - loss: 0.0138 - mean_absolute_error: 0.080 - ETA: 4s - loss: 0.0138 - mean_absolute_error: 0.080 - ETA: 4s - loss: 0.0138 - mean_absolute_error: 0.080 - ETA: 4s - loss: 0.0138 - mean_absolute_error: 0.080 - ETA: 4s - loss: 0.0138 - mean_absolute_error: 0.080 - ETA: 4s - loss: 0.0138 - mean_absolute_error: 0.080 - ETA: 4s - loss: 0.0138 - mean_absolute_error: 0.080 - ETA: 4s - loss: 0.0138 - mean_absolute_error: 0.080 - ETA: 3s - loss: 0.0138 - mean_absolute_error: 0.080 - ETA: 3s - loss: 0.0138 - mean_absolute_error: 0.080 - ETA: 3s - loss: 0.0138 - mean_absolute_error: 0.080 - ETA: 3s - loss: 0.0138 - mean_absolute_error: 0.080 - ETA: 3s - loss: 0.0138 - mean_absolute_error: 0.080 - ETA: 3s - loss: 0.0138 - mean_absolute_error: 0.080 - ETA: 3s - loss: 0.0138 - mean_absolute_error: 0.080 - ETA: 3s - loss: 0.0138 - mean_absolute_error: 0.080 - ETA: 3s - loss: 0.0138 - mean_absolute_error: 0.080 - ETA: 3s - loss: 0.0138 - mean_absolute_error: 0.080 - ETA: 3s - loss: 0.0138 - mean_absolute_error: 0.080 - ETA: 3s - loss: 0.0138 - mean_absolute_error: 0.080 - ETA: 3s - loss: 0.0138 - mean_absolute_error: 0.080 - ETA: 3s - loss: 0.0138 - mean_absolute_error: 0.080 - ETA: 3s - loss: 0.0138 - mean_absolute_error: 0.080 - ETA: 3s - loss: 0.0138 - mean_absolute_error: 0.080 - ETA: 3s - loss: 0.0138 - mean_absolute_error: 0.080 - ETA: 2s - loss: 0.0138 - mean_absolute_error: 0.080 - ETA: 2s - loss: 0.0138 - mean_absolute_error: 0.080 - ETA: 2s - loss: 0.0138 - mean_absolute_error: 0.080 - ETA: 2s - loss: 0.0138 - mean_absolute_error: 0.080 - ETA: 2s - loss: 0.0138 - mean_absolute_error: 0.080 - ETA: 2s - loss: 0.0138 - mean_absolute_error: 0.080 - ETA: 2s - loss: 0.0138 - mean_absolute_error: 0.080 - ETA: 2s - loss: 0.0138 - mean_absolute_error: 0.080 - ETA: 2s - loss: 0.0138 - mean_absolute_error: 0.080 - ETA: 2s - loss: 0.0138 - mean_absolute_error: 0.080 - ETA: 2s - loss: 0.0138 - mean_absolute_error: 0.080 - ETA: 2s - loss: 0.0138 - mean_absolute_error: 0.080 - ETA: 2s - loss: 0.0138 - mean_absolute_error: 0.080 - ETA: 2s - loss: 0.0138 - mean_absolute_error: 0.080 - ETA: 2s - loss: 0.0138 - mean_absolute_error: 0.080 - ETA: 2s - loss: 0.0138 - mean_absolute_error: 0.080 - ETA: 2s - loss: 0.0138 - mean_absolute_error: 0.080 - ETA: 2s - loss: 0.0138 - mean_absolute_error: 0.080 - ETA: 2s - loss: 0.0138 - mean_absolute_error: 0.080 - ETA: 1s - loss: 0.0138 - mean_absolute_error: 0.080 - ETA: 1s - loss: 0.0138 - mean_absolute_error: 0.080 - ETA: 1s - loss: 0.0138 - mean_absolute_error: 0.080 - ETA: 1s - loss: 0.0138 - mean_absolute_error: 0.080 - ETA: 1s - loss: 0.0138 - mean_absolute_error: 0.080 - ETA: 1s - loss: 0.0138 - mean_absolute_error: 0.080 - ETA: 1s - loss: 0.0138 - mean_absolute_error: 0.080 - ETA: 1s - loss: 0.0138 - mean_absolute_error: 0.080 - ETA: 1s - loss: 0.0138 - mean_absolute_error: 0.080 - ETA: 1s - loss: 0.0138 - mean_absolute_error: 0.080 - ETA: 1s - loss: 0.0138 - mean_absolute_error: 0.080 - ETA: 1s - loss: 0.0138 - mean_absolute_error: 0.080 - ETA: 1s - loss: 0.0138 - mean_absolute_error: 0.080 - ETA: 1s - loss: 0.0138 - mean_absolute_error: 0.080 - ETA: 1s - loss: 0.0138 - mean_absolute_error: 0.080 - ETA: 1s - loss: 0.0138 - mean_absolute_error: 0.080 - ETA: 1s - loss: 0.0138 - mean_absolute_error: 0.080 - ETA: 1s - loss: 0.0138 - mean_absolute_error: 0.080 - ETA: 1s - loss: 0.0138 - mean_absolute_error: 0.080 - ETA: 0s - loss: 0.0138 - mean_absolute_error: 0.080 - ETA: 0s - loss: 0.0138 - mean_absolute_error: 0.080 - ETA: 0s - loss: 0.0138 - mean_absolute_error: 0.080 - ETA: 0s - loss: 0.0138 - mean_absolute_error: 0.080 - ETA: 0s - loss: 0.0138 - mean_absolute_error: 0.080 - ETA: 0s - loss: 0.0138 - mean_absolute_error: 0.080 - ETA: 0s - loss: 0.0138 - mean_absolute_error: 0.080 - ETA: 0s - loss: 0.0138 - mean_absolute_error: 0.080 - ETA: 0s - loss: 0.0138 - mean_absolute_error: 0.080 - ETA: 0s - loss: 0.0138 - mean_absolute_error: 0.080 - ETA: 0s - loss: 0.0138 - mean_absolute_error: 0.080 - ETA: 0s - loss: 0.0138 - mean_absolute_error: 0.080 - ETA: 0s - loss: 0.0138 - mean_absolute_error: 0.080 - ETA: 0s - loss: 0.0138 - mean_absolute_error: 0.080 - ETA: 0s - loss: 0.0138 - mean_absolute_error: 0.080 - ETA: 0s - loss: 0.0138 - mean_absolute_error: 0.080 - ETA: 0s - loss: 0.0138 - mean_absolute_error: 0.080 - ETA: 0s - loss: 0.0138 - mean_absolute_error: 0.0801\n",
      "Epoch 00008: saving model to autoencoder_fraud.h5\n",
      "284807/284807 [==============================] - 5s 18us/sample - loss: 0.0138 - mean_absolute_error: 0.0801\n",
      "Epoch 9/10\n"
     ]
    },
    {
     "name": "stdout",
     "output_type": "stream",
     "text": [
      "284544/284807 [============================>.] - ETA: 8s - loss: 0.0150 - mean_absolute_error: 0.083 - ETA: 5s - loss: 0.0139 - mean_absolute_error: 0.080 - ETA: 4s - loss: 0.0139 - mean_absolute_error: 0.080 - ETA: 4s - loss: 0.0138 - mean_absolute_error: 0.080 - ETA: 4s - loss: 0.0138 - mean_absolute_error: 0.080 - ETA: 4s - loss: 0.0138 - mean_absolute_error: 0.080 - ETA: 4s - loss: 0.0138 - mean_absolute_error: 0.080 - ETA: 4s - loss: 0.0138 - mean_absolute_error: 0.080 - ETA: 4s - loss: 0.0138 - mean_absolute_error: 0.080 - ETA: 4s - loss: 0.0138 - mean_absolute_error: 0.080 - ETA: 4s - loss: 0.0138 - mean_absolute_error: 0.080 - ETA: 4s - loss: 0.0138 - mean_absolute_error: 0.080 - ETA: 4s - loss: 0.0138 - mean_absolute_error: 0.080 - ETA: 4s - loss: 0.0139 - mean_absolute_error: 0.080 - ETA: 4s - loss: 0.0138 - mean_absolute_error: 0.080 - ETA: 4s - loss: 0.0138 - mean_absolute_error: 0.080 - ETA: 4s - loss: 0.0138 - mean_absolute_error: 0.080 - ETA: 4s - loss: 0.0138 - mean_absolute_error: 0.080 - ETA: 4s - loss: 0.0138 - mean_absolute_error: 0.080 - ETA: 4s - loss: 0.0138 - mean_absolute_error: 0.079 - ETA: 4s - loss: 0.0138 - mean_absolute_error: 0.079 - ETA: 4s - loss: 0.0138 - mean_absolute_error: 0.079 - ETA: 4s - loss: 0.0138 - mean_absolute_error: 0.079 - ETA: 3s - loss: 0.0138 - mean_absolute_error: 0.079 - ETA: 3s - loss: 0.0138 - mean_absolute_error: 0.079 - ETA: 3s - loss: 0.0138 - mean_absolute_error: 0.079 - ETA: 3s - loss: 0.0138 - mean_absolute_error: 0.079 - ETA: 3s - loss: 0.0137 - mean_absolute_error: 0.079 - ETA: 3s - loss: 0.0137 - mean_absolute_error: 0.079 - ETA: 3s - loss: 0.0137 - mean_absolute_error: 0.079 - ETA: 3s - loss: 0.0137 - mean_absolute_error: 0.079 - ETA: 3s - loss: 0.0137 - mean_absolute_error: 0.079 - ETA: 3s - loss: 0.0137 - mean_absolute_error: 0.079 - ETA: 3s - loss: 0.0137 - mean_absolute_error: 0.079 - ETA: 3s - loss: 0.0137 - mean_absolute_error: 0.079 - ETA: 3s - loss: 0.0138 - mean_absolute_error: 0.079 - ETA: 3s - loss: 0.0138 - mean_absolute_error: 0.079 - ETA: 3s - loss: 0.0138 - mean_absolute_error: 0.079 - ETA: 3s - loss: 0.0138 - mean_absolute_error: 0.079 - ETA: 3s - loss: 0.0138 - mean_absolute_error: 0.079 - ETA: 3s - loss: 0.0137 - mean_absolute_error: 0.079 - ETA: 2s - loss: 0.0137 - mean_absolute_error: 0.079 - ETA: 2s - loss: 0.0137 - mean_absolute_error: 0.079 - ETA: 2s - loss: 0.0138 - mean_absolute_error: 0.079 - ETA: 2s - loss: 0.0138 - mean_absolute_error: 0.079 - ETA: 2s - loss: 0.0138 - mean_absolute_error: 0.079 - ETA: 2s - loss: 0.0138 - mean_absolute_error: 0.079 - ETA: 2s - loss: 0.0138 - mean_absolute_error: 0.079 - ETA: 2s - loss: 0.0138 - mean_absolute_error: 0.079 - ETA: 2s - loss: 0.0138 - mean_absolute_error: 0.079 - ETA: 2s - loss: 0.0138 - mean_absolute_error: 0.079 - ETA: 2s - loss: 0.0138 - mean_absolute_error: 0.079 - ETA: 2s - loss: 0.0138 - mean_absolute_error: 0.079 - ETA: 2s - loss: 0.0138 - mean_absolute_error: 0.079 - ETA: 2s - loss: 0.0138 - mean_absolute_error: 0.079 - ETA: 2s - loss: 0.0138 - mean_absolute_error: 0.079 - ETA: 2s - loss: 0.0138 - mean_absolute_error: 0.079 - ETA: 2s - loss: 0.0138 - mean_absolute_error: 0.079 - ETA: 2s - loss: 0.0138 - mean_absolute_error: 0.079 - ETA: 2s - loss: 0.0138 - mean_absolute_error: 0.079 - ETA: 2s - loss: 0.0138 - mean_absolute_error: 0.079 - ETA: 2s - loss: 0.0138 - mean_absolute_error: 0.079 - ETA: 1s - loss: 0.0138 - mean_absolute_error: 0.079 - ETA: 1s - loss: 0.0138 - mean_absolute_error: 0.079 - ETA: 1s - loss: 0.0138 - mean_absolute_error: 0.079 - ETA: 1s - loss: 0.0138 - mean_absolute_error: 0.080 - ETA: 1s - loss: 0.0138 - mean_absolute_error: 0.079 - ETA: 1s - loss: 0.0138 - mean_absolute_error: 0.080 - ETA: 1s - loss: 0.0138 - mean_absolute_error: 0.079 - ETA: 1s - loss: 0.0138 - mean_absolute_error: 0.079 - ETA: 1s - loss: 0.0138 - mean_absolute_error: 0.079 - ETA: 1s - loss: 0.0138 - mean_absolute_error: 0.079 - ETA: 1s - loss: 0.0138 - mean_absolute_error: 0.079 - ETA: 1s - loss: 0.0138 - mean_absolute_error: 0.079 - ETA: 1s - loss: 0.0138 - mean_absolute_error: 0.079 - ETA: 1s - loss: 0.0138 - mean_absolute_error: 0.079 - ETA: 1s - loss: 0.0138 - mean_absolute_error: 0.079 - ETA: 1s - loss: 0.0138 - mean_absolute_error: 0.080 - ETA: 1s - loss: 0.0138 - mean_absolute_error: 0.080 - ETA: 1s - loss: 0.0138 - mean_absolute_error: 0.080 - ETA: 1s - loss: 0.0138 - mean_absolute_error: 0.080 - ETA: 1s - loss: 0.0138 - mean_absolute_error: 0.080 - ETA: 1s - loss: 0.0138 - mean_absolute_error: 0.080 - ETA: 0s - loss: 0.0138 - mean_absolute_error: 0.080 - ETA: 0s - loss: 0.0138 - mean_absolute_error: 0.080 - ETA: 0s - loss: 0.0138 - mean_absolute_error: 0.080 - ETA: 0s - loss: 0.0138 - mean_absolute_error: 0.080 - ETA: 0s - loss: 0.0138 - mean_absolute_error: 0.080 - ETA: 0s - loss: 0.0138 - mean_absolute_error: 0.080 - ETA: 0s - loss: 0.0138 - mean_absolute_error: 0.080 - ETA: 0s - loss: 0.0138 - mean_absolute_error: 0.080 - ETA: 0s - loss: 0.0138 - mean_absolute_error: 0.080 - ETA: 0s - loss: 0.0138 - mean_absolute_error: 0.080 - ETA: 0s - loss: 0.0138 - mean_absolute_error: 0.080 - ETA: 0s - loss: 0.0138 - mean_absolute_error: 0.080 - ETA: 0s - loss: 0.0138 - mean_absolute_error: 0.080 - ETA: 0s - loss: 0.0138 - mean_absolute_error: 0.080 - ETA: 0s - loss: 0.0138 - mean_absolute_error: 0.080 - ETA: 0s - loss: 0.0138 - mean_absolute_error: 0.080 - ETA: 0s - loss: 0.0138 - mean_absolute_error: 0.080 - ETA: 0s - loss: 0.0138 - mean_absolute_error: 0.080 - ETA: 0s - loss: 0.0138 - mean_absolute_error: 0.080 - ETA: 0s - loss: 0.0138 - mean_absolute_error: 0.080 - ETA: 0s - loss: 0.0138 - mean_absolute_error: 0.080 - ETA: 0s - loss: 0.0138 - mean_absolute_error: 0.080 - ETA: 0s - loss: 0.0138 - mean_absolute_error: 0.080 - ETA: 0s - loss: 0.0138 - mean_absolute_error: 0.0800\n",
      "Epoch 00009: saving model to autoencoder_fraud.h5\n",
      "284807/284807 [==============================] - 5s 19us/sample - loss: 0.0138 - mean_absolute_error: 0.0800\n",
      "Epoch 10/10\n"
     ]
    },
    {
     "name": "stdout",
     "output_type": "stream",
     "text": [
      "284032/284807 [============================>.] - ETA: 11s - loss: 0.0138 - mean_absolute_error: 0.08 - ETA: 5s - loss: 0.0140 - mean_absolute_error: 0.0807 - ETA: 5s - loss: 0.0137 - mean_absolute_error: 0.079 - ETA: 5s - loss: 0.0138 - mean_absolute_error: 0.080 - ETA: 5s - loss: 0.0137 - mean_absolute_error: 0.079 - ETA: 5s - loss: 0.0137 - mean_absolute_error: 0.079 - ETA: 5s - loss: 0.0137 - mean_absolute_error: 0.079 - ETA: 5s - loss: 0.0137 - mean_absolute_error: 0.079 - ETA: 5s - loss: 0.0137 - mean_absolute_error: 0.079 - ETA: 5s - loss: 0.0137 - mean_absolute_error: 0.079 - ETA: 5s - loss: 0.0137 - mean_absolute_error: 0.079 - ETA: 5s - loss: 0.0137 - mean_absolute_error: 0.079 - ETA: 5s - loss: 0.0137 - mean_absolute_error: 0.079 - ETA: 4s - loss: 0.0137 - mean_absolute_error: 0.079 - ETA: 4s - loss: 0.0137 - mean_absolute_error: 0.079 - ETA: 4s - loss: 0.0137 - mean_absolute_error: 0.080 - ETA: 4s - loss: 0.0138 - mean_absolute_error: 0.080 - ETA: 4s - loss: 0.0138 - mean_absolute_error: 0.080 - ETA: 4s - loss: 0.0137 - mean_absolute_error: 0.080 - ETA: 4s - loss: 0.0138 - mean_absolute_error: 0.080 - ETA: 4s - loss: 0.0138 - mean_absolute_error: 0.080 - ETA: 4s - loss: 0.0138 - mean_absolute_error: 0.080 - ETA: 4s - loss: 0.0138 - mean_absolute_error: 0.080 - ETA: 4s - loss: 0.0138 - mean_absolute_error: 0.080 - ETA: 4s - loss: 0.0138 - mean_absolute_error: 0.080 - ETA: 4s - loss: 0.0138 - mean_absolute_error: 0.080 - ETA: 4s - loss: 0.0138 - mean_absolute_error: 0.080 - ETA: 4s - loss: 0.0138 - mean_absolute_error: 0.080 - ETA: 4s - loss: 0.0138 - mean_absolute_error: 0.080 - ETA: 4s - loss: 0.0138 - mean_absolute_error: 0.080 - ETA: 4s - loss: 0.0138 - mean_absolute_error: 0.080 - ETA: 4s - loss: 0.0138 - mean_absolute_error: 0.080 - ETA: 4s - loss: 0.0138 - mean_absolute_error: 0.080 - ETA: 4s - loss: 0.0138 - mean_absolute_error: 0.080 - ETA: 4s - loss: 0.0138 - mean_absolute_error: 0.080 - ETA: 4s - loss: 0.0138 - mean_absolute_error: 0.080 - ETA: 3s - loss: 0.0138 - mean_absolute_error: 0.080 - ETA: 3s - loss: 0.0138 - mean_absolute_error: 0.080 - ETA: 3s - loss: 0.0138 - mean_absolute_error: 0.080 - ETA: 3s - loss: 0.0138 - mean_absolute_error: 0.080 - ETA: 3s - loss: 0.0138 - mean_absolute_error: 0.080 - ETA: 3s - loss: 0.0138 - mean_absolute_error: 0.080 - ETA: 3s - loss: 0.0138 - mean_absolute_error: 0.080 - ETA: 3s - loss: 0.0138 - mean_absolute_error: 0.080 - ETA: 3s - loss: 0.0138 - mean_absolute_error: 0.080 - ETA: 3s - loss: 0.0138 - mean_absolute_error: 0.080 - ETA: 3s - loss: 0.0138 - mean_absolute_error: 0.080 - ETA: 3s - loss: 0.0138 - mean_absolute_error: 0.080 - ETA: 3s - loss: 0.0138 - mean_absolute_error: 0.080 - ETA: 3s - loss: 0.0138 - mean_absolute_error: 0.080 - ETA: 3s - loss: 0.0138 - mean_absolute_error: 0.080 - ETA: 3s - loss: 0.0138 - mean_absolute_error: 0.080 - ETA: 3s - loss: 0.0138 - mean_absolute_error: 0.080 - ETA: 3s - loss: 0.0138 - mean_absolute_error: 0.080 - ETA: 3s - loss: 0.0138 - mean_absolute_error: 0.080 - ETA: 3s - loss: 0.0138 - mean_absolute_error: 0.080 - ETA: 3s - loss: 0.0138 - mean_absolute_error: 0.080 - ETA: 3s - loss: 0.0138 - mean_absolute_error: 0.080 - ETA: 3s - loss: 0.0138 - mean_absolute_error: 0.080 - ETA: 2s - loss: 0.0138 - mean_absolute_error: 0.080 - ETA: 2s - loss: 0.0138 - mean_absolute_error: 0.080 - ETA: 2s - loss: 0.0138 - mean_absolute_error: 0.080 - ETA: 2s - loss: 0.0138 - mean_absolute_error: 0.080 - ETA: 2s - loss: 0.0138 - mean_absolute_error: 0.080 - ETA: 2s - loss: 0.0138 - mean_absolute_error: 0.080 - ETA: 2s - loss: 0.0138 - mean_absolute_error: 0.080 - ETA: 2s - loss: 0.0138 - mean_absolute_error: 0.080 - ETA: 2s - loss: 0.0138 - mean_absolute_error: 0.080 - ETA: 2s - loss: 0.0138 - mean_absolute_error: 0.080 - ETA: 2s - loss: 0.0138 - mean_absolute_error: 0.080 - ETA: 2s - loss: 0.0138 - mean_absolute_error: 0.080 - ETA: 2s - loss: 0.0138 - mean_absolute_error: 0.080 - ETA: 2s - loss: 0.0138 - mean_absolute_error: 0.080 - ETA: 2s - loss: 0.0138 - mean_absolute_error: 0.080 - ETA: 2s - loss: 0.0138 - mean_absolute_error: 0.080 - ETA: 2s - loss: 0.0138 - mean_absolute_error: 0.080 - ETA: 2s - loss: 0.0138 - mean_absolute_error: 0.080 - ETA: 2s - loss: 0.0138 - mean_absolute_error: 0.080 - ETA: 2s - loss: 0.0138 - mean_absolute_error: 0.080 - ETA: 2s - loss: 0.0138 - mean_absolute_error: 0.080 - ETA: 1s - loss: 0.0138 - mean_absolute_error: 0.080 - ETA: 1s - loss: 0.0138 - mean_absolute_error: 0.080 - ETA: 1s - loss: 0.0138 - mean_absolute_error: 0.080 - ETA: 1s - loss: 0.0138 - mean_absolute_error: 0.080 - ETA: 1s - loss: 0.0138 - mean_absolute_error: 0.080 - ETA: 1s - loss: 0.0138 - mean_absolute_error: 0.080 - ETA: 1s - loss: 0.0138 - mean_absolute_error: 0.080 - ETA: 1s - loss: 0.0138 - mean_absolute_error: 0.080 - ETA: 1s - loss: 0.0138 - mean_absolute_error: 0.080 - ETA: 1s - loss: 0.0138 - mean_absolute_error: 0.080 - ETA: 1s - loss: 0.0138 - mean_absolute_error: 0.080 - ETA: 1s - loss: 0.0138 - mean_absolute_error: 0.080 - ETA: 1s - loss: 0.0138 - mean_absolute_error: 0.080 - ETA: 1s - loss: 0.0138 - mean_absolute_error: 0.080 - ETA: 1s - loss: 0.0138 - mean_absolute_error: 0.080 - ETA: 1s - loss: 0.0138 - mean_absolute_error: 0.080 - ETA: 1s - loss: 0.0138 - mean_absolute_error: 0.080 - ETA: 1s - loss: 0.0138 - mean_absolute_error: 0.080 - ETA: 1s - loss: 0.0138 - mean_absolute_error: 0.080 - ETA: 1s - loss: 0.0138 - mean_absolute_error: 0.080 - ETA: 1s - loss: 0.0138 - mean_absolute_error: 0.080 - ETA: 1s - loss: 0.0138 - mean_absolute_error: 0.080 - ETA: 1s - loss: 0.0138 - mean_absolute_error: 0.080 - ETA: 1s - loss: 0.0138 - mean_absolute_error: 0.080 - ETA: 0s - loss: 0.0138 - mean_absolute_error: 0.080 - ETA: 0s - loss: 0.0138 - mean_absolute_error: 0.080 - ETA: 0s - loss: 0.0138 - mean_absolute_error: 0.080 - ETA: 0s - loss: 0.0138 - mean_absolute_error: 0.080 - ETA: 0s - loss: 0.0138 - mean_absolute_error: 0.080 - ETA: 0s - loss: 0.0138 - mean_absolute_error: 0.080 - ETA: 0s - loss: 0.0138 - mean_absolute_error: 0.080 - ETA: 0s - loss: 0.0138 - mean_absolute_error: 0.080 - ETA: 0s - loss: 0.0138 - mean_absolute_error: 0.080 - ETA: 0s - loss: 0.0138 - mean_absolute_error: 0.080 - ETA: 0s - loss: 0.0138 - mean_absolute_error: 0.080 - ETA: 0s - loss: 0.0138 - mean_absolute_error: 0.080 - ETA: 0s - loss: 0.0138 - mean_absolute_error: 0.080 - ETA: 0s - loss: 0.0138 - mean_absolute_error: 0.080 - ETA: 0s - loss: 0.0138 - mean_absolute_error: 0.080 - ETA: 0s - loss: 0.0138 - mean_absolute_error: 0.080 - ETA: 0s - loss: 0.0138 - mean_absolute_error: 0.080 - ETA: 0s - loss: 0.0138 - mean_absolute_error: 0.080 - ETA: 0s - loss: 0.0138 - mean_absolute_error: 0.080 - ETA: 0s - loss: 0.0138 - mean_absolute_error: 0.080 - ETA: 0s - loss: 0.0138 - mean_absolute_error: 0.080 - ETA: 0s - loss: 0.0138 - mean_absolute_error: 0.0801\n",
      "Epoch 00010: saving model to autoencoder_fraud.h5\n",
      "284807/284807 [==============================] - 6s 23us/sample - loss: 0.0138 - mean_absolute_error: 0.0801\n"
     ]
    }
   ],
   "source": [
    "\n",
    "autoencoder.compile(metrics=['mean_absolute_error'],\n",
    "                    loss='mean_squared_error',\n",
    "                    optimizer='adam')\n",
    "\n",
    "cp = ModelCheckpoint(filepath=\"autoencoder_fraud.h5\",\n",
    "                               #save_best_only=True,\n",
    "                               verbose=1)\n",
    "\n",
    "\n",
    "\n",
    "history = autoencoder.fit(data, data,\n",
    "                    epochs=nb_epoch,\n",
    "                    batch_size=batch_size,\n",
    "                    shuffle=True,\n",
    "                    verbose=1,\n",
    "                    callbacks=[cp]).history"
   ]
  },
  {
   "cell_type": "code",
   "execution_count": null,
   "metadata": {},
   "outputs": [],
   "source": []
  },
  {
   "cell_type": "code",
   "execution_count": 40,
   "metadata": {},
   "outputs": [
    {
     "name": "stdout",
     "output_type": "stream",
     "text": [
      "Training Accuracy: 0.0800\n"
     ]
    }
   ],
   "source": [
    "loss, accuracy = autoencoder.evaluate(data, data, verbose=False)\n",
    "print(\"Training Accuracy: {:.4f}\".format(accuracy))\n"
   ]
  },
  {
   "cell_type": "code",
   "execution_count": 41,
   "metadata": {},
   "outputs": [
    {
     "data": {
      "image/png": "[encoded data removed]",
      "text/plain": [
       "<Figure size 864x360 with 1 Axes>"
      ]
     },
     "metadata": {
      "needs_background": "light"
     },
     "output_type": "display_data"
    }
   ],
   "source": [
    "\n",
    "plot_history(history)"
   ]
  },
  {
   "cell_type": "code",
   "execution_count": 42,
   "metadata": {},
   "outputs": [
    {
     "data": {
      "text/html": [
       "<div>\n",
       "<style scoped>\n",
       "    .dataframe tbody tr th:only-of-type {\n",
       "        vertical-align: middle;\n",
       "    }\n",
       "\n",
       "    .dataframe tbody tr th {\n",
       "        vertical-align: top;\n",
       "    }\n",
       "\n",
       "    .dataframe thead th {\n",
       "        text-align: right;\n",
       "    }\n",
       "</style>\n",
       "<table border=\"1\" class=\"dataframe\">\n",
       "  <thead>\n",
       "    <tr style=\"text-align: right;\">\n",
       "      <th></th>\n",
       "      <th>Reconstruction_error</th>\n",
       "      <th>Class</th>\n",
       "    </tr>\n",
       "  </thead>\n",
       "  <tbody>\n",
       "    <tr>\n",
       "      <th>count</th>\n",
       "      <td>284807.000000</td>\n",
       "      <td>284807.000000</td>\n",
       "    </tr>\n",
       "    <tr>\n",
       "      <th>mean</th>\n",
       "      <td>0.013783</td>\n",
       "      <td>0.001727</td>\n",
       "    </tr>\n",
       "    <tr>\n",
       "      <th>std</th>\n",
       "      <td>0.008946</td>\n",
       "      <td>0.041494</td>\n",
       "    </tr>\n",
       "    <tr>\n",
       "      <th>min</th>\n",
       "      <td>0.000372</td>\n",
       "      <td>0.000000</td>\n",
       "    </tr>\n",
       "    <tr>\n",
       "      <th>25%</th>\n",
       "      <td>0.005490</td>\n",
       "      <td>0.000000</td>\n",
       "    </tr>\n",
       "    <tr>\n",
       "      <th>50%</th>\n",
       "      <td>0.012841</td>\n",
       "      <td>0.000000</td>\n",
       "    </tr>\n",
       "    <tr>\n",
       "      <th>75%</th>\n",
       "      <td>0.020976</td>\n",
       "      <td>0.000000</td>\n",
       "    </tr>\n",
       "    <tr>\n",
       "      <th>max</th>\n",
       "      <td>0.034662</td>\n",
       "      <td>1.000000</td>\n",
       "    </tr>\n",
       "  </tbody>\n",
       "</table>\n",
       "</div>"
      ],
      "text/plain": [
       "       Reconstruction_error          Class\n",
       "count         284807.000000  284807.000000\n",
       "mean               0.013783       0.001727\n",
       "std                0.008946       0.041494\n",
       "min                0.000372       0.000000\n",
       "25%                0.005490       0.000000\n",
       "50%                0.012841       0.000000\n",
       "75%                0.020976       0.000000\n",
       "max                0.034662       1.000000"
      ]
     },
     "execution_count": 42,
     "metadata": {},
     "output_type": "execute_result"
    }
   ],
   "source": [
    "\n",
    "data_predictions = autoencoder.predict(data)\n",
    "mse = np.mean(np.power(data - data_predictions, 2), axis=1)\n",
    "error_df = pd.DataFrame({'Reconstruction_error': mse,\n",
    "                        'Class': err[:,1]})\n",
    "error_df.describe()"
   ]
  },
  {
   "cell_type": "code",
   "execution_count": 43,
   "metadata": {},
   "outputs": [
    {
     "data": {
      "text/plain": [
       "array([[-0.47812313, -0.18336764,  0.06216399, ...,  0.0441631 ,\n",
       "         0.04368399, -0.00522644],\n",
       "       [-0.44274208,  0.13033065,  0.03687496, ..., -0.00885831,\n",
       "        -0.00408332, -0.06848453],\n",
       "       [-0.30515006, -0.11340678, -0.00397376, ...,  0.02801088,\n",
       "         0.02643741,  0.01251646],\n",
       "       ...,\n",
       "       [ 0.31389302,  0.19075595, -0.06427637, ..., -0.01194388,\n",
       "        -0.01527938, -0.00965813],\n",
       "       [ 0.16245097, -0.04857536,  0.01268354, ...,  0.00838079,\n",
       "         0.01002526, -0.00740322],\n",
       "       [ 0.37988597, -0.11056438,  0.15161991, ...,  0.06949066,\n",
       "         0.0435469 , -0.0481507 ]], dtype=float32)"
      ]
     },
     "execution_count": 43,
     "metadata": {},
     "output_type": "execute_result"
    }
   ],
   "source": [
    "data_predictions"
   ]
  },
  {
   "cell_type": "code",
   "execution_count": 44,
   "metadata": {},
   "outputs": [
    {
     "data": {
      "text/plain": [
       "array([[-0.53016041, -0.18434485, -0.01170339, ...,  0.08786293,\n",
       "        -0.01693606,  0.06504631],\n",
       "       [-0.60603262,  0.18469987,  0.04892252, ..., -0.00675537,\n",
       "         0.01353994, -0.10395297],\n",
       "       [-0.29521237, -0.10254123, -0.12000019, ..., -0.0202771 ,\n",
       "        -0.0267658 ,  0.17161944],\n",
       "       ...,\n",
       "       [ 0.33761922,  0.20151047, -0.03751165, ...,  0.00226935,\n",
       "        -0.0165455 , -0.01682763],\n",
       "       [ 0.2799623 , -0.02093023,  0.05477432, ...,  0.04596843,\n",
       "         0.05399622, -0.05340998],\n",
       "       [ 0.4476601 , -0.07424324, -0.03132392, ..., -0.00163135,\n",
       "         0.01127289,  0.14022427]])"
      ]
     },
     "execution_count": 44,
     "metadata": {},
     "output_type": "execute_result"
    }
   ],
   "source": [
    "data"
   ]
  },
  {
   "cell_type": "code",
   "execution_count": 45,
   "metadata": {},
   "outputs": [
    {
     "name": "stdout",
     "output_type": "stream",
     "text": [
      "0.013782585\n"
     ]
    },
    {
     "data": {
      "text/plain": [
       "<tf.Tensor: shape=(2, 2), dtype=float32, numpy=\n",
       "array([[0.9999999 , 0.08043329],\n",
       "       [0.08043329, 0.9999914 ]], dtype=float32)>"
      ]
     },
     "execution_count": 45,
     "metadata": {},
     "output_type": "execute_result"
    }
   ],
   "source": [
    "\n",
    "\n",
    "err=tf.cast(error_df.values, tf.float32)\n",
    "print(np.average(err[:,0]))\n",
    "\n",
    "tfp.stats.correlation(\n",
    "    err, y=None, sample_axis=0, event_axis=-1, keepdims=False, name=None\n",
    ")"
   ]
  }
 ],
 "metadata": {
  "kernelspec": {
   "display_name": "Python 3",
   "language": "python",
   "name": "python3"
  },
  "language_info": {
   "codemirror_mode": {
    "name": "ipython",
    "version": 3
   },
   "file_extension": ".py",
   "mimetype": "text/x-python",
   "name": "python",
   "nbconvert_exporter": "python",
   "pygments_lexer": "ipython3",
   "version": "3.7.4"
  }
 },
 "nbformat": 4,
 "nbformat_minor": 2
}
