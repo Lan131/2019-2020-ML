{
 "cells": [
  {
   "cell_type": "code",
   "execution_count": null,
   "metadata": {},
   "outputs": [],
   "source": [
    "#!pip install https://github.com/pandas-profiling/pandas-profiling/archive/master.zip --user"
   ]
  },
  {
   "cell_type": "code",
   "execution_count": null,
   "metadata": {},
   "outputs": [],
   "source": [
    "#!pip install tensorflow_probability "
   ]
  },
  {
   "cell_type": "code",
   "execution_count": null,
   "metadata": {},
   "outputs": [],
   "source": [
    "#tf nightly only version of tf 2.0 with tensorboard support\n",
    "#!pip install tf-nightly --user"
   ]
  },
  {
   "cell_type": "code",
   "execution_count": null,
   "metadata": {},
   "outputs": [],
   "source": [
    "#data from https://www.kaggle.com/mlg-ulb/creditcardfraud"
   ]
  },
  {
   "cell_type": "code",
   "execution_count": null,
   "metadata": {},
   "outputs": [],
   "source": [
    "#open tensorboard\n",
    "#!python -m tensorboard.main --logdir=/path/to/logs\n"
   ]
  },
  {
   "cell_type": "code",
   "execution_count": 21,
   "metadata": {},
   "outputs": [],
   "source": [
    "import pandas as pd\n",
    "import h2o\n",
    "import pandas_profiling\n",
    "from pandas_profiling import ProfileReport\n",
    "from h2o.estimators.deeplearning import H2OAutoEncoderEstimator, H2ODeepLearningEstimator\n",
    "import matplotlib.pyplot as plt\n",
    "import tensorflow_probability as tfp\n",
    "import tensorflow as tf\n",
    "import numpy as np\n",
    "from tensorflow import keras\n",
    "from tensorflow.keras.layers import Input, Dense\n",
    "from tensorflow.keras.models import Model\n",
    "from tensorflow.keras.models import Model, load_model\n",
    "from tensorflow.keras.layers import Input, Dense\n",
    "from tensorflow.keras.callbacks import ModelCheckpoint\n",
    "from tensorflow.keras import regularizers\n",
    "from tensorflow.keras.callbacks import TensorBoard\n",
    "import os\n",
    "import matplotlib.pyplot as plt\n",
    "SEED=42\n"
   ]
  },
  {
   "cell_type": "code",
   "execution_count": 45,
   "metadata": {},
   "outputs": [],
   "source": [
    "plt.style.use('ggplot')\n",
    "\n",
    "def plot_history(history):\n",
    "    mean_absolute_error = history['mean_absolute_error']\n",
    "   \n",
    "    loss = history['loss']\n",
    "    \n",
    "    x = range(1, len(mean_absolute_error) + 1)\n",
    "\n",
    "    plt.figure(figsize=(12, 5))\n",
    "    plt.subplot(1, 2, 1)\n",
    "    plt.plot(x, loss, 'b', label='Training loss')\n",
    "    plt.plot(x, mean_absolute_error, 'r', label='Training error')\n",
    "    plt.title('Loss and accuracy')\n",
    "    plt.legend()\n",
    "    \n",
    "    "
   ]
  },
  {
   "cell_type": "code",
   "execution_count": 2,
   "metadata": {},
   "outputs": [],
   "source": [
    "df=pd.read_csv(\"creditcard.csv\")"
   ]
  },
  {
   "cell_type": "code",
   "execution_count": null,
   "metadata": {},
   "outputs": [],
   "source": [
    "profile = ProfileReport(df, title='Pandas Profiling Report', html={'style':{'full_width':True}},plot ={'histogram':{'bayesian_blocks_bins': False}})"
   ]
  },
  {
   "cell_type": "code",
   "execution_count": null,
   "metadata": {},
   "outputs": [],
   "source": [
    "profile.to_file(output_file=\"credit_report.html\")"
   ]
  },
  {
   "cell_type": "code",
   "execution_count": 3,
   "metadata": {
    "scrolled": false
   },
   "outputs": [
    {
     "name": "stdout",
     "output_type": "stream",
     "text": [
      "Checking whether there is an H2O instance running at http://localhost:54321 ..... not found.\n",
      "Attempting to start a local H2O server...\n",
      "; Java HotSpot(TM) 64-Bit Server VM (build 25.241-b07, mixed mode)\n",
      "  Starting server from C:\\Users\\Michael Lanier\\AppData\\Local\\Continuum\\anaconda3\\lib\\site-packages\\h2o\\backend\\bin\\h2o.jar\n",
      "  Ice root: C:\\Users\\MICHAE~1\\AppData\\Local\\Temp\\tmpsk9sqaot\n",
      "  JVM stdout: C:\\Users\\MICHAE~1\\AppData\\Local\\Temp\\tmpsk9sqaot\\h2o_Michael_Lanier_started_from_python.out\n",
      "  JVM stderr: C:\\Users\\MICHAE~1\\AppData\\Local\\Temp\\tmpsk9sqaot\\h2o_Michael_Lanier_started_from_python.err\n",
      "  Server is running at http://127.0.0.1:54387\n",
      "Connecting to H2O server at http://127.0.0.1:54387 ... successful.\n"
     ]
    },
    {
     "data": {
      "text/html": [
       "<div style=\"overflow:auto\"><table style=\"width:50%\"><tr><td>H2O cluster uptime:</td>\n",
       "<td>02 secs</td></tr>\n",
       "<tr><td>H2O cluster timezone:</td>\n",
       "<td>America/Chicago</td></tr>\n",
       "<tr><td>H2O data parsing timezone:</td>\n",
       "<td>UTC</td></tr>\n",
       "<tr><td>H2O cluster version:</td>\n",
       "<td>3.28.0.3</td></tr>\n",
       "<tr><td>H2O cluster version age:</td>\n",
       "<td>26 days </td></tr>\n",
       "<tr><td>H2O cluster name:</td>\n",
       "<td>H2O_from_python_Michael_Lanier_xsqbo5</td></tr>\n",
       "<tr><td>H2O cluster total nodes:</td>\n",
       "<td>1</td></tr>\n",
       "<tr><td>H2O cluster free memory:</td>\n",
       "<td>19.17 Gb</td></tr>\n",
       "<tr><td>H2O cluster total cores:</td>\n",
       "<td>12</td></tr>\n",
       "<tr><td>H2O cluster allowed cores:</td>\n",
       "<td>12</td></tr>\n",
       "<tr><td>H2O cluster status:</td>\n",
       "<td>accepting new members, healthy</td></tr>\n",
       "<tr><td>H2O connection url:</td>\n",
       "<td>http://127.0.0.1:54387</td></tr>\n",
       "<tr><td>H2O connection proxy:</td>\n",
       "<td>{'http': None, 'https': None}</td></tr>\n",
       "<tr><td>H2O internal security:</td>\n",
       "<td>False</td></tr>\n",
       "<tr><td>H2O API Extensions:</td>\n",
       "<td>Amazon S3, Algos, AutoML, Core V3, TargetEncoder, Core V4</td></tr>\n",
       "<tr><td>Python version:</td>\n",
       "<td>3.7.4 final</td></tr></table></div>"
      ],
      "text/plain": [
       "--------------------------  ---------------------------------------------------------\n",
       "H2O cluster uptime:         02 secs\n",
       "H2O cluster timezone:       America/Chicago\n",
       "H2O data parsing timezone:  UTC\n",
       "H2O cluster version:        3.28.0.3\n",
       "H2O cluster version age:    26 days\n",
       "H2O cluster name:           H2O_from_python_Michael_Lanier_xsqbo5\n",
       "H2O cluster total nodes:    1\n",
       "H2O cluster free memory:    19.17 Gb\n",
       "H2O cluster total cores:    12\n",
       "H2O cluster allowed cores:  12\n",
       "H2O cluster status:         accepting new members, healthy\n",
       "H2O connection url:         http://127.0.0.1:54387\n",
       "H2O connection proxy:       {'http': None, 'https': None}\n",
       "H2O internal security:      False\n",
       "H2O API Extensions:         Amazon S3, Algos, AutoML, Core V3, TargetEncoder, Core V4\n",
       "Python version:             3.7.4 final\n",
       "--------------------------  ---------------------------------------------------------"
      ]
     },
     "metadata": {},
     "output_type": "display_data"
    }
   ],
   "source": [
    "\n",
    "h2o.init(min_mem_size='20G')"
   ]
  },
  {
   "cell_type": "code",
   "execution_count": 4,
   "metadata": {},
   "outputs": [
    {
     "name": "stdout",
     "output_type": "stream",
     "text": [
      "Parse progress: |█████████████████████████████████████████████████████████| 100%\n"
     ]
    }
   ],
   "source": [
    "data=h2o.import_file(\"creditcard.csv\")"
   ]
  },
  {
   "cell_type": "code",
   "execution_count": 5,
   "metadata": {},
   "outputs": [
    {
     "data": {
      "text/html": [
       "<table>\n",
       "<thead>\n",
       "<tr><th style=\"text-align: right;\">  Time</th><th style=\"text-align: right;\">       V1</th><th style=\"text-align: right;\">        V2</th><th style=\"text-align: right;\">        V3</th><th style=\"text-align: right;\">       V4</th><th style=\"text-align: right;\">        V5</th><th style=\"text-align: right;\">        V6</th><th style=\"text-align: right;\">       V7</th><th style=\"text-align: right;\">        V8</th><th style=\"text-align: right;\">       V9</th><th style=\"text-align: right;\">       V10</th><th style=\"text-align: right;\">      V11</th><th style=\"text-align: right;\">       V12</th><th style=\"text-align: right;\">      V13</th><th style=\"text-align: right;\">       V14</th><th style=\"text-align: right;\">       V15</th><th style=\"text-align: right;\">      V16</th><th style=\"text-align: right;\">        V17</th><th style=\"text-align: right;\">       V18</th><th style=\"text-align: right;\">       V19</th><th style=\"text-align: right;\">       V20</th><th style=\"text-align: right;\">       V21</th><th style=\"text-align: right;\">       V22</th><th style=\"text-align: right;\">       V23</th><th style=\"text-align: right;\">       V24</th><th style=\"text-align: right;\">      V25</th><th style=\"text-align: right;\">       V26</th><th style=\"text-align: right;\">       V27</th><th style=\"text-align: right;\">        V28</th><th style=\"text-align: right;\">  Amount</th><th style=\"text-align: right;\">  Class</th></tr>\n",
       "</thead>\n",
       "<tbody>\n",
       "<tr><td style=\"text-align: right;\">     0</td><td style=\"text-align: right;\">-1.35981 </td><td style=\"text-align: right;\">-0.0727812</td><td style=\"text-align: right;\"> 2.53635  </td><td style=\"text-align: right;\"> 1.37816 </td><td style=\"text-align: right;\">-0.338321 </td><td style=\"text-align: right;\"> 0.462388 </td><td style=\"text-align: right;\"> 0.239599</td><td style=\"text-align: right;\"> 0.0986979</td><td style=\"text-align: right;\"> 0.363787</td><td style=\"text-align: right;\"> 0.0907942</td><td style=\"text-align: right;\">-0.5516  </td><td style=\"text-align: right;\">-0.617801 </td><td style=\"text-align: right;\">-0.99139 </td><td style=\"text-align: right;\">-0.311169 </td><td style=\"text-align: right;\"> 1.46818  </td><td style=\"text-align: right;\">-0.470401</td><td style=\"text-align: right;\"> 0.207971  </td><td style=\"text-align: right;\"> 0.0257906</td><td style=\"text-align: right;\"> 0.403993 </td><td style=\"text-align: right;\"> 0.251412 </td><td style=\"text-align: right;\">-0.0183068</td><td style=\"text-align: right;\"> 0.277838 </td><td style=\"text-align: right;\">-0.110474 </td><td style=\"text-align: right;\"> 0.0669281</td><td style=\"text-align: right;\"> 0.128539</td><td style=\"text-align: right;\">-0.189115 </td><td style=\"text-align: right;\"> 0.133558 </td><td style=\"text-align: right;\">-0.0210531 </td><td style=\"text-align: right;\">  149.62</td><td style=\"text-align: right;\">      0</td></tr>\n",
       "<tr><td style=\"text-align: right;\">     0</td><td style=\"text-align: right;\"> 1.19186 </td><td style=\"text-align: right;\"> 0.266151 </td><td style=\"text-align: right;\"> 0.16648  </td><td style=\"text-align: right;\"> 0.448154</td><td style=\"text-align: right;\"> 0.0600176</td><td style=\"text-align: right;\">-0.0823608</td><td style=\"text-align: right;\">-0.078803</td><td style=\"text-align: right;\"> 0.0851017</td><td style=\"text-align: right;\">-0.255425</td><td style=\"text-align: right;\">-0.166974 </td><td style=\"text-align: right;\"> 1.61273 </td><td style=\"text-align: right;\"> 1.06524  </td><td style=\"text-align: right;\"> 0.489095</td><td style=\"text-align: right;\">-0.143772 </td><td style=\"text-align: right;\"> 0.635558 </td><td style=\"text-align: right;\"> 0.463917</td><td style=\"text-align: right;\">-0.114805  </td><td style=\"text-align: right;\">-0.183361 </td><td style=\"text-align: right;\">-0.145783 </td><td style=\"text-align: right;\">-0.0690831</td><td style=\"text-align: right;\">-0.225775 </td><td style=\"text-align: right;\">-0.638672 </td><td style=\"text-align: right;\"> 0.101288 </td><td style=\"text-align: right;\">-0.339846 </td><td style=\"text-align: right;\"> 0.16717 </td><td style=\"text-align: right;\"> 0.125895 </td><td style=\"text-align: right;\">-0.0089831</td><td style=\"text-align: right;\"> 0.0147242 </td><td style=\"text-align: right;\">    2.69</td><td style=\"text-align: right;\">      0</td></tr>\n",
       "<tr><td style=\"text-align: right;\">     1</td><td style=\"text-align: right;\">-1.35835 </td><td style=\"text-align: right;\">-1.34016  </td><td style=\"text-align: right;\"> 1.77321  </td><td style=\"text-align: right;\"> 0.37978 </td><td style=\"text-align: right;\">-0.503198 </td><td style=\"text-align: right;\"> 1.8005   </td><td style=\"text-align: right;\"> 0.791461</td><td style=\"text-align: right;\"> 0.247676 </td><td style=\"text-align: right;\">-1.51465 </td><td style=\"text-align: right;\"> 0.207643 </td><td style=\"text-align: right;\"> 0.624501</td><td style=\"text-align: right;\"> 0.0660837</td><td style=\"text-align: right;\"> 0.717293</td><td style=\"text-align: right;\">-0.165946 </td><td style=\"text-align: right;\"> 2.34586  </td><td style=\"text-align: right;\">-2.89008 </td><td style=\"text-align: right;\"> 1.10997   </td><td style=\"text-align: right;\">-0.121359 </td><td style=\"text-align: right;\">-2.26186  </td><td style=\"text-align: right;\"> 0.52498  </td><td style=\"text-align: right;\"> 0.247998 </td><td style=\"text-align: right;\"> 0.771679 </td><td style=\"text-align: right;\"> 0.909412 </td><td style=\"text-align: right;\">-0.689281 </td><td style=\"text-align: right;\">-0.327642</td><td style=\"text-align: right;\">-0.139097 </td><td style=\"text-align: right;\">-0.0553528</td><td style=\"text-align: right;\">-0.0597518 </td><td style=\"text-align: right;\">  378.66</td><td style=\"text-align: right;\">      0</td></tr>\n",
       "<tr><td style=\"text-align: right;\">     1</td><td style=\"text-align: right;\">-0.966272</td><td style=\"text-align: right;\">-0.185226 </td><td style=\"text-align: right;\"> 1.79299  </td><td style=\"text-align: right;\">-0.863291</td><td style=\"text-align: right;\">-0.0103089</td><td style=\"text-align: right;\"> 1.2472   </td><td style=\"text-align: right;\"> 0.237609</td><td style=\"text-align: right;\"> 0.377436 </td><td style=\"text-align: right;\">-1.38702 </td><td style=\"text-align: right;\">-0.0549519</td><td style=\"text-align: right;\">-0.226487</td><td style=\"text-align: right;\"> 0.178228 </td><td style=\"text-align: right;\"> 0.507757</td><td style=\"text-align: right;\">-0.287924 </td><td style=\"text-align: right;\">-0.631418 </td><td style=\"text-align: right;\">-1.05965 </td><td style=\"text-align: right;\">-0.684093  </td><td style=\"text-align: right;\"> 1.96578  </td><td style=\"text-align: right;\">-1.23262  </td><td style=\"text-align: right;\">-0.208038 </td><td style=\"text-align: right;\">-0.1083   </td><td style=\"text-align: right;\"> 0.0052736</td><td style=\"text-align: right;\">-0.190321 </td><td style=\"text-align: right;\">-1.17558  </td><td style=\"text-align: right;\"> 0.647376</td><td style=\"text-align: right;\">-0.221929 </td><td style=\"text-align: right;\"> 0.0627228</td><td style=\"text-align: right;\"> 0.0614576 </td><td style=\"text-align: right;\">  123.5 </td><td style=\"text-align: right;\">      0</td></tr>\n",
       "<tr><td style=\"text-align: right;\">     2</td><td style=\"text-align: right;\">-1.15823 </td><td style=\"text-align: right;\"> 0.877737 </td><td style=\"text-align: right;\"> 1.54872  </td><td style=\"text-align: right;\"> 0.403034</td><td style=\"text-align: right;\">-0.407193 </td><td style=\"text-align: right;\"> 0.0959215</td><td style=\"text-align: right;\"> 0.592941</td><td style=\"text-align: right;\">-0.270533 </td><td style=\"text-align: right;\"> 0.817739</td><td style=\"text-align: right;\"> 0.753074 </td><td style=\"text-align: right;\">-0.822843</td><td style=\"text-align: right;\"> 0.538196 </td><td style=\"text-align: right;\"> 1.34585 </td><td style=\"text-align: right;\">-1.11967  </td><td style=\"text-align: right;\"> 0.175121 </td><td style=\"text-align: right;\">-0.451449</td><td style=\"text-align: right;\">-0.237033  </td><td style=\"text-align: right;\">-0.0381948</td><td style=\"text-align: right;\"> 0.803487 </td><td style=\"text-align: right;\"> 0.408542 </td><td style=\"text-align: right;\">-0.0094307</td><td style=\"text-align: right;\"> 0.798278 </td><td style=\"text-align: right;\">-0.137458 </td><td style=\"text-align: right;\"> 0.141267 </td><td style=\"text-align: right;\">-0.20601 </td><td style=\"text-align: right;\"> 0.502292 </td><td style=\"text-align: right;\"> 0.219422 </td><td style=\"text-align: right;\"> 0.215153  </td><td style=\"text-align: right;\">   69.99</td><td style=\"text-align: right;\">      0</td></tr>\n",
       "<tr><td style=\"text-align: right;\">     2</td><td style=\"text-align: right;\">-0.425966</td><td style=\"text-align: right;\"> 0.960523 </td><td style=\"text-align: right;\"> 1.14111  </td><td style=\"text-align: right;\">-0.168252</td><td style=\"text-align: right;\"> 0.420987 </td><td style=\"text-align: right;\">-0.0297276</td><td style=\"text-align: right;\"> 0.476201</td><td style=\"text-align: right;\"> 0.260314 </td><td style=\"text-align: right;\">-0.568671</td><td style=\"text-align: right;\">-0.371407 </td><td style=\"text-align: right;\"> 1.34126 </td><td style=\"text-align: right;\"> 0.359894 </td><td style=\"text-align: right;\">-0.358091</td><td style=\"text-align: right;\">-0.137134 </td><td style=\"text-align: right;\"> 0.517617 </td><td style=\"text-align: right;\"> 0.401726</td><td style=\"text-align: right;\">-0.0581328 </td><td style=\"text-align: right;\"> 0.0686531</td><td style=\"text-align: right;\">-0.0331938</td><td style=\"text-align: right;\"> 0.0849677</td><td style=\"text-align: right;\">-0.208254 </td><td style=\"text-align: right;\">-0.559825 </td><td style=\"text-align: right;\">-0.0263977</td><td style=\"text-align: right;\">-0.371427 </td><td style=\"text-align: right;\">-0.232794</td><td style=\"text-align: right;\"> 0.105915 </td><td style=\"text-align: right;\"> 0.253844 </td><td style=\"text-align: right;\"> 0.0810803 </td><td style=\"text-align: right;\">    3.67</td><td style=\"text-align: right;\">      0</td></tr>\n",
       "<tr><td style=\"text-align: right;\">     4</td><td style=\"text-align: right;\"> 1.22966 </td><td style=\"text-align: right;\"> 0.141004 </td><td style=\"text-align: right;\"> 0.0453708</td><td style=\"text-align: right;\"> 1.20261 </td><td style=\"text-align: right;\"> 0.191881 </td><td style=\"text-align: right;\"> 0.272708 </td><td style=\"text-align: right;\">-0.005159</td><td style=\"text-align: right;\"> 0.0812129</td><td style=\"text-align: right;\"> 0.46496 </td><td style=\"text-align: right;\">-0.0992543</td><td style=\"text-align: right;\">-1.41691 </td><td style=\"text-align: right;\">-0.153826 </td><td style=\"text-align: right;\">-0.751063</td><td style=\"text-align: right;\"> 0.167372 </td><td style=\"text-align: right;\"> 0.0501436</td><td style=\"text-align: right;\">-0.443587</td><td style=\"text-align: right;\"> 0.00282051</td><td style=\"text-align: right;\">-0.611987 </td><td style=\"text-align: right;\">-0.045575 </td><td style=\"text-align: right;\">-0.219633 </td><td style=\"text-align: right;\">-0.167716 </td><td style=\"text-align: right;\">-0.27071  </td><td style=\"text-align: right;\">-0.154104 </td><td style=\"text-align: right;\">-0.780055 </td><td style=\"text-align: right;\"> 0.750137</td><td style=\"text-align: right;\">-0.257237 </td><td style=\"text-align: right;\"> 0.0345074</td><td style=\"text-align: right;\"> 0.00516777</td><td style=\"text-align: right;\">    4.99</td><td style=\"text-align: right;\">      0</td></tr>\n",
       "<tr><td style=\"text-align: right;\">     7</td><td style=\"text-align: right;\">-0.644269</td><td style=\"text-align: right;\"> 1.41796  </td><td style=\"text-align: right;\"> 1.07438  </td><td style=\"text-align: right;\">-0.492199</td><td style=\"text-align: right;\"> 0.948934 </td><td style=\"text-align: right;\"> 0.428118 </td><td style=\"text-align: right;\"> 1.12063 </td><td style=\"text-align: right;\">-3.80786  </td><td style=\"text-align: right;\"> 0.615375</td><td style=\"text-align: right;\"> 1.24938  </td><td style=\"text-align: right;\">-0.619468</td><td style=\"text-align: right;\"> 0.291474 </td><td style=\"text-align: right;\"> 1.75796 </td><td style=\"text-align: right;\">-1.32387  </td><td style=\"text-align: right;\"> 0.686133 </td><td style=\"text-align: right;\">-0.076127</td><td style=\"text-align: right;\">-1.22213   </td><td style=\"text-align: right;\">-0.358222 </td><td style=\"text-align: right;\"> 0.324505 </td><td style=\"text-align: right;\">-0.156742 </td><td style=\"text-align: right;\"> 1.94347  </td><td style=\"text-align: right;\">-1.01545  </td><td style=\"text-align: right;\"> 0.0575035</td><td style=\"text-align: right;\">-0.649709 </td><td style=\"text-align: right;\">-0.415267</td><td style=\"text-align: right;\">-0.0516343</td><td style=\"text-align: right;\">-1.20692  </td><td style=\"text-align: right;\">-1.08534   </td><td style=\"text-align: right;\">   40.8 </td><td style=\"text-align: right;\">      0</td></tr>\n",
       "<tr><td style=\"text-align: right;\">     7</td><td style=\"text-align: right;\">-0.894286</td><td style=\"text-align: right;\"> 0.286157 </td><td style=\"text-align: right;\">-0.113192 </td><td style=\"text-align: right;\">-0.271526</td><td style=\"text-align: right;\"> 2.6696   </td><td style=\"text-align: right;\"> 3.72182  </td><td style=\"text-align: right;\"> 0.370145</td><td style=\"text-align: right;\"> 0.851084 </td><td style=\"text-align: right;\">-0.392048</td><td style=\"text-align: right;\">-0.41043  </td><td style=\"text-align: right;\">-0.705117</td><td style=\"text-align: right;\">-0.110452 </td><td style=\"text-align: right;\">-0.286254</td><td style=\"text-align: right;\"> 0.0743554</td><td style=\"text-align: right;\">-0.328783 </td><td style=\"text-align: right;\">-0.210077</td><td style=\"text-align: right;\">-0.499768  </td><td style=\"text-align: right;\"> 0.118765 </td><td style=\"text-align: right;\"> 0.570328 </td><td style=\"text-align: right;\"> 0.0527357</td><td style=\"text-align: right;\">-0.0734251</td><td style=\"text-align: right;\">-0.268092 </td><td style=\"text-align: right;\">-0.204233 </td><td style=\"text-align: right;\"> 1.01159  </td><td style=\"text-align: right;\"> 0.373205</td><td style=\"text-align: right;\">-0.384157 </td><td style=\"text-align: right;\"> 0.0117474</td><td style=\"text-align: right;\"> 0.142404  </td><td style=\"text-align: right;\">   93.2 </td><td style=\"text-align: right;\">      0</td></tr>\n",
       "<tr><td style=\"text-align: right;\">     9</td><td style=\"text-align: right;\">-0.338262</td><td style=\"text-align: right;\"> 1.11959  </td><td style=\"text-align: right;\"> 1.04437  </td><td style=\"text-align: right;\">-0.222187</td><td style=\"text-align: right;\"> 0.499361 </td><td style=\"text-align: right;\">-0.246761 </td><td style=\"text-align: right;\"> 0.651583</td><td style=\"text-align: right;\"> 0.0695386</td><td style=\"text-align: right;\">-0.736727</td><td style=\"text-align: right;\">-0.366846 </td><td style=\"text-align: right;\"> 1.01761 </td><td style=\"text-align: right;\"> 0.83639  </td><td style=\"text-align: right;\"> 1.00684 </td><td style=\"text-align: right;\">-0.443523 </td><td style=\"text-align: right;\"> 0.150219 </td><td style=\"text-align: right;\"> 0.739453</td><td style=\"text-align: right;\">-0.54098   </td><td style=\"text-align: right;\"> 0.476677 </td><td style=\"text-align: right;\"> 0.451773 </td><td style=\"text-align: right;\"> 0.203711 </td><td style=\"text-align: right;\">-0.246914 </td><td style=\"text-align: right;\">-0.633753 </td><td style=\"text-align: right;\">-0.120794 </td><td style=\"text-align: right;\">-0.38505  </td><td style=\"text-align: right;\">-0.069733</td><td style=\"text-align: right;\"> 0.0941988</td><td style=\"text-align: right;\"> 0.246219 </td><td style=\"text-align: right;\"> 0.0830756 </td><td style=\"text-align: right;\">    3.68</td><td style=\"text-align: right;\">      0</td></tr>\n",
       "</tbody>\n",
       "</table>"
      ]
     },
     "metadata": {},
     "output_type": "display_data"
    },
    {
     "data": {
      "text/plain": []
     },
     "execution_count": 5,
     "metadata": {},
     "output_type": "execute_result"
    }
   ],
   "source": [
    "data"
   ]
  },
  {
   "cell_type": "code",
   "execution_count": 5,
   "metadata": {},
   "outputs": [],
   "source": [
    "x=data.columns\n",
    "C=data['Class']\n",
    "x.remove('Class')\n"
   ]
  },
  {
   "cell_type": "code",
   "execution_count": null,
   "metadata": {},
   "outputs": [],
   "source": []
  },
  {
   "cell_type": "code",
   "execution_count": 7,
   "metadata": {},
   "outputs": [
    {
     "name": "stdout",
     "output_type": "stream",
     "text": [
      "deeplearning Model Build progress: |██████████████████████████████████████| 100%\n"
     ]
    }
   ],
   "source": [
    "fraud_dl =H2OAutoEncoderEstimator(hidden = [10,10], epochs = 10, activation='Tanh',seed=SEED)\n",
    "\n",
    "\n",
    "\n",
    "fraud_anon = fraud_dl.train(x=x,training_frame=data)\n"
   ]
  },
  {
   "cell_type": "code",
   "execution_count": 8,
   "metadata": {
    "scrolled": true
   },
   "outputs": [
    {
     "name": "stdout",
     "output_type": "stream",
     "text": [
      "Model Details\n",
      "=============\n",
      "H2OAutoEncoderEstimator :  Deep Learning\n",
      "Model Key:  DeepLearning_model_python_1583265108361_1\n",
      "\n",
      "\n",
      "Status of Neuron Layers: auto-encoder, gaussian distribution, Quadratic loss, 750 weights/biases, 17.5 KB, 2,900,834 training samples, mini-batch size 1\n"
     ]
    },
    {
     "data": {
      "text/html": [
       "<div>\n",
       "<style scoped>\n",
       "    .dataframe tbody tr th:only-of-type {\n",
       "        vertical-align: middle;\n",
       "    }\n",
       "\n",
       "    .dataframe tbody tr th {\n",
       "        vertical-align: top;\n",
       "    }\n",
       "\n",
       "    .dataframe thead th {\n",
       "        text-align: right;\n",
       "    }\n",
       "</style>\n",
       "<table border=\"1\" class=\"dataframe\">\n",
       "  <thead>\n",
       "    <tr style=\"text-align: right;\">\n",
       "      <th></th>\n",
       "      <th></th>\n",
       "      <th>layer</th>\n",
       "      <th>units</th>\n",
       "      <th>type</th>\n",
       "      <th>dropout</th>\n",
       "      <th>l1</th>\n",
       "      <th>l2</th>\n",
       "      <th>mean_rate</th>\n",
       "      <th>rate_rms</th>\n",
       "      <th>momentum</th>\n",
       "      <th>mean_weight</th>\n",
       "      <th>weight_rms</th>\n",
       "      <th>mean_bias</th>\n",
       "      <th>bias_rms</th>\n",
       "    </tr>\n",
       "  </thead>\n",
       "  <tbody>\n",
       "    <tr>\n",
       "      <th>0</th>\n",
       "      <td></td>\n",
       "      <td>1</td>\n",
       "      <td>30</td>\n",
       "      <td>Input</td>\n",
       "      <td>0</td>\n",
       "      <td></td>\n",
       "      <td></td>\n",
       "      <td></td>\n",
       "      <td></td>\n",
       "      <td></td>\n",
       "      <td></td>\n",
       "      <td></td>\n",
       "      <td></td>\n",
       "      <td></td>\n",
       "    </tr>\n",
       "    <tr>\n",
       "      <th>1</th>\n",
       "      <td></td>\n",
       "      <td>2</td>\n",
       "      <td>10</td>\n",
       "      <td>Tanh</td>\n",
       "      <td>0</td>\n",
       "      <td>0</td>\n",
       "      <td>0</td>\n",
       "      <td>0.916679</td>\n",
       "      <td>0.123343</td>\n",
       "      <td>0</td>\n",
       "      <td>-0.0564346</td>\n",
       "      <td>0.76846</td>\n",
       "      <td>0.0310582</td>\n",
       "      <td>0.102191</td>\n",
       "    </tr>\n",
       "    <tr>\n",
       "      <th>2</th>\n",
       "      <td></td>\n",
       "      <td>3</td>\n",
       "      <td>10</td>\n",
       "      <td>Tanh</td>\n",
       "      <td>0</td>\n",
       "      <td>0</td>\n",
       "      <td>0</td>\n",
       "      <td>0.173866</td>\n",
       "      <td>0.0462812</td>\n",
       "      <td>0</td>\n",
       "      <td>-0.0117232</td>\n",
       "      <td>0.204373</td>\n",
       "      <td>0.0132583</td>\n",
       "      <td>0.0265792</td>\n",
       "    </tr>\n",
       "    <tr>\n",
       "      <th>3</th>\n",
       "      <td></td>\n",
       "      <td>4</td>\n",
       "      <td>30</td>\n",
       "      <td>Tanh</td>\n",
       "      <td></td>\n",
       "      <td>0</td>\n",
       "      <td>0</td>\n",
       "      <td>0.0719483</td>\n",
       "      <td>0.0374355</td>\n",
       "      <td>0</td>\n",
       "      <td>0.00205727</td>\n",
       "      <td>0.0928818</td>\n",
       "      <td>0.000803051</td>\n",
       "      <td>0.0145809</td>\n",
       "    </tr>\n",
       "  </tbody>\n",
       "</table>\n",
       "</div>"
      ],
      "text/plain": [
       "     layer  units   type dropout l1 l2  mean_rate   rate_rms momentum  \\\n",
       "0        1     30  Input       0                                        \n",
       "1        2     10   Tanh       0  0  0   0.916679   0.123343        0   \n",
       "2        3     10   Tanh       0  0  0   0.173866  0.0462812        0   \n",
       "3        4     30   Tanh          0  0  0.0719483  0.0374355        0   \n",
       "\n",
       "  mean_weight weight_rms    mean_bias   bias_rms  \n",
       "0                                                 \n",
       "1  -0.0564346    0.76846    0.0310582   0.102191  \n",
       "2  -0.0117232   0.204373    0.0132583  0.0265792  \n",
       "3  0.00205727  0.0928818  0.000803051  0.0145809  "
      ]
     },
     "metadata": {},
     "output_type": "display_data"
    },
    {
     "name": "stdout",
     "output_type": "stream",
     "text": [
      "\n",
      "\n",
      "ModelMetricsAutoEncoder: deeplearning\n",
      "** Reported on train data. **\n",
      "\n",
      "MSE: 0.0004116648029518689\n",
      "RMSE: 0.020289524463423702\n",
      "\n",
      "Scoring History: \n"
     ]
    },
    {
     "data": {
      "text/html": [
       "<div>\n",
       "<style scoped>\n",
       "    .dataframe tbody tr th:only-of-type {\n",
       "        vertical-align: middle;\n",
       "    }\n",
       "\n",
       "    .dataframe tbody tr th {\n",
       "        vertical-align: top;\n",
       "    }\n",
       "\n",
       "    .dataframe thead th {\n",
       "        text-align: right;\n",
       "    }\n",
       "</style>\n",
       "<table border=\"1\" class=\"dataframe\">\n",
       "  <thead>\n",
       "    <tr style=\"text-align: right;\">\n",
       "      <th></th>\n",
       "      <th></th>\n",
       "      <th>timestamp</th>\n",
       "      <th>duration</th>\n",
       "      <th>training_speed</th>\n",
       "      <th>epochs</th>\n",
       "      <th>iterations</th>\n",
       "      <th>samples</th>\n",
       "      <th>training_rmse</th>\n",
       "      <th>training_mse</th>\n",
       "    </tr>\n",
       "  </thead>\n",
       "  <tbody>\n",
       "    <tr>\n",
       "      <th>0</th>\n",
       "      <td></td>\n",
       "      <td>2020-03-03 13:51:54</td>\n",
       "      <td>1.195 sec</td>\n",
       "      <td>0.00000 obs/sec</td>\n",
       "      <td>0.000000</td>\n",
       "      <td>0</td>\n",
       "      <td>0.0</td>\n",
       "      <td>0.090335</td>\n",
       "      <td>0.008160</td>\n",
       "    </tr>\n",
       "    <tr>\n",
       "      <th>1</th>\n",
       "      <td></td>\n",
       "      <td>2020-03-03 13:51:59</td>\n",
       "      <td>6.243 sec</td>\n",
       "      <td>139664 obs/sec</td>\n",
       "      <td>2.458293</td>\n",
       "      <td>7</td>\n",
       "      <td>700139.0</td>\n",
       "      <td>0.022185</td>\n",
       "      <td>0.000492</td>\n",
       "    </tr>\n",
       "    <tr>\n",
       "      <th>2</th>\n",
       "      <td></td>\n",
       "      <td>2020-03-03 13:52:04</td>\n",
       "      <td>11.686 sec</td>\n",
       "      <td>162756 obs/sec</td>\n",
       "      <td>5.970067</td>\n",
       "      <td>17</td>\n",
       "      <td>1700317.0</td>\n",
       "      <td>0.020290</td>\n",
       "      <td>0.000412</td>\n",
       "    </tr>\n",
       "    <tr>\n",
       "      <th>3</th>\n",
       "      <td></td>\n",
       "      <td>2020-03-03 13:52:10</td>\n",
       "      <td>17.174 sec</td>\n",
       "      <td>169594 obs/sec</td>\n",
       "      <td>9.483461</td>\n",
       "      <td>27</td>\n",
       "      <td>2700956.0</td>\n",
       "      <td>0.022212</td>\n",
       "      <td>0.000493</td>\n",
       "    </tr>\n",
       "    <tr>\n",
       "      <th>4</th>\n",
       "      <td></td>\n",
       "      <td>2020-03-03 13:52:11</td>\n",
       "      <td>18.302 sec</td>\n",
       "      <td>170256 obs/sec</td>\n",
       "      <td>10.185262</td>\n",
       "      <td>29</td>\n",
       "      <td>2900834.0</td>\n",
       "      <td>0.040605</td>\n",
       "      <td>0.001649</td>\n",
       "    </tr>\n",
       "    <tr>\n",
       "      <th>5</th>\n",
       "      <td></td>\n",
       "      <td>2020-03-03 13:52:11</td>\n",
       "      <td>18.302 sec</td>\n",
       "      <td>170256 obs/sec</td>\n",
       "      <td>10.185262</td>\n",
       "      <td>29</td>\n",
       "      <td>2900834.0</td>\n",
       "      <td>0.020290</td>\n",
       "      <td>0.000412</td>\n",
       "    </tr>\n",
       "  </tbody>\n",
       "</table>\n",
       "</div>"
      ],
      "text/plain": [
       "               timestamp    duration   training_speed     epochs  iterations  \\\n",
       "0    2020-03-03 13:51:54   1.195 sec  0.00000 obs/sec   0.000000           0   \n",
       "1    2020-03-03 13:51:59   6.243 sec   139664 obs/sec   2.458293           7   \n",
       "2    2020-03-03 13:52:04  11.686 sec   162756 obs/sec   5.970067          17   \n",
       "3    2020-03-03 13:52:10  17.174 sec   169594 obs/sec   9.483461          27   \n",
       "4    2020-03-03 13:52:11  18.302 sec   170256 obs/sec  10.185262          29   \n",
       "5    2020-03-03 13:52:11  18.302 sec   170256 obs/sec  10.185262          29   \n",
       "\n",
       "     samples  training_rmse  training_mse  \n",
       "0        0.0       0.090335      0.008160  \n",
       "1   700139.0       0.022185      0.000492  \n",
       "2  1700317.0       0.020290      0.000412  \n",
       "3  2700956.0       0.022212      0.000493  \n",
       "4  2900834.0       0.040605      0.001649  \n",
       "5  2900834.0       0.020290      0.000412  "
      ]
     },
     "metadata": {},
     "output_type": "display_data"
    },
    {
     "name": "stdout",
     "output_type": "stream",
     "text": [
      "\n",
      "Variable Importances: \n"
     ]
    },
    {
     "data": {
      "text/html": [
       "<div>\n",
       "<style scoped>\n",
       "    .dataframe tbody tr th:only-of-type {\n",
       "        vertical-align: middle;\n",
       "    }\n",
       "\n",
       "    .dataframe tbody tr th {\n",
       "        vertical-align: top;\n",
       "    }\n",
       "\n",
       "    .dataframe thead th {\n",
       "        text-align: right;\n",
       "    }\n",
       "</style>\n",
       "<table border=\"1\" class=\"dataframe\">\n",
       "  <thead>\n",
       "    <tr style=\"text-align: right;\">\n",
       "      <th></th>\n",
       "      <th>variable</th>\n",
       "      <th>relative_importance</th>\n",
       "      <th>scaled_importance</th>\n",
       "      <th>percentage</th>\n",
       "    </tr>\n",
       "  </thead>\n",
       "  <tbody>\n",
       "    <tr>\n",
       "      <th>0</th>\n",
       "      <td>V9</td>\n",
       "      <td>1.000000</td>\n",
       "      <td>1.000000</td>\n",
       "      <td>0.105444</td>\n",
       "    </tr>\n",
       "    <tr>\n",
       "      <th>1</th>\n",
       "      <td>V18</td>\n",
       "      <td>0.924705</td>\n",
       "      <td>0.924705</td>\n",
       "      <td>0.097505</td>\n",
       "    </tr>\n",
       "    <tr>\n",
       "      <th>2</th>\n",
       "      <td>V19</td>\n",
       "      <td>0.902420</td>\n",
       "      <td>0.902420</td>\n",
       "      <td>0.095155</td>\n",
       "    </tr>\n",
       "    <tr>\n",
       "      <th>3</th>\n",
       "      <td>V11</td>\n",
       "      <td>0.890820</td>\n",
       "      <td>0.890820</td>\n",
       "      <td>0.093932</td>\n",
       "    </tr>\n",
       "    <tr>\n",
       "      <th>4</th>\n",
       "      <td>V26</td>\n",
       "      <td>0.798231</td>\n",
       "      <td>0.798231</td>\n",
       "      <td>0.084169</td>\n",
       "    </tr>\n",
       "    <tr>\n",
       "      <th>5</th>\n",
       "      <td>V24</td>\n",
       "      <td>0.786382</td>\n",
       "      <td>0.786382</td>\n",
       "      <td>0.082920</td>\n",
       "    </tr>\n",
       "    <tr>\n",
       "      <th>6</th>\n",
       "      <td>V13</td>\n",
       "      <td>0.754941</td>\n",
       "      <td>0.754941</td>\n",
       "      <td>0.079604</td>\n",
       "    </tr>\n",
       "    <tr>\n",
       "      <th>7</th>\n",
       "      <td>V15</td>\n",
       "      <td>0.748175</td>\n",
       "      <td>0.748175</td>\n",
       "      <td>0.078891</td>\n",
       "    </tr>\n",
       "    <tr>\n",
       "      <th>8</th>\n",
       "      <td>V4</td>\n",
       "      <td>0.648272</td>\n",
       "      <td>0.648272</td>\n",
       "      <td>0.068357</td>\n",
       "    </tr>\n",
       "    <tr>\n",
       "      <th>9</th>\n",
       "      <td>Time</td>\n",
       "      <td>0.609149</td>\n",
       "      <td>0.609149</td>\n",
       "      <td>0.064231</td>\n",
       "    </tr>\n",
       "    <tr>\n",
       "      <th>10</th>\n",
       "      <td>V12</td>\n",
       "      <td>0.241803</td>\n",
       "      <td>0.241803</td>\n",
       "      <td>0.025497</td>\n",
       "    </tr>\n",
       "    <tr>\n",
       "      <th>11</th>\n",
       "      <td>V5</td>\n",
       "      <td>0.157080</td>\n",
       "      <td>0.157080</td>\n",
       "      <td>0.016563</td>\n",
       "    </tr>\n",
       "    <tr>\n",
       "      <th>12</th>\n",
       "      <td>V10</td>\n",
       "      <td>0.118951</td>\n",
       "      <td>0.118951</td>\n",
       "      <td>0.012543</td>\n",
       "    </tr>\n",
       "    <tr>\n",
       "      <th>13</th>\n",
       "      <td>V14</td>\n",
       "      <td>0.112605</td>\n",
       "      <td>0.112605</td>\n",
       "      <td>0.011874</td>\n",
       "    </tr>\n",
       "    <tr>\n",
       "      <th>14</th>\n",
       "      <td>V7</td>\n",
       "      <td>0.105422</td>\n",
       "      <td>0.105422</td>\n",
       "      <td>0.011116</td>\n",
       "    </tr>\n",
       "    <tr>\n",
       "      <th>15</th>\n",
       "      <td>V17</td>\n",
       "      <td>0.068050</td>\n",
       "      <td>0.068050</td>\n",
       "      <td>0.007175</td>\n",
       "    </tr>\n",
       "    <tr>\n",
       "      <th>16</th>\n",
       "      <td>V3</td>\n",
       "      <td>0.067373</td>\n",
       "      <td>0.067373</td>\n",
       "      <td>0.007104</td>\n",
       "    </tr>\n",
       "    <tr>\n",
       "      <th>17</th>\n",
       "      <td>Amount</td>\n",
       "      <td>0.062194</td>\n",
       "      <td>0.062194</td>\n",
       "      <td>0.006558</td>\n",
       "    </tr>\n",
       "    <tr>\n",
       "      <th>18</th>\n",
       "      <td>V1</td>\n",
       "      <td>0.058858</td>\n",
       "      <td>0.058858</td>\n",
       "      <td>0.006206</td>\n",
       "    </tr>\n",
       "    <tr>\n",
       "      <th>19</th>\n",
       "      <td>V25</td>\n",
       "      <td>0.050029</td>\n",
       "      <td>0.050029</td>\n",
       "      <td>0.005275</td>\n",
       "    </tr>\n",
       "  </tbody>\n",
       "</table>\n",
       "</div>"
      ],
      "text/plain": [
       "   variable  relative_importance  scaled_importance  percentage\n",
       "0        V9             1.000000           1.000000    0.105444\n",
       "1       V18             0.924705           0.924705    0.097505\n",
       "2       V19             0.902420           0.902420    0.095155\n",
       "3       V11             0.890820           0.890820    0.093932\n",
       "4       V26             0.798231           0.798231    0.084169\n",
       "5       V24             0.786382           0.786382    0.082920\n",
       "6       V13             0.754941           0.754941    0.079604\n",
       "7       V15             0.748175           0.748175    0.078891\n",
       "8        V4             0.648272           0.648272    0.068357\n",
       "9      Time             0.609149           0.609149    0.064231\n",
       "10      V12             0.241803           0.241803    0.025497\n",
       "11       V5             0.157080           0.157080    0.016563\n",
       "12      V10             0.118951           0.118951    0.012543\n",
       "13      V14             0.112605           0.112605    0.011874\n",
       "14       V7             0.105422           0.105422    0.011116\n",
       "15      V17             0.068050           0.068050    0.007175\n",
       "16       V3             0.067373           0.067373    0.007104\n",
       "17   Amount             0.062194           0.062194    0.006558\n",
       "18       V1             0.058858           0.058858    0.006206\n",
       "19      V25             0.050029           0.050029    0.005275"
      ]
     },
     "metadata": {},
     "output_type": "display_data"
    },
    {
     "name": "stdout",
     "output_type": "stream",
     "text": [
      "\n",
      "See the whole table with table.as_data_frame()\n"
     ]
    },
    {
     "data": {
      "text/plain": []
     },
     "execution_count": 8,
     "metadata": {},
     "output_type": "execute_result"
    }
   ],
   "source": [
    "fraud_dl"
   ]
  },
  {
   "cell_type": "code",
   "execution_count": 9,
   "metadata": {},
   "outputs": [],
   "source": [
    "sh = fraud_dl.score_history()\n"
   ]
  },
  {
   "cell_type": "code",
   "execution_count": 10,
   "metadata": {},
   "outputs": [
    {
     "data": {
      "text/plain": [
       "<matplotlib.axes._subplots.AxesSubplot at 0x160802914c8>"
      ]
     },
     "execution_count": 10,
     "metadata": {},
     "output_type": "execute_result"
    },
    {
     "data": {
      "image/png": "[encoded data removed]",
      "text/plain": [
       "<Figure size 432x288 with 1 Axes>"
      ]
     },
     "metadata": {
      "needs_background": "light"
     },
     "output_type": "display_data"
    }
   ],
   "source": [
    "%matplotlib inline \n",
    "# plot training logloss and auc\n",
    "sh.plot(x='epochs', y = ['training_rmse'])"
   ]
  },
  {
   "cell_type": "code",
   "execution_count": 11,
   "metadata": {},
   "outputs": [],
   "source": [
    "err=(fraud_dl.anomaly(data)).cbind(C)"
   ]
  },
  {
   "cell_type": "code",
   "execution_count": 12,
   "metadata": {},
   "outputs": [
    {
     "data": {
      "text/html": [
       "<table>\n",
       "<thead>\n",
       "<tr><th style=\"text-align: right;\">  Reconstruction.MSE</th><th style=\"text-align: right;\">  Class</th></tr>\n",
       "</thead>\n",
       "<tbody>\n",
       "<tr><td style=\"text-align: right;\">         0.000634413</td><td style=\"text-align: right;\">      0</td></tr>\n",
       "<tr><td style=\"text-align: right;\">         0.000728842</td><td style=\"text-align: right;\">      0</td></tr>\n",
       "<tr><td style=\"text-align: right;\">         0.00113408 </td><td style=\"text-align: right;\">      0</td></tr>\n",
       "<tr><td style=\"text-align: right;\">         0.000799521</td><td style=\"text-align: right;\">      0</td></tr>\n",
       "<tr><td style=\"text-align: right;\">         0.000790778</td><td style=\"text-align: right;\">      0</td></tr>\n",
       "<tr><td style=\"text-align: right;\">         0.000651383</td><td style=\"text-align: right;\">      0</td></tr>\n",
       "<tr><td style=\"text-align: right;\">         0.000783297</td><td style=\"text-align: right;\">      0</td></tr>\n",
       "<tr><td style=\"text-align: right;\">         0.00107167 </td><td style=\"text-align: right;\">      0</td></tr>\n",
       "<tr><td style=\"text-align: right;\">         0.000689716</td><td style=\"text-align: right;\">      0</td></tr>\n",
       "<tr><td style=\"text-align: right;\">         0.000678911</td><td style=\"text-align: right;\">      0</td></tr>\n",
       "</tbody>\n",
       "</table>"
      ]
     },
     "metadata": {},
     "output_type": "display_data"
    },
    {
     "data": {
      "text/plain": []
     },
     "execution_count": 12,
     "metadata": {},
     "output_type": "execute_result"
    }
   ],
   "source": [
    "err"
   ]
  },
  {
   "cell_type": "code",
   "execution_count": 13,
   "metadata": {},
   "outputs": [],
   "source": [
    "err=err.as_data_frame()"
   ]
  },
  {
   "cell_type": "code",
   "execution_count": 14,
   "metadata": {},
   "outputs": [],
   "source": [
    "err=tf.cast(err.values, tf.float32)"
   ]
  },
  {
   "cell_type": "code",
   "execution_count": 15,
   "metadata": {},
   "outputs": [
    {
     "data": {
      "text/plain": [
       "0.00039916404"
      ]
     },
     "execution_count": 15,
     "metadata": {},
     "output_type": "execute_result"
    }
   ],
   "source": [
    "np.average(err[:,0])"
   ]
  },
  {
   "cell_type": "code",
   "execution_count": 16,
   "metadata": {},
   "outputs": [
    {
     "data": {
      "text/plain": [
       "<tf.Tensor: shape=(2, 2), dtype=float32, numpy=\n",
       "array([[0.9999999, 0.4647785],\n",
       "       [0.4647785, 0.9999914]], dtype=float32)>"
      ]
     },
     "execution_count": 16,
     "metadata": {},
     "output_type": "execute_result"
    }
   ],
   "source": [
    "#find correlation between reconstruction error and fraud flag\n",
    "\n",
    "tfp.stats.correlation(\n",
    "    err, y=None, sample_axis=0, event_axis=-1, keepdims=False, name=None\n",
    ")"
   ]
  },
  {
   "cell_type": "code",
   "execution_count": 17,
   "metadata": {},
   "outputs": [
    {
     "data": {
      "text/plain": [
       "[<tf.Tensor: shape=(2,), dtype=float32, numpy=array([-460.6818  ,    9.247124], dtype=float32)>,\n",
       " <tf.Tensor: shape=(284807,), dtype=float32, numpy=\n",
       " array([-0.29226264, -0.33576432, -0.52244836, ..., -0.08025674,\n",
       "        -0.0844292 , -0.05196166], dtype=float32)>,\n",
       " <tf.Tensor: shape=(), dtype=bool, numpy=False>,\n",
       " <tf.Tensor: shape=(), dtype=int32, numpy=1>]"
      ]
     },
     "execution_count": 17,
     "metadata": {},
     "output_type": "execute_result"
    }
   ],
   "source": [
    "#fit a glm to access if reconstruction error is a predictor of fraud\n",
    "\n",
    "tfp.glm.fit(\n",
    "    model_matrix=err, response=err[:,1], model=tfp.glm.Bernoulli(), model_coefficients_start=None,\n",
    "    predicted_linear_response_start=None, l2_regularizer=None, dispersion=None,\n",
    "    offset=None, convergence_criteria_fn=None, learning_rate=None,\n",
    "    fast_unsafe_numerics=True, maximum_iterations=1,\n",
    "    l2_regularization_penalty_factor=None, name=None\n",
    ")"
   ]
  },
  {
   "cell_type": "code",
   "execution_count": 18,
   "metadata": {},
   "outputs": [
    {
     "data": {
      "text/plain": [
       "<tf.Tensor: shape=(), dtype=float32, numpy=0.9998936>"
      ]
     },
     "execution_count": 18,
     "metadata": {},
     "output_type": "execute_result"
    }
   ],
   "source": [
    "def logit2prob(logit):\n",
    "  odds = tf.exp(logit)\n",
    "  prob = odds / (1.000 + odds)\n",
    "  return(prob)\n",
    "logit2prob(9.148)"
   ]
  },
  {
   "cell_type": "code",
   "execution_count": 6,
   "metadata": {},
   "outputs": [],
   "source": [
    "data=data.scale(center=True,scale=True)\n",
    "data=np.array(data[:,x].as_data_frame())"
   ]
  },
  {
   "cell_type": "code",
   "execution_count": 7,
   "metadata": {},
   "outputs": [
    {
     "data": {
      "text/plain": [
       "(284807, 30)"
      ]
     },
     "execution_count": 7,
     "metadata": {},
     "output_type": "execute_result"
    }
   ],
   "source": [
    "data.shape"
   ]
  },
  {
   "cell_type": "code",
   "execution_count": 17,
   "metadata": {},
   "outputs": [],
   "source": [
    "nb_epoch = 3\n",
    "batch_size = 128\n",
    "input_dim = data.shape[1] #num of columns, 30\n",
    "encoding_dim = 10\n",
    "hidden_dim = 10 \n",
    "learning_rate = 1e-7\n",
    "\n",
    "input_layer = Input(shape=(input_dim, ))\n",
    "encoder = Dense(encoding_dim, activation=\"tanh\", activity_regularizer=regularizers.l1(learning_rate))(input_layer)\n",
    "encoder = Dense(hidden_dim, activation=\"tanh\")(encoder)\n",
    "decoder = Dense(hidden_dim, activation='tanh')(encoder)\n",
    "decoder = Dense(input_dim, activation='tanh')(decoder)\n",
    "autoencoder = Model(inputs=input_layer, outputs=decoder)"
   ]
  },
  {
   "cell_type": "code",
   "execution_count": 18,
   "metadata": {},
   "outputs": [],
   "source": [
    "logdir=\"C:\\\\Users\\\\Michael Lanier\\\\notebook\\\\logs\"\n",
    "#!mkdir 'C:\\\\Users\\\\Michael Lanier\\\\notebook\\\\logs\\\\train'\n",
    "#!tensorboard --logdir \"C:\\Users\\Michael Lanier\\notebook\\logs\""
   ]
  },
  {
   "cell_type": "code",
   "execution_count": 19,
   "metadata": {},
   "outputs": [
    {
     "name": "stdout",
     "output_type": "stream",
     "text": [
      "Train on 284807 samples\n",
      "Epoch 1/3\n"
     ]
    },
    {
     "name": "stdout",
     "output_type": "stream",
     "text": [
      " 63424/284807 [=====>........................] - ETA: 39:47 - loss: 0.8717 - mean_absolute_error: 0.69 - ETA: 4:19 - loss: 1.3678 - mean_absolute_error: 0.7212 - ETA: 2:23 - loss: 1.1367 - mean_absolute_error: 0.707 - ETA: 1:39 - loss: 1.0392 - mean_absolute_error: 0.695 - ETA: 1:21 - loss: 1.0870 - mean_absolute_error: 0.698 - ETA: 1:09 - loss: 1.0412 - mean_absolute_error: 0.687 - ETA: 1:03 - loss: 1.0159 - mean_absolute_error: 0.678 - ETA: 57s - loss: 0.9839 - mean_absolute_error: 0.672 - ETA: 54s - loss: 0.9717 - mean_absolute_error: 0.66 - ETA: 52s - loss: 1.0035 - mean_absolute_error: 0.66 - ETA: 50s - loss: 0.9850 - mean_absolute_error: 0.66 - ETA: 49s - loss: 0.9636 - mean_absolute_error: 0.65 - ETA: 48s - loss: 0.9441 - mean_absolute_error: 0.65 - ETA: 47s - loss: 0.9323 - mean_absolute_error: 0.64 - ETA: 46s - loss: 0.9395 - mean_absolute_error: 0.64 - ETA: 46s - loss: 0.9295 - mean_absolute_error: 0.64 - ETA: 45s - loss: 0.9192 - mean_absolute_error: 0.64 - ETA: 45s - loss: 0.9290 - mean_absolute_error: 0.64 - ETA: 45s - loss: 0.9196 - mean_absolute_error: 0.63 - ETA: 44s - loss: 0.9249 - mean_absolute_error: 0.63 - ETA: 44s - loss: 0.9279 - mean_absolute_error: 0.63 - ETA: 43s - loss: 0.9179 - mean_absolute_error: 0.63 - ETA: 42s - loss: 0.9180 - mean_absolute_error: 0.62 - ETA: 41s - loss: 0.9082 - mean_absolute_error: 0.62 - ETA: 41s - loss: 0.9092 - mean_absolute_error: 0.62 - ETA: 40s - loss: 0.9058 - mean_absolute_error: 0.62 - ETA: 40s - loss: 0.8922 - mean_absolute_error: 0.62 - ETA: 40s - loss: 0.8837 - mean_absolute_error: 0.61 - ETA: 39s - loss: 0.8828 - mean_absolute_error: 0.61 - ETA: 39s - loss: 0.8783 - mean_absolute_error: 0.61 - ETA: 38s - loss: 0.8725 - mean_absolute_error: 0.61 - ETA: 38s - loss: 0.8708 - mean_absolute_error: 0.61 - ETA: 37s - loss: 0.8667 - mean_absolute_error: 0.61 - ETA: 37s - loss: 0.8627 - mean_absolute_error: 0.61 - ETA: 37s - loss: 0.8564 - mean_absolute_error: 0.61 - ETA: 37s - loss: 0.8518 - mean_absolute_error: 0.60 - ETA: 36s - loss: 0.8517 - mean_absolute_error: 0.60 - ETA: 36s - loss: 0.8497 - mean_absolute_error: 0.60 - ETA: 36s - loss: 0.8426 - mean_absolute_error: 0.60 - ETA: 36s - loss: 0.8406 - mean_absolute_error: 0.60 - ETA: 35s - loss: 0.8428 - mean_absolute_error: 0.60 - ETA: 35s - loss: 0.8436 - mean_absolute_error: 0.60 - ETA: 35s - loss: 0.8413 - mean_absolute_error: 0.60 - ETA: 35s - loss: 0.8454 - mean_absolute_error: 0.60 - ETA: 35s - loss: 0.8516 - mean_absolute_error: 0.60 - ETA: 35s - loss: 0.8465 - mean_absolute_error: 0.59 - ETA: 34s - loss: 0.8457 - mean_absolute_error: 0.59 - ETA: 34s - loss: 0.8442 - mean_absolute_error: 0.59 - ETA: 34s - loss: 0.8416 - mean_absolute_error: 0.59 - ETA: 34s - loss: 0.8393 - mean_absolute_error: 0.59 - ETA: 34s - loss: 0.8353 - mean_absolute_error: 0.59 - ETA: 34s - loss: 0.8353 - mean_absolute_error: 0.59 - ETA: 33s - loss: 0.8342 - mean_absolute_error: 0.59 - ETA: 33s - loss: 0.8303 - mean_absolute_error: 0.59 - ETA: 33s - loss: 0.8285 - mean_absolute_error: 0.59 - ETA: 33s - loss: 0.8253 - mean_absolute_error: 0.59 - ETA: 33s - loss: 0.8245 - mean_absolute_error: 0.59 - ETA: 33s - loss: 0.8231 - mean_absolute_error: 0.58 - ETA: 33s - loss: 0.8201 - mean_absolute_error: 0.58 - ETA: 33s - loss: 0.8212 - mean_absolute_error: 0.58 - ETA: 33s - loss: 0.8197 - mean_absolute_error: 0.58 - ETA: 33s - loss: 0.8159 - mean_absolute_error: 0.58 - ETA: 33s - loss: 0.8154 - mean_absolute_error: 0.58 - ETA: 33s - loss: 0.8138 - mean_absolute_error: 0.58 - ETA: 33s - loss: 0.8102 - mean_absolute_error: 0.58 - ETA: 33s - loss: 0.8090 - mean_absolute_error: 0.58 - ETA: 32s - loss: 0.8077 - mean_absolute_error: 0.58 - ETA: 32s - loss: 0.8093 - mean_absolute_error: 0.58 - ETA: 32s - loss: 0.8079 - mean_absolute_error: 0.58 - ETA: 32s - loss: 0.8062 - mean_absolute_error: 0.58 - ETA: 32s - loss: 0.8056 - mean_absolute_error: 0.58 - ETA: 32s - loss: 0.8048 - mean_absolute_error: 0.58 - ETA: 32s - loss: 0.8027 - mean_absolute_error: 0.58 - ETA: 32s - loss: 0.8011 - mean_absolute_error: 0.58 - ETA: 32s - loss: 0.7983 - mean_absolute_error: 0.57 - ETA: 32s - loss: 0.7956 - mean_absolute_error: 0.57 - ETA: 32s - loss: 0.7962 - mean_absolute_error: 0.57 - ETA: 32s - loss: 0.7931 - mean_absolute_error: 0.57 - ETA: 31s - loss: 0.7920 - mean_absolute_error: 0.57 - ETA: 31s - loss: 0.7897 - mean_absolute_error: 0.57 - ETA: 31s - loss: 0.7907 - mean_absolute_error: 0.57 - ETA: 31s - loss: 0.7887 - mean_absolute_error: 0.57 - ETA: 31s - loss: 0.7879 - mean_absolute_error: 0.57 - ETA: 31s - loss: 0.7856 - mean_absolute_error: 0.57 - ETA: 31s - loss: 0.7918 - mean_absolute_error: 0.57 - ETA: 31s - loss: 0.7894 - mean_absolute_error: 0.57 - ETA: 31s - loss: 0.7874 - mean_absolute_error: 0.57 - ETA: 31s - loss: 0.7845 - mean_absolute_error: 0.57 - ETA: 31s - loss: 0.7823 - mean_absolute_error: 0.57 - ETA: 31s - loss: 0.7808 - mean_absolute_error: 0.57 - ETA: 31s - loss: 0.7800 - mean_absolute_error: 0.57 - ETA: 30s - loss: 0.7797 - mean_absolute_error: 0.56 - ETA: 30s - loss: 0.7809 - mean_absolute_error: 0.56 - ETA: 30s - loss: 0.7788 - mean_absolute_error: 0.56 - ETA: 30s - loss: 0.7767 - mean_absolute_error: 0.56 - ETA: 30s - loss: 0.7764 - mean_absolute_error: 0.56 - ETA: 30s - loss: 0.7785 - mean_absolute_error: 0.56 - ETA: 30s - loss: 0.7813 - mean_absolute_error: 0.56 - ETA: 30s - loss: 0.7801 - mean_absolute_error: 0.56 - ETA: 30s - loss: 0.7774 - mean_absolute_error: 0.56 - ETA: 30s - loss: 0.7771 - mean_absolute_error: 0.56 - ETA: 30s - loss: 0.7751 - mean_absolute_error: 0.56 - ETA: 30s - loss: 0.7740 - mean_absolute_error: 0.56 - ETA: 30s - loss: 0.7728 - mean_absolute_error: 0.56 - ETA: 30s - loss: 0.7715 - mean_absolute_error: 0.56 - ETA: 30s - loss: 0.7718 - mean_absolute_error: 0.56 - ETA: 30s - loss: 0.7705 - mean_absolute_error: 0.56 - ETA: 30s - loss: 0.7694 - mean_absolute_error: 0.56 - ETA: 30s - loss: 0.7686 - mean_absolute_error: 0.56 - ETA: 30s - loss: 0.7675 - mean_absolute_error: 0.56 - ETA: 30s - loss: 0.7655 - mean_absolute_error: 0.56 - ETA: 30s - loss: 0.7643 - mean_absolute_error: 0.56 - ETA: 30s - loss: 0.7642 - mean_absolute_error: 0.56 - ETA: 30s - loss: 0.7650 - mean_absolute_error: 0.56 - ETA: 29s - loss: 0.7647 - mean_absolute_error: 0.56 - ETA: 29s - loss: 0.7631 - mean_absolute_error: 0.56 - ETA: 29s - loss: 0.7619 - mean_absolute_error: 0.55 - ETA: 29s - loss: 0.7606 - mean_absolute_error: 0.55 - ETA: 29s - loss: 0.7627 - mean_absolute_error: 0.55 - ETA: 29s - loss: 0.7613 - mean_absolute_error: 0.55 - ETA: 29s - loss: 0.7592 - mean_absolute_error: 0.55 - ETA: 29s - loss: 0.7577 - mean_absolute_error: 0.55 - ETA: 29s - loss: 0.7557 - mean_absolute_error: 0.55 - ETA: 29s - loss: 0.7552 - mean_absolute_error: 0.55 - ETA: 29s - loss: 0.7547 - mean_absolute_error: 0.55 - ETA: 29s - loss: 0.7562 - mean_absolute_error: 0.55 - ETA: 29s - loss: 0.7551 - mean_absolute_error: 0.55 - ETA: 29s - loss: 0.7567 - mean_absolute_error: 0.55 - ETA: 29s - loss: 0.7582 - mean_absolute_error: 0.55 - ETA: 29s - loss: 0.7578 - mean_absolute_error: 0.55 - ETA: 29s - loss: 0.7562 - mean_absolute_error: 0.55 - ETA: 28s - loss: 0.7556 - mean_absolute_error: 0.55 - ETA: 28s - loss: 0.7537 - mean_absolute_error: 0.55 - ETA: 28s - loss: 0.7530 - mean_absolute_error: 0.55 - ETA: 28s - loss: 0.7527 - mean_absolute_error: 0.55 - ETA: 28s - loss: 0.7514 - mean_absolute_error: 0.55 - ETA: 28s - loss: 0.7508 - mean_absolute_error: 0.55 - ETA: 28s - loss: 0.7497 - mean_absolute_error: 0.55 - ETA: 28s - loss: 0.7475 - mean_absolute_error: 0.55 - ETA: 28s - loss: 0.7494 - mean_absolute_error: 0.55 - ETA: 28s - loss: 0.7489 - mean_absolute_error: 0.55 - ETA: 28s - loss: 0.7482 - mean_absolute_error: 0.55 - ETA: 28s - loss: 0.7476 - mean_absolute_error: 0.55 - ETA: 28s - loss: 0.7477 - mean_absolute_error: 0.55 - ETA: 28s - loss: 0.7471 - mean_absolute_error: 0.54 - ETA: 28s - loss: 0.7460 - mean_absolute_error: 0.54 - ETA: 28s - loss: 0.7486 - mean_absolute_error: 0.54 - ETA: 27s - loss: 0.7484 - mean_absolute_error: 0.54 - ETA: 27s - loss: 0.7504 - mean_absolute_error: 0.54 - ETA: 27s - loss: 0.7514 - mean_absolute_error: 0.5485\b\b\b\b\b\b\b\b\b\b\b\b\b\b\b\b\b\b\b\b\b\b\b\b\b\b\b\b\b\b\b\b\b\b\b\b\b\b\b\b\b\b\b\b\b\b\b\b\b\b\b\b\b\b\b\b\b\b\b\b\b\b\b\b\b\b\b\b\b\b\b\b\b\b\b\b\b\b\b\b\b\b\b\b\b\b\b\b\b\b\b\b\b\b\b\b\b\b\b\b\b\b"
     ]
    },
    {
     "name": "stdout",
     "output_type": "stream",
     "text": [
      "128928/284807 [============>.................] - ETA: 27s - loss: 0.7509 - mean_absolute_error: 0.54 - ETA: 27s - loss: 0.7497 - mean_absolute_error: 0.54 - ETA: 27s - loss: 0.7494 - mean_absolute_error: 0.54 - ETA: 27s - loss: 0.7509 - mean_absolute_error: 0.54 - ETA: 27s - loss: 0.7505 - mean_absolute_error: 0.54 - ETA: 27s - loss: 0.7494 - mean_absolute_error: 0.54 - ETA: 27s - loss: 0.7488 - mean_absolute_error: 0.54 - ETA: 27s - loss: 0.7494 - mean_absolute_error: 0.54 - ETA: 27s - loss: 0.7484 - mean_absolute_error: 0.54 - ETA: 27s - loss: 0.7475 - mean_absolute_error: 0.54 - ETA: 27s - loss: 0.7478 - mean_absolute_error: 0.54 - ETA: 27s - loss: 0.7482 - mean_absolute_error: 0.54 - ETA: 27s - loss: 0.7474 - mean_absolute_error: 0.54 - ETA: 27s - loss: 0.7501 - mean_absolute_error: 0.54 - ETA: 27s - loss: 0.7493 - mean_absolute_error: 0.54 - ETA: 26s - loss: 0.7488 - mean_absolute_error: 0.54 - ETA: 26s - loss: 0.7484 - mean_absolute_error: 0.54 - ETA: 26s - loss: 0.7476 - mean_absolute_error: 0.54 - ETA: 26s - loss: 0.7476 - mean_absolute_error: 0.54 - ETA: 26s - loss: 0.7481 - mean_absolute_error: 0.54 - ETA: 26s - loss: 0.7474 - mean_absolute_error: 0.54 - ETA: 26s - loss: 0.7478 - mean_absolute_error: 0.54 - ETA: 26s - loss: 0.7462 - mean_absolute_error: 0.54 - ETA: 26s - loss: 0.7452 - mean_absolute_error: 0.54 - ETA: 26s - loss: 0.7440 - mean_absolute_error: 0.54 - ETA: 26s - loss: 0.7446 - mean_absolute_error: 0.54 - ETA: 26s - loss: 0.7431 - mean_absolute_error: 0.54 - ETA: 26s - loss: 0.7436 - mean_absolute_error: 0.54 - ETA: 26s - loss: 0.7435 - mean_absolute_error: 0.54 - ETA: 26s - loss: 0.7495 - mean_absolute_error: 0.54 - ETA: 25s - loss: 0.7480 - mean_absolute_error: 0.54 - ETA: 25s - loss: 0.7480 - mean_absolute_error: 0.54 - ETA: 25s - loss: 0.7478 - mean_absolute_error: 0.54 - ETA: 25s - loss: 0.7473 - mean_absolute_error: 0.54 - ETA: 25s - loss: 0.7466 - mean_absolute_error: 0.54 - ETA: 25s - loss: 0.7465 - mean_absolute_error: 0.54 - ETA: 25s - loss: 0.7469 - mean_absolute_error: 0.53 - ETA: 25s - loss: 0.7461 - mean_absolute_error: 0.53 - ETA: 25s - loss: 0.7488 - mean_absolute_error: 0.53 - ETA: 25s - loss: 0.7479 - mean_absolute_error: 0.53 - ETA: 25s - loss: 0.7475 - mean_absolute_error: 0.53 - ETA: 25s - loss: 0.7484 - mean_absolute_error: 0.53 - ETA: 25s - loss: 0.7483 - mean_absolute_error: 0.53 - ETA: 25s - loss: 0.7477 - mean_absolute_error: 0.53 - ETA: 25s - loss: 0.7468 - mean_absolute_error: 0.53 - ETA: 25s - loss: 0.7468 - mean_absolute_error: 0.53 - ETA: 24s - loss: 0.7483 - mean_absolute_error: 0.53 - ETA: 24s - loss: 0.7488 - mean_absolute_error: 0.53 - ETA: 24s - loss: 0.7499 - mean_absolute_error: 0.53 - ETA: 24s - loss: 0.7489 - mean_absolute_error: 0.53 - ETA: 24s - loss: 0.7496 - mean_absolute_error: 0.53 - ETA: 24s - loss: 0.7484 - mean_absolute_error: 0.53 - ETA: 24s - loss: 0.7504 - mean_absolute_error: 0.53 - ETA: 24s - loss: 0.7500 - mean_absolute_error: 0.53 - ETA: 24s - loss: 0.7499 - mean_absolute_error: 0.53 - ETA: 24s - loss: 0.7487 - mean_absolute_error: 0.53 - ETA: 24s - loss: 0.7477 - mean_absolute_error: 0.53 - ETA: 24s - loss: 0.7486 - mean_absolute_error: 0.53 - ETA: 24s - loss: 0.7487 - mean_absolute_error: 0.53 - ETA: 24s - loss: 0.7477 - mean_absolute_error: 0.53 - ETA: 24s - loss: 0.7467 - mean_absolute_error: 0.53 - ETA: 23s - loss: 0.7471 - mean_absolute_error: 0.53 - ETA: 23s - loss: 0.7476 - mean_absolute_error: 0.53 - ETA: 23s - loss: 0.7471 - mean_absolute_error: 0.53 - ETA: 23s - loss: 0.7475 - mean_absolute_error: 0.53 - ETA: 23s - loss: 0.7473 - mean_absolute_error: 0.53 - ETA: 23s - loss: 0.7467 - mean_absolute_error: 0.53 - ETA: 23s - loss: 0.7461 - mean_absolute_error: 0.53 - ETA: 23s - loss: 0.7461 - mean_absolute_error: 0.53 - ETA: 23s - loss: 0.7453 - mean_absolute_error: 0.53 - ETA: 23s - loss: 0.7448 - mean_absolute_error: 0.53 - ETA: 23s - loss: 0.7444 - mean_absolute_error: 0.53 - ETA: 23s - loss: 0.7436 - mean_absolute_error: 0.53 - ETA: 23s - loss: 0.7429 - mean_absolute_error: 0.53 - ETA: 23s - loss: 0.7424 - mean_absolute_error: 0.53 - ETA: 23s - loss: 0.7422 - mean_absolute_error: 0.53 - ETA: 23s - loss: 0.7424 - mean_absolute_error: 0.53 - ETA: 23s - loss: 0.7419 - mean_absolute_error: 0.53 - ETA: 23s - loss: 0.7414 - mean_absolute_error: 0.53 - ETA: 23s - loss: 0.7403 - mean_absolute_error: 0.53 - ETA: 22s - loss: 0.7416 - mean_absolute_error: 0.53 - ETA: 22s - loss: 0.7414 - mean_absolute_error: 0.53 - ETA: 22s - loss: 0.7405 - mean_absolute_error: 0.53 - ETA: 22s - loss: 0.7401 - mean_absolute_error: 0.53 - ETA: 22s - loss: 0.7414 - mean_absolute_error: 0.53 - ETA: 22s - loss: 0.7411 - mean_absolute_error: 0.53 - ETA: 22s - loss: 0.7416 - mean_absolute_error: 0.53 - ETA: 22s - loss: 0.7407 - mean_absolute_error: 0.53 - ETA: 22s - loss: 0.7403 - mean_absolute_error: 0.53 - ETA: 22s - loss: 0.7413 - mean_absolute_error: 0.53 - ETA: 22s - loss: 0.7407 - mean_absolute_error: 0.53 - ETA: 22s - loss: 0.7407 - mean_absolute_error: 0.53 - ETA: 22s - loss: 0.7408 - mean_absolute_error: 0.53 - ETA: 22s - loss: 0.7406 - mean_absolute_error: 0.53 - ETA: 22s - loss: 0.7407 - mean_absolute_error: 0.53 - ETA: 22s - loss: 0.7399 - mean_absolute_error: 0.52 - ETA: 21s - loss: 0.7394 - mean_absolute_error: 0.52 - ETA: 21s - loss: 0.7395 - mean_absolute_error: 0.52 - ETA: 21s - loss: 0.7390 - mean_absolute_error: 0.52 - ETA: 21s - loss: 0.7382 - mean_absolute_error: 0.52 - ETA: 21s - loss: 0.7375 - mean_absolute_error: 0.52 - ETA: 21s - loss: 0.7370 - mean_absolute_error: 0.52 - ETA: 21s - loss: 0.7368 - mean_absolute_error: 0.52 - ETA: 21s - loss: 0.7373 - mean_absolute_error: 0.52 - ETA: 21s - loss: 0.7365 - mean_absolute_error: 0.52 - ETA: 21s - loss: 0.7362 - mean_absolute_error: 0.52 - ETA: 21s - loss: 0.7364 - mean_absolute_error: 0.52 - ETA: 21s - loss: 0.7361 - mean_absolute_error: 0.52 - ETA: 21s - loss: 0.7356 - mean_absolute_error: 0.52 - ETA: 21s - loss: 0.7349 - mean_absolute_error: 0.52 - ETA: 21s - loss: 0.7347 - mean_absolute_error: 0.52 - ETA: 21s - loss: 0.7340 - mean_absolute_error: 0.52 - ETA: 21s - loss: 0.7357 - mean_absolute_error: 0.52 - ETA: 21s - loss: 0.7352 - mean_absolute_error: 0.52 - ETA: 21s - loss: 0.7354 - mean_absolute_error: 0.52 - ETA: 21s - loss: 0.7350 - mean_absolute_error: 0.52 - ETA: 21s - loss: 0.7344 - mean_absolute_error: 0.52 - ETA: 20s - loss: 0.7337 - mean_absolute_error: 0.52 - ETA: 20s - loss: 0.7348 - mean_absolute_error: 0.52 - ETA: 20s - loss: 0.7341 - mean_absolute_error: 0.52 - ETA: 20s - loss: 0.7348 - mean_absolute_error: 0.52 - ETA: 20s - loss: 0.7340 - mean_absolute_error: 0.52 - ETA: 20s - loss: 0.7341 - mean_absolute_error: 0.52 - ETA: 20s - loss: 0.7338 - mean_absolute_error: 0.52 - ETA: 20s - loss: 0.7333 - mean_absolute_error: 0.52 - ETA: 20s - loss: 0.7332 - mean_absolute_error: 0.52 - ETA: 20s - loss: 0.7338 - mean_absolute_error: 0.52 - ETA: 20s - loss: 0.7336 - mean_absolute_error: 0.52 - ETA: 20s - loss: 0.7342 - mean_absolute_error: 0.52 - ETA: 20s - loss: 0.7341 - mean_absolute_error: 0.52 - ETA: 20s - loss: 0.7332 - mean_absolute_error: 0.52 - ETA: 20s - loss: 0.7335 - mean_absolute_error: 0.52 - ETA: 20s - loss: 0.7342 - mean_absolute_error: 0.52 - ETA: 20s - loss: 0.7334 - mean_absolute_error: 0.52 - ETA: 20s - loss: 0.7333 - mean_absolute_error: 0.52 - ETA: 19s - loss: 0.7323 - mean_absolute_error: 0.52 - ETA: 19s - loss: 0.7319 - mean_absolute_error: 0.52 - ETA: 19s - loss: 0.7328 - mean_absolute_error: 0.52 - ETA: 19s - loss: 0.7323 - mean_absolute_error: 0.52 - ETA: 19s - loss: 0.7323 - mean_absolute_error: 0.52 - ETA: 19s - loss: 0.7315 - mean_absolute_error: 0.52 - ETA: 19s - loss: 0.7313 - mean_absolute_error: 0.52 - ETA: 19s - loss: 0.7307 - mean_absolute_error: 0.52 - ETA: 19s - loss: 0.7309 - mean_absolute_error: 0.52 - ETA: 19s - loss: 0.7306 - mean_absolute_error: 0.52 - ETA: 19s - loss: 0.7299 - mean_absolute_error: 0.52 - ETA: 19s - loss: 0.7291 - mean_absolute_error: 0.52 - ETA: 19s - loss: 0.7284 - mean_absolute_error: 0.52 - ETA: 19s - loss: 0.7284 - mean_absolute_error: 0.52 - ETA: 19s - loss: 0.7277 - mean_absolute_error: 0.52 - ETA: 19s - loss: 0.7278 - mean_absolute_error: 0.5226"
     ]
    },
    {
     "name": "stdout",
     "output_type": "stream",
     "text": [
      "195808/284807 [===================>..........] - ETA: 19s - loss: 0.7288 - mean_absolute_error: 0.52 - ETA: 18s - loss: 0.7287 - mean_absolute_error: 0.52 - ETA: 18s - loss: 0.7279 - mean_absolute_error: 0.52 - ETA: 18s - loss: 0.7286 - mean_absolute_error: 0.52 - ETA: 18s - loss: 0.7291 - mean_absolute_error: 0.52 - ETA: 18s - loss: 0.7281 - mean_absolute_error: 0.52 - ETA: 18s - loss: 0.7280 - mean_absolute_error: 0.52 - ETA: 18s - loss: 0.7278 - mean_absolute_error: 0.52 - ETA: 18s - loss: 0.7279 - mean_absolute_error: 0.52 - ETA: 18s - loss: 0.7278 - mean_absolute_error: 0.52 - ETA: 18s - loss: 0.7272 - mean_absolute_error: 0.52 - ETA: 18s - loss: 0.7269 - mean_absolute_error: 0.52 - ETA: 18s - loss: 0.7266 - mean_absolute_error: 0.52 - ETA: 18s - loss: 0.7258 - mean_absolute_error: 0.52 - ETA: 18s - loss: 0.7259 - mean_absolute_error: 0.52 - ETA: 18s - loss: 0.7252 - mean_absolute_error: 0.52 - ETA: 18s - loss: 0.7253 - mean_absolute_error: 0.52 - ETA: 17s - loss: 0.7248 - mean_absolute_error: 0.52 - ETA: 17s - loss: 0.7242 - mean_absolute_error: 0.52 - ETA: 17s - loss: 0.7237 - mean_absolute_error: 0.52 - ETA: 17s - loss: 0.7231 - mean_absolute_error: 0.51 - ETA: 17s - loss: 0.7233 - mean_absolute_error: 0.51 - ETA: 17s - loss: 0.7226 - mean_absolute_error: 0.51 - ETA: 17s - loss: 0.7219 - mean_absolute_error: 0.51 - ETA: 17s - loss: 0.7216 - mean_absolute_error: 0.51 - ETA: 17s - loss: 0.7216 - mean_absolute_error: 0.51 - ETA: 17s - loss: 0.7208 - mean_absolute_error: 0.51 - ETA: 17s - loss: 0.7203 - mean_absolute_error: 0.51 - ETA: 17s - loss: 0.7203 - mean_absolute_error: 0.51 - ETA: 17s - loss: 0.7205 - mean_absolute_error: 0.51 - ETA: 17s - loss: 0.7199 - mean_absolute_error: 0.51 - ETA: 17s - loss: 0.7193 - mean_absolute_error: 0.51 - ETA: 17s - loss: 0.7187 - mean_absolute_error: 0.51 - ETA: 17s - loss: 0.7186 - mean_absolute_error: 0.51 - ETA: 16s - loss: 0.7193 - mean_absolute_error: 0.51 - ETA: 16s - loss: 0.7202 - mean_absolute_error: 0.51 - ETA: 16s - loss: 0.7197 - mean_absolute_error: 0.51 - ETA: 16s - loss: 0.7193 - mean_absolute_error: 0.51 - ETA: 16s - loss: 0.7190 - mean_absolute_error: 0.51 - ETA: 16s - loss: 0.7182 - mean_absolute_error: 0.51 - ETA: 16s - loss: 0.7179 - mean_absolute_error: 0.51 - ETA: 16s - loss: 0.7174 - mean_absolute_error: 0.51 - ETA: 16s - loss: 0.7175 - mean_absolute_error: 0.51 - ETA: 16s - loss: 0.7169 - mean_absolute_error: 0.51 - ETA: 16s - loss: 0.7165 - mean_absolute_error: 0.51 - ETA: 16s - loss: 0.7173 - mean_absolute_error: 0.51 - ETA: 16s - loss: 0.7177 - mean_absolute_error: 0.51 - ETA: 16s - loss: 0.7169 - mean_absolute_error: 0.51 - ETA: 16s - loss: 0.7164 - mean_absolute_error: 0.51 - ETA: 16s - loss: 0.7158 - mean_absolute_error: 0.51 - ETA: 16s - loss: 0.7156 - mean_absolute_error: 0.51 - ETA: 16s - loss: 0.7154 - mean_absolute_error: 0.51 - ETA: 16s - loss: 0.7157 - mean_absolute_error: 0.51 - ETA: 16s - loss: 0.7156 - mean_absolute_error: 0.51 - ETA: 16s - loss: 0.7151 - mean_absolute_error: 0.51 - ETA: 16s - loss: 0.7146 - mean_absolute_error: 0.51 - ETA: 15s - loss: 0.7141 - mean_absolute_error: 0.51 - ETA: 15s - loss: 0.7141 - mean_absolute_error: 0.51 - ETA: 15s - loss: 0.7137 - mean_absolute_error: 0.51 - ETA: 15s - loss: 0.7135 - mean_absolute_error: 0.51 - ETA: 15s - loss: 0.7137 - mean_absolute_error: 0.51 - ETA: 15s - loss: 0.7134 - mean_absolute_error: 0.51 - ETA: 15s - loss: 0.7129 - mean_absolute_error: 0.51 - ETA: 15s - loss: 0.7126 - mean_absolute_error: 0.51 - ETA: 15s - loss: 0.7123 - mean_absolute_error: 0.51 - ETA: 15s - loss: 0.7122 - mean_absolute_error: 0.51 - ETA: 15s - loss: 0.7121 - mean_absolute_error: 0.51 - ETA: 15s - loss: 0.7156 - mean_absolute_error: 0.51 - ETA: 15s - loss: 0.7177 - mean_absolute_error: 0.51 - ETA: 15s - loss: 0.7172 - mean_absolute_error: 0.51 - ETA: 15s - loss: 0.7172 - mean_absolute_error: 0.51 - ETA: 15s - loss: 0.7171 - mean_absolute_error: 0.51 - ETA: 15s - loss: 0.7165 - mean_absolute_error: 0.51 - ETA: 15s - loss: 0.7161 - mean_absolute_error: 0.51 - ETA: 15s - loss: 0.7156 - mean_absolute_error: 0.51 - ETA: 15s - loss: 0.7150 - mean_absolute_error: 0.51 - ETA: 15s - loss: 0.7150 - mean_absolute_error: 0.51 - ETA: 14s - loss: 0.7148 - mean_absolute_error: 0.51 - ETA: 14s - loss: 0.7142 - mean_absolute_error: 0.51 - ETA: 14s - loss: 0.7140 - mean_absolute_error: 0.51 - ETA: 14s - loss: 0.7142 - mean_absolute_error: 0.51 - ETA: 14s - loss: 0.7141 - mean_absolute_error: 0.51 - ETA: 14s - loss: 0.7135 - mean_absolute_error: 0.51 - ETA: 14s - loss: 0.7138 - mean_absolute_error: 0.51 - ETA: 14s - loss: 0.7138 - mean_absolute_error: 0.51 - ETA: 14s - loss: 0.7137 - mean_absolute_error: 0.51 - ETA: 14s - loss: 0.7143 - mean_absolute_error: 0.51 - ETA: 14s - loss: 0.7143 - mean_absolute_error: 0.51 - ETA: 14s - loss: 0.7139 - mean_absolute_error: 0.51 - ETA: 14s - loss: 0.7136 - mean_absolute_error: 0.51 - ETA: 14s - loss: 0.7133 - mean_absolute_error: 0.51 - ETA: 14s - loss: 0.7133 - mean_absolute_error: 0.51 - ETA: 14s - loss: 0.7129 - mean_absolute_error: 0.51 - ETA: 14s - loss: 0.7128 - mean_absolute_error: 0.51 - ETA: 14s - loss: 0.7127 - mean_absolute_error: 0.51 - ETA: 13s - loss: 0.7121 - mean_absolute_error: 0.51 - ETA: 13s - loss: 0.7115 - mean_absolute_error: 0.51 - ETA: 13s - loss: 0.7112 - mean_absolute_error: 0.51 - ETA: 13s - loss: 0.7121 - mean_absolute_error: 0.51 - ETA: 13s - loss: 0.7117 - mean_absolute_error: 0.51 - ETA: 13s - loss: 0.7113 - mean_absolute_error: 0.51 - ETA: 13s - loss: 0.7112 - mean_absolute_error: 0.51 - ETA: 13s - loss: 0.7105 - mean_absolute_error: 0.51 - ETA: 13s - loss: 0.7111 - mean_absolute_error: 0.51 - ETA: 13s - loss: 0.7110 - mean_absolute_error: 0.51 - ETA: 13s - loss: 0.7105 - mean_absolute_error: 0.51 - ETA: 13s - loss: 0.7102 - mean_absolute_error: 0.51 - ETA: 13s - loss: 0.7109 - mean_absolute_error: 0.51 - ETA: 13s - loss: 0.7106 - mean_absolute_error: 0.51 - ETA: 13s - loss: 0.7106 - mean_absolute_error: 0.51 - ETA: 13s - loss: 0.7112 - mean_absolute_error: 0.51 - ETA: 12s - loss: 0.7106 - mean_absolute_error: 0.51 - ETA: 12s - loss: 0.7109 - mean_absolute_error: 0.51 - ETA: 12s - loss: 0.7109 - mean_absolute_error: 0.51 - ETA: 12s - loss: 0.7104 - mean_absolute_error: 0.51 - ETA: 12s - loss: 0.7106 - mean_absolute_error: 0.51 - ETA: 12s - loss: 0.7111 - mean_absolute_error: 0.51 - ETA: 12s - loss: 0.7106 - mean_absolute_error: 0.50 - ETA: 12s - loss: 0.7109 - mean_absolute_error: 0.50 - ETA: 12s - loss: 0.7109 - mean_absolute_error: 0.50 - ETA: 12s - loss: 0.7112 - mean_absolute_error: 0.50 - ETA: 12s - loss: 0.7107 - mean_absolute_error: 0.50 - ETA: 12s - loss: 0.7102 - mean_absolute_error: 0.50 - ETA: 12s - loss: 0.7100 - mean_absolute_error: 0.50 - ETA: 12s - loss: 0.7095 - mean_absolute_error: 0.50 - ETA: 12s - loss: 0.7092 - mean_absolute_error: 0.50 - ETA: 12s - loss: 0.7090 - mean_absolute_error: 0.50 - ETA: 12s - loss: 0.7086 - mean_absolute_error: 0.50 - ETA: 12s - loss: 0.7084 - mean_absolute_error: 0.50 - ETA: 11s - loss: 0.7079 - mean_absolute_error: 0.50 - ETA: 11s - loss: 0.7074 - mean_absolute_error: 0.50 - ETA: 11s - loss: 0.7069 - mean_absolute_error: 0.50 - ETA: 11s - loss: 0.7066 - mean_absolute_error: 0.50 - ETA: 11s - loss: 0.7065 - mean_absolute_error: 0.50 - ETA: 11s - loss: 0.7064 - mean_absolute_error: 0.50 - ETA: 11s - loss: 0.7069 - mean_absolute_error: 0.50 - ETA: 11s - loss: 0.7066 - mean_absolute_error: 0.50 - ETA: 11s - loss: 0.7063 - mean_absolute_error: 0.50 - ETA: 11s - loss: 0.7065 - mean_absolute_error: 0.50 - ETA: 11s - loss: 0.7065 - mean_absolute_error: 0.50 - ETA: 11s - loss: 0.7061 - mean_absolute_error: 0.50 - ETA: 11s - loss: 0.7055 - mean_absolute_error: 0.50 - ETA: 11s - loss: 0.7052 - mean_absolute_error: 0.50 - ETA: 11s - loss: 0.7048 - mean_absolute_error: 0.50 - ETA: 11s - loss: 0.7044 - mean_absolute_error: 0.50 - ETA: 11s - loss: 0.7045 - mean_absolute_error: 0.50 - ETA: 10s - loss: 0.7042 - mean_absolute_error: 0.50 - ETA: 10s - loss: 0.7040 - mean_absolute_error: 0.50 - ETA: 10s - loss: 0.7042 - mean_absolute_error: 0.50 - ETA: 10s - loss: 0.7037 - mean_absolute_error: 0.50 - ETA: 10s - loss: 0.7034 - mean_absolute_error: 0.5070"
     ]
    },
    {
     "name": "stdout",
     "output_type": "stream",
     "text": [
      "262432/284807 [==========================>...] - ETA: 10s - loss: 0.7037 - mean_absolute_error: 0.50 - ETA: 10s - loss: 0.7040 - mean_absolute_error: 0.50 - ETA: 10s - loss: 0.7037 - mean_absolute_error: 0.50 - ETA: 10s - loss: 0.7033 - mean_absolute_error: 0.50 - ETA: 10s - loss: 0.7032 - mean_absolute_error: 0.50 - ETA: 10s - loss: 0.7026 - mean_absolute_error: 0.50 - ETA: 10s - loss: 0.7028 - mean_absolute_error: 0.50 - ETA: 10s - loss: 0.7025 - mean_absolute_error: 0.50 - ETA: 10s - loss: 0.7023 - mean_absolute_error: 0.50 - ETA: 10s - loss: 0.7018 - mean_absolute_error: 0.50 - ETA: 10s - loss: 0.7017 - mean_absolute_error: 0.50 - ETA: 10s - loss: 0.7015 - mean_absolute_error: 0.50 - ETA: 9s - loss: 0.7012 - mean_absolute_error: 0.5060 - ETA: 9s - loss: 0.7007 - mean_absolute_error: 0.505 - ETA: 9s - loss: 0.7003 - mean_absolute_error: 0.505 - ETA: 9s - loss: 0.7000 - mean_absolute_error: 0.505 - ETA: 9s - loss: 0.7000 - mean_absolute_error: 0.505 - ETA: 9s - loss: 0.6997 - mean_absolute_error: 0.505 - ETA: 9s - loss: 0.6995 - mean_absolute_error: 0.505 - ETA: 9s - loss: 0.6992 - mean_absolute_error: 0.505 - ETA: 9s - loss: 0.6994 - mean_absolute_error: 0.505 - ETA: 9s - loss: 0.6992 - mean_absolute_error: 0.505 - ETA: 9s - loss: 0.6989 - mean_absolute_error: 0.505 - ETA: 9s - loss: 0.6990 - mean_absolute_error: 0.505 - ETA: 9s - loss: 0.6990 - mean_absolute_error: 0.505 - ETA: 9s - loss: 0.6988 - mean_absolute_error: 0.505 - ETA: 9s - loss: 0.6985 - mean_absolute_error: 0.505 - ETA: 9s - loss: 0.6984 - mean_absolute_error: 0.505 - ETA: 9s - loss: 0.6982 - mean_absolute_error: 0.504 - ETA: 9s - loss: 0.6977 - mean_absolute_error: 0.504 - ETA: 8s - loss: 0.6977 - mean_absolute_error: 0.504 - ETA: 8s - loss: 0.6974 - mean_absolute_error: 0.504 - ETA: 8s - loss: 0.6970 - mean_absolute_error: 0.504 - ETA: 8s - loss: 0.6968 - mean_absolute_error: 0.504 - ETA: 8s - loss: 0.6965 - mean_absolute_error: 0.504 - ETA: 8s - loss: 0.6962 - mean_absolute_error: 0.504 - ETA: 8s - loss: 0.6957 - mean_absolute_error: 0.504 - ETA: 8s - loss: 0.6961 - mean_absolute_error: 0.504 - ETA: 8s - loss: 0.6960 - mean_absolute_error: 0.504 - ETA: 8s - loss: 0.6957 - mean_absolute_error: 0.504 - ETA: 8s - loss: 0.6953 - mean_absolute_error: 0.503 - ETA: 8s - loss: 0.6948 - mean_absolute_error: 0.503 - ETA: 8s - loss: 0.6944 - mean_absolute_error: 0.503 - ETA: 8s - loss: 0.6948 - mean_absolute_error: 0.503 - ETA: 8s - loss: 0.6953 - mean_absolute_error: 0.503 - ETA: 8s - loss: 0.6949 - mean_absolute_error: 0.503 - ETA: 8s - loss: 0.6945 - mean_absolute_error: 0.503 - ETA: 8s - loss: 0.6942 - mean_absolute_error: 0.503 - ETA: 7s - loss: 0.6938 - mean_absolute_error: 0.503 - ETA: 7s - loss: 0.6938 - mean_absolute_error: 0.503 - ETA: 7s - loss: 0.6934 - mean_absolute_error: 0.503 - ETA: 7s - loss: 0.6932 - mean_absolute_error: 0.502 - ETA: 7s - loss: 0.6928 - mean_absolute_error: 0.502 - ETA: 7s - loss: 0.6927 - mean_absolute_error: 0.502 - ETA: 7s - loss: 0.6932 - mean_absolute_error: 0.502 - ETA: 7s - loss: 0.6931 - mean_absolute_error: 0.502 - ETA: 7s - loss: 0.6927 - mean_absolute_error: 0.502 - ETA: 7s - loss: 0.6928 - mean_absolute_error: 0.502 - ETA: 7s - loss: 0.6930 - mean_absolute_error: 0.502 - ETA: 7s - loss: 0.6927 - mean_absolute_error: 0.502 - ETA: 7s - loss: 0.6924 - mean_absolute_error: 0.502 - ETA: 7s - loss: 0.6921 - mean_absolute_error: 0.502 - ETA: 7s - loss: 0.6918 - mean_absolute_error: 0.502 - ETA: 7s - loss: 0.6918 - mean_absolute_error: 0.502 - ETA: 7s - loss: 0.6916 - mean_absolute_error: 0.502 - ETA: 7s - loss: 0.6913 - mean_absolute_error: 0.502 - ETA: 7s - loss: 0.6913 - mean_absolute_error: 0.502 - ETA: 6s - loss: 0.6911 - mean_absolute_error: 0.502 - ETA: 6s - loss: 0.6910 - mean_absolute_error: 0.501 - ETA: 6s - loss: 0.6905 - mean_absolute_error: 0.501 - ETA: 6s - loss: 0.6906 - mean_absolute_error: 0.501 - ETA: 6s - loss: 0.6902 - mean_absolute_error: 0.501 - ETA: 6s - loss: 0.6904 - mean_absolute_error: 0.501 - ETA: 6s - loss: 0.6903 - mean_absolute_error: 0.501 - ETA: 6s - loss: 0.6901 - mean_absolute_error: 0.501 - ETA: 6s - loss: 0.6897 - mean_absolute_error: 0.501 - ETA: 6s - loss: 0.6893 - mean_absolute_error: 0.501 - ETA: 6s - loss: 0.6889 - mean_absolute_error: 0.501 - ETA: 6s - loss: 0.6886 - mean_absolute_error: 0.501 - ETA: 6s - loss: 0.6888 - mean_absolute_error: 0.501 - ETA: 6s - loss: 0.6888 - mean_absolute_error: 0.501 - ETA: 6s - loss: 0.6886 - mean_absolute_error: 0.500 - ETA: 6s - loss: 0.6950 - mean_absolute_error: 0.500 - ETA: 6s - loss: 0.6951 - mean_absolute_error: 0.500 - ETA: 6s - loss: 0.6955 - mean_absolute_error: 0.500 - ETA: 5s - loss: 0.6953 - mean_absolute_error: 0.500 - ETA: 5s - loss: 0.6953 - mean_absolute_error: 0.500 - ETA: 5s - loss: 0.6953 - mean_absolute_error: 0.500 - ETA: 5s - loss: 0.6949 - mean_absolute_error: 0.500 - ETA: 5s - loss: 0.6951 - mean_absolute_error: 0.500 - ETA: 5s - loss: 0.6951 - mean_absolute_error: 0.500 - ETA: 5s - loss: 0.6947 - mean_absolute_error: 0.500 - ETA: 5s - loss: 0.6947 - mean_absolute_error: 0.500 - ETA: 5s - loss: 0.6943 - mean_absolute_error: 0.500 - ETA: 5s - loss: 0.6941 - mean_absolute_error: 0.500 - ETA: 5s - loss: 0.6938 - mean_absolute_error: 0.500 - ETA: 5s - loss: 0.6937 - mean_absolute_error: 0.500 - ETA: 5s - loss: 0.6939 - mean_absolute_error: 0.500 - ETA: 5s - loss: 0.6939 - mean_absolute_error: 0.500 - ETA: 5s - loss: 0.6936 - mean_absolute_error: 0.500 - ETA: 5s - loss: 0.6933 - mean_absolute_error: 0.500 - ETA: 5s - loss: 0.6930 - mean_absolute_error: 0.499 - ETA: 5s - loss: 0.6929 - mean_absolute_error: 0.499 - ETA: 5s - loss: 0.6927 - mean_absolute_error: 0.499 - ETA: 5s - loss: 0.6924 - mean_absolute_error: 0.499 - ETA: 4s - loss: 0.6924 - mean_absolute_error: 0.499 - ETA: 4s - loss: 0.6922 - mean_absolute_error: 0.499 - ETA: 4s - loss: 0.6928 - mean_absolute_error: 0.499 - ETA: 4s - loss: 0.6927 - mean_absolute_error: 0.499 - ETA: 4s - loss: 0.6924 - mean_absolute_error: 0.499 - ETA: 4s - loss: 0.6924 - mean_absolute_error: 0.499 - ETA: 4s - loss: 0.6921 - mean_absolute_error: 0.499 - ETA: 4s - loss: 0.6918 - mean_absolute_error: 0.499 - ETA: 4s - loss: 0.6920 - mean_absolute_error: 0.499 - ETA: 4s - loss: 0.6919 - mean_absolute_error: 0.499 - ETA: 4s - loss: 0.6919 - mean_absolute_error: 0.499 - ETA: 4s - loss: 0.6917 - mean_absolute_error: 0.499 - ETA: 4s - loss: 0.6917 - mean_absolute_error: 0.499 - ETA: 4s - loss: 0.6913 - mean_absolute_error: 0.499 - ETA: 4s - loss: 0.6912 - mean_absolute_error: 0.499 - ETA: 4s - loss: 0.6910 - mean_absolute_error: 0.499 - ETA: 4s - loss: 0.6910 - mean_absolute_error: 0.498 - ETA: 4s - loss: 0.6916 - mean_absolute_error: 0.498 - ETA: 4s - loss: 0.6915 - mean_absolute_error: 0.498 - ETA: 3s - loss: 0.6912 - mean_absolute_error: 0.498 - ETA: 3s - loss: 0.6907 - mean_absolute_error: 0.498 - ETA: 3s - loss: 0.6908 - mean_absolute_error: 0.498 - ETA: 3s - loss: 0.6907 - mean_absolute_error: 0.498 - ETA: 3s - loss: 0.6912 - mean_absolute_error: 0.498 - ETA: 3s - loss: 0.6910 - mean_absolute_error: 0.498 - ETA: 3s - loss: 0.6911 - mean_absolute_error: 0.498 - ETA: 3s - loss: 0.6909 - mean_absolute_error: 0.498 - ETA: 3s - loss: 0.6911 - mean_absolute_error: 0.498 - ETA: 3s - loss: 0.6908 - mean_absolute_error: 0.498 - ETA: 3s - loss: 0.6907 - mean_absolute_error: 0.498 - ETA: 3s - loss: 0.6904 - mean_absolute_error: 0.498 - ETA: 3s - loss: 0.6903 - mean_absolute_error: 0.498 - ETA: 3s - loss: 0.6905 - mean_absolute_error: 0.498 - ETA: 3s - loss: 0.6906 - mean_absolute_error: 0.498 - ETA: 3s - loss: 0.6904 - mean_absolute_error: 0.498 - ETA: 3s - loss: 0.6910 - mean_absolute_error: 0.498 - ETA: 3s - loss: 0.6911 - mean_absolute_error: 0.498 - ETA: 3s - loss: 0.6910 - mean_absolute_error: 0.498 - ETA: 3s - loss: 0.6919 - mean_absolute_error: 0.498 - ETA: 2s - loss: 0.6917 - mean_absolute_error: 0.498 - ETA: 2s - loss: 0.6916 - mean_absolute_error: 0.498 - ETA: 2s - loss: 0.6912 - mean_absolute_error: 0.497 - ETA: 2s - loss: 0.6908 - mean_absolute_error: 0.497 - ETA: 2s - loss: 0.6907 - mean_absolute_error: 0.497 - ETA: 2s - loss: 0.6906 - mean_absolute_error: 0.497 - ETA: 2s - loss: 0.6906 - mean_absolute_error: 0.4977"
     ]
    },
    {
     "name": "stdout",
     "output_type": "stream",
     "text": [
      "284768/284807 [============================>.] - ETA: 2s - loss: 0.6906 - mean_absolute_error: 0.497 - ETA: 2s - loss: 0.6904 - mean_absolute_error: 0.497 - ETA: 2s - loss: 0.6901 - mean_absolute_error: 0.497 - ETA: 2s - loss: 0.6896 - mean_absolute_error: 0.497 - ETA: 2s - loss: 0.6892 - mean_absolute_error: 0.497 - ETA: 2s - loss: 0.6890 - mean_absolute_error: 0.497 - ETA: 2s - loss: 0.6887 - mean_absolute_error: 0.497 - ETA: 2s - loss: 0.6885 - mean_absolute_error: 0.497 - ETA: 2s - loss: 0.6883 - mean_absolute_error: 0.497 - ETA: 2s - loss: 0.6881 - mean_absolute_error: 0.497 - ETA: 2s - loss: 0.6880 - mean_absolute_error: 0.497 - ETA: 1s - loss: 0.6878 - mean_absolute_error: 0.496 - ETA: 1s - loss: 0.6879 - mean_absolute_error: 0.496 - ETA: 1s - loss: 0.6877 - mean_absolute_error: 0.496 - ETA: 1s - loss: 0.6875 - mean_absolute_error: 0.496 - ETA: 1s - loss: 0.6875 - mean_absolute_error: 0.496 - ETA: 1s - loss: 0.6873 - mean_absolute_error: 0.496 - ETA: 1s - loss: 0.6873 - mean_absolute_error: 0.496 - ETA: 1s - loss: 0.6874 - mean_absolute_error: 0.496 - ETA: 1s - loss: 0.6876 - mean_absolute_error: 0.496 - ETA: 1s - loss: 0.6872 - mean_absolute_error: 0.496 - ETA: 1s - loss: 0.6879 - mean_absolute_error: 0.496 - ETA: 1s - loss: 0.6879 - mean_absolute_error: 0.496 - ETA: 1s - loss: 0.6883 - mean_absolute_error: 0.496 - ETA: 1s - loss: 0.6882 - mean_absolute_error: 0.496 - ETA: 1s - loss: 0.6879 - mean_absolute_error: 0.496 - ETA: 1s - loss: 0.6879 - mean_absolute_error: 0.496 - ETA: 1s - loss: 0.6877 - mean_absolute_error: 0.496 - ETA: 1s - loss: 0.6878 - mean_absolute_error: 0.496 - ETA: 1s - loss: 0.6877 - mean_absolute_error: 0.496 - ETA: 0s - loss: 0.6876 - mean_absolute_error: 0.496 - ETA: 0s - loss: 0.6873 - mean_absolute_error: 0.496 - ETA: 0s - loss: 0.6870 - mean_absolute_error: 0.496 - ETA: 0s - loss: 0.6867 - mean_absolute_error: 0.496 - ETA: 0s - loss: 0.6865 - mean_absolute_error: 0.495 - ETA: 0s - loss: 0.6873 - mean_absolute_error: 0.495 - ETA: 0s - loss: 0.6870 - mean_absolute_error: 0.495 - ETA: 0s - loss: 0.6869 - mean_absolute_error: 0.495 - ETA: 0s - loss: 0.6866 - mean_absolute_error: 0.495 - ETA: 0s - loss: 0.6862 - mean_absolute_error: 0.495 - ETA: 0s - loss: 0.6859 - mean_absolute_error: 0.495 - ETA: 0s - loss: 0.6859 - mean_absolute_error: 0.495 - ETA: 0s - loss: 0.6857 - mean_absolute_error: 0.495 - ETA: 0s - loss: 0.6853 - mean_absolute_error: 0.495 - ETA: 0s - loss: 0.6853 - mean_absolute_error: 0.495 - ETA: 0s - loss: 0.6853 - mean_absolute_error: 0.495 - ETA: 0s - loss: 0.6852 - mean_absolute_error: 0.495 - ETA: 0s - loss: 0.6852 - mean_absolute_error: 0.495 - ETA: 0s - loss: 0.6852 - mean_absolute_error: 0.4953\n",
      "Epoch 00001: saving model to autoencoder_fraud.h5\n",
      "284807/284807 [==============================] - 34s 119us/sample - loss: 0.6852 - mean_absolute_error: 0.4953\n",
      "Epoch 2/3\n"
     ]
    },
    {
     "name": "stdout",
     "output_type": "stream",
     "text": [
      " 67744/284807 [======>.......................] - ETA: 44s - loss: 0.3410 - mean_absolute_error: 0.42 - ETA: 36s - loss: 0.6763 - mean_absolute_error: 0.45 - ETA: 37s - loss: 0.6073 - mean_absolute_error: 0.45 - ETA: 35s - loss: 0.6085 - mean_absolute_error: 0.46 - ETA: 35s - loss: 0.6245 - mean_absolute_error: 0.46 - ETA: 35s - loss: 0.6217 - mean_absolute_error: 0.46 - ETA: 34s - loss: 0.5950 - mean_absolute_error: 0.46 - ETA: 34s - loss: 0.5875 - mean_absolute_error: 0.46 - ETA: 34s - loss: 0.6083 - mean_absolute_error: 0.46 - ETA: 34s - loss: 0.6517 - mean_absolute_error: 0.47 - ETA: 34s - loss: 0.6775 - mean_absolute_error: 0.47 - ETA: 33s - loss: 0.6654 - mean_absolute_error: 0.47 - ETA: 33s - loss: 0.6558 - mean_absolute_error: 0.47 - ETA: 33s - loss: 0.6702 - mean_absolute_error: 0.47 - ETA: 33s - loss: 0.6875 - mean_absolute_error: 0.47 - ETA: 33s - loss: 0.6761 - mean_absolute_error: 0.47 - ETA: 33s - loss: 0.6690 - mean_absolute_error: 0.47 - ETA: 33s - loss: 0.6692 - mean_absolute_error: 0.47 - ETA: 33s - loss: 0.6727 - mean_absolute_error: 0.47 - ETA: 33s - loss: 0.6630 - mean_absolute_error: 0.47 - ETA: 33s - loss: 0.6555 - mean_absolute_error: 0.47 - ETA: 33s - loss: 0.6526 - mean_absolute_error: 0.47 - ETA: 32s - loss: 0.6475 - mean_absolute_error: 0.46 - ETA: 32s - loss: 0.6389 - mean_absolute_error: 0.46 - ETA: 32s - loss: 0.6386 - mean_absolute_error: 0.46 - ETA: 32s - loss: 0.6304 - mean_absolute_error: 0.46 - ETA: 32s - loss: 0.6266 - mean_absolute_error: 0.46 - ETA: 32s - loss: 0.6260 - mean_absolute_error: 0.46 - ETA: 32s - loss: 0.6223 - mean_absolute_error: 0.46 - ETA: 32s - loss: 0.6221 - mean_absolute_error: 0.46 - ETA: 31s - loss: 0.6243 - mean_absolute_error: 0.46 - ETA: 31s - loss: 0.6251 - mean_absolute_error: 0.46 - ETA: 31s - loss: 0.6227 - mean_absolute_error: 0.46 - ETA: 31s - loss: 0.6208 - mean_absolute_error: 0.46 - ETA: 31s - loss: 0.6187 - mean_absolute_error: 0.46 - ETA: 31s - loss: 0.6144 - mean_absolute_error: 0.46 - ETA: 31s - loss: 0.6111 - mean_absolute_error: 0.46 - ETA: 31s - loss: 0.6094 - mean_absolute_error: 0.46 - ETA: 31s - loss: 0.6115 - mean_absolute_error: 0.46 - ETA: 31s - loss: 0.6078 - mean_absolute_error: 0.46 - ETA: 31s - loss: 0.6164 - mean_absolute_error: 0.46 - ETA: 31s - loss: 0.6149 - mean_absolute_error: 0.46 - ETA: 31s - loss: 0.6359 - mean_absolute_error: 0.46 - ETA: 31s - loss: 0.6346 - mean_absolute_error: 0.46 - ETA: 31s - loss: 0.7142 - mean_absolute_error: 0.47 - ETA: 31s - loss: 0.7089 - mean_absolute_error: 0.46 - ETA: 31s - loss: 0.7040 - mean_absolute_error: 0.46 - ETA: 31s - loss: 0.7015 - mean_absolute_error: 0.46 - ETA: 31s - loss: 0.6973 - mean_absolute_error: 0.46 - ETA: 31s - loss: 0.6971 - mean_absolute_error: 0.46 - ETA: 30s - loss: 0.6928 - mean_absolute_error: 0.46 - ETA: 30s - loss: 0.6933 - mean_absolute_error: 0.46 - ETA: 30s - loss: 0.6900 - mean_absolute_error: 0.46 - ETA: 30s - loss: 0.6890 - mean_absolute_error: 0.46 - ETA: 30s - loss: 0.6872 - mean_absolute_error: 0.46 - ETA: 30s - loss: 0.6855 - mean_absolute_error: 0.46 - ETA: 30s - loss: 0.6847 - mean_absolute_error: 0.46 - ETA: 30s - loss: 0.6824 - mean_absolute_error: 0.46 - ETA: 30s - loss: 0.6802 - mean_absolute_error: 0.46 - ETA: 30s - loss: 0.6841 - mean_absolute_error: 0.46 - ETA: 30s - loss: 0.6820 - mean_absolute_error: 0.46 - ETA: 29s - loss: 0.6798 - mean_absolute_error: 0.46 - ETA: 29s - loss: 0.6812 - mean_absolute_error: 0.46 - ETA: 29s - loss: 0.6785 - mean_absolute_error: 0.46 - ETA: 29s - loss: 0.6780 - mean_absolute_error: 0.46 - ETA: 29s - loss: 0.6746 - mean_absolute_error: 0.46 - ETA: 29s - loss: 0.6721 - mean_absolute_error: 0.46 - ETA: 29s - loss: 0.6688 - mean_absolute_error: 0.46 - ETA: 29s - loss: 0.6665 - mean_absolute_error: 0.46 - ETA: 29s - loss: 0.6638 - mean_absolute_error: 0.46 - ETA: 29s - loss: 0.6608 - mean_absolute_error: 0.46 - ETA: 29s - loss: 0.6591 - mean_absolute_error: 0.46 - ETA: 29s - loss: 0.6591 - mean_absolute_error: 0.46 - ETA: 29s - loss: 0.6569 - mean_absolute_error: 0.46 - ETA: 28s - loss: 0.6558 - mean_absolute_error: 0.46 - ETA: 28s - loss: 0.6530 - mean_absolute_error: 0.46 - ETA: 28s - loss: 0.6511 - mean_absolute_error: 0.46 - ETA: 28s - loss: 0.6495 - mean_absolute_error: 0.46 - ETA: 28s - loss: 0.6493 - mean_absolute_error: 0.46 - ETA: 28s - loss: 0.6496 - mean_absolute_error: 0.46 - ETA: 28s - loss: 0.6512 - mean_absolute_error: 0.46 - ETA: 28s - loss: 0.6510 - mean_absolute_error: 0.46 - ETA: 28s - loss: 0.6494 - mean_absolute_error: 0.46 - ETA: 28s - loss: 0.6482 - mean_absolute_error: 0.46 - ETA: 28s - loss: 0.6478 - mean_absolute_error: 0.46 - ETA: 28s - loss: 0.6470 - mean_absolute_error: 0.46 - ETA: 28s - loss: 0.6469 - mean_absolute_error: 0.46 - ETA: 28s - loss: 0.6455 - mean_absolute_error: 0.46 - ETA: 28s - loss: 0.6429 - mean_absolute_error: 0.46 - ETA: 27s - loss: 0.6425 - mean_absolute_error: 0.46 - ETA: 27s - loss: 0.6410 - mean_absolute_error: 0.46 - ETA: 27s - loss: 0.6390 - mean_absolute_error: 0.46 - ETA: 27s - loss: 0.6379 - mean_absolute_error: 0.46 - ETA: 27s - loss: 0.6375 - mean_absolute_error: 0.46 - ETA: 27s - loss: 0.6382 - mean_absolute_error: 0.46 - ETA: 27s - loss: 0.6369 - mean_absolute_error: 0.46 - ETA: 27s - loss: 0.6364 - mean_absolute_error: 0.46 - ETA: 27s - loss: 0.6366 - mean_absolute_error: 0.46 - ETA: 27s - loss: 0.6359 - mean_absolute_error: 0.46 - ETA: 27s - loss: 0.6347 - mean_absolute_error: 0.46 - ETA: 27s - loss: 0.6337 - mean_absolute_error: 0.46 - ETA: 27s - loss: 0.6334 - mean_absolute_error: 0.46 - ETA: 27s - loss: 0.6327 - mean_absolute_error: 0.46 - ETA: 27s - loss: 0.6333 - mean_absolute_error: 0.46 - ETA: 26s - loss: 0.6319 - mean_absolute_error: 0.46 - ETA: 26s - loss: 0.6359 - mean_absolute_error: 0.46 - ETA: 26s - loss: 0.6352 - mean_absolute_error: 0.46 - ETA: 26s - loss: 0.6367 - mean_absolute_error: 0.46 - ETA: 26s - loss: 0.6398 - mean_absolute_error: 0.46 - ETA: 26s - loss: 0.6392 - mean_absolute_error: 0.46 - ETA: 26s - loss: 0.6388 - mean_absolute_error: 0.46 - ETA: 26s - loss: 0.6385 - mean_absolute_error: 0.46 - ETA: 26s - loss: 0.6389 - mean_absolute_error: 0.46 - ETA: 26s - loss: 0.6376 - mean_absolute_error: 0.46 - ETA: 26s - loss: 0.6366 - mean_absolute_error: 0.46 - ETA: 26s - loss: 0.6361 - mean_absolute_error: 0.46 - ETA: 26s - loss: 0.6349 - mean_absolute_error: 0.46 - ETA: 26s - loss: 0.6344 - mean_absolute_error: 0.46 - ETA: 26s - loss: 0.6328 - mean_absolute_error: 0.46 - ETA: 26s - loss: 0.6328 - mean_absolute_error: 0.46 - ETA: 26s - loss: 0.6315 - mean_absolute_error: 0.46 - ETA: 26s - loss: 0.6304 - mean_absolute_error: 0.46 - ETA: 26s - loss: 0.6301 - mean_absolute_error: 0.46 - ETA: 25s - loss: 0.6296 - mean_absolute_error: 0.46 - ETA: 25s - loss: 0.6309 - mean_absolute_error: 0.46 - ETA: 25s - loss: 0.6313 - mean_absolute_error: 0.46 - ETA: 25s - loss: 0.6308 - mean_absolute_error: 0.46 - ETA: 25s - loss: 0.6303 - mean_absolute_error: 0.46 - ETA: 25s - loss: 0.6287 - mean_absolute_error: 0.46 - ETA: 25s - loss: 0.6281 - mean_absolute_error: 0.46 - ETA: 25s - loss: 0.6283 - mean_absolute_error: 0.46 - ETA: 25s - loss: 0.6273 - mean_absolute_error: 0.46 - ETA: 25s - loss: 0.6263 - mean_absolute_error: 0.46 - ETA: 25s - loss: 0.6255 - mean_absolute_error: 0.46 - ETA: 25s - loss: 0.6251 - mean_absolute_error: 0.46 - ETA: 25s - loss: 0.6243 - mean_absolute_error: 0.46 - ETA: 25s - loss: 0.6244 - mean_absolute_error: 0.46 - ETA: 25s - loss: 0.6247 - mean_absolute_error: 0.46 - ETA: 25s - loss: 0.6240 - mean_absolute_error: 0.46 - ETA: 25s - loss: 0.6237 - mean_absolute_error: 0.46 - ETA: 25s - loss: 0.6230 - mean_absolute_error: 0.46 - ETA: 24s - loss: 0.6238 - mean_absolute_error: 0.46 - ETA: 24s - loss: 0.6241 - mean_absolute_error: 0.46 - ETA: 27s - loss: 0.6243 - mean_absolute_error: 0.46 - ETA: 30s - loss: 0.6240 - mean_absolute_error: 0.46 - ETA: 30s - loss: 0.6240 - mean_absolute_error: 0.46 - ETA: 30s - loss: 0.6240 - mean_absolute_error: 0.46 - ETA: 30s - loss: 0.6247 - mean_absolute_error: 0.46 - ETA: 30s - loss: 0.6254 - mean_absolute_error: 0.46 - ETA: 30s - loss: 0.6249 - mean_absolute_error: 0.46 - ETA: 30s - loss: 0.6262 - mean_absolute_error: 0.4668"
     ]
    },
    {
     "name": "stdout",
     "output_type": "stream",
     "text": [
      "135680/284807 [=============>................] - ETA: 30s - loss: 0.6256 - mean_absolute_error: 0.46 - ETA: 29s - loss: 0.6251 - mean_absolute_error: 0.46 - ETA: 29s - loss: 0.6259 - mean_absolute_error: 0.46 - ETA: 29s - loss: 0.6255 - mean_absolute_error: 0.46 - ETA: 29s - loss: 0.6262 - mean_absolute_error: 0.46 - ETA: 29s - loss: 0.6249 - mean_absolute_error: 0.46 - ETA: 29s - loss: 0.6249 - mean_absolute_error: 0.46 - ETA: 29s - loss: 0.6237 - mean_absolute_error: 0.46 - ETA: 29s - loss: 0.6227 - mean_absolute_error: 0.46 - ETA: 29s - loss: 0.6226 - mean_absolute_error: 0.46 - ETA: 28s - loss: 0.6217 - mean_absolute_error: 0.46 - ETA: 28s - loss: 0.6226 - mean_absolute_error: 0.46 - ETA: 28s - loss: 0.6222 - mean_absolute_error: 0.46 - ETA: 28s - loss: 0.6211 - mean_absolute_error: 0.46 - ETA: 28s - loss: 0.6205 - mean_absolute_error: 0.46 - ETA: 28s - loss: 0.6195 - mean_absolute_error: 0.46 - ETA: 28s - loss: 0.6196 - mean_absolute_error: 0.46 - ETA: 28s - loss: 0.6197 - mean_absolute_error: 0.46 - ETA: 28s - loss: 0.6192 - mean_absolute_error: 0.46 - ETA: 28s - loss: 0.6184 - mean_absolute_error: 0.46 - ETA: 27s - loss: 0.6178 - mean_absolute_error: 0.46 - ETA: 27s - loss: 0.6179 - mean_absolute_error: 0.46 - ETA: 27s - loss: 0.6177 - mean_absolute_error: 0.46 - ETA: 27s - loss: 0.6165 - mean_absolute_error: 0.46 - ETA: 27s - loss: 0.6158 - mean_absolute_error: 0.46 - ETA: 27s - loss: 0.6162 - mean_absolute_error: 0.46 - ETA: 27s - loss: 0.6167 - mean_absolute_error: 0.46 - ETA: 27s - loss: 0.6193 - mean_absolute_error: 0.46 - ETA: 27s - loss: 0.6199 - mean_absolute_error: 0.46 - ETA: 27s - loss: 0.6202 - mean_absolute_error: 0.46 - ETA: 26s - loss: 0.6203 - mean_absolute_error: 0.46 - ETA: 26s - loss: 0.6201 - mean_absolute_error: 0.46 - ETA: 26s - loss: 0.6205 - mean_absolute_error: 0.46 - ETA: 26s - loss: 0.6207 - mean_absolute_error: 0.46 - ETA: 26s - loss: 0.6205 - mean_absolute_error: 0.46 - ETA: 26s - loss: 0.6199 - mean_absolute_error: 0.46 - ETA: 26s - loss: 0.6199 - mean_absolute_error: 0.46 - ETA: 26s - loss: 0.6195 - mean_absolute_error: 0.46 - ETA: 26s - loss: 0.6208 - mean_absolute_error: 0.46 - ETA: 26s - loss: 0.6200 - mean_absolute_error: 0.46 - ETA: 26s - loss: 0.6194 - mean_absolute_error: 0.46 - ETA: 25s - loss: 0.6207 - mean_absolute_error: 0.46 - ETA: 25s - loss: 0.6209 - mean_absolute_error: 0.46 - ETA: 25s - loss: 0.6207 - mean_absolute_error: 0.46 - ETA: 25s - loss: 0.6207 - mean_absolute_error: 0.46 - ETA: 25s - loss: 0.6210 - mean_absolute_error: 0.46 - ETA: 25s - loss: 0.6205 - mean_absolute_error: 0.46 - ETA: 25s - loss: 0.6215 - mean_absolute_error: 0.46 - ETA: 25s - loss: 0.6207 - mean_absolute_error: 0.46 - ETA: 25s - loss: 0.6209 - mean_absolute_error: 0.46 - ETA: 25s - loss: 0.6201 - mean_absolute_error: 0.46 - ETA: 25s - loss: 0.6196 - mean_absolute_error: 0.46 - ETA: 25s - loss: 0.6195 - mean_absolute_error: 0.46 - ETA: 25s - loss: 0.6193 - mean_absolute_error: 0.46 - ETA: 24s - loss: 0.6195 - mean_absolute_error: 0.46 - ETA: 24s - loss: 0.6195 - mean_absolute_error: 0.46 - ETA: 24s - loss: 0.6187 - mean_absolute_error: 0.46 - ETA: 24s - loss: 0.6188 - mean_absolute_error: 0.46 - ETA: 24s - loss: 0.6187 - mean_absolute_error: 0.46 - ETA: 24s - loss: 0.6178 - mean_absolute_error: 0.46 - ETA: 24s - loss: 0.6170 - mean_absolute_error: 0.46 - ETA: 24s - loss: 0.6165 - mean_absolute_error: 0.46 - ETA: 24s - loss: 0.6171 - mean_absolute_error: 0.46 - ETA: 24s - loss: 0.6166 - mean_absolute_error: 0.46 - ETA: 24s - loss: 0.6167 - mean_absolute_error: 0.46 - ETA: 24s - loss: 0.6166 - mean_absolute_error: 0.46 - ETA: 23s - loss: 0.6168 - mean_absolute_error: 0.46 - ETA: 23s - loss: 0.6190 - mean_absolute_error: 0.46 - ETA: 23s - loss: 0.6188 - mean_absolute_error: 0.46 - ETA: 23s - loss: 0.6189 - mean_absolute_error: 0.46 - ETA: 23s - loss: 0.6195 - mean_absolute_error: 0.46 - ETA: 23s - loss: 0.6200 - mean_absolute_error: 0.46 - ETA: 23s - loss: 0.6192 - mean_absolute_error: 0.46 - ETA: 23s - loss: 0.6199 - mean_absolute_error: 0.46 - ETA: 23s - loss: 0.6195 - mean_absolute_error: 0.46 - ETA: 23s - loss: 0.6210 - mean_absolute_error: 0.46 - ETA: 23s - loss: 0.6203 - mean_absolute_error: 0.46 - ETA: 23s - loss: 0.6198 - mean_absolute_error: 0.46 - ETA: 23s - loss: 0.6198 - mean_absolute_error: 0.46 - ETA: 23s - loss: 0.6195 - mean_absolute_error: 0.46 - ETA: 22s - loss: 0.6190 - mean_absolute_error: 0.46 - ETA: 22s - loss: 0.6187 - mean_absolute_error: 0.46 - ETA: 22s - loss: 0.6192 - mean_absolute_error: 0.46 - ETA: 22s - loss: 0.6192 - mean_absolute_error: 0.46 - ETA: 22s - loss: 0.6192 - mean_absolute_error: 0.46 - ETA: 22s - loss: 0.6193 - mean_absolute_error: 0.46 - ETA: 22s - loss: 0.6199 - mean_absolute_error: 0.46 - ETA: 22s - loss: 0.6196 - mean_absolute_error: 0.46 - ETA: 22s - loss: 0.6201 - mean_absolute_error: 0.46 - ETA: 22s - loss: 0.6197 - mean_absolute_error: 0.46 - ETA: 22s - loss: 0.6202 - mean_absolute_error: 0.46 - ETA: 22s - loss: 0.6201 - mean_absolute_error: 0.46 - ETA: 22s - loss: 0.6203 - mean_absolute_error: 0.46 - ETA: 22s - loss: 0.6201 - mean_absolute_error: 0.46 - ETA: 22s - loss: 0.6205 - mean_absolute_error: 0.46 - ETA: 22s - loss: 0.6202 - mean_absolute_error: 0.46 - ETA: 22s - loss: 0.6201 - mean_absolute_error: 0.46 - ETA: 22s - loss: 0.6202 - mean_absolute_error: 0.46 - ETA: 22s - loss: 0.6199 - mean_absolute_error: 0.46 - ETA: 22s - loss: 0.6199 - mean_absolute_error: 0.46 - ETA: 22s - loss: 0.6195 - mean_absolute_error: 0.46 - ETA: 21s - loss: 0.6189 - mean_absolute_error: 0.46 - ETA: 21s - loss: 0.6187 - mean_absolute_error: 0.46 - ETA: 21s - loss: 0.6191 - mean_absolute_error: 0.46 - ETA: 21s - loss: 0.6187 - mean_absolute_error: 0.46 - ETA: 21s - loss: 0.6186 - mean_absolute_error: 0.46 - ETA: 21s - loss: 0.6192 - mean_absolute_error: 0.46 - ETA: 21s - loss: 0.6187 - mean_absolute_error: 0.46 - ETA: 21s - loss: 0.6189 - mean_absolute_error: 0.46 - ETA: 21s - loss: 0.6187 - mean_absolute_error: 0.46 - ETA: 21s - loss: 0.6185 - mean_absolute_error: 0.46 - ETA: 21s - loss: 0.6204 - mean_absolute_error: 0.46 - ETA: 21s - loss: 0.6205 - mean_absolute_error: 0.46 - ETA: 21s - loss: 0.6207 - mean_absolute_error: 0.46 - ETA: 21s - loss: 0.6202 - mean_absolute_error: 0.46 - ETA: 21s - loss: 0.6209 - mean_absolute_error: 0.46 - ETA: 21s - loss: 0.6203 - mean_absolute_error: 0.46 - ETA: 20s - loss: 0.6208 - mean_absolute_error: 0.46 - ETA: 20s - loss: 0.6214 - mean_absolute_error: 0.46 - ETA: 20s - loss: 0.6213 - mean_absolute_error: 0.46 - ETA: 20s - loss: 0.6225 - mean_absolute_error: 0.46 - ETA: 20s - loss: 0.6223 - mean_absolute_error: 0.46 - ETA: 20s - loss: 0.6225 - mean_absolute_error: 0.46 - ETA: 20s - loss: 0.6226 - mean_absolute_error: 0.46 - ETA: 20s - loss: 0.6220 - mean_absolute_error: 0.46 - ETA: 20s - loss: 0.6216 - mean_absolute_error: 0.46 - ETA: 20s - loss: 0.6211 - mean_absolute_error: 0.46 - ETA: 20s - loss: 0.6207 - mean_absolute_error: 0.46 - ETA: 20s - loss: 0.6206 - mean_absolute_error: 0.46 - ETA: 20s - loss: 0.6205 - mean_absolute_error: 0.46 - ETA: 20s - loss: 0.6207 - mean_absolute_error: 0.46 - ETA: 20s - loss: 0.6207 - mean_absolute_error: 0.46 - ETA: 20s - loss: 0.6217 - mean_absolute_error: 0.46 - ETA: 19s - loss: 0.6221 - mean_absolute_error: 0.46 - ETA: 19s - loss: 0.6223 - mean_absolute_error: 0.46 - ETA: 19s - loss: 0.6224 - mean_absolute_error: 0.46 - ETA: 19s - loss: 0.6231 - mean_absolute_error: 0.46 - ETA: 19s - loss: 0.6228 - mean_absolute_error: 0.46 - ETA: 19s - loss: 0.6229 - mean_absolute_error: 0.46 - ETA: 19s - loss: 0.6231 - mean_absolute_error: 0.46 - ETA: 19s - loss: 0.6229 - mean_absolute_error: 0.46 - ETA: 19s - loss: 0.6243 - mean_absolute_error: 0.46 - ETA: 19s - loss: 0.6239 - mean_absolute_error: 0.46 - ETA: 19s - loss: 0.6236 - mean_absolute_error: 0.46 - ETA: 19s - loss: 0.6233 - mean_absolute_error: 0.46 - ETA: 19s - loss: 0.6226 - mean_absolute_error: 0.46 - ETA: 19s - loss: 0.6220 - mean_absolute_error: 0.46 - ETA: 19s - loss: 0.6218 - mean_absolute_error: 0.46 - ETA: 19s - loss: 0.6224 - mean_absolute_error: 0.46 - ETA: 18s - loss: 0.6221 - mean_absolute_error: 0.46 - ETA: 18s - loss: 0.6220 - mean_absolute_error: 0.4666"
     ]
    },
    {
     "name": "stdout",
     "output_type": "stream",
     "text": [
      "201856/284807 [====================>.........] - ETA: 18s - loss: 0.6218 - mean_absolute_error: 0.46 - ETA: 18s - loss: 0.6221 - mean_absolute_error: 0.46 - ETA: 18s - loss: 0.6219 - mean_absolute_error: 0.46 - ETA: 18s - loss: 0.6229 - mean_absolute_error: 0.46 - ETA: 18s - loss: 0.6224 - mean_absolute_error: 0.46 - ETA: 18s - loss: 0.6223 - mean_absolute_error: 0.46 - ETA: 18s - loss: 0.6221 - mean_absolute_error: 0.46 - ETA: 18s - loss: 0.6222 - mean_absolute_error: 0.46 - ETA: 18s - loss: 0.6224 - mean_absolute_error: 0.46 - ETA: 18s - loss: 0.6222 - mean_absolute_error: 0.46 - ETA: 18s - loss: 0.6228 - mean_absolute_error: 0.46 - ETA: 18s - loss: 0.6222 - mean_absolute_error: 0.46 - ETA: 18s - loss: 0.6215 - mean_absolute_error: 0.46 - ETA: 18s - loss: 0.6214 - mean_absolute_error: 0.46 - ETA: 17s - loss: 0.6212 - mean_absolute_error: 0.46 - ETA: 17s - loss: 0.6220 - mean_absolute_error: 0.46 - ETA: 17s - loss: 0.6219 - mean_absolute_error: 0.46 - ETA: 17s - loss: 0.6220 - mean_absolute_error: 0.46 - ETA: 17s - loss: 0.6222 - mean_absolute_error: 0.46 - ETA: 17s - loss: 0.6238 - mean_absolute_error: 0.46 - ETA: 17s - loss: 0.6235 - mean_absolute_error: 0.46 - ETA: 17s - loss: 0.6232 - mean_absolute_error: 0.46 - ETA: 17s - loss: 0.6231 - mean_absolute_error: 0.46 - ETA: 17s - loss: 0.6231 - mean_absolute_error: 0.46 - ETA: 17s - loss: 0.6245 - mean_absolute_error: 0.46 - ETA: 17s - loss: 0.6245 - mean_absolute_error: 0.46 - ETA: 17s - loss: 0.6245 - mean_absolute_error: 0.46 - ETA: 17s - loss: 0.6245 - mean_absolute_error: 0.46 - ETA: 17s - loss: 0.6241 - mean_absolute_error: 0.46 - ETA: 16s - loss: 0.6237 - mean_absolute_error: 0.46 - ETA: 16s - loss: 0.6242 - mean_absolute_error: 0.46 - ETA: 16s - loss: 0.6239 - mean_absolute_error: 0.46 - ETA: 16s - loss: 0.6247 - mean_absolute_error: 0.46 - ETA: 16s - loss: 0.6252 - mean_absolute_error: 0.46 - ETA: 16s - loss: 0.6248 - mean_absolute_error: 0.46 - ETA: 16s - loss: 0.6242 - mean_absolute_error: 0.46 - ETA: 16s - loss: 0.6245 - mean_absolute_error: 0.46 - ETA: 16s - loss: 0.6239 - mean_absolute_error: 0.46 - ETA: 16s - loss: 0.6239 - mean_absolute_error: 0.46 - ETA: 16s - loss: 0.6236 - mean_absolute_error: 0.46 - ETA: 16s - loss: 0.6235 - mean_absolute_error: 0.46 - ETA: 16s - loss: 0.6239 - mean_absolute_error: 0.46 - ETA: 16s - loss: 0.6244 - mean_absolute_error: 0.46 - ETA: 16s - loss: 0.6240 - mean_absolute_error: 0.46 - ETA: 16s - loss: 0.6245 - mean_absolute_error: 0.46 - ETA: 15s - loss: 0.6244 - mean_absolute_error: 0.46 - ETA: 15s - loss: 0.6246 - mean_absolute_error: 0.46 - ETA: 15s - loss: 0.6256 - mean_absolute_error: 0.46 - ETA: 15s - loss: 0.6254 - mean_absolute_error: 0.46 - ETA: 15s - loss: 0.6253 - mean_absolute_error: 0.46 - ETA: 15s - loss: 0.6251 - mean_absolute_error: 0.46 - ETA: 15s - loss: 0.6254 - mean_absolute_error: 0.46 - ETA: 15s - loss: 0.6256 - mean_absolute_error: 0.46 - ETA: 15s - loss: 0.6259 - mean_absolute_error: 0.46 - ETA: 15s - loss: 0.6276 - mean_absolute_error: 0.46 - ETA: 15s - loss: 0.6275 - mean_absolute_error: 0.46 - ETA: 15s - loss: 0.6275 - mean_absolute_error: 0.46 - ETA: 15s - loss: 0.6271 - mean_absolute_error: 0.46 - ETA: 15s - loss: 0.6277 - mean_absolute_error: 0.46 - ETA: 15s - loss: 0.6280 - mean_absolute_error: 0.46 - ETA: 15s - loss: 0.6279 - mean_absolute_error: 0.46 - ETA: 14s - loss: 0.6274 - mean_absolute_error: 0.46 - ETA: 14s - loss: 0.6270 - mean_absolute_error: 0.46 - ETA: 14s - loss: 0.6264 - mean_absolute_error: 0.46 - ETA: 14s - loss: 0.6259 - mean_absolute_error: 0.46 - ETA: 14s - loss: 0.6256 - mean_absolute_error: 0.46 - ETA: 14s - loss: 0.6254 - mean_absolute_error: 0.46 - ETA: 14s - loss: 0.6263 - mean_absolute_error: 0.46 - ETA: 14s - loss: 0.6269 - mean_absolute_error: 0.46 - ETA: 14s - loss: 0.6268 - mean_absolute_error: 0.46 - ETA: 14s - loss: 0.6266 - mean_absolute_error: 0.46 - ETA: 14s - loss: 0.6265 - mean_absolute_error: 0.46 - ETA: 14s - loss: 0.6264 - mean_absolute_error: 0.46 - ETA: 14s - loss: 0.6260 - mean_absolute_error: 0.46 - ETA: 14s - loss: 0.6260 - mean_absolute_error: 0.46 - ETA: 14s - loss: 0.6258 - mean_absolute_error: 0.46 - ETA: 14s - loss: 0.6258 - mean_absolute_error: 0.46 - ETA: 14s - loss: 0.6258 - mean_absolute_error: 0.46 - ETA: 14s - loss: 0.6256 - mean_absolute_error: 0.46 - ETA: 13s - loss: 0.6259 - mean_absolute_error: 0.46 - ETA: 13s - loss: 0.6271 - mean_absolute_error: 0.46 - ETA: 13s - loss: 0.6273 - mean_absolute_error: 0.46 - ETA: 13s - loss: 0.6268 - mean_absolute_error: 0.46 - ETA: 13s - loss: 0.6263 - mean_absolute_error: 0.46 - ETA: 13s - loss: 0.6262 - mean_absolute_error: 0.46 - ETA: 13s - loss: 0.6259 - mean_absolute_error: 0.46 - ETA: 13s - loss: 0.6259 - mean_absolute_error: 0.46 - ETA: 13s - loss: 0.6261 - mean_absolute_error: 0.46 - ETA: 13s - loss: 0.6258 - mean_absolute_error: 0.46 - ETA: 13s - loss: 0.6258 - mean_absolute_error: 0.46 - ETA: 13s - loss: 0.6263 - mean_absolute_error: 0.46 - ETA: 13s - loss: 0.6260 - mean_absolute_error: 0.46 - ETA: 13s - loss: 0.6257 - mean_absolute_error: 0.46 - ETA: 13s - loss: 0.6284 - mean_absolute_error: 0.46 - ETA: 13s - loss: 0.6285 - mean_absolute_error: 0.46 - ETA: 13s - loss: 0.6283 - mean_absolute_error: 0.46 - ETA: 13s - loss: 0.6303 - mean_absolute_error: 0.46 - ETA: 13s - loss: 0.6317 - mean_absolute_error: 0.46 - ETA: 13s - loss: 0.6319 - mean_absolute_error: 0.46 - ETA: 12s - loss: 0.6321 - mean_absolute_error: 0.46 - ETA: 12s - loss: 0.6318 - mean_absolute_error: 0.46 - ETA: 12s - loss: 0.6322 - mean_absolute_error: 0.46 - ETA: 12s - loss: 0.6327 - mean_absolute_error: 0.46 - ETA: 12s - loss: 0.6324 - mean_absolute_error: 0.46 - ETA: 12s - loss: 0.6319 - mean_absolute_error: 0.46 - ETA: 12s - loss: 0.6315 - mean_absolute_error: 0.46 - ETA: 12s - loss: 0.6316 - mean_absolute_error: 0.46 - ETA: 12s - loss: 0.6317 - mean_absolute_error: 0.46 - ETA: 12s - loss: 0.6313 - mean_absolute_error: 0.46 - ETA: 12s - loss: 0.6318 - mean_absolute_error: 0.46 - ETA: 12s - loss: 0.6315 - mean_absolute_error: 0.46 - ETA: 12s - loss: 0.6313 - mean_absolute_error: 0.46 - ETA: 12s - loss: 0.6312 - mean_absolute_error: 0.46 - ETA: 12s - loss: 0.6312 - mean_absolute_error: 0.46 - ETA: 12s - loss: 0.6310 - mean_absolute_error: 0.46 - ETA: 12s - loss: 0.6330 - mean_absolute_error: 0.46 - ETA: 12s - loss: 0.6327 - mean_absolute_error: 0.46 - ETA: 12s - loss: 0.6327 - mean_absolute_error: 0.46 - ETA: 12s - loss: 0.6333 - mean_absolute_error: 0.46 - ETA: 11s - loss: 0.6335 - mean_absolute_error: 0.46 - ETA: 11s - loss: 0.6331 - mean_absolute_error: 0.46 - ETA: 11s - loss: 0.6332 - mean_absolute_error: 0.46 - ETA: 11s - loss: 0.6329 - mean_absolute_error: 0.46 - ETA: 11s - loss: 0.6324 - mean_absolute_error: 0.46 - ETA: 11s - loss: 0.6327 - mean_absolute_error: 0.46 - ETA: 11s - loss: 0.6332 - mean_absolute_error: 0.46 - ETA: 11s - loss: 0.6331 - mean_absolute_error: 0.46 - ETA: 11s - loss: 0.6328 - mean_absolute_error: 0.46 - ETA: 11s - loss: 0.6328 - mean_absolute_error: 0.46 - ETA: 11s - loss: 0.6329 - mean_absolute_error: 0.46 - ETA: 11s - loss: 0.6329 - mean_absolute_error: 0.46 - ETA: 11s - loss: 0.6343 - mean_absolute_error: 0.46 - ETA: 11s - loss: 0.6343 - mean_absolute_error: 0.46 - ETA: 11s - loss: 0.6339 - mean_absolute_error: 0.46 - ETA: 11s - loss: 0.6337 - mean_absolute_error: 0.46 - ETA: 11s - loss: 0.6343 - mean_absolute_error: 0.46 - ETA: 11s - loss: 0.6339 - mean_absolute_error: 0.46 - ETA: 11s - loss: 0.6337 - mean_absolute_error: 0.46 - ETA: 10s - loss: 0.6335 - mean_absolute_error: 0.46 - ETA: 10s - loss: 0.6334 - mean_absolute_error: 0.46 - ETA: 10s - loss: 0.6332 - mean_absolute_error: 0.46 - ETA: 10s - loss: 0.6331 - mean_absolute_error: 0.46 - ETA: 10s - loss: 0.6334 - mean_absolute_error: 0.46 - ETA: 10s - loss: 0.6330 - mean_absolute_error: 0.46 - ETA: 10s - loss: 0.6328 - mean_absolute_error: 0.46 - ETA: 10s - loss: 0.6327 - mean_absolute_error: 0.46 - ETA: 10s - loss: 0.6330 - mean_absolute_error: 0.46 - ETA: 10s - loss: 0.6324 - mean_absolute_error: 0.46 - ETA: 10s - loss: 0.6324 - mean_absolute_error: 0.46 - ETA: 10s - loss: 0.6324 - mean_absolute_error: 0.46 - ETA: 10s - loss: 0.6330 - mean_absolute_error: 0.4660"
     ]
    },
    {
     "name": "stdout",
     "output_type": "stream",
     "text": [
      "269920/284807 [===========================>..] - ETA: 10s - loss: 0.6326 - mean_absolute_error: 0.46 - ETA: 10s - loss: 0.6324 - mean_absolute_error: 0.46 - ETA: 10s - loss: 0.6322 - mean_absolute_error: 0.46 - ETA: 10s - loss: 0.6322 - mean_absolute_error: 0.46 - ETA: 10s - loss: 0.6324 - mean_absolute_error: 0.46 - ETA: 9s - loss: 0.6324 - mean_absolute_error: 0.4658 - ETA: 9s - loss: 0.6320 - mean_absolute_error: 0.465 - ETA: 9s - loss: 0.6318 - mean_absolute_error: 0.465 - ETA: 9s - loss: 0.6315 - mean_absolute_error: 0.465 - ETA: 9s - loss: 0.6316 - mean_absolute_error: 0.465 - ETA: 9s - loss: 0.6312 - mean_absolute_error: 0.465 - ETA: 9s - loss: 0.6312 - mean_absolute_error: 0.465 - ETA: 9s - loss: 0.6310 - mean_absolute_error: 0.465 - ETA: 9s - loss: 0.6316 - mean_absolute_error: 0.465 - ETA: 9s - loss: 0.6315 - mean_absolute_error: 0.465 - ETA: 9s - loss: 0.6313 - mean_absolute_error: 0.465 - ETA: 9s - loss: 0.6311 - mean_absolute_error: 0.465 - ETA: 9s - loss: 0.6308 - mean_absolute_error: 0.465 - ETA: 9s - loss: 0.6308 - mean_absolute_error: 0.465 - ETA: 9s - loss: 0.6309 - mean_absolute_error: 0.465 - ETA: 9s - loss: 0.6318 - mean_absolute_error: 0.465 - ETA: 9s - loss: 0.6321 - mean_absolute_error: 0.465 - ETA: 9s - loss: 0.6320 - mean_absolute_error: 0.465 - ETA: 9s - loss: 0.6318 - mean_absolute_error: 0.465 - ETA: 8s - loss: 0.6316 - mean_absolute_error: 0.465 - ETA: 8s - loss: 0.6319 - mean_absolute_error: 0.465 - ETA: 8s - loss: 0.6319 - mean_absolute_error: 0.465 - ETA: 8s - loss: 0.6315 - mean_absolute_error: 0.465 - ETA: 8s - loss: 0.6315 - mean_absolute_error: 0.465 - ETA: 8s - loss: 0.6318 - mean_absolute_error: 0.465 - ETA: 8s - loss: 0.6317 - mean_absolute_error: 0.465 - ETA: 8s - loss: 0.6315 - mean_absolute_error: 0.465 - ETA: 8s - loss: 0.6313 - mean_absolute_error: 0.465 - ETA: 8s - loss: 0.6312 - mean_absolute_error: 0.465 - ETA: 8s - loss: 0.6309 - mean_absolute_error: 0.465 - ETA: 8s - loss: 0.6307 - mean_absolute_error: 0.465 - ETA: 8s - loss: 0.6303 - mean_absolute_error: 0.465 - ETA: 8s - loss: 0.6305 - mean_absolute_error: 0.465 - ETA: 8s - loss: 0.6303 - mean_absolute_error: 0.465 - ETA: 8s - loss: 0.6301 - mean_absolute_error: 0.465 - ETA: 8s - loss: 0.6299 - mean_absolute_error: 0.465 - ETA: 7s - loss: 0.6297 - mean_absolute_error: 0.465 - ETA: 7s - loss: 0.6299 - mean_absolute_error: 0.465 - ETA: 7s - loss: 0.6297 - mean_absolute_error: 0.465 - ETA: 7s - loss: 0.6294 - mean_absolute_error: 0.465 - ETA: 7s - loss: 0.6292 - mean_absolute_error: 0.465 - ETA: 7s - loss: 0.6295 - mean_absolute_error: 0.465 - ETA: 7s - loss: 0.6295 - mean_absolute_error: 0.465 - ETA: 7s - loss: 0.6299 - mean_absolute_error: 0.465 - ETA: 7s - loss: 0.6295 - mean_absolute_error: 0.465 - ETA: 7s - loss: 0.6299 - mean_absolute_error: 0.465 - ETA: 7s - loss: 0.6297 - mean_absolute_error: 0.465 - ETA: 7s - loss: 0.6297 - mean_absolute_error: 0.465 - ETA: 7s - loss: 0.6293 - mean_absolute_error: 0.465 - ETA: 7s - loss: 0.6290 - mean_absolute_error: 0.465 - ETA: 7s - loss: 0.6299 - mean_absolute_error: 0.465 - ETA: 7s - loss: 0.6298 - mean_absolute_error: 0.465 - ETA: 7s - loss: 0.6295 - mean_absolute_error: 0.465 - ETA: 7s - loss: 0.6298 - mean_absolute_error: 0.465 - ETA: 6s - loss: 0.6297 - mean_absolute_error: 0.465 - ETA: 6s - loss: 0.6299 - mean_absolute_error: 0.465 - ETA: 6s - loss: 0.6296 - mean_absolute_error: 0.464 - ETA: 6s - loss: 0.6299 - mean_absolute_error: 0.465 - ETA: 6s - loss: 0.6300 - mean_absolute_error: 0.465 - ETA: 6s - loss: 0.6297 - mean_absolute_error: 0.464 - ETA: 6s - loss: 0.6294 - mean_absolute_error: 0.464 - ETA: 6s - loss: 0.6297 - mean_absolute_error: 0.464 - ETA: 6s - loss: 0.6296 - mean_absolute_error: 0.464 - ETA: 6s - loss: 0.6295 - mean_absolute_error: 0.464 - ETA: 6s - loss: 0.6292 - mean_absolute_error: 0.464 - ETA: 6s - loss: 0.6290 - mean_absolute_error: 0.464 - ETA: 6s - loss: 0.6298 - mean_absolute_error: 0.464 - ETA: 6s - loss: 0.6300 - mean_absolute_error: 0.464 - ETA: 6s - loss: 0.6296 - mean_absolute_error: 0.464 - ETA: 6s - loss: 0.6300 - mean_absolute_error: 0.464 - ETA: 6s - loss: 0.6297 - mean_absolute_error: 0.464 - ETA: 5s - loss: 0.6300 - mean_absolute_error: 0.464 - ETA: 5s - loss: 0.6300 - mean_absolute_error: 0.464 - ETA: 5s - loss: 0.6298 - mean_absolute_error: 0.464 - ETA: 5s - loss: 0.6296 - mean_absolute_error: 0.464 - ETA: 5s - loss: 0.6294 - mean_absolute_error: 0.464 - ETA: 5s - loss: 0.6297 - mean_absolute_error: 0.464 - ETA: 5s - loss: 0.6297 - mean_absolute_error: 0.464 - ETA: 5s - loss: 0.6296 - mean_absolute_error: 0.464 - ETA: 5s - loss: 0.6302 - mean_absolute_error: 0.464 - ETA: 5s - loss: 0.6299 - mean_absolute_error: 0.464 - ETA: 5s - loss: 0.6297 - mean_absolute_error: 0.464 - ETA: 5s - loss: 0.6294 - mean_absolute_error: 0.464 - ETA: 5s - loss: 0.6291 - mean_absolute_error: 0.464 - ETA: 5s - loss: 0.6294 - mean_absolute_error: 0.464 - ETA: 5s - loss: 0.6295 - mean_absolute_error: 0.464 - ETA: 5s - loss: 0.6295 - mean_absolute_error: 0.464 - ETA: 5s - loss: 0.6294 - mean_absolute_error: 0.464 - ETA: 5s - loss: 0.6298 - mean_absolute_error: 0.464 - ETA: 4s - loss: 0.6295 - mean_absolute_error: 0.464 - ETA: 4s - loss: 0.6294 - mean_absolute_error: 0.464 - ETA: 4s - loss: 0.6292 - mean_absolute_error: 0.464 - ETA: 4s - loss: 0.6289 - mean_absolute_error: 0.464 - ETA: 4s - loss: 0.6291 - mean_absolute_error: 0.464 - ETA: 4s - loss: 0.6290 - mean_absolute_error: 0.464 - ETA: 4s - loss: 0.6288 - mean_absolute_error: 0.464 - ETA: 4s - loss: 0.6285 - mean_absolute_error: 0.464 - ETA: 4s - loss: 0.6285 - mean_absolute_error: 0.464 - ETA: 4s - loss: 0.6285 - mean_absolute_error: 0.464 - ETA: 4s - loss: 0.6283 - mean_absolute_error: 0.464 - ETA: 4s - loss: 0.6289 - mean_absolute_error: 0.464 - ETA: 4s - loss: 0.6301 - mean_absolute_error: 0.464 - ETA: 4s - loss: 0.6300 - mean_absolute_error: 0.464 - ETA: 4s - loss: 0.6303 - mean_absolute_error: 0.464 - ETA: 4s - loss: 0.6302 - mean_absolute_error: 0.464 - ETA: 4s - loss: 0.6301 - mean_absolute_error: 0.464 - ETA: 3s - loss: 0.6300 - mean_absolute_error: 0.464 - ETA: 3s - loss: 0.6300 - mean_absolute_error: 0.464 - ETA: 3s - loss: 0.6302 - mean_absolute_error: 0.464 - ETA: 3s - loss: 0.6306 - mean_absolute_error: 0.464 - ETA: 3s - loss: 0.6306 - mean_absolute_error: 0.464 - ETA: 3s - loss: 0.6303 - mean_absolute_error: 0.464 - ETA: 3s - loss: 0.6302 - mean_absolute_error: 0.464 - ETA: 3s - loss: 0.6299 - mean_absolute_error: 0.464 - ETA: 3s - loss: 0.6299 - mean_absolute_error: 0.464 - ETA: 3s - loss: 0.6301 - mean_absolute_error: 0.464 - ETA: 3s - loss: 0.6302 - mean_absolute_error: 0.464 - ETA: 3s - loss: 0.6300 - mean_absolute_error: 0.464 - ETA: 3s - loss: 0.6307 - mean_absolute_error: 0.464 - ETA: 3s - loss: 0.6308 - mean_absolute_error: 0.464 - ETA: 3s - loss: 0.6306 - mean_absolute_error: 0.464 - ETA: 3s - loss: 0.6302 - mean_absolute_error: 0.464 - ETA: 3s - loss: 0.6307 - mean_absolute_error: 0.464 - ETA: 3s - loss: 0.6312 - mean_absolute_error: 0.464 - ETA: 2s - loss: 0.6311 - mean_absolute_error: 0.464 - ETA: 2s - loss: 0.6307 - mean_absolute_error: 0.464 - ETA: 2s - loss: 0.6310 - mean_absolute_error: 0.464 - ETA: 2s - loss: 0.6315 - mean_absolute_error: 0.464 - ETA: 2s - loss: 0.6314 - mean_absolute_error: 0.464 - ETA: 2s - loss: 0.6313 - mean_absolute_error: 0.464 - ETA: 2s - loss: 0.6311 - mean_absolute_error: 0.464 - ETA: 2s - loss: 0.6314 - mean_absolute_error: 0.464 - ETA: 2s - loss: 0.6314 - mean_absolute_error: 0.464 - ETA: 2s - loss: 0.6314 - mean_absolute_error: 0.464 - ETA: 2s - loss: 0.6312 - mean_absolute_error: 0.464 - ETA: 2s - loss: 0.6311 - mean_absolute_error: 0.464 - ETA: 2s - loss: 0.6313 - mean_absolute_error: 0.464 - ETA: 2s - loss: 0.6314 - mean_absolute_error: 0.464 - ETA: 2s - loss: 0.6314 - mean_absolute_error: 0.464 - ETA: 2s - loss: 0.6321 - mean_absolute_error: 0.464 - ETA: 2s - loss: 0.6322 - mean_absolute_error: 0.464 - ETA: 2s - loss: 0.6320 - mean_absolute_error: 0.464 - ETA: 1s - loss: 0.6318 - mean_absolute_error: 0.463 - ETA: 1s - loss: 0.6316 - mean_absolute_error: 0.463 - ETA: 1s - loss: 0.6317 - mean_absolute_error: 0.463 - ETA: 1s - loss: 0.6316 - mean_absolute_error: 0.4639"
     ]
    },
    {
     "name": "stdout",
     "output_type": "stream",
     "text": [
      "284672/284807 [============================>.] - ETA: 1s - loss: 0.6315 - mean_absolute_error: 0.463 - ETA: 1s - loss: 0.6313 - mean_absolute_error: 0.463 - ETA: 1s - loss: 0.6314 - mean_absolute_error: 0.463 - ETA: 1s - loss: 0.6312 - mean_absolute_error: 0.463 - ETA: 1s - loss: 0.6310 - mean_absolute_error: 0.463 - ETA: 1s - loss: 0.6310 - mean_absolute_error: 0.463 - ETA: 1s - loss: 0.6308 - mean_absolute_error: 0.463 - ETA: 1s - loss: 0.6307 - mean_absolute_error: 0.463 - ETA: 1s - loss: 0.6304 - mean_absolute_error: 0.463 - ETA: 1s - loss: 0.6307 - mean_absolute_error: 0.463 - ETA: 1s - loss: 0.6304 - mean_absolute_error: 0.463 - ETA: 1s - loss: 0.6303 - mean_absolute_error: 0.463 - ETA: 1s - loss: 0.6307 - mean_absolute_error: 0.463 - ETA: 1s - loss: 0.6306 - mean_absolute_error: 0.463 - ETA: 0s - loss: 0.6307 - mean_absolute_error: 0.463 - ETA: 0s - loss: 0.6304 - mean_absolute_error: 0.463 - ETA: 0s - loss: 0.6303 - mean_absolute_error: 0.463 - ETA: 0s - loss: 0.6303 - mean_absolute_error: 0.463 - ETA: 0s - loss: 0.6304 - mean_absolute_error: 0.463 - ETA: 0s - loss: 0.6304 - mean_absolute_error: 0.463 - ETA: 0s - loss: 0.6306 - mean_absolute_error: 0.463 - ETA: 0s - loss: 0.6303 - mean_absolute_error: 0.463 - ETA: 0s - loss: 0.6303 - mean_absolute_error: 0.463 - ETA: 0s - loss: 0.6304 - mean_absolute_error: 0.463 - ETA: 0s - loss: 0.6300 - mean_absolute_error: 0.463 - ETA: 0s - loss: 0.6299 - mean_absolute_error: 0.463 - ETA: 0s - loss: 0.6301 - mean_absolute_error: 0.463 - ETA: 0s - loss: 0.6301 - mean_absolute_error: 0.463 - ETA: 0s - loss: 0.6298 - mean_absolute_error: 0.463 - ETA: 0s - loss: 0.6296 - mean_absolute_error: 0.463 - ETA: 0s - loss: 0.6295 - mean_absolute_error: 0.463 - ETA: 0s - loss: 0.6294 - mean_absolute_error: 0.4634\n",
      "Epoch 00002: saving model to autoencoder_fraud.h5\n",
      "284807/284807 [==============================] - 35s 121us/sample - loss: 0.6293 - mean_absolute_error: 0.4634\n",
      "Epoch 3/3\n"
     ]
    },
    {
     "name": "stdout",
     "output_type": "stream",
     "text": [
      " 65184/284807 [=====>........................] - ETA: 44s - loss: 0.3280 - mean_absolute_error: 0.40 - ETA: 41s - loss: 0.7095 - mean_absolute_error: 0.47 - ETA: 35s - loss: 0.6423 - mean_absolute_error: 0.45 - ETA: 34s - loss: 0.5929 - mean_absolute_error: 0.45 - ETA: 33s - loss: 0.5760 - mean_absolute_error: 0.45 - ETA: 32s - loss: 0.6250 - mean_absolute_error: 0.46 - ETA: 31s - loss: 0.6196 - mean_absolute_error: 0.45 - ETA: 31s - loss: 0.6037 - mean_absolute_error: 0.45 - ETA: 31s - loss: 0.5980 - mean_absolute_error: 0.45 - ETA: 32s - loss: 0.5935 - mean_absolute_error: 0.45 - ETA: 32s - loss: 0.5869 - mean_absolute_error: 0.45 - ETA: 32s - loss: 0.5906 - mean_absolute_error: 0.45 - ETA: 31s - loss: 0.5852 - mean_absolute_error: 0.45 - ETA: 31s - loss: 0.5735 - mean_absolute_error: 0.45 - ETA: 31s - loss: 0.5996 - mean_absolute_error: 0.45 - ETA: 31s - loss: 0.6045 - mean_absolute_error: 0.45 - ETA: 31s - loss: 0.6140 - mean_absolute_error: 0.45 - ETA: 31s - loss: 0.6112 - mean_absolute_error: 0.45 - ETA: 30s - loss: 0.5993 - mean_absolute_error: 0.45 - ETA: 31s - loss: 0.6121 - mean_absolute_error: 0.45 - ETA: 31s - loss: 0.6086 - mean_absolute_error: 0.45 - ETA: 31s - loss: 0.6084 - mean_absolute_error: 0.45 - ETA: 31s - loss: 0.6040 - mean_absolute_error: 0.45 - ETA: 31s - loss: 0.6045 - mean_absolute_error: 0.45 - ETA: 31s - loss: 0.6080 - mean_absolute_error: 0.45 - ETA: 31s - loss: 0.6048 - mean_absolute_error: 0.45 - ETA: 31s - loss: 0.6029 - mean_absolute_error: 0.45 - ETA: 31s - loss: 0.5981 - mean_absolute_error: 0.45 - ETA: 31s - loss: 0.6137 - mean_absolute_error: 0.45 - ETA: 31s - loss: 0.6166 - mean_absolute_error: 0.45 - ETA: 31s - loss: 0.6150 - mean_absolute_error: 0.45 - ETA: 30s - loss: 0.6212 - mean_absolute_error: 0.45 - ETA: 30s - loss: 0.6302 - mean_absolute_error: 0.45 - ETA: 30s - loss: 0.6274 - mean_absolute_error: 0.45 - ETA: 30s - loss: 0.6273 - mean_absolute_error: 0.45 - ETA: 30s - loss: 0.6274 - mean_absolute_error: 0.45 - ETA: 30s - loss: 0.6265 - mean_absolute_error: 0.45 - ETA: 30s - loss: 0.6334 - mean_absolute_error: 0.45 - ETA: 30s - loss: 0.6303 - mean_absolute_error: 0.45 - ETA: 30s - loss: 0.6306 - mean_absolute_error: 0.45 - ETA: 30s - loss: 0.6296 - mean_absolute_error: 0.45 - ETA: 30s - loss: 0.6252 - mean_absolute_error: 0.45 - ETA: 30s - loss: 0.6233 - mean_absolute_error: 0.45 - ETA: 30s - loss: 0.6200 - mean_absolute_error: 0.45 - ETA: 30s - loss: 0.6188 - mean_absolute_error: 0.45 - ETA: 30s - loss: 0.6203 - mean_absolute_error: 0.45 - ETA: 30s - loss: 0.6198 - mean_absolute_error: 0.45 - ETA: 30s - loss: 0.6203 - mean_absolute_error: 0.45 - ETA: 30s - loss: 0.6188 - mean_absolute_error: 0.45 - ETA: 30s - loss: 0.6170 - mean_absolute_error: 0.45 - ETA: 30s - loss: 0.6159 - mean_absolute_error: 0.45 - ETA: 30s - loss: 0.6151 - mean_absolute_error: 0.45 - ETA: 30s - loss: 0.6142 - mean_absolute_error: 0.45 - ETA: 30s - loss: 0.6121 - mean_absolute_error: 0.45 - ETA: 30s - loss: 0.6092 - mean_absolute_error: 0.45 - ETA: 30s - loss: 0.6061 - mean_absolute_error: 0.45 - ETA: 30s - loss: 0.6088 - mean_absolute_error: 0.45 - ETA: 30s - loss: 0.6089 - mean_absolute_error: 0.45 - ETA: 30s - loss: 0.6072 - mean_absolute_error: 0.45 - ETA: 30s - loss: 0.6098 - mean_absolute_error: 0.45 - ETA: 30s - loss: 0.6071 - mean_absolute_error: 0.45 - ETA: 30s - loss: 0.6045 - mean_absolute_error: 0.45 - ETA: 30s - loss: 0.6069 - mean_absolute_error: 0.45 - ETA: 30s - loss: 0.6049 - mean_absolute_error: 0.45 - ETA: 30s - loss: 0.6077 - mean_absolute_error: 0.45 - ETA: 30s - loss: 0.6101 - mean_absolute_error: 0.45 - ETA: 30s - loss: 0.6082 - mean_absolute_error: 0.45 - ETA: 30s - loss: 0.6063 - mean_absolute_error: 0.45 - ETA: 30s - loss: 0.6058 - mean_absolute_error: 0.45 - ETA: 30s - loss: 0.6110 - mean_absolute_error: 0.45 - ETA: 30s - loss: 0.6082 - mean_absolute_error: 0.45 - ETA: 30s - loss: 0.6088 - mean_absolute_error: 0.45 - ETA: 30s - loss: 0.6070 - mean_absolute_error: 0.45 - ETA: 30s - loss: 0.6058 - mean_absolute_error: 0.45 - ETA: 30s - loss: 0.6072 - mean_absolute_error: 0.45 - ETA: 30s - loss: 0.6071 - mean_absolute_error: 0.45 - ETA: 30s - loss: 0.6080 - mean_absolute_error: 0.45 - ETA: 30s - loss: 0.6072 - mean_absolute_error: 0.45 - ETA: 30s - loss: 0.6074 - mean_absolute_error: 0.45 - ETA: 30s - loss: 0.6079 - mean_absolute_error: 0.45 - ETA: 30s - loss: 0.6105 - mean_absolute_error: 0.45 - ETA: 29s - loss: 0.6164 - mean_absolute_error: 0.45 - ETA: 29s - loss: 0.6196 - mean_absolute_error: 0.45 - ETA: 29s - loss: 0.6165 - mean_absolute_error: 0.45 - ETA: 29s - loss: 0.6195 - mean_absolute_error: 0.45 - ETA: 29s - loss: 0.6177 - mean_absolute_error: 0.45 - ETA: 29s - loss: 0.6161 - mean_absolute_error: 0.45 - ETA: 29s - loss: 0.6147 - mean_absolute_error: 0.45 - ETA: 29s - loss: 0.6159 - mean_absolute_error: 0.45 - ETA: 29s - loss: 0.6142 - mean_absolute_error: 0.45 - ETA: 29s - loss: 0.6209 - mean_absolute_error: 0.45 - ETA: 29s - loss: 0.6215 - mean_absolute_error: 0.45 - ETA: 29s - loss: 0.6202 - mean_absolute_error: 0.45 - ETA: 29s - loss: 0.6190 - mean_absolute_error: 0.45 - ETA: 29s - loss: 0.6195 - mean_absolute_error: 0.45 - ETA: 29s - loss: 0.6189 - mean_absolute_error: 0.45 - ETA: 29s - loss: 0.6188 - mean_absolute_error: 0.45 - ETA: 29s - loss: 0.6196 - mean_absolute_error: 0.45 - ETA: 29s - loss: 0.6202 - mean_absolute_error: 0.45 - ETA: 29s - loss: 0.6203 - mean_absolute_error: 0.45 - ETA: 29s - loss: 0.6219 - mean_absolute_error: 0.45 - ETA: 29s - loss: 0.6205 - mean_absolute_error: 0.45 - ETA: 29s - loss: 0.6199 - mean_absolute_error: 0.45 - ETA: 29s - loss: 0.6189 - mean_absolute_error: 0.45 - ETA: 29s - loss: 0.6190 - mean_absolute_error: 0.45 - ETA: 29s - loss: 0.6181 - mean_absolute_error: 0.45 - ETA: 29s - loss: 0.6175 - mean_absolute_error: 0.45 - ETA: 29s - loss: 0.6160 - mean_absolute_error: 0.45 - ETA: 29s - loss: 0.6154 - mean_absolute_error: 0.45 - ETA: 29s - loss: 0.6154 - mean_absolute_error: 0.45 - ETA: 28s - loss: 0.6144 - mean_absolute_error: 0.45 - ETA: 28s - loss: 0.6138 - mean_absolute_error: 0.45 - ETA: 28s - loss: 0.6135 - mean_absolute_error: 0.45 - ETA: 28s - loss: 0.6154 - mean_absolute_error: 0.45 - ETA: 28s - loss: 0.6144 - mean_absolute_error: 0.45 - ETA: 28s - loss: 0.6141 - mean_absolute_error: 0.45 - ETA: 28s - loss: 0.6146 - mean_absolute_error: 0.45 - ETA: 28s - loss: 0.6143 - mean_absolute_error: 0.45 - ETA: 28s - loss: 0.6148 - mean_absolute_error: 0.45 - ETA: 28s - loss: 0.6139 - mean_absolute_error: 0.45 - ETA: 28s - loss: 0.6124 - mean_absolute_error: 0.45 - ETA: 28s - loss: 0.6113 - mean_absolute_error: 0.45 - ETA: 28s - loss: 0.6117 - mean_absolute_error: 0.45 - ETA: 28s - loss: 0.6099 - mean_absolute_error: 0.45 - ETA: 28s - loss: 0.6086 - mean_absolute_error: 0.45 - ETA: 27s - loss: 0.6090 - mean_absolute_error: 0.45 - ETA: 27s - loss: 0.6080 - mean_absolute_error: 0.45 - ETA: 27s - loss: 0.6099 - mean_absolute_error: 0.45 - ETA: 27s - loss: 0.6090 - mean_absolute_error: 0.45 - ETA: 27s - loss: 0.6077 - mean_absolute_error: 0.45 - ETA: 27s - loss: 0.6083 - mean_absolute_error: 0.45 - ETA: 27s - loss: 0.6090 - mean_absolute_error: 0.45 - ETA: 27s - loss: 0.6094 - mean_absolute_error: 0.45 - ETA: 27s - loss: 0.6084 - mean_absolute_error: 0.45 - ETA: 27s - loss: 0.6075 - mean_absolute_error: 0.45 - ETA: 27s - loss: 0.6071 - mean_absolute_error: 0.45 - ETA: 27s - loss: 0.6081 - mean_absolute_error: 0.45 - ETA: 27s - loss: 0.6088 - mean_absolute_error: 0.45 - ETA: 27s - loss: 0.6076 - mean_absolute_error: 0.45 - ETA: 26s - loss: 0.6085 - mean_absolute_error: 0.45 - ETA: 26s - loss: 0.6082 - mean_absolute_error: 0.45 - ETA: 26s - loss: 0.6070 - mean_absolute_error: 0.45 - ETA: 26s - loss: 0.6074 - mean_absolute_error: 0.45 - ETA: 26s - loss: 0.6067 - mean_absolute_error: 0.45 - ETA: 26s - loss: 0.6065 - mean_absolute_error: 0.45 - ETA: 26s - loss: 0.6062 - mean_absolute_error: 0.45 - ETA: 26s - loss: 0.6060 - mean_absolute_error: 0.45 - ETA: 26s - loss: 0.6055 - mean_absolute_error: 0.45 - ETA: 26s - loss: 0.6061 - mean_absolute_error: 0.45 - ETA: 26s - loss: 0.6052 - mean_absolute_error: 0.45 - ETA: 26s - loss: 0.6040 - mean_absolute_error: 0.4519"
     ]
    },
    {
     "name": "stdout",
     "output_type": "stream",
     "text": [
      "129792/284807 [============>.................] - ETA: 26s - loss: 0.6036 - mean_absolute_error: 0.45 - ETA: 26s - loss: 0.6031 - mean_absolute_error: 0.45 - ETA: 25s - loss: 0.6027 - mean_absolute_error: 0.45 - ETA: 25s - loss: 0.6024 - mean_absolute_error: 0.45 - ETA: 25s - loss: 0.6018 - mean_absolute_error: 0.45 - ETA: 25s - loss: 0.6015 - mean_absolute_error: 0.45 - ETA: 25s - loss: 0.6039 - mean_absolute_error: 0.45 - ETA: 25s - loss: 0.6031 - mean_absolute_error: 0.45 - ETA: 25s - loss: 0.6023 - mean_absolute_error: 0.45 - ETA: 25s - loss: 0.6244 - mean_absolute_error: 0.45 - ETA: 25s - loss: 0.6247 - mean_absolute_error: 0.45 - ETA: 25s - loss: 0.6241 - mean_absolute_error: 0.45 - ETA: 25s - loss: 0.6230 - mean_absolute_error: 0.45 - ETA: 25s - loss: 0.6234 - mean_absolute_error: 0.45 - ETA: 25s - loss: 0.6226 - mean_absolute_error: 0.45 - ETA: 25s - loss: 0.6228 - mean_absolute_error: 0.45 - ETA: 25s - loss: 0.6218 - mean_absolute_error: 0.45 - ETA: 25s - loss: 0.6214 - mean_absolute_error: 0.45 - ETA: 25s - loss: 0.6213 - mean_absolute_error: 0.45 - ETA: 24s - loss: 0.6218 - mean_absolute_error: 0.45 - ETA: 24s - loss: 0.6215 - mean_absolute_error: 0.45 - ETA: 24s - loss: 0.6231 - mean_absolute_error: 0.45 - ETA: 24s - loss: 0.6227 - mean_absolute_error: 0.45 - ETA: 24s - loss: 0.6231 - mean_absolute_error: 0.45 - ETA: 24s - loss: 0.6219 - mean_absolute_error: 0.45 - ETA: 24s - loss: 0.6218 - mean_absolute_error: 0.45 - ETA: 24s - loss: 0.6218 - mean_absolute_error: 0.45 - ETA: 24s - loss: 0.6211 - mean_absolute_error: 0.45 - ETA: 24s - loss: 0.6203 - mean_absolute_error: 0.45 - ETA: 24s - loss: 0.6201 - mean_absolute_error: 0.45 - ETA: 24s - loss: 0.6198 - mean_absolute_error: 0.45 - ETA: 24s - loss: 0.6186 - mean_absolute_error: 0.45 - ETA: 24s - loss: 0.6176 - mean_absolute_error: 0.45 - ETA: 23s - loss: 0.6166 - mean_absolute_error: 0.45 - ETA: 23s - loss: 0.6160 - mean_absolute_error: 0.45 - ETA: 23s - loss: 0.6154 - mean_absolute_error: 0.45 - ETA: 23s - loss: 0.6149 - mean_absolute_error: 0.45 - ETA: 23s - loss: 0.6161 - mean_absolute_error: 0.45 - ETA: 23s - loss: 0.6161 - mean_absolute_error: 0.45 - ETA: 23s - loss: 0.6160 - mean_absolute_error: 0.45 - ETA: 23s - loss: 0.6158 - mean_absolute_error: 0.45 - ETA: 23s - loss: 0.6164 - mean_absolute_error: 0.45 - ETA: 23s - loss: 0.6153 - mean_absolute_error: 0.45 - ETA: 23s - loss: 0.6194 - mean_absolute_error: 0.45 - ETA: 23s - loss: 0.6186 - mean_absolute_error: 0.45 - ETA: 23s - loss: 0.6189 - mean_absolute_error: 0.45 - ETA: 23s - loss: 0.6183 - mean_absolute_error: 0.45 - ETA: 23s - loss: 0.6176 - mean_absolute_error: 0.45 - ETA: 23s - loss: 0.6171 - mean_absolute_error: 0.45 - ETA: 23s - loss: 0.6173 - mean_absolute_error: 0.45 - ETA: 23s - loss: 0.6166 - mean_absolute_error: 0.45 - ETA: 23s - loss: 0.6171 - mean_absolute_error: 0.45 - ETA: 23s - loss: 0.6173 - mean_absolute_error: 0.45 - ETA: 23s - loss: 0.6173 - mean_absolute_error: 0.45 - ETA: 23s - loss: 0.6171 - mean_absolute_error: 0.45 - ETA: 23s - loss: 0.6175 - mean_absolute_error: 0.45 - ETA: 23s - loss: 0.6166 - mean_absolute_error: 0.45 - ETA: 23s - loss: 0.6164 - mean_absolute_error: 0.45 - ETA: 23s - loss: 0.6160 - mean_absolute_error: 0.45 - ETA: 23s - loss: 0.6165 - mean_absolute_error: 0.45 - ETA: 22s - loss: 0.6163 - mean_absolute_error: 0.45 - ETA: 22s - loss: 0.6162 - mean_absolute_error: 0.45 - ETA: 22s - loss: 0.6163 - mean_absolute_error: 0.45 - ETA: 22s - loss: 0.6158 - mean_absolute_error: 0.45 - ETA: 22s - loss: 0.6156 - mean_absolute_error: 0.45 - ETA: 22s - loss: 0.6154 - mean_absolute_error: 0.45 - ETA: 22s - loss: 0.6148 - mean_absolute_error: 0.45 - ETA: 22s - loss: 0.6146 - mean_absolute_error: 0.45 - ETA: 22s - loss: 0.6140 - mean_absolute_error: 0.45 - ETA: 22s - loss: 0.6144 - mean_absolute_error: 0.45 - ETA: 22s - loss: 0.6154 - mean_absolute_error: 0.45 - ETA: 22s - loss: 0.6156 - mean_absolute_error: 0.45 - ETA: 22s - loss: 0.6149 - mean_absolute_error: 0.45 - ETA: 22s - loss: 0.6141 - mean_absolute_error: 0.45 - ETA: 22s - loss: 0.6136 - mean_absolute_error: 0.45 - ETA: 22s - loss: 0.6129 - mean_absolute_error: 0.45 - ETA: 22s - loss: 0.6129 - mean_absolute_error: 0.45 - ETA: 22s - loss: 0.6125 - mean_absolute_error: 0.45 - ETA: 22s - loss: 0.6137 - mean_absolute_error: 0.45 - ETA: 22s - loss: 0.6127 - mean_absolute_error: 0.45 - ETA: 22s - loss: 0.6132 - mean_absolute_error: 0.45 - ETA: 22s - loss: 0.6130 - mean_absolute_error: 0.45 - ETA: 21s - loss: 0.6124 - mean_absolute_error: 0.45 - ETA: 21s - loss: 0.6133 - mean_absolute_error: 0.45 - ETA: 21s - loss: 0.6133 - mean_absolute_error: 0.45 - ETA: 21s - loss: 0.6129 - mean_absolute_error: 0.45 - ETA: 21s - loss: 0.6137 - mean_absolute_error: 0.45 - ETA: 21s - loss: 0.6136 - mean_absolute_error: 0.45 - ETA: 21s - loss: 0.6137 - mean_absolute_error: 0.45 - ETA: 21s - loss: 0.6142 - mean_absolute_error: 0.45 - ETA: 21s - loss: 0.6140 - mean_absolute_error: 0.45 - ETA: 21s - loss: 0.6137 - mean_absolute_error: 0.45 - ETA: 21s - loss: 0.6138 - mean_absolute_error: 0.45 - ETA: 21s - loss: 0.6145 - mean_absolute_error: 0.45 - ETA: 21s - loss: 0.6143 - mean_absolute_error: 0.45 - ETA: 21s - loss: 0.6136 - mean_absolute_error: 0.45 - ETA: 21s - loss: 0.6132 - mean_absolute_error: 0.45 - ETA: 21s - loss: 0.6128 - mean_absolute_error: 0.45 - ETA: 21s - loss: 0.6128 - mean_absolute_error: 0.45 - ETA: 21s - loss: 0.6136 - mean_absolute_error: 0.45 - ETA: 21s - loss: 0.6135 - mean_absolute_error: 0.45 - ETA: 21s - loss: 0.6134 - mean_absolute_error: 0.45 - ETA: 21s - loss: 0.6129 - mean_absolute_error: 0.45 - ETA: 21s - loss: 0.6130 - mean_absolute_error: 0.45 - ETA: 21s - loss: 0.6133 - mean_absolute_error: 0.45 - ETA: 21s - loss: 0.6126 - mean_absolute_error: 0.45 - ETA: 20s - loss: 0.6130 - mean_absolute_error: 0.45 - ETA: 20s - loss: 0.6125 - mean_absolute_error: 0.45 - ETA: 20s - loss: 0.6123 - mean_absolute_error: 0.45 - ETA: 20s - loss: 0.6116 - mean_absolute_error: 0.45 - ETA: 20s - loss: 0.6127 - mean_absolute_error: 0.45 - ETA: 20s - loss: 0.6125 - mean_absolute_error: 0.45 - ETA: 20s - loss: 0.6124 - mean_absolute_error: 0.45 - ETA: 20s - loss: 0.6129 - mean_absolute_error: 0.45 - ETA: 20s - loss: 0.6128 - mean_absolute_error: 0.45 - ETA: 20s - loss: 0.6140 - mean_absolute_error: 0.45 - ETA: 20s - loss: 0.6142 - mean_absolute_error: 0.45 - ETA: 20s - loss: 0.6136 - mean_absolute_error: 0.45 - ETA: 20s - loss: 0.6132 - mean_absolute_error: 0.45 - ETA: 20s - loss: 0.6129 - mean_absolute_error: 0.45 - ETA: 20s - loss: 0.6132 - mean_absolute_error: 0.45 - ETA: 20s - loss: 0.6126 - mean_absolute_error: 0.45 - ETA: 20s - loss: 0.6120 - mean_absolute_error: 0.45 - ETA: 20s - loss: 0.6112 - mean_absolute_error: 0.45 - ETA: 20s - loss: 0.6116 - mean_absolute_error: 0.45 - ETA: 19s - loss: 0.6119 - mean_absolute_error: 0.45 - ETA: 19s - loss: 0.6117 - mean_absolute_error: 0.45 - ETA: 19s - loss: 0.6111 - mean_absolute_error: 0.45 - ETA: 19s - loss: 0.6107 - mean_absolute_error: 0.45 - ETA: 19s - loss: 0.6107 - mean_absolute_error: 0.45 - ETA: 19s - loss: 0.6115 - mean_absolute_error: 0.45 - ETA: 19s - loss: 0.6110 - mean_absolute_error: 0.45 - ETA: 19s - loss: 0.6108 - mean_absolute_error: 0.45 - ETA: 19s - loss: 0.6106 - mean_absolute_error: 0.45 - ETA: 19s - loss: 0.6105 - mean_absolute_error: 0.45 - ETA: 19s - loss: 0.6099 - mean_absolute_error: 0.44 - ETA: 19s - loss: 0.6094 - mean_absolute_error: 0.44 - ETA: 19s - loss: 0.6092 - mean_absolute_error: 0.44 - ETA: 19s - loss: 0.6092 - mean_absolute_error: 0.44 - ETA: 19s - loss: 0.6092 - mean_absolute_error: 0.44 - ETA: 19s - loss: 0.6089 - mean_absolute_error: 0.44 - ETA: 19s - loss: 0.6097 - mean_absolute_error: 0.44 - ETA: 19s - loss: 0.6092 - mean_absolute_error: 0.44 - ETA: 18s - loss: 0.6098 - mean_absolute_error: 0.44 - ETA: 18s - loss: 0.6094 - mean_absolute_error: 0.44 - ETA: 18s - loss: 0.6090 - mean_absolute_error: 0.44 - ETA: 18s - loss: 0.6101 - mean_absolute_error: 0.44 - ETA: 18s - loss: 0.6101 - mean_absolute_error: 0.44 - ETA: 18s - loss: 0.6100 - mean_absolute_error: 0.44 - ETA: 18s - loss: 0.6101 - mean_absolute_error: 0.44 - ETA: 18s - loss: 0.6109 - mean_absolute_error: 0.4500"
     ]
    },
    {
     "name": "stdout",
     "output_type": "stream",
     "text": [
      "198592/284807 [===================>..........] - ETA: 18s - loss: 0.6101 - mean_absolute_error: 0.44 - ETA: 18s - loss: 0.6102 - mean_absolute_error: 0.45 - ETA: 18s - loss: 0.6100 - mean_absolute_error: 0.44 - ETA: 18s - loss: 0.6094 - mean_absolute_error: 0.44 - ETA: 18s - loss: 0.6099 - mean_absolute_error: 0.44 - ETA: 18s - loss: 0.6099 - mean_absolute_error: 0.44 - ETA: 18s - loss: 0.6093 - mean_absolute_error: 0.44 - ETA: 18s - loss: 0.6098 - mean_absolute_error: 0.44 - ETA: 18s - loss: 0.6093 - mean_absolute_error: 0.44 - ETA: 18s - loss: 0.6099 - mean_absolute_error: 0.44 - ETA: 18s - loss: 0.6097 - mean_absolute_error: 0.44 - ETA: 17s - loss: 0.6102 - mean_absolute_error: 0.44 - ETA: 17s - loss: 0.6098 - mean_absolute_error: 0.44 - ETA: 17s - loss: 0.6101 - mean_absolute_error: 0.44 - ETA: 17s - loss: 0.6098 - mean_absolute_error: 0.44 - ETA: 17s - loss: 0.6096 - mean_absolute_error: 0.44 - ETA: 17s - loss: 0.6090 - mean_absolute_error: 0.44 - ETA: 17s - loss: 0.6085 - mean_absolute_error: 0.44 - ETA: 17s - loss: 0.6080 - mean_absolute_error: 0.44 - ETA: 17s - loss: 0.6081 - mean_absolute_error: 0.44 - ETA: 17s - loss: 0.6082 - mean_absolute_error: 0.44 - ETA: 17s - loss: 0.6079 - mean_absolute_error: 0.44 - ETA: 17s - loss: 0.6074 - mean_absolute_error: 0.44 - ETA: 17s - loss: 0.6076 - mean_absolute_error: 0.44 - ETA: 17s - loss: 0.6074 - mean_absolute_error: 0.44 - ETA: 17s - loss: 0.6074 - mean_absolute_error: 0.44 - ETA: 17s - loss: 0.6109 - mean_absolute_error: 0.44 - ETA: 17s - loss: 0.6105 - mean_absolute_error: 0.44 - ETA: 17s - loss: 0.6101 - mean_absolute_error: 0.44 - ETA: 16s - loss: 0.6098 - mean_absolute_error: 0.44 - ETA: 16s - loss: 0.6099 - mean_absolute_error: 0.44 - ETA: 16s - loss: 0.6105 - mean_absolute_error: 0.44 - ETA: 16s - loss: 0.6106 - mean_absolute_error: 0.44 - ETA: 16s - loss: 0.6109 - mean_absolute_error: 0.44 - ETA: 16s - loss: 0.6117 - mean_absolute_error: 0.44 - ETA: 16s - loss: 0.6128 - mean_absolute_error: 0.44 - ETA: 16s - loss: 0.6129 - mean_absolute_error: 0.44 - ETA: 16s - loss: 0.6131 - mean_absolute_error: 0.44 - ETA: 16s - loss: 0.6130 - mean_absolute_error: 0.44 - ETA: 16s - loss: 0.6141 - mean_absolute_error: 0.44 - ETA: 16s - loss: 0.6149 - mean_absolute_error: 0.44 - ETA: 16s - loss: 0.6159 - mean_absolute_error: 0.45 - ETA: 16s - loss: 0.6163 - mean_absolute_error: 0.45 - ETA: 16s - loss: 0.6163 - mean_absolute_error: 0.45 - ETA: 16s - loss: 0.6168 - mean_absolute_error: 0.45 - ETA: 16s - loss: 0.6175 - mean_absolute_error: 0.45 - ETA: 15s - loss: 0.6177 - mean_absolute_error: 0.45 - ETA: 15s - loss: 0.6178 - mean_absolute_error: 0.45 - ETA: 15s - loss: 0.6186 - mean_absolute_error: 0.45 - ETA: 15s - loss: 0.6190 - mean_absolute_error: 0.45 - ETA: 15s - loss: 0.6189 - mean_absolute_error: 0.45 - ETA: 15s - loss: 0.6187 - mean_absolute_error: 0.45 - ETA: 15s - loss: 0.6186 - mean_absolute_error: 0.45 - ETA: 15s - loss: 0.6188 - mean_absolute_error: 0.45 - ETA: 15s - loss: 0.6188 - mean_absolute_error: 0.45 - ETA: 15s - loss: 0.6188 - mean_absolute_error: 0.45 - ETA: 15s - loss: 0.6195 - mean_absolute_error: 0.45 - ETA: 15s - loss: 0.6195 - mean_absolute_error: 0.45 - ETA: 15s - loss: 0.6200 - mean_absolute_error: 0.45 - ETA: 15s - loss: 0.6199 - mean_absolute_error: 0.45 - ETA: 15s - loss: 0.6207 - mean_absolute_error: 0.45 - ETA: 15s - loss: 0.6205 - mean_absolute_error: 0.45 - ETA: 15s - loss: 0.6218 - mean_absolute_error: 0.45 - ETA: 15s - loss: 0.6215 - mean_absolute_error: 0.45 - ETA: 14s - loss: 0.6210 - mean_absolute_error: 0.45 - ETA: 14s - loss: 0.6205 - mean_absolute_error: 0.45 - ETA: 14s - loss: 0.6205 - mean_absolute_error: 0.45 - ETA: 14s - loss: 0.6204 - mean_absolute_error: 0.45 - ETA: 14s - loss: 0.6208 - mean_absolute_error: 0.45 - ETA: 14s - loss: 0.6207 - mean_absolute_error: 0.45 - ETA: 14s - loss: 0.6205 - mean_absolute_error: 0.45 - ETA: 14s - loss: 0.6202 - mean_absolute_error: 0.45 - ETA: 14s - loss: 0.6199 - mean_absolute_error: 0.45 - ETA: 14s - loss: 0.6201 - mean_absolute_error: 0.45 - ETA: 14s - loss: 0.6198 - mean_absolute_error: 0.45 - ETA: 14s - loss: 0.6201 - mean_absolute_error: 0.45 - ETA: 14s - loss: 0.6197 - mean_absolute_error: 0.45 - ETA: 14s - loss: 0.6203 - mean_absolute_error: 0.45 - ETA: 14s - loss: 0.6203 - mean_absolute_error: 0.45 - ETA: 14s - loss: 0.6202 - mean_absolute_error: 0.45 - ETA: 14s - loss: 0.6206 - mean_absolute_error: 0.45 - ETA: 14s - loss: 0.6207 - mean_absolute_error: 0.45 - ETA: 13s - loss: 0.6205 - mean_absolute_error: 0.45 - ETA: 13s - loss: 0.6201 - mean_absolute_error: 0.45 - ETA: 13s - loss: 0.6198 - mean_absolute_error: 0.45 - ETA: 13s - loss: 0.6196 - mean_absolute_error: 0.45 - ETA: 13s - loss: 0.6191 - mean_absolute_error: 0.45 - ETA: 13s - loss: 0.6190 - mean_absolute_error: 0.45 - ETA: 13s - loss: 0.6187 - mean_absolute_error: 0.45 - ETA: 13s - loss: 0.6183 - mean_absolute_error: 0.45 - ETA: 13s - loss: 0.6177 - mean_absolute_error: 0.45 - ETA: 13s - loss: 0.6190 - mean_absolute_error: 0.45 - ETA: 13s - loss: 0.6198 - mean_absolute_error: 0.45 - ETA: 13s - loss: 0.6196 - mean_absolute_error: 0.45 - ETA: 13s - loss: 0.6197 - mean_absolute_error: 0.45 - ETA: 13s - loss: 0.6201 - mean_absolute_error: 0.45 - ETA: 13s - loss: 0.6199 - mean_absolute_error: 0.45 - ETA: 13s - loss: 0.6198 - mean_absolute_error: 0.45 - ETA: 13s - loss: 0.6205 - mean_absolute_error: 0.45 - ETA: 13s - loss: 0.6208 - mean_absolute_error: 0.45 - ETA: 12s - loss: 0.6206 - mean_absolute_error: 0.45 - ETA: 12s - loss: 0.6214 - mean_absolute_error: 0.45 - ETA: 12s - loss: 0.6216 - mean_absolute_error: 0.45 - ETA: 12s - loss: 0.6213 - mean_absolute_error: 0.45 - ETA: 12s - loss: 0.6217 - mean_absolute_error: 0.45 - ETA: 12s - loss: 0.6213 - mean_absolute_error: 0.45 - ETA: 12s - loss: 0.6213 - mean_absolute_error: 0.45 - ETA: 12s - loss: 0.6210 - mean_absolute_error: 0.45 - ETA: 12s - loss: 0.6208 - mean_absolute_error: 0.45 - ETA: 12s - loss: 0.6205 - mean_absolute_error: 0.45 - ETA: 12s - loss: 0.6204 - mean_absolute_error: 0.45 - ETA: 12s - loss: 0.6200 - mean_absolute_error: 0.45 - ETA: 12s - loss: 0.6199 - mean_absolute_error: 0.45 - ETA: 12s - loss: 0.6199 - mean_absolute_error: 0.45 - ETA: 12s - loss: 0.6199 - mean_absolute_error: 0.45 - ETA: 12s - loss: 0.6197 - mean_absolute_error: 0.45 - ETA: 12s - loss: 0.6198 - mean_absolute_error: 0.45 - ETA: 12s - loss: 0.6194 - mean_absolute_error: 0.45 - ETA: 11s - loss: 0.6190 - mean_absolute_error: 0.45 - ETA: 11s - loss: 0.6191 - mean_absolute_error: 0.45 - ETA: 11s - loss: 0.6191 - mean_absolute_error: 0.45 - ETA: 11s - loss: 0.6192 - mean_absolute_error: 0.45 - ETA: 11s - loss: 0.6188 - mean_absolute_error: 0.45 - ETA: 11s - loss: 0.6186 - mean_absolute_error: 0.45 - ETA: 11s - loss: 0.6184 - mean_absolute_error: 0.45 - ETA: 11s - loss: 0.6183 - mean_absolute_error: 0.45 - ETA: 11s - loss: 0.6183 - mean_absolute_error: 0.45 - ETA: 11s - loss: 0.6184 - mean_absolute_error: 0.45 - ETA: 11s - loss: 0.6180 - mean_absolute_error: 0.45 - ETA: 11s - loss: 0.6179 - mean_absolute_error: 0.45 - ETA: 11s - loss: 0.6186 - mean_absolute_error: 0.45 - ETA: 11s - loss: 0.6185 - mean_absolute_error: 0.45 - ETA: 11s - loss: 0.6185 - mean_absolute_error: 0.45 - ETA: 11s - loss: 0.6183 - mean_absolute_error: 0.45 - ETA: 11s - loss: 0.6182 - mean_absolute_error: 0.45 - ETA: 11s - loss: 0.6180 - mean_absolute_error: 0.45 - ETA: 10s - loss: 0.6176 - mean_absolute_error: 0.45 - ETA: 10s - loss: 0.6173 - mean_absolute_error: 0.45 - ETA: 10s - loss: 0.6170 - mean_absolute_error: 0.45 - ETA: 10s - loss: 0.6169 - mean_absolute_error: 0.45 - ETA: 10s - loss: 0.6165 - mean_absolute_error: 0.45 - ETA: 10s - loss: 0.6163 - mean_absolute_error: 0.45 - ETA: 10s - loss: 0.6159 - mean_absolute_error: 0.45 - ETA: 10s - loss: 0.6164 - mean_absolute_error: 0.45 - ETA: 10s - loss: 0.6160 - mean_absolute_error: 0.45 - ETA: 10s - loss: 0.6160 - mean_absolute_error: 0.45 - ETA: 10s - loss: 0.6158 - mean_absolute_error: 0.45 - ETA: 10s - loss: 0.6155 - mean_absolute_error: 0.45 - ETA: 10s - loss: 0.6151 - mean_absolute_error: 0.45 - ETA: 10s - loss: 0.6151 - mean_absolute_error: 0.45 - ETA: 10s - loss: 0.6151 - mean_absolute_error: 0.4500"
     ]
    },
    {
     "name": "stdout",
     "output_type": "stream",
     "text": [
      "264352/284807 [==========================>...] - ETA: 10s - loss: 0.6150 - mean_absolute_error: 0.45 - ETA: 10s - loss: 0.6150 - mean_absolute_error: 0.45 - ETA: 9s - loss: 0.6148 - mean_absolute_error: 0.4500 - ETA: 9s - loss: 0.6147 - mean_absolute_error: 0.450 - ETA: 9s - loss: 0.6147 - mean_absolute_error: 0.450 - ETA: 9s - loss: 0.6147 - mean_absolute_error: 0.450 - ETA: 9s - loss: 0.6148 - mean_absolute_error: 0.450 - ETA: 9s - loss: 0.6149 - mean_absolute_error: 0.450 - ETA: 9s - loss: 0.6153 - mean_absolute_error: 0.450 - ETA: 9s - loss: 0.6152 - mean_absolute_error: 0.450 - ETA: 9s - loss: 0.6154 - mean_absolute_error: 0.450 - ETA: 9s - loss: 0.6151 - mean_absolute_error: 0.450 - ETA: 9s - loss: 0.6150 - mean_absolute_error: 0.450 - ETA: 9s - loss: 0.6147 - mean_absolute_error: 0.449 - ETA: 9s - loss: 0.6151 - mean_absolute_error: 0.449 - ETA: 9s - loss: 0.6150 - mean_absolute_error: 0.449 - ETA: 9s - loss: 0.6146 - mean_absolute_error: 0.449 - ETA: 9s - loss: 0.6141 - mean_absolute_error: 0.449 - ETA: 9s - loss: 0.6140 - mean_absolute_error: 0.449 - ETA: 9s - loss: 0.6145 - mean_absolute_error: 0.449 - ETA: 8s - loss: 0.6141 - mean_absolute_error: 0.449 - ETA: 8s - loss: 0.6139 - mean_absolute_error: 0.449 - ETA: 8s - loss: 0.6136 - mean_absolute_error: 0.449 - ETA: 8s - loss: 0.6133 - mean_absolute_error: 0.449 - ETA: 8s - loss: 0.6131 - mean_absolute_error: 0.449 - ETA: 8s - loss: 0.6131 - mean_absolute_error: 0.449 - ETA: 8s - loss: 0.6128 - mean_absolute_error: 0.449 - ETA: 8s - loss: 0.6130 - mean_absolute_error: 0.449 - ETA: 8s - loss: 0.6129 - mean_absolute_error: 0.449 - ETA: 8s - loss: 0.6126 - mean_absolute_error: 0.449 - ETA: 8s - loss: 0.6123 - mean_absolute_error: 0.449 - ETA: 8s - loss: 0.6124 - mean_absolute_error: 0.449 - ETA: 8s - loss: 0.6135 - mean_absolute_error: 0.449 - ETA: 8s - loss: 0.6132 - mean_absolute_error: 0.449 - ETA: 8s - loss: 0.6131 - mean_absolute_error: 0.449 - ETA: 8s - loss: 0.6133 - mean_absolute_error: 0.449 - ETA: 8s - loss: 0.6131 - mean_absolute_error: 0.449 - ETA: 8s - loss: 0.6128 - mean_absolute_error: 0.449 - ETA: 8s - loss: 0.6133 - mean_absolute_error: 0.449 - ETA: 8s - loss: 0.6132 - mean_absolute_error: 0.449 - ETA: 7s - loss: 0.6130 - mean_absolute_error: 0.449 - ETA: 7s - loss: 0.6130 - mean_absolute_error: 0.449 - ETA: 7s - loss: 0.6130 - mean_absolute_error: 0.449 - ETA: 7s - loss: 0.6130 - mean_absolute_error: 0.449 - ETA: 7s - loss: 0.6128 - mean_absolute_error: 0.449 - ETA: 7s - loss: 0.6136 - mean_absolute_error: 0.449 - ETA: 7s - loss: 0.6133 - mean_absolute_error: 0.449 - ETA: 7s - loss: 0.6134 - mean_absolute_error: 0.449 - ETA: 7s - loss: 0.6132 - mean_absolute_error: 0.449 - ETA: 7s - loss: 0.6148 - mean_absolute_error: 0.449 - ETA: 7s - loss: 0.6146 - mean_absolute_error: 0.449 - ETA: 7s - loss: 0.6147 - mean_absolute_error: 0.449 - ETA: 7s - loss: 0.6143 - mean_absolute_error: 0.449 - ETA: 7s - loss: 0.6141 - mean_absolute_error: 0.449 - ETA: 7s - loss: 0.6140 - mean_absolute_error: 0.449 - ETA: 7s - loss: 0.6137 - mean_absolute_error: 0.449 - ETA: 7s - loss: 0.6133 - mean_absolute_error: 0.449 - ETA: 7s - loss: 0.6135 - mean_absolute_error: 0.449 - ETA: 7s - loss: 0.6135 - mean_absolute_error: 0.449 - ETA: 7s - loss: 0.6138 - mean_absolute_error: 0.449 - ETA: 7s - loss: 0.6135 - mean_absolute_error: 0.449 - ETA: 7s - loss: 0.6134 - mean_absolute_error: 0.449 - ETA: 6s - loss: 0.6131 - mean_absolute_error: 0.449 - ETA: 6s - loss: 0.6128 - mean_absolute_error: 0.449 - ETA: 6s - loss: 0.6130 - mean_absolute_error: 0.449 - ETA: 6s - loss: 0.6127 - mean_absolute_error: 0.449 - ETA: 6s - loss: 0.6135 - mean_absolute_error: 0.449 - ETA: 6s - loss: 0.6140 - mean_absolute_error: 0.449 - ETA: 6s - loss: 0.6140 - mean_absolute_error: 0.449 - ETA: 6s - loss: 0.6139 - mean_absolute_error: 0.449 - ETA: 6s - loss: 0.6137 - mean_absolute_error: 0.449 - ETA: 6s - loss: 0.6136 - mean_absolute_error: 0.449 - ETA: 6s - loss: 0.6133 - mean_absolute_error: 0.449 - ETA: 6s - loss: 0.6130 - mean_absolute_error: 0.449 - ETA: 6s - loss: 0.6130 - mean_absolute_error: 0.449 - ETA: 6s - loss: 0.6129 - mean_absolute_error: 0.449 - ETA: 6s - loss: 0.6132 - mean_absolute_error: 0.449 - ETA: 6s - loss: 0.6129 - mean_absolute_error: 0.449 - ETA: 6s - loss: 0.6128 - mean_absolute_error: 0.449 - ETA: 6s - loss: 0.6128 - mean_absolute_error: 0.449 - ETA: 6s - loss: 0.6125 - mean_absolute_error: 0.449 - ETA: 5s - loss: 0.6142 - mean_absolute_error: 0.449 - ETA: 5s - loss: 0.6140 - mean_absolute_error: 0.449 - ETA: 5s - loss: 0.6143 - mean_absolute_error: 0.449 - ETA: 5s - loss: 0.6143 - mean_absolute_error: 0.449 - ETA: 5s - loss: 0.6140 - mean_absolute_error: 0.449 - ETA: 5s - loss: 0.6144 - mean_absolute_error: 0.449 - ETA: 5s - loss: 0.6143 - mean_absolute_error: 0.449 - ETA: 5s - loss: 0.6140 - mean_absolute_error: 0.449 - ETA: 5s - loss: 0.6139 - mean_absolute_error: 0.449 - ETA: 5s - loss: 0.6137 - mean_absolute_error: 0.449 - ETA: 5s - loss: 0.6135 - mean_absolute_error: 0.449 - ETA: 5s - loss: 0.6132 - mean_absolute_error: 0.449 - ETA: 5s - loss: 0.6130 - mean_absolute_error: 0.449 - ETA: 5s - loss: 0.6130 - mean_absolute_error: 0.449 - ETA: 5s - loss: 0.6132 - mean_absolute_error: 0.449 - ETA: 5s - loss: 0.6132 - mean_absolute_error: 0.449 - ETA: 5s - loss: 0.6130 - mean_absolute_error: 0.449 - ETA: 5s - loss: 0.6131 - mean_absolute_error: 0.449 - ETA: 5s - loss: 0.6136 - mean_absolute_error: 0.449 - ETA: 4s - loss: 0.6139 - mean_absolute_error: 0.449 - ETA: 4s - loss: 0.6137 - mean_absolute_error: 0.449 - ETA: 4s - loss: 0.6146 - mean_absolute_error: 0.449 - ETA: 4s - loss: 0.6147 - mean_absolute_error: 0.449 - ETA: 4s - loss: 0.6144 - mean_absolute_error: 0.449 - ETA: 4s - loss: 0.6145 - mean_absolute_error: 0.449 - ETA: 4s - loss: 0.6143 - mean_absolute_error: 0.449 - ETA: 4s - loss: 0.6141 - mean_absolute_error: 0.449 - ETA: 4s - loss: 0.6138 - mean_absolute_error: 0.449 - ETA: 4s - loss: 0.6135 - mean_absolute_error: 0.449 - ETA: 4s - loss: 0.6139 - mean_absolute_error: 0.449 - ETA: 4s - loss: 0.6139 - mean_absolute_error: 0.449 - ETA: 4s - loss: 0.6137 - mean_absolute_error: 0.449 - ETA: 4s - loss: 0.6138 - mean_absolute_error: 0.449 - ETA: 4s - loss: 0.6137 - mean_absolute_error: 0.449 - ETA: 4s - loss: 0.6136 - mean_absolute_error: 0.449 - ETA: 4s - loss: 0.6136 - mean_absolute_error: 0.449 - ETA: 4s - loss: 0.6138 - mean_absolute_error: 0.449 - ETA: 4s - loss: 0.6136 - mean_absolute_error: 0.449 - ETA: 4s - loss: 0.6138 - mean_absolute_error: 0.449 - ETA: 3s - loss: 0.6137 - mean_absolute_error: 0.449 - ETA: 3s - loss: 0.6141 - mean_absolute_error: 0.449 - ETA: 3s - loss: 0.6138 - mean_absolute_error: 0.449 - ETA: 3s - loss: 0.6137 - mean_absolute_error: 0.449 - ETA: 3s - loss: 0.6136 - mean_absolute_error: 0.449 - ETA: 3s - loss: 0.6134 - mean_absolute_error: 0.449 - ETA: 3s - loss: 0.6138 - mean_absolute_error: 0.449 - ETA: 3s - loss: 0.6134 - mean_absolute_error: 0.449 - ETA: 3s - loss: 0.6137 - mean_absolute_error: 0.449 - ETA: 3s - loss: 0.6142 - mean_absolute_error: 0.449 - ETA: 3s - loss: 0.6143 - mean_absolute_error: 0.449 - ETA: 3s - loss: 0.6141 - mean_absolute_error: 0.449 - ETA: 3s - loss: 0.6142 - mean_absolute_error: 0.449 - ETA: 3s - loss: 0.6139 - mean_absolute_error: 0.449 - ETA: 3s - loss: 0.6140 - mean_absolute_error: 0.449 - ETA: 3s - loss: 0.6137 - mean_absolute_error: 0.449 - ETA: 3s - loss: 0.6138 - mean_absolute_error: 0.449 - ETA: 3s - loss: 0.6139 - mean_absolute_error: 0.449 - ETA: 3s - loss: 0.6136 - mean_absolute_error: 0.449 - ETA: 2s - loss: 0.6134 - mean_absolute_error: 0.449 - ETA: 2s - loss: 0.6131 - mean_absolute_error: 0.449 - ETA: 2s - loss: 0.6129 - mean_absolute_error: 0.448 - ETA: 2s - loss: 0.6130 - mean_absolute_error: 0.449 - ETA: 2s - loss: 0.6137 - mean_absolute_error: 0.449 - ETA: 2s - loss: 0.6134 - mean_absolute_error: 0.449 - ETA: 2s - loss: 0.6132 - mean_absolute_error: 0.449 - ETA: 2s - loss: 0.6130 - mean_absolute_error: 0.449 - ETA: 2s - loss: 0.6135 - mean_absolute_error: 0.449 - ETA: 2s - loss: 0.6137 - mean_absolute_error: 0.449 - ETA: 2s - loss: 0.6139 - mean_absolute_error: 0.449 - ETA: 2s - loss: 0.6143 - mean_absolute_error: 0.4490"
     ]
    },
    {
     "name": "stdout",
     "output_type": "stream",
     "text": [
      "284352/284807 [============================>.] - ETA: 2s - loss: 0.6144 - mean_absolute_error: 0.449 - ETA: 2s - loss: 0.6142 - mean_absolute_error: 0.449 - ETA: 2s - loss: 0.6142 - mean_absolute_error: 0.449 - ETA: 2s - loss: 0.6144 - mean_absolute_error: 0.449 - ETA: 2s - loss: 0.6143 - mean_absolute_error: 0.449 - ETA: 2s - loss: 0.6141 - mean_absolute_error: 0.449 - ETA: 2s - loss: 0.6139 - mean_absolute_error: 0.449 - ETA: 2s - loss: 0.6139 - mean_absolute_error: 0.449 - ETA: 1s - loss: 0.6139 - mean_absolute_error: 0.449 - ETA: 1s - loss: 0.6142 - mean_absolute_error: 0.449 - ETA: 1s - loss: 0.6144 - mean_absolute_error: 0.449 - ETA: 1s - loss: 0.6143 - mean_absolute_error: 0.449 - ETA: 1s - loss: 0.6140 - mean_absolute_error: 0.449 - ETA: 1s - loss: 0.6142 - mean_absolute_error: 0.449 - ETA: 1s - loss: 0.6141 - mean_absolute_error: 0.449 - ETA: 1s - loss: 0.6142 - mean_absolute_error: 0.449 - ETA: 1s - loss: 0.6145 - mean_absolute_error: 0.449 - ETA: 1s - loss: 0.6149 - mean_absolute_error: 0.449 - ETA: 1s - loss: 0.6148 - mean_absolute_error: 0.449 - ETA: 1s - loss: 0.6146 - mean_absolute_error: 0.449 - ETA: 1s - loss: 0.6144 - mean_absolute_error: 0.449 - ETA: 1s - loss: 0.6145 - mean_absolute_error: 0.449 - ETA: 1s - loss: 0.6142 - mean_absolute_error: 0.449 - ETA: 1s - loss: 0.6140 - mean_absolute_error: 0.448 - ETA: 1s - loss: 0.6139 - mean_absolute_error: 0.448 - ETA: 1s - loss: 0.6137 - mean_absolute_error: 0.448 - ETA: 0s - loss: 0.6137 - mean_absolute_error: 0.448 - ETA: 0s - loss: 0.6135 - mean_absolute_error: 0.448 - ETA: 0s - loss: 0.6134 - mean_absolute_error: 0.448 - ETA: 0s - loss: 0.6132 - mean_absolute_error: 0.448 - ETA: 0s - loss: 0.6131 - mean_absolute_error: 0.448 - ETA: 0s - loss: 0.6128 - mean_absolute_error: 0.448 - ETA: 0s - loss: 0.6129 - mean_absolute_error: 0.448 - ETA: 0s - loss: 0.6126 - mean_absolute_error: 0.448 - ETA: 0s - loss: 0.6125 - mean_absolute_error: 0.448 - ETA: 0s - loss: 0.6124 - mean_absolute_error: 0.448 - ETA: 0s - loss: 0.6124 - mean_absolute_error: 0.448 - ETA: 0s - loss: 0.6124 - mean_absolute_error: 0.448 - ETA: 0s - loss: 0.6123 - mean_absolute_error: 0.448 - ETA: 0s - loss: 0.6122 - mean_absolute_error: 0.448 - ETA: 0s - loss: 0.6122 - mean_absolute_error: 0.448 - ETA: 0s - loss: 0.6124 - mean_absolute_error: 0.448 - ETA: 0s - loss: 0.6123 - mean_absolute_error: 0.448 - ETA: 0s - loss: 0.6119 - mean_absolute_error: 0.448 - ETA: 0s - loss: 0.6117 - mean_absolute_error: 0.4487\n",
      "Epoch 00003: saving model to autoencoder_fraud.h5\n",
      "284807/284807 [==============================] - 34s 118us/sample - loss: 0.6115 - mean_absolute_error: 0.4487\n"
     ]
    }
   ],
   "source": [
    "\n",
    "autoencoder.compile(metrics=['mean_absolute_error'],\n",
    "                    loss='mean_squared_error',\n",
    "                    optimizer='adam')\n",
    "\n",
    "cp = ModelCheckpoint(filepath=\"autoencoder_fraud.h5\",\n",
    "                               #save_best_only=True,\n",
    "                               verbose=1)\n",
    "\n",
    "tb = TensorBoard(log_dir=logdir,\n",
    "                histogram_freq=0,\n",
    "                write_graph=True,\n",
    "                write_images=True,\n",
    "                profile_batch=2000000)\n",
    "\n",
    "history = autoencoder.fit(data, data,\n",
    "                    epochs=nb_epoch,\n",
    "                    batch_size=batch_size,\n",
    "                    shuffle=True,\n",
    "                    verbose=1,\n",
    "                    callbacks=[cp, tb]).history"
   ]
  },
  {
   "cell_type": "code",
   "execution_count": 31,
   "metadata": {},
   "outputs": [
    {
     "name": "stdout",
     "output_type": "stream",
     "text": [
      "Training Accuracy: 0.4449\n",
      "Testing Accuracy:  0.4449\n"
     ]
    }
   ],
   "source": [
    "\n",
    "loss, accuracy = autoencoder.evaluate(data, data, verbose=False)\n",
    "print(\"Training Accuracy: {:.4f}\".format(accuracy))\n",
    "loss, accuracy = autoencoder.evaluate(data, data, verbose=False)\n",
    "print(\"Testing Accuracy:  {:.4f}\".format(accuracy))\n"
   ]
  },
  {
   "cell_type": "code",
   "execution_count": 46,
   "metadata": {},
   "outputs": [
    {
     "data": {
      "image/png": "[encoded data removed]",
      "text/plain": [
       "<Figure size 864x360 with 1 Axes>"
      ]
     },
     "metadata": {},
     "output_type": "display_data"
    }
   ],
   "source": [
    "\n",
    "plot_history(history)"
   ]
  },
  {
   "cell_type": "code",
   "execution_count": null,
   "metadata": {},
   "outputs": [],
   "source": []
  }
 ],
 "metadata": {
  "kernelspec": {
   "display_name": "Python 3",
   "language": "python",
   "name": "python3"
  },
  "language_info": {
   "codemirror_mode": {
    "name": "ipython",
    "version": 3
   },
   "file_extension": ".py",
   "mimetype": "text/x-python",
   "name": "python",
   "nbconvert_exporter": "python",
   "pygments_lexer": "ipython3",
   "version": "3.7.4"
  }
 },
 "nbformat": 4,
 "nbformat_minor": 2
}
