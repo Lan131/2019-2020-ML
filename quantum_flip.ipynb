{
 "cells": [
  {
   "cell_type": "code",
   "execution_count": 20,
   "id": "0276092c-6256-4840-9eb0-4ec28e4631ff",
   "metadata": {},
   "outputs": [],
   "source": [
    "from qiskit import QuantumCircuit, QuantumRegister, ClassicalRegister, execute\n",
    "from qiskit import BasicAer"
   ]
  },
  {
   "cell_type": "code",
   "execution_count": 92,
   "id": "6c74743d-f5ca-41ee-9fb8-1c3a08db2df2",
   "metadata": {},
   "outputs": [],
   "source": [
    "\n",
    "def flip_coin():\n",
    "    # initialize a quantum register with a single bit\n",
    "    q = QuantumRegister(1)\n",
    "\n",
    "    # initialize a classical register with a single bit\n",
    "    c = ClassicalRegister(1)\n",
    "    \n",
    "    # initialize a circuit acting on the single quantum bit\n",
    "    circuit = QuantumCircuit(q, c)\n",
    "\n",
    "    # randomize the bit using a Hadamard gate\n",
    "    circuit.h(q[0])\n",
    "\n",
    "    # measure the bit\n",
    "    circuit.measure(q, c)\n",
    "\n",
    "    # submit job to qasm simulator\n",
    "    job = execute(circuit, BasicAer.get_backend('qasm_simulator'), shots=1024)\n",
    "\n",
    "    # determine output\n",
    "    \n",
    "    counts_0 = job.result().to_dict()[\"results\"][0][\"data\"][\"counts\"][\"0x0\"]\n",
    "    counts_1 = job.result().to_dict()[\"results\"][0][\"data\"][\"counts\"][\"0x1\"]\n",
    "    \n",
    "    if counts_0>counts_1:\n",
    "        out=0\n",
    "    else:\n",
    "        out=1\n",
    "\n",
    "\n",
    "    return out"
   ]
  },
  {
   "cell_type": "code",
   "execution_count": 94,
   "id": "59b7d95c-e8c8-49dd-8985-475a9fcee6e2",
   "metadata": {},
   "outputs": [
    {
     "name": "stdout",
     "output_type": "stream",
     "text": [
      "Heads: 481\n",
      "Tails: 519\n"
     ]
    }
   ],
   "source": [
    "track = False\n",
    "count_Head = 0\n",
    "count_Tail = 0\n",
    "for i in range(0,1000):\n",
    "    bit = flip_coin()\n",
    "    if bit == 0:\n",
    "        count_Head += 1\n",
    "    else:\n",
    "        count_Tail += 1\n",
    "\n",
    "print(\"Heads: \" + str(count_Head))\n",
    "print(\"Tails: \" + str(count_Tail))"
   ]
  },
  {
   "cell_type": "code",
   "execution_count": 102,
   "id": "ebee6034-ca4c-4b50-b1e5-39a5bb870d6d",
   "metadata": {},
   "outputs": [
    {
     "data": {
      "text/plain": [
       "0"
      ]
     },
     "execution_count": 102,
     "metadata": {},
     "output_type": "execute_result"
    }
   ],
   "source": [
    "flip_coin()"
   ]
  },
  {
   "cell_type": "code",
   "execution_count": null,
   "id": "fa5fc47e-92f5-45c5-bd5f-d30b79344636",
   "metadata": {},
   "outputs": [],
   "source": []
  },
  {
   "cell_type": "code",
   "execution_count": null,
   "id": "c98775a6-c5c2-4748-b869-70ea732c85b4",
   "metadata": {},
   "outputs": [],
   "source": []
  }
 ],
 "metadata": {
  "kernelspec": {
   "display_name": "Qiskit v0.32.1 (ipykernel)",
   "language": "python",
   "name": "python3"
  },
  "language_info": {
   "codemirror_mode": {
    "name": "ipython",
    "version": 3
   },
   "file_extension": ".py",
   "mimetype": "text/x-python",
   "name": "python",
   "nbconvert_exporter": "python",
   "pygments_lexer": "ipython3",
   "version": "3.8.10"
  },
  "widgets": {
   "application/vnd.jupyter.widget-state+json": {
    "state": {},
    "version_major": 2,
    "version_minor": 0
   }
  }
 },
 "nbformat": 4,
 "nbformat_minor": 5
}
